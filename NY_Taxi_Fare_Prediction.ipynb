{
 "cells": [
  {
   "attachments": {},
   "cell_type": "markdown",
   "metadata": {},
   "source": [
    "# New York City Taxi Fare Prediction\n",
    "\n",
    "We'll train a machine learning model to predict the fare for a taxi ride in New York city given information like pickup date & time,\\\n",
    "pickup location,drop location and no. of passengers. \n",
    "\n",
    "Dataset Link: [new york city taxi fare prediction](https://www.kaggle.com/c/new-york-city-taxi-fare-prediction)"
   ]
  },
  {
   "attachments": {},
   "cell_type": "markdown",
   "metadata": {},
   "source": [
    "## Dataset Description\n",
    "**File descriptions**\n",
    "* **train.csv** - Input features and target fare_amount values for the training set (about 55M rows).\n",
    "* **test.csv**- Input features for the test set (about 10K rows). Your goal is to predict fare_amount for each row.\n",
    "* **sample_submission.csv** - a sample submission file in the correct format (columns key and fare_amount). This file 'predicts' fare_amount to be $11.35 for all rows, which is the mean fare_amount from the training set.\n",
    "### Data fields\n",
    "#### ID\n",
    "* **key** - Unique string identifying each row in both the training and test sets. Comprised of pickup_datetime plus a unique integer, but this doesn't matter, it should just be used as a unique ID field.\n",
    "Required in your submission CSV. Not necessarily needed in the training set, but could be useful to simulate a 'submission file' while doing cross-validation within the training set.\n",
    "#### Features\n",
    "* **pickup_datetime** - timestamp value indicating when the taxi ride started.\n",
    "* **pickup_longitude** - float for longitude coordinate of where the taxi ride started.\n",
    "* **pickup_latitude** - float for latitude coordinate of where the taxi ride started.\n",
    "* **dropoff_longitude** - float for longitude coordinate of where the taxi ride ended.\n",
    "* **dropoff_latitude** - float for latitude coordinate of where the taxi ride ended.\n",
    "* **passenger_count** - integer indicating the number of passengers in the taxi ride.\n",
    "#### Target\n",
    "* **fare_amount** - float dollar amount of the cost of the taxi ride. This value is only in the training set; this is what you are predicting in the test set and it is required in your submission CSV."
   ]
  },
  {
   "attachments": {},
   "cell_type": "markdown",
   "metadata": {},
   "source": [
    "## Planning\n",
    "* Approching problem with classic Machine learning algorithms\n",
    "  - Random Forests\n",
    "  - Xgboost\n",
    "  - LGBM\n",
    "  - Ridge\n",
    "  - SVM \n",
    "- \n",
    "  Find best performing algorithm and hypertune it\n",
    "* Approching problem using Deep learning\n",
    "  * ANN (hypertune)"
   ]
  },
  {
   "attachments": {},
   "cell_type": "markdown",
   "metadata": {},
   "source": [
    "Imports required libs/modules"
   ]
  },
  {
   "cell_type": "code",
   "execution_count": 1,
   "metadata": {},
   "outputs": [],
   "source": [
    "import opendatasets as od\n",
    "import pandas as pd\n",
    "import numpy as np\n",
    "import random"
   ]
  },
  {
   "attachments": {},
   "cell_type": "markdown",
   "metadata": {},
   "source": [
    "## 1. Download the Dataset\n",
    "\n",
    "- Install required libraries\n",
    "- Download data from Kaggle\n",
    "- View dataset files\n",
    "- Load training set with Pandas\n",
    "- Load test set with Pandas\n",
    "\n",
    "\n",
    "Dataset link:  [new york city taxi fare prediction](https://www.kaggle.com/c/new-york-city-taxi-fare-prediction/overview)"
   ]
  },
  {
   "attachments": {},
   "cell_type": "markdown",
   "metadata": {},
   "source": [
    "### Download Data from Kaggle\n",
    "\n",
    "We'll use the [opendatasets]( https://github.com/JovianML/opendatasets) library"
   ]
  },
  {
   "cell_type": "code",
   "execution_count": 2,
   "metadata": {},
   "outputs": [],
   "source": [
    "dataset_url = 'https://www.kaggle.com/competitions/new-york-city-taxi-fare-prediction/data'"
   ]
  },
  {
   "cell_type": "code",
   "execution_count": 3,
   "metadata": {},
   "outputs": [
    {
     "name": "stdout",
     "output_type": "stream",
     "text": [
      "Skipping, found downloaded files in \"./new-york-city-taxi-fare-prediction\" (use force=True to force download)\n"
     ]
    }
   ],
   "source": [
    "od.download(dataset_url)"
   ]
  },
  {
   "cell_type": "code",
   "execution_count": 4,
   "metadata": {},
   "outputs": [],
   "source": [
    "data_dir = './new-york-city-taxi-fare-prediction'"
   ]
  },
  {
   "attachments": {},
   "cell_type": "markdown",
   "metadata": {},
   "source": [
    "Using shell commands because python modules are very slow with large data so instead of using OS modelu,\\\n",
    "we are using shell commands"
   ]
  },
  {
   "cell_type": "code",
   "execution_count": 5,
   "metadata": {},
   "outputs": [
    {
     "name": "stdout",
     "output_type": "stream",
     "text": [
      "total 5,4G\n",
      "-rw-r--r-- 1 root root  486 29. Dez 13:42 GCP-Coupons-Instructions.rtf\n",
      "-rw-r--r-- 1 root root 336K 29. Dez 13:42 sample_submission.csv\n",
      "-rw-r--r-- 1 root root 960K 29. Dez 13:42 test.csv\n",
      "-rw-r--r-- 1 root root 5,4G 29. Dez 13:42 train.csv\n"
     ]
    }
   ],
   "source": [
    "# List of files with size\n",
    "!ls -lh {data_dir}"
   ]
  },
  {
   "cell_type": "code",
   "execution_count": 6,
   "metadata": {},
   "outputs": [
    {
     "name": "stdout",
     "output_type": "stream",
     "text": [
      "key,fare_amount,pickup_datetime,pickup_longitude,pickup_latitude,dropoff_longitude,dropoff_latitude,passenger_count\n",
      "2009-06-15 17:26:21.0000001,4.5,2009-06-15 17:26:21 UTC,-73.844311,40.721319,-73.84161,40.712278,1\n",
      "2010-01-05 16:52:16.0000002,16.9,2010-01-05 16:52:16 UTC,-74.016048,40.711303,-73.979268,40.782004,1\n",
      "2011-08-18 00:35:00.00000049,5.7,2011-08-18 00:35:00 UTC,-73.982738,40.76127,-73.991242,40.750562,2\n",
      "2012-04-21 04:30:42.0000001,7.7,2012-04-21 04:30:42 UTC,-73.98713,40.733143,-73.991567,40.758092,1\n",
      "2010-03-09 07:51:00.000000135,5.3,2010-03-09 07:51:00 UTC,-73.968095,40.768008,-73.956655,40.783762,1\n",
      "2011-01-06 09:50:45.0000002,12.1,2011-01-06 09:50:45 UTC,-74.000964,40.73163,-73.972892,40.758233,1\n",
      "2012-11-20 20:35:00.0000001,7.5,2012-11-20 20:35:00 UTC,-73.980002,40.751662,-73.973802,40.764842,1\n",
      "2012-01-04 17:22:00.00000081,16.5,2012-01-04 17:22:00 UTC,-73.9513,40.774138,-73.990095,40.751048,1\n",
      "2012-12-03 13:10:00.000000125,9,2012-12-03 13:10:00 UTC,-74.006462,40.726713,-73.993078,40.731628,1\n"
     ]
    }
   ],
   "source": [
    "# Training set\n",
    "!head {data_dir}/train.csv"
   ]
  },
  {
   "cell_type": "code",
   "execution_count": 7,
   "metadata": {},
   "outputs": [
    {
     "name": "stdout",
     "output_type": "stream",
     "text": [
      "key,pickup_datetime,pickup_longitude,pickup_latitude,dropoff_longitude,dropoff_latitude,passenger_count\n",
      "2015-01-27 13:08:24.0000002,2015-01-27 13:08:24 UTC,-73.973320007324219,40.7638053894043,-73.981430053710938,40.74383544921875,1\n",
      "2015-01-27 13:08:24.0000003,2015-01-27 13:08:24 UTC,-73.986862182617188,40.719383239746094,-73.998886108398438,40.739200592041016,1\n",
      "2011-10-08 11:53:44.0000002,2011-10-08 11:53:44 UTC,-73.982524,40.75126,-73.979654,40.746139,1\n",
      "2012-12-01 21:12:12.0000002,2012-12-01 21:12:12 UTC,-73.98116,40.767807,-73.990448,40.751635,1\n",
      "2012-12-01 21:12:12.0000003,2012-12-01 21:12:12 UTC,-73.966046,40.789775,-73.988565,40.744427,1\n",
      "2012-12-01 21:12:12.0000005,2012-12-01 21:12:12 UTC,-73.960983,40.765547,-73.979177,40.740053,1\n",
      "2011-10-06 12:10:20.0000001,2011-10-06 12:10:20 UTC,-73.949013,40.773204,-73.959622,40.770893,1\n",
      "2011-10-06 12:10:20.0000003,2011-10-06 12:10:20 UTC,-73.777282,40.646636,-73.985083,40.759368,1\n",
      "2011-10-06 12:10:20.0000002,2011-10-06 12:10:20 UTC,-74.014099,40.709638,-73.995106,40.741365,1\n"
     ]
    }
   ],
   "source": [
    "# Test set\n",
    "!head {data_dir}/test.csv"
   ]
  },
  {
   "cell_type": "code",
   "execution_count": 8,
   "metadata": {},
   "outputs": [
    {
     "name": "stdout",
     "output_type": "stream",
     "text": [
      "key,fare_amount\n",
      "2015-01-27 13:08:24.0000002,11.35\n",
      "2015-01-27 13:08:24.0000003,11.35\n",
      "2011-10-08 11:53:44.0000002,11.35\n",
      "2012-12-01 21:12:12.0000002,11.35\n",
      "2012-12-01 21:12:12.0000003,11.35\n",
      "2012-12-01 21:12:12.0000005,11.35\n",
      "2011-10-06 12:10:20.0000001,11.35\n",
      "2011-10-06 12:10:20.0000003,11.35\n",
      "2011-10-06 12:10:20.0000002,11.35\n"
     ]
    }
   ],
   "source": [
    "# Sample submission file\n",
    "!head {data_dir}/sample_submission.csv"
   ]
  },
  {
   "cell_type": "code",
   "execution_count": 9,
   "metadata": {},
   "outputs": [
    {
     "name": "stdout",
     "output_type": "stream",
     "text": [
      "55423856 ./new-york-city-taxi-fare-prediction/train.csv\n"
     ]
    }
   ],
   "source": [
    "# No. of lines in training set\n",
    "!wc -l {data_dir}/train.csv"
   ]
  },
  {
   "cell_type": "code",
   "execution_count": 10,
   "metadata": {},
   "outputs": [
    {
     "name": "stdout",
     "output_type": "stream",
     "text": [
      "9914 ./new-york-city-taxi-fare-prediction/test.csv\n"
     ]
    }
   ],
   "source": [
    "# No. of lines in test set\n",
    "!wc -l {data_dir}/test.csv"
   ]
  },
  {
   "cell_type": "code",
   "execution_count": 11,
   "metadata": {},
   "outputs": [
    {
     "name": "stdout",
     "output_type": "stream",
     "text": [
      "9915 ./new-york-city-taxi-fare-prediction/sample_submission.csv\n"
     ]
    }
   ],
   "source": [
    "# No. of lines in submission file\n",
    "!wc -l {data_dir}/sample_submission.csv"
   ]
  },
  {
   "attachments": {},
   "cell_type": "markdown",
   "metadata": {},
   "source": [
    "Observations:\n",
    "* It's supervise learning problem\n",
    "* total size of data 5.5GB\n",
    "* number of rows in trainig set 55423856\n",
    "* number of rows in test set 9914\n",
    "* Target/prediction is fare_amount"
   ]
  },
  {
   "attachments": {},
   "cell_type": "markdown",
   "metadata": {},
   "source": [
    "### Loading Training Set\n",
    "\n",
    "Loading the entire dataset into Pandas is going to be slow, so we can use the following optimizations:\n",
    "\n",
    "- Ignore the `key` column\n",
    "- Parse pickup datetime while loading data \n",
    "- Specify data types for other columns\n",
    "   - `float32` for geo coordinates\n",
    "   - `float32` for fare amount\n",
    "   - `uint8` for passenger count\n",
    "- Work with a 1% sample of the data (~500k rows)\n",
    "\n",
    "We can apply these optimizations while using [`pd.read_csv`](https://pandas.pydata.org/pandas-docs/stable/reference/api/pandas.read_csv.html)"
   ]
  },
  {
   "cell_type": "code",
   "execution_count": 12,
   "metadata": {},
   "outputs": [],
   "source": [
    "sample_frac = 0.01 # to sample only 1% of the data from whole dataset (~500_000)"
   ]
  },
  {
   "cell_type": "code",
   "execution_count": 13,
   "metadata": {},
   "outputs": [],
   "source": [
    "selected_cols = 'fare_amount,pickup_datetime,pickup_longitude,pickup_latitude,dropoff_longitude,dropoff_latitude,passenger_count'.split(',')\n",
    "# increase pandas speed we are specifing the datatypes for all features/columns\n",
    "dtypes = {\n",
    "    'fare_amount': 'float32',\n",
    "    'pickup_datetime':'float32',\n",
    "    'pickup_longitude': 'float32',\n",
    "    'pickup_latitude': 'float32',\n",
    "    'dropoff_longitude': 'float32',\n",
    "    'dropoff_latitude': 'float32',\n",
    "    'passenger_count': 'uint8'\n",
    "}"
   ]
  },
  {
   "cell_type": "code",
   "execution_count": 14,
   "metadata": {},
   "outputs": [],
   "source": [
    "def skip_rows(row_idx):\n",
    "    if row_idx == 0:\n",
    "        return False\n",
    "\n",
    "    # probability of getting true is 1%, hance we can get only 1% of data\n",
    "    return random.random() > sample_frac"
   ]
  },
  {
   "cell_type": "code",
   "execution_count": 15,
   "metadata": {},
   "outputs": [],
   "source": [
    "random.seed(42) # to produce same results\n",
    "\n",
    "taxi_fare_train_df = pd.read_csv(\n",
    "    data_dir + '/train.csv',\n",
    "    usecols=selected_cols,\n",
    "    dtype=dtypes,\n",
    "    parse_dates=['pickup_datetime'],\n",
    "    skiprows=skip_rows\n",
    ")"
   ]
  },
  {
   "attachments": {},
   "cell_type": "markdown",
   "metadata": {},
   "source": [
    "### Load Test Set\n",
    "\n",
    "For the test set, we'll simply provide the data types."
   ]
  },
  {
   "cell_type": "code",
   "execution_count": 16,
   "metadata": {},
   "outputs": [],
   "source": [
    "taxi_fare_test_df = pd.read_csv(\n",
    "    data_dir + '/test.csv',\n",
    "    dtype=dtypes,\n",
    "    parse_dates=['pickup_datetime'],\n",
    ")"
   ]
  },
  {
   "attachments": {},
   "cell_type": "markdown",
   "metadata": {},
   "source": [
    "### Fill/Remove Missing Values\n",
    "\n",
    "There are no missing values in our sample, but if there were, we could simply drop the rows with missing values instead of trying to fill them (since we have a lot of training data)>"
   ]
  },
  {
   "cell_type": "code",
   "execution_count": 17,
   "metadata": {},
   "outputs": [],
   "source": [
    "taxi_fare_train_df = taxi_fare_train_df.dropna()"
   ]
  },
  {
   "attachments": {},
   "cell_type": "markdown",
   "metadata": {},
   "source": [
    "train and test dataset contains data with same year, hence we do not need to predict future data, \n",
    "if we have to predict that then we have to keeping mind during spliting training dataset into train and test/validation, we have to split dataset on the basis of date. validation dataset can only contain future data than data from training data. for example train dataset contain data from year 2009-2014 and validation dataset contain only data with date 2015."
   ]
  },
  {
   "attachments": {},
   "cell_type": "markdown",
   "metadata": {},
   "source": [
    "## Preprocessing"
   ]
  },
  {
   "attachments": {},
   "cell_type": "markdown",
   "metadata": {},
   "source": [
    "### Creating some useful functions to reuse"
   ]
  },
  {
   "cell_type": "code",
   "execution_count": 18,
   "metadata": {},
   "outputs": [],
   "source": [
    "def remove_outliers_fare_amount(df:pd.DataFrame)->pd.DataFrame:\n",
    "    return df[df.fare_amount>=0]"
   ]
  },
  {
   "attachments": {},
   "cell_type": "markdown",
   "metadata": {},
   "source": [
    "No null or NaN values"
   ]
  },
  {
   "cell_type": "code",
   "execution_count": 19,
   "metadata": {},
   "outputs": [],
   "source": [
    "def remove_outliers_passenger_count(df:pd.DataFrame) -> None:\n",
    "    return df[(df['passenger_count']<= 8) \\\n",
    "              & (df['passenger_count']>=1)\n",
    "        ]"
   ]
  },
  {
   "cell_type": "code",
   "execution_count": 20,
   "metadata": {},
   "outputs": [],
   "source": [
    "def add_part_dates_time(df:pd.DataFrame, col_name:str) -> None: \n",
    "    \"\"\"\n",
    "    This function seperate datetime objects to seperate columns with year, month, day, weekday, hour\n",
    "    and drop orignal datetime column\n",
    "    \"\"\"\n",
    "    df[f'{col_name}_year'] = df[col_name].dt.year\n",
    "    df[f'{col_name}_month'] = df[col_name].dt.month\n",
    "    df[f'{col_name}_day'] = df[col_name].dt.day\n",
    "    df[f'{col_name}_weekday'] = df[col_name].dt.weekday\n",
    "    df[f'{col_name}_hour'] = df[col_name].dt.hour\n",
    "    \n",
    "    # we do not need original datetime column, so we can drop it\n",
    "    df.drop(col_name, axis=1, inplace=True)\n"
   ]
  },
  {
   "attachments": {},
   "cell_type": "markdown",
   "metadata": {},
   "source": [
    "To find average rige distance, we have to calculate/convert pick and dropoff longitute and latitute to distance"
   ]
  },
  {
   "attachments": {},
   "cell_type": "markdown",
   "metadata": {},
   "source": [
    "Add Distance Between Pickup and Drop\n",
    "We can use the haversine distance:\n",
    "\n",
    "* https://en.wikipedia.org/wiki/Haversine_formula\n",
    "* https://stackoverflow.com/questions/29545704/fast-haversine-approximation-python-pandas"
   ]
  },
  {
   "cell_type": "code",
   "execution_count": 21,
   "metadata": {},
   "outputs": [],
   "source": [
    "def haversine_np(lon1:float, lat1:float, lon2:float, lat2:float)->float:\n",
    "    \"\"\"\n",
    "    Calculate the great circle distance between two points\n",
    "    on the earth (specified in decimal degrees)\n",
    "\n",
    "    All args must be of equal length.    \n",
    "\n",
    "    \"\"\"\n",
    "    lon1, lat1, lon2, lat2 = map(np.radians, [lon1, lat1, lon2, lat2])\n",
    "\n",
    "    dlon = lon2 - lon1\n",
    "    dlat = lat2 - lat1\n",
    "\n",
    "    a = np.sin(dlat/2.0)**2 + np.cos(lat1) * np.cos(lat2) * np.sin(dlon/2.0)**2\n",
    "\n",
    "    c = 2 * np.arcsin(np.sqrt(a))\n",
    "    km = 6367 * c\n",
    "    return km"
   ]
  },
  {
   "cell_type": "code",
   "execution_count": 22,
   "metadata": {},
   "outputs": [],
   "source": [
    "def add_distance(df:pd.DataFrame)-> None:\n",
    "    df['distance_km'] = haversine_np(\n",
    "        df['pickup_longitude'], \n",
    "        df['pickup_latitude'], \n",
    "        df['dropoff_longitude'], \n",
    "        df['dropoff_latitude']\n",
    "        )\n"
   ]
  },
  {
   "attachments": {},
   "cell_type": "markdown",
   "metadata": {},
   "source": [
    "we can remove these outliers by keeping only NYC longitute and latitute info "
   ]
  },
  {
   "cell_type": "code",
   "execution_count": 23,
   "metadata": {},
   "outputs": [],
   "source": [
    "def remove_outliers_location(df:pd.DataFrame) -> pd.DataFrame:\n",
    "    return df[\n",
    "                (df['pickup_longitude'] >= -75) \n",
    "                & (df['pickup_longitude'] <= -72) \n",
    "                & (df['dropoff_longitude'] >= -75) \n",
    "                & (df['dropoff_longitude'] <= -72) \n",
    "                & (df['pickup_latitude'] >= 40) \n",
    "                & (df['pickup_latitude'] <= 42) \n",
    "                & (df['dropoff_latitude'] >=40) \n",
    "                & (df['dropoff_latitude'] <= 42)\n",
    "            ]"
   ]
  },
  {
   "attachments": {},
   "cell_type": "markdown",
   "metadata": {},
   "source": [
    "### Remove Outliers"
   ]
  },
  {
   "cell_type": "code",
   "execution_count": 24,
   "metadata": {},
   "outputs": [],
   "source": [
    "def remove_outliers(df):\n",
    "    df = remove_outliers_fare_amount(df=df)\n",
    "    df = remove_outliers_passenger_count(df=df)\n",
    "    df = remove_outliers_location(df=df)\n",
    "    return df"
   ]
  },
  {
   "cell_type": "code",
   "execution_count": 25,
   "metadata": {},
   "outputs": [],
   "source": [
    "taxi_fare_train_df = remove_outliers(taxi_fare_train_df)"
   ]
  },
  {
   "cell_type": "code",
   "execution_count": 26,
   "metadata": {},
   "outputs": [
    {
     "data": {
      "text/html": [
       "<div>\n",
       "<style scoped>\n",
       "    .dataframe tbody tr th:only-of-type {\n",
       "        vertical-align: middle;\n",
       "    }\n",
       "\n",
       "    .dataframe tbody tr th {\n",
       "        vertical-align: top;\n",
       "    }\n",
       "\n",
       "    .dataframe thead th {\n",
       "        text-align: right;\n",
       "    }\n",
       "</style>\n",
       "<table border=\"1\" class=\"dataframe\">\n",
       "  <thead>\n",
       "    <tr style=\"text-align: right;\">\n",
       "      <th></th>\n",
       "      <th>fare_amount</th>\n",
       "      <th>pickup_datetime</th>\n",
       "      <th>pickup_longitude</th>\n",
       "      <th>pickup_latitude</th>\n",
       "      <th>dropoff_longitude</th>\n",
       "      <th>dropoff_latitude</th>\n",
       "      <th>passenger_count</th>\n",
       "    </tr>\n",
       "  </thead>\n",
       "  <tbody>\n",
       "    <tr>\n",
       "      <th>0</th>\n",
       "      <td>4.0</td>\n",
       "      <td>2014-12-06 20:36:22+00:00</td>\n",
       "      <td>-73.979813</td>\n",
       "      <td>40.751904</td>\n",
       "      <td>-73.979446</td>\n",
       "      <td>40.755482</td>\n",
       "      <td>1</td>\n",
       "    </tr>\n",
       "    <tr>\n",
       "      <th>2</th>\n",
       "      <td>8.9</td>\n",
       "      <td>2011-06-15 18:07:00+00:00</td>\n",
       "      <td>-73.996330</td>\n",
       "      <td>40.753223</td>\n",
       "      <td>-73.978897</td>\n",
       "      <td>40.766964</td>\n",
       "      <td>3</td>\n",
       "    </tr>\n",
       "    <tr>\n",
       "      <th>3</th>\n",
       "      <td>6.9</td>\n",
       "      <td>2009-12-14 12:33:00+00:00</td>\n",
       "      <td>-73.982430</td>\n",
       "      <td>40.745747</td>\n",
       "      <td>-73.982430</td>\n",
       "      <td>40.745747</td>\n",
       "      <td>1</td>\n",
       "    </tr>\n",
       "    <tr>\n",
       "      <th>4</th>\n",
       "      <td>7.0</td>\n",
       "      <td>2013-11-06 11:26:54+00:00</td>\n",
       "      <td>-73.959061</td>\n",
       "      <td>40.781059</td>\n",
       "      <td>-73.962059</td>\n",
       "      <td>40.768604</td>\n",
       "      <td>1</td>\n",
       "    </tr>\n",
       "    <tr>\n",
       "      <th>5</th>\n",
       "      <td>15.5</td>\n",
       "      <td>2014-12-08 01:00:16+00:00</td>\n",
       "      <td>-73.957672</td>\n",
       "      <td>40.717888</td>\n",
       "      <td>-73.942581</td>\n",
       "      <td>40.686398</td>\n",
       "      <td>1</td>\n",
       "    </tr>\n",
       "  </tbody>\n",
       "</table>\n",
       "</div>"
      ],
      "text/plain": [
       "   fare_amount           pickup_datetime  pickup_longitude  pickup_latitude  \\\n",
       "0          4.0 2014-12-06 20:36:22+00:00        -73.979813        40.751904   \n",
       "2          8.9 2011-06-15 18:07:00+00:00        -73.996330        40.753223   \n",
       "3          6.9 2009-12-14 12:33:00+00:00        -73.982430        40.745747   \n",
       "4          7.0 2013-11-06 11:26:54+00:00        -73.959061        40.781059   \n",
       "5         15.5 2014-12-08 01:00:16+00:00        -73.957672        40.717888   \n",
       "\n",
       "   dropoff_longitude  dropoff_latitude  passenger_count  \n",
       "0         -73.979446         40.755482                1  \n",
       "2         -73.978897         40.766964                3  \n",
       "3         -73.982430         40.745747                1  \n",
       "4         -73.962059         40.768604                1  \n",
       "5         -73.942581         40.686398                1  "
      ]
     },
     "execution_count": 26,
     "metadata": {},
     "output_type": "execute_result"
    }
   ],
   "source": [
    "taxi_fare_train_df.head(5)"
   ]
  },
  {
   "attachments": {},
   "cell_type": "markdown",
   "metadata": {},
   "source": [
    "## 3. Prepare Dataset for Training\n",
    "\n",
    "- Split Training & Validation Set\n",
    "- Data Cleaning\n",
    "- Extract Inputs & Outputs\n",
    "   - Training\n",
    "   - Validation\n",
    "   - Test"
   ]
  },
  {
   "attachments": {},
   "cell_type": "markdown",
   "metadata": {},
   "source": [
    "## Split Training & Validation Set\n",
    "\n",
    "We'll set aside 20% of the training data as the validation set, to evaluate the models we train on previously unseen data. \n",
    "\n",
    "Since the test set and training set have the same date ranges, we can pick a random 20% fraction."
   ]
  },
  {
   "cell_type": "code",
   "execution_count": 27,
   "metadata": {},
   "outputs": [],
   "source": [
    "from sklearn.model_selection import train_test_split"
   ]
  },
  {
   "attachments": {},
   "cell_type": "markdown",
   "metadata": {},
   "source": [
    "Lets take frash train set, so that \n",
    "* we can automize whole preprocessing using already created functions\n",
    "* We can easily skip EDA section to save time"
   ]
  },
  {
   "attachments": {},
   "cell_type": "markdown",
   "metadata": {},
   "source": [
    "Before we create dataset containing date and time. we have to check whether we have predict future data or past data(or random data)\n",
    "we can easily check it by checking dates from testing dataset"
   ]
  },
  {
   "cell_type": "code",
   "execution_count": 28,
   "metadata": {},
   "outputs": [
    {
     "data": {
      "text/plain": [
       "290743   2011-10-23 20:18:24+00:00\n",
       "339417   2009-09-28 19:16:00+00:00\n",
       "497529   2015-01-01 12:52:26+00:00\n",
       "216313   2010-10-15 11:51:54+00:00\n",
       "89200    2009-09-22 22:27:15+00:00\n",
       "50944    2011-09-13 19:46:00+00:00\n",
       "107033   2014-01-06 10:53:00+00:00\n",
       "320355   2014-12-20 07:15:01+00:00\n",
       "288327   2014-06-19 16:06:40+00:00\n",
       "410462   2015-03-02 08:34:52+00:00\n",
       "Name: pickup_datetime, dtype: datetime64[ns, UTC]"
      ]
     },
     "execution_count": 28,
     "metadata": {},
     "output_type": "execute_result"
    }
   ],
   "source": [
    "taxi_fare_train_df.pickup_datetime.sample(10)"
   ]
  },
  {
   "cell_type": "code",
   "execution_count": 29,
   "metadata": {},
   "outputs": [
    {
     "data": {
      "text/plain": [
       "2524   2009-03-16 09:55:24+00:00\n",
       "2450   2010-09-20 16:48:00+00:00\n",
       "6708   2014-07-12 00:15:59+00:00\n",
       "917    2010-08-27 18:45:00+00:00\n",
       "3564   2013-09-25 22:00:00+00:00\n",
       "1620   2011-10-04 09:37:00+00:00\n",
       "5048   2013-01-14 18:42:54+00:00\n",
       "449    2011-06-24 12:03:00+00:00\n",
       "2790   2013-09-24 21:16:40+00:00\n",
       "1138   2015-06-05 08:38:56+00:00\n",
       "Name: pickup_datetime, dtype: datetime64[ns, UTC]"
      ]
     },
     "execution_count": 29,
     "metadata": {},
     "output_type": "execute_result"
    }
   ],
   "source": [
    "taxi_fare_test_df.pickup_datetime.sample(10)"
   ]
  },
  {
   "cell_type": "code",
   "execution_count": 30,
   "metadata": {},
   "outputs": [],
   "source": [
    "# Separate input feature and target\n",
    "X = taxi_fare_train_df.drop('fare_amount', axis=1)\n",
    "y = taxi_fare_train_df.fare_amount"
   ]
  },
  {
   "cell_type": "code",
   "execution_count": 31,
   "metadata": {},
   "outputs": [
    {
     "data": {
      "text/plain": [
       "Index(['pickup_datetime', 'pickup_longitude', 'pickup_latitude',\n",
       "       'dropoff_longitude', 'dropoff_latitude', 'passenger_count'],\n",
       "      dtype='object')"
      ]
     },
     "execution_count": 31,
     "metadata": {},
     "output_type": "execute_result"
    }
   ],
   "source": [
    "X.columns"
   ]
  },
  {
   "cell_type": "code",
   "execution_count": 32,
   "metadata": {},
   "outputs": [],
   "source": [
    "X_train, X_test, y_train, y_test = train_test_split(\n",
    "        X,y,\n",
    "        test_size=0.2,\n",
    "        shuffle=True, \n",
    "        random_state=42\n",
    "    )"
   ]
  },
  {
   "cell_type": "code",
   "execution_count": 33,
   "metadata": {},
   "outputs": [
    {
     "data": {
      "text/plain": [
       "(431087, 107772)"
      ]
     },
     "execution_count": 33,
     "metadata": {},
     "output_type": "execute_result"
    }
   ],
   "source": [
    "len(X_train), len(X_test)"
   ]
  },
  {
   "attachments": {},
   "cell_type": "markdown",
   "metadata": {},
   "source": [
    "## Feature Engineering"
   ]
  },
  {
   "attachments": {},
   "cell_type": "markdown",
   "metadata": {},
   "source": [
    "#### Separate date and time"
   ]
  },
  {
   "cell_type": "code",
   "execution_count": 34,
   "metadata": {},
   "outputs": [],
   "source": [
    "add_part_dates_time(df=X_train, col_name='pickup_datetime')\n",
    "add_part_dates_time(df=X_test, col_name='pickup_datetime')"
   ]
  },
  {
   "cell_type": "code",
   "execution_count": 35,
   "metadata": {},
   "outputs": [
    {
     "data": {
      "text/html": [
       "<div>\n",
       "<style scoped>\n",
       "    .dataframe tbody tr th:only-of-type {\n",
       "        vertical-align: middle;\n",
       "    }\n",
       "\n",
       "    .dataframe tbody tr th {\n",
       "        vertical-align: top;\n",
       "    }\n",
       "\n",
       "    .dataframe thead th {\n",
       "        text-align: right;\n",
       "    }\n",
       "</style>\n",
       "<table border=\"1\" class=\"dataframe\">\n",
       "  <thead>\n",
       "    <tr style=\"text-align: right;\">\n",
       "      <th></th>\n",
       "      <th>pickup_longitude</th>\n",
       "      <th>pickup_latitude</th>\n",
       "      <th>dropoff_longitude</th>\n",
       "      <th>dropoff_latitude</th>\n",
       "      <th>passenger_count</th>\n",
       "      <th>pickup_datetime_year</th>\n",
       "      <th>pickup_datetime_month</th>\n",
       "      <th>pickup_datetime_day</th>\n",
       "      <th>pickup_datetime_weekday</th>\n",
       "      <th>pickup_datetime_hour</th>\n",
       "    </tr>\n",
       "  </thead>\n",
       "  <tbody>\n",
       "    <tr>\n",
       "      <th>93814</th>\n",
       "      <td>-73.969093</td>\n",
       "      <td>40.753960</td>\n",
       "      <td>-73.997871</td>\n",
       "      <td>40.754101</td>\n",
       "      <td>1</td>\n",
       "      <td>2014</td>\n",
       "      <td>10</td>\n",
       "      <td>26</td>\n",
       "      <td>6</td>\n",
       "      <td>0</td>\n",
       "    </tr>\n",
       "    <tr>\n",
       "      <th>489268</th>\n",
       "      <td>-73.986496</td>\n",
       "      <td>40.757961</td>\n",
       "      <td>-73.991051</td>\n",
       "      <td>40.750340</td>\n",
       "      <td>1</td>\n",
       "      <td>2012</td>\n",
       "      <td>9</td>\n",
       "      <td>18</td>\n",
       "      <td>1</td>\n",
       "      <td>22</td>\n",
       "    </tr>\n",
       "    <tr>\n",
       "      <th>226953</th>\n",
       "      <td>-73.953323</td>\n",
       "      <td>40.785721</td>\n",
       "      <td>-73.959900</td>\n",
       "      <td>40.778793</td>\n",
       "      <td>1</td>\n",
       "      <td>2014</td>\n",
       "      <td>9</td>\n",
       "      <td>2</td>\n",
       "      <td>1</td>\n",
       "      <td>10</td>\n",
       "    </tr>\n",
       "    <tr>\n",
       "      <th>320788</th>\n",
       "      <td>-73.969070</td>\n",
       "      <td>40.790936</td>\n",
       "      <td>-73.980049</td>\n",
       "      <td>40.770966</td>\n",
       "      <td>1</td>\n",
       "      <td>2011</td>\n",
       "      <td>5</td>\n",
       "      <td>27</td>\n",
       "      <td>4</td>\n",
       "      <td>8</td>\n",
       "    </tr>\n",
       "    <tr>\n",
       "      <th>485171</th>\n",
       "      <td>-73.991798</td>\n",
       "      <td>40.717613</td>\n",
       "      <td>-73.980392</td>\n",
       "      <td>40.716488</td>\n",
       "      <td>1</td>\n",
       "      <td>2013</td>\n",
       "      <td>2</td>\n",
       "      <td>19</td>\n",
       "      <td>1</td>\n",
       "      <td>1</td>\n",
       "    </tr>\n",
       "  </tbody>\n",
       "</table>\n",
       "</div>"
      ],
      "text/plain": [
       "        pickup_longitude  pickup_latitude  dropoff_longitude  \\\n",
       "93814         -73.969093        40.753960         -73.997871   \n",
       "489268        -73.986496        40.757961         -73.991051   \n",
       "226953        -73.953323        40.785721         -73.959900   \n",
       "320788        -73.969070        40.790936         -73.980049   \n",
       "485171        -73.991798        40.717613         -73.980392   \n",
       "\n",
       "        dropoff_latitude  passenger_count  pickup_datetime_year  \\\n",
       "93814          40.754101                1                  2014   \n",
       "489268         40.750340                1                  2012   \n",
       "226953         40.778793                1                  2014   \n",
       "320788         40.770966                1                  2011   \n",
       "485171         40.716488                1                  2013   \n",
       "\n",
       "        pickup_datetime_month  pickup_datetime_day  pickup_datetime_weekday  \\\n",
       "93814                      10                   26                        6   \n",
       "489268                      9                   18                        1   \n",
       "226953                      9                    2                        1   \n",
       "320788                      5                   27                        4   \n",
       "485171                      2                   19                        1   \n",
       "\n",
       "        pickup_datetime_hour  \n",
       "93814                      0  \n",
       "489268                    22  \n",
       "226953                    10  \n",
       "320788                     8  \n",
       "485171                     1  "
      ]
     },
     "execution_count": 35,
     "metadata": {},
     "output_type": "execute_result"
    }
   ],
   "source": [
    "X_train.head(5)"
   ]
  },
  {
   "attachments": {},
   "cell_type": "markdown",
   "metadata": {},
   "source": [
    "#### Calculate trip distance"
   ]
  },
  {
   "cell_type": "code",
   "execution_count": 36,
   "metadata": {},
   "outputs": [],
   "source": [
    "add_distance(X_train)\n",
    "add_distance(X_test)"
   ]
  },
  {
   "cell_type": "code",
   "execution_count": 37,
   "metadata": {},
   "outputs": [
    {
     "data": {
      "text/html": [
       "<div>\n",
       "<style scoped>\n",
       "    .dataframe tbody tr th:only-of-type {\n",
       "        vertical-align: middle;\n",
       "    }\n",
       "\n",
       "    .dataframe tbody tr th {\n",
       "        vertical-align: top;\n",
       "    }\n",
       "\n",
       "    .dataframe thead th {\n",
       "        text-align: right;\n",
       "    }\n",
       "</style>\n",
       "<table border=\"1\" class=\"dataframe\">\n",
       "  <thead>\n",
       "    <tr style=\"text-align: right;\">\n",
       "      <th></th>\n",
       "      <th>pickup_longitude</th>\n",
       "      <th>pickup_latitude</th>\n",
       "      <th>dropoff_longitude</th>\n",
       "      <th>dropoff_latitude</th>\n",
       "      <th>passenger_count</th>\n",
       "      <th>pickup_datetime_year</th>\n",
       "      <th>pickup_datetime_month</th>\n",
       "      <th>pickup_datetime_day</th>\n",
       "      <th>pickup_datetime_weekday</th>\n",
       "      <th>pickup_datetime_hour</th>\n",
       "      <th>distance_km</th>\n",
       "    </tr>\n",
       "  </thead>\n",
       "  <tbody>\n",
       "    <tr>\n",
       "      <th>93814</th>\n",
       "      <td>-73.969093</td>\n",
       "      <td>40.753960</td>\n",
       "      <td>-73.997871</td>\n",
       "      <td>40.754101</td>\n",
       "      <td>1</td>\n",
       "      <td>2014</td>\n",
       "      <td>10</td>\n",
       "      <td>26</td>\n",
       "      <td>6</td>\n",
       "      <td>0</td>\n",
       "      <td>2.422936</td>\n",
       "    </tr>\n",
       "    <tr>\n",
       "      <th>489268</th>\n",
       "      <td>-73.986496</td>\n",
       "      <td>40.757961</td>\n",
       "      <td>-73.991051</td>\n",
       "      <td>40.750340</td>\n",
       "      <td>1</td>\n",
       "      <td>2012</td>\n",
       "      <td>9</td>\n",
       "      <td>18</td>\n",
       "      <td>1</td>\n",
       "      <td>22</td>\n",
       "      <td>0.929820</td>\n",
       "    </tr>\n",
       "    <tr>\n",
       "      <th>226953</th>\n",
       "      <td>-73.953323</td>\n",
       "      <td>40.785721</td>\n",
       "      <td>-73.959900</td>\n",
       "      <td>40.778793</td>\n",
       "      <td>1</td>\n",
       "      <td>2014</td>\n",
       "      <td>9</td>\n",
       "      <td>2</td>\n",
       "      <td>1</td>\n",
       "      <td>10</td>\n",
       "      <td>0.947968</td>\n",
       "    </tr>\n",
       "    <tr>\n",
       "      <th>320788</th>\n",
       "      <td>-73.969070</td>\n",
       "      <td>40.790936</td>\n",
       "      <td>-73.980049</td>\n",
       "      <td>40.770966</td>\n",
       "      <td>1</td>\n",
       "      <td>2011</td>\n",
       "      <td>5</td>\n",
       "      <td>27</td>\n",
       "      <td>4</td>\n",
       "      <td>8</td>\n",
       "      <td>2.403491</td>\n",
       "    </tr>\n",
       "    <tr>\n",
       "      <th>485171</th>\n",
       "      <td>-73.991798</td>\n",
       "      <td>40.717613</td>\n",
       "      <td>-73.980392</td>\n",
       "      <td>40.716488</td>\n",
       "      <td>1</td>\n",
       "      <td>2013</td>\n",
       "      <td>2</td>\n",
       "      <td>19</td>\n",
       "      <td>1</td>\n",
       "      <td>1</td>\n",
       "      <td>0.968228</td>\n",
       "    </tr>\n",
       "  </tbody>\n",
       "</table>\n",
       "</div>"
      ],
      "text/plain": [
       "        pickup_longitude  pickup_latitude  dropoff_longitude  \\\n",
       "93814         -73.969093        40.753960         -73.997871   \n",
       "489268        -73.986496        40.757961         -73.991051   \n",
       "226953        -73.953323        40.785721         -73.959900   \n",
       "320788        -73.969070        40.790936         -73.980049   \n",
       "485171        -73.991798        40.717613         -73.980392   \n",
       "\n",
       "        dropoff_latitude  passenger_count  pickup_datetime_year  \\\n",
       "93814          40.754101                1                  2014   \n",
       "489268         40.750340                1                  2012   \n",
       "226953         40.778793                1                  2014   \n",
       "320788         40.770966                1                  2011   \n",
       "485171         40.716488                1                  2013   \n",
       "\n",
       "        pickup_datetime_month  pickup_datetime_day  pickup_datetime_weekday  \\\n",
       "93814                      10                   26                        6   \n",
       "489268                      9                   18                        1   \n",
       "226953                      9                    2                        1   \n",
       "320788                      5                   27                        4   \n",
       "485171                      2                   19                        1   \n",
       "\n",
       "        pickup_datetime_hour  distance_km  \n",
       "93814                      0     2.422936  \n",
       "489268                    22     0.929820  \n",
       "226953                    10     0.947968  \n",
       "320788                     8     2.403491  \n",
       "485171                     1     0.968228  "
      ]
     },
     "execution_count": 37,
     "metadata": {},
     "output_type": "execute_result"
    }
   ],
   "source": [
    "X_train.head(5)"
   ]
  },
  {
   "cell_type": "code",
   "execution_count": 38,
   "metadata": {},
   "outputs": [
    {
     "data": {
      "text/plain": [
       "count    431087.000000\n",
       "mean          3.328954\n",
       "std           3.756999\n",
       "min           0.000000\n",
       "25%           1.251926\n",
       "50%           2.153578\n",
       "75%           3.912698\n",
       "max         113.474625\n",
       "Name: distance_km, dtype: float64"
      ]
     },
     "execution_count": 38,
     "metadata": {},
     "output_type": "execute_result"
    }
   ],
   "source": [
    "X_train.distance_km.describe()"
   ]
  },
  {
   "attachments": {},
   "cell_type": "markdown",
   "metadata": {},
   "source": [
    "#### Add Distance From Popular Landmarks\n",
    "\n",
    "- JFK Airport\n",
    "- LGA Airport\n",
    "- EWR Airport\n",
    "- Times Square\n",
    "- Met Meuseum\n",
    "- World Trade Center\n",
    "\n",
    "We'll add the distance from drop location. "
   ]
  },
  {
   "cell_type": "code",
   "execution_count": 39,
   "metadata": {},
   "outputs": [],
   "source": [
    "jfk_lonlat = -73.7781, 40.6413\n",
    "lga_lonlat = -73.8740, 40.7769\n",
    "ewr_lonlat = -74.1745, 40.6895\n",
    "met_lonlat = -73.9632, 40.7794\n",
    "wtc_lonlat = -74.0099, 40.7126"
   ]
  },
  {
   "cell_type": "code",
   "execution_count": 40,
   "metadata": {},
   "outputs": [],
   "source": [
    "def add_landmark_dropoff_distance(df, landmark_name, landmark_lonlat):\n",
    "    lon, lat = landmark_lonlat\n",
    "    df[landmark_name + '_drop_distance'] = haversine_np(lon, lat, df['dropoff_longitude'], df['dropoff_latitude'])"
   ]
  },
  {
   "cell_type": "code",
   "execution_count": 41,
   "metadata": {},
   "outputs": [],
   "source": [
    "for a_df in [X_train, X_test, taxi_fare_test_df]:\n",
    "    for name, lonlat in [('jfk', jfk_lonlat), ('lga', lga_lonlat), ('ewr', ewr_lonlat), ('met', met_lonlat), ('wtc', wtc_lonlat)]:\n",
    "        add_landmark_dropoff_distance(a_df, name, lonlat)"
   ]
  },
  {
   "cell_type": "code",
   "execution_count": 42,
   "metadata": {},
   "outputs": [
    {
     "data": {
      "text/html": [
       "<div>\n",
       "<style scoped>\n",
       "    .dataframe tbody tr th:only-of-type {\n",
       "        vertical-align: middle;\n",
       "    }\n",
       "\n",
       "    .dataframe tbody tr th {\n",
       "        vertical-align: top;\n",
       "    }\n",
       "\n",
       "    .dataframe thead th {\n",
       "        text-align: right;\n",
       "    }\n",
       "</style>\n",
       "<table border=\"1\" class=\"dataframe\">\n",
       "  <thead>\n",
       "    <tr style=\"text-align: right;\">\n",
       "      <th></th>\n",
       "      <th>pickup_longitude</th>\n",
       "      <th>pickup_latitude</th>\n",
       "      <th>dropoff_longitude</th>\n",
       "      <th>dropoff_latitude</th>\n",
       "      <th>passenger_count</th>\n",
       "      <th>pickup_datetime_year</th>\n",
       "      <th>pickup_datetime_month</th>\n",
       "      <th>pickup_datetime_day</th>\n",
       "      <th>pickup_datetime_weekday</th>\n",
       "      <th>pickup_datetime_hour</th>\n",
       "      <th>distance_km</th>\n",
       "      <th>jfk_drop_distance</th>\n",
       "      <th>lga_drop_distance</th>\n",
       "      <th>ewr_drop_distance</th>\n",
       "      <th>met_drop_distance</th>\n",
       "      <th>wtc_drop_distance</th>\n",
       "    </tr>\n",
       "  </thead>\n",
       "  <tbody>\n",
       "    <tr>\n",
       "      <th>93814</th>\n",
       "      <td>-73.969093</td>\n",
       "      <td>40.753960</td>\n",
       "      <td>-73.997871</td>\n",
       "      <td>40.754101</td>\n",
       "      <td>1</td>\n",
       "      <td>2014</td>\n",
       "      <td>10</td>\n",
       "      <td>26</td>\n",
       "      <td>6</td>\n",
       "      <td>0</td>\n",
       "      <td>2.422936</td>\n",
       "      <td>22.360109</td>\n",
       "      <td>10.729122</td>\n",
       "      <td>16.517256</td>\n",
       "      <td>4.051929</td>\n",
       "      <td>4.721626</td>\n",
       "    </tr>\n",
       "    <tr>\n",
       "      <th>489268</th>\n",
       "      <td>-73.986496</td>\n",
       "      <td>40.757961</td>\n",
       "      <td>-73.991051</td>\n",
       "      <td>40.750340</td>\n",
       "      <td>1</td>\n",
       "      <td>2012</td>\n",
       "      <td>9</td>\n",
       "      <td>18</td>\n",
       "      <td>1</td>\n",
       "      <td>22</td>\n",
       "      <td>0.929820</td>\n",
       "      <td>21.650261</td>\n",
       "      <td>10.284282</td>\n",
       "      <td>16.865234</td>\n",
       "      <td>3.990082</td>\n",
       "      <td>4.484262</td>\n",
       "    </tr>\n",
       "    <tr>\n",
       "      <th>226953</th>\n",
       "      <td>-73.953323</td>\n",
       "      <td>40.785721</td>\n",
       "      <td>-73.959900</td>\n",
       "      <td>40.778793</td>\n",
       "      <td>1</td>\n",
       "      <td>2014</td>\n",
       "      <td>9</td>\n",
       "      <td>2</td>\n",
       "      <td>1</td>\n",
       "      <td>10</td>\n",
       "      <td>0.947968</td>\n",
       "      <td>21.632538</td>\n",
       "      <td>7.231189</td>\n",
       "      <td>20.615828</td>\n",
       "      <td>0.286171</td>\n",
       "      <td>8.475368</td>\n",
       "    </tr>\n",
       "    <tr>\n",
       "      <th>320788</th>\n",
       "      <td>-73.969070</td>\n",
       "      <td>40.790936</td>\n",
       "      <td>-73.980049</td>\n",
       "      <td>40.770966</td>\n",
       "      <td>1</td>\n",
       "      <td>2011</td>\n",
       "      <td>5</td>\n",
       "      <td>27</td>\n",
       "      <td>4</td>\n",
       "      <td>8</td>\n",
       "      <td>2.403491</td>\n",
       "      <td>22.294411</td>\n",
       "      <td>8.948486</td>\n",
       "      <td>18.710905</td>\n",
       "      <td>1.699113</td>\n",
       "      <td>6.956115</td>\n",
       "    </tr>\n",
       "    <tr>\n",
       "      <th>485171</th>\n",
       "      <td>-73.991798</td>\n",
       "      <td>40.717613</td>\n",
       "      <td>-73.980392</td>\n",
       "      <td>40.716488</td>\n",
       "      <td>1</td>\n",
       "      <td>2013</td>\n",
       "      <td>2</td>\n",
       "      <td>19</td>\n",
       "      <td>1</td>\n",
       "      <td>1</td>\n",
       "      <td>0.968228</td>\n",
       "      <td>18.985872</td>\n",
       "      <td>11.193541</td>\n",
       "      <td>16.625124</td>\n",
       "      <td>7.139068</td>\n",
       "      <td>2.522616</td>\n",
       "    </tr>\n",
       "  </tbody>\n",
       "</table>\n",
       "</div>"
      ],
      "text/plain": [
       "        pickup_longitude  pickup_latitude  dropoff_longitude  \\\n",
       "93814         -73.969093        40.753960         -73.997871   \n",
       "489268        -73.986496        40.757961         -73.991051   \n",
       "226953        -73.953323        40.785721         -73.959900   \n",
       "320788        -73.969070        40.790936         -73.980049   \n",
       "485171        -73.991798        40.717613         -73.980392   \n",
       "\n",
       "        dropoff_latitude  passenger_count  pickup_datetime_year  \\\n",
       "93814          40.754101                1                  2014   \n",
       "489268         40.750340                1                  2012   \n",
       "226953         40.778793                1                  2014   \n",
       "320788         40.770966                1                  2011   \n",
       "485171         40.716488                1                  2013   \n",
       "\n",
       "        pickup_datetime_month  pickup_datetime_day  pickup_datetime_weekday  \\\n",
       "93814                      10                   26                        6   \n",
       "489268                      9                   18                        1   \n",
       "226953                      9                    2                        1   \n",
       "320788                      5                   27                        4   \n",
       "485171                      2                   19                        1   \n",
       "\n",
       "        pickup_datetime_hour  distance_km  jfk_drop_distance  \\\n",
       "93814                      0     2.422936          22.360109   \n",
       "489268                    22     0.929820          21.650261   \n",
       "226953                    10     0.947968          21.632538   \n",
       "320788                     8     2.403491          22.294411   \n",
       "485171                     1     0.968228          18.985872   \n",
       "\n",
       "        lga_drop_distance  ewr_drop_distance  met_drop_distance  \\\n",
       "93814           10.729122          16.517256           4.051929   \n",
       "489268          10.284282          16.865234           3.990082   \n",
       "226953           7.231189          20.615828           0.286171   \n",
       "320788           8.948486          18.710905           1.699113   \n",
       "485171          11.193541          16.625124           7.139068   \n",
       "\n",
       "        wtc_drop_distance  \n",
       "93814            4.721626  \n",
       "489268           4.484262  \n",
       "226953           8.475368  \n",
       "320788           6.956115  \n",
       "485171           2.522616  "
      ]
     },
     "execution_count": 42,
     "metadata": {},
     "output_type": "execute_result"
    }
   ],
   "source": [
    "X_train.head()"
   ]
  },
  {
   "attachments": {},
   "cell_type": "markdown",
   "metadata": {},
   "source": [
    "#### Scaling and One-Hot Encoding\n",
    "\n",
    "We won't do this because we'll be training tree-based models which are generally able to do a good job even without the above.\n"
   ]
  },
  {
   "attachments": {},
   "cell_type": "markdown",
   "metadata": {},
   "source": [
    "##  Train & Evaluate Different Models\n",
    "\n",
    "We'll train each of the following & submit predictions to Kaggle:\n",
    "\n",
    "- Random Forests\n",
    "- Xgboost\n",
    "- LGBM\n",
    "- Ridge\n",
    "- SVM"
   ]
  },
  {
   "cell_type": "code",
   "execution_count": 43,
   "metadata": {},
   "outputs": [],
   "source": [
    "from sklearn.ensemble import RandomForestRegressor\n",
    "from sklearn.svm import SVR\n",
    "from sklearn.linear_model import Ridge\n",
    "from lightgbm import LGBMRegressor\n",
    "from  xgboost import XGBRegressor\n",
    "from sklearn.metrics import mean_squared_error as mse"
   ]
  },
  {
   "attachments": {},
   "cell_type": "markdown",
   "metadata": {},
   "source": [
    "## Train ML Models\n",
    "\n",
    "For evaluation the dataset uses RMSE error: \n",
    "https://www.kaggle.com/c/new-york-city-taxi-fare-prediction/overview/evaluation"
   ]
  },
  {
   "cell_type": "code",
   "execution_count": 44,
   "metadata": {},
   "outputs": [],
   "source": [
    "def evaluate(model_name, model):\n",
    "    train_preds = model.predict(X_train)\n",
    "    train_rmse = mse(y_train, train_preds, squared=True)\n",
    "\n",
    "    test_preds = model.predict(X_test)\n",
    "    test_rmse = mse(y_test, test_preds, squared=True)\n",
    "\n",
    "    print(f'{model_name} --> train_rmse: {train_rmse}, test_rmse: {test_rmse}')\n",
    "    return train_rmse, test_rmse, train_preds, test_preds"
   ]
  },
  {
   "cell_type": "code",
   "execution_count": 45,
   "metadata": {},
   "outputs": [],
   "source": [
    "def predict_and_submit(model, fname):\n",
    "    test_preds = model.predict(taxi_fare_test_df)\n",
    "    sub_df = pd.read_csv(data_dir+'/sample_submission.csv')\n",
    "    sub_df['fare_amount'] = test_preds\n",
    "    sub_df.to_csv(fname, index=None)\n",
    "    return sub_df"
   ]
  },
  {
   "cell_type": "code",
   "execution_count": 46,
   "metadata": {},
   "outputs": [],
   "source": [
    "model_dict = {\n",
    "    'RandomForestClassifier': RandomForestRegressor(random_state=42, n_jobs=-1), \n",
    "    'SVR':SVR(),\n",
    "    'Ridge':Ridge(random_state=42), \n",
    "    'lgbm':LGBMRegressor(random_state=42,n_jobs=-1), \n",
    "    'xgb':XGBRegressor(random_state=42, n_jobs=-1)\n",
    "}"
   ]
  },
  {
   "cell_type": "code",
   "execution_count": 47,
   "metadata": {},
   "outputs": [
    {
     "name": "stdout",
     "output_type": "stream",
     "text": [
      "----------------- RandomForestClassifier --------------------\n",
      "RandomForestClassifier --> train_rmse: 2.186736575529781, test_rmse: 14.046703531101983\n",
      "----------------- SVR --------------------\n"
     ]
    }
   ],
   "source": [
    "for model_name, model in model_dict.items():\n",
    "    print(f'----------------- {model_name} --------------------')\n",
    "    model.fit(X_train, y_train)\n",
    "    evaluate(model_name, model)"
   ]
  },
  {
   "cell_type": "code",
   "execution_count": null,
   "metadata": {},
   "outputs": [],
   "source": []
  },
  {
   "cell_type": "code",
   "execution_count": null,
   "metadata": {},
   "outputs": [],
   "source": []
  },
  {
   "cell_type": "code",
   "execution_count": null,
   "metadata": {},
   "outputs": [],
   "source": []
  },
  {
   "cell_type": "code",
   "execution_count": null,
   "metadata": {},
   "outputs": [],
   "source": []
  },
  {
   "cell_type": "code",
   "execution_count": null,
   "metadata": {},
   "outputs": [],
   "source": []
  },
  {
   "cell_type": "code",
   "execution_count": null,
   "metadata": {},
   "outputs": [],
   "source": []
  },
  {
   "attachments": {},
   "cell_type": "markdown",
   "metadata": {},
   "source": [
    "## References\n",
    "* https://www.kaggle.com/code/madhurisivalenka/cleansing-eda-modelling-lgbm-xgboost-starters\n",
    "* https://www.kaggle.com/code/breemen/nyc-taxi-fare-data-exploration\n",
    "* https://www.openstreetmap.org/export#map=10/41.1528/-73.6496\n",
    "* https://www.kaggle.com/code/yekahaaagayeham/new-york-city-taxi-fare-prediction-eda-baseline#2.-Explore-the-Dataset"
   ]
  },
  {
   "cell_type": "code",
   "execution_count": null,
   "metadata": {},
   "outputs": [],
   "source": []
  }
 ],
 "metadata": {
  "kernelspec": {
   "display_name": "NY-taxi-fare-prediction",
   "language": "python",
   "name": "python3"
  },
  "language_info": {
   "codemirror_mode": {
    "name": "ipython",
    "version": 3
   },
   "file_extension": ".py",
   "mimetype": "text/x-python",
   "name": "python",
   "nbconvert_exporter": "python",
   "pygments_lexer": "ipython3",
   "version": "3.10.8"
  },
  "orig_nbformat": 4,
  "vscode": {
   "interpreter": {
    "hash": "6613cfc5144257f62af353dfccdd8ca115d65687a32ec953b2d2e365c27ff88b"
   }
  }
 },
 "nbformat": 4,
 "nbformat_minor": 2
}
