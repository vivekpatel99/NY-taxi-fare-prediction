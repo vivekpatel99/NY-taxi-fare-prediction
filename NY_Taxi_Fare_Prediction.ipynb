{
 "cells": [
  {
   "attachments": {},
   "cell_type": "markdown",
   "metadata": {},
   "source": [
    "# New York City Taxi Fare Prediction\n",
    "\n",
    "We'll train a machine learning model to predict the fare for a taxi ride in New York city given information like pickup date & time,\\\n",
    "pickup location,drop location and no. of passengers. \n",
    "\n",
    "Dataset Link: [new york city taxi fare prediction](https://www.kaggle.com/c/new-york-city-taxi-fare-prediction)"
   ]
  },
  {
   "attachments": {},
   "cell_type": "markdown",
   "metadata": {},
   "source": [
    "## Dataset Description\n",
    "**File descriptions**\n",
    "* **train.csv** - Input features and target fare_amount values for the training set (about 55M rows).\n",
    "* **test.csv**- Input features for the test set (about 10K rows). Your goal is to predict fare_amount for each row.\n",
    "* **sample_submission.csv** - a sample submission file in the correct format (columns key and fare_amount). This file 'predicts' fare_amount to be $11.35 for all rows, which is the mean fare_amount from the training set.\n",
    "### Data fields\n",
    "#### ID\n",
    "* **key** - Unique string identifying each row in both the training and test sets. Comprised of pickup_datetime plus a unique integer, but this doesn't matter, it should just be used as a unique ID field.\n",
    "Required in your submission CSV. Not necessarily needed in the training set, but could be useful to simulate a 'submission file' while doing cross-validation within the training set.\n",
    "#### Features\n",
    "* **pickup_datetime** - timestamp value indicating when the taxi ride started.\n",
    "* **pickup_longitude** - float for longitude coordinate of where the taxi ride started.\n",
    "* **pickup_latitude** - float for latitude coordinate of where the taxi ride started.\n",
    "* **dropoff_longitude** - float for longitude coordinate of where the taxi ride ended.\n",
    "* **dropoff_latitude** - float for latitude coordinate of where the taxi ride ended.\n",
    "* **passenger_count** - integer indicating the number of passengers in the taxi ride.\n",
    "#### Target\n",
    "* **fare_amount** - float dollar amount of the cost of the taxi ride. This value is only in the training set; this is what you are predicting in the test set and it is required in your submission CSV."
   ]
  },
  {
   "attachments": {},
   "cell_type": "markdown",
   "metadata": {},
   "source": [
    "## Planning\n",
    "* Approching problem with classic Machine learning algorithms\n",
    "  * Random Forest\n",
    "  * Xgboost\n",
    "  * LGBM\n",
    "  Find best performing algorithm and hypertune it\n",
    "* Approching problem using Deep learning\n",
    "  * ANN (hypertune)"
   ]
  },
  {
   "attachments": {},
   "cell_type": "markdown",
   "metadata": {},
   "source": [
    "Imports required libs/modules"
   ]
  },
  {
   "cell_type": "code",
   "execution_count": 153,
   "metadata": {},
   "outputs": [],
   "source": [
    "import opendatasets as od\n",
    "import pandas as pd\n",
    "import random"
   ]
  },
  {
   "attachments": {},
   "cell_type": "markdown",
   "metadata": {},
   "source": [
    "## 1. Download the Dataset\n",
    "\n",
    "- Install required libraries\n",
    "- Download data from Kaggle\n",
    "- View dataset files\n",
    "- Load training set with Pandas\n",
    "- Load test set with Pandas\n",
    "\n",
    "\n",
    "Dataset link:  [new york city taxi fare prediction](https://www.kaggle.com/c/new-york-city-taxi-fare-prediction/overview)"
   ]
  },
  {
   "attachments": {},
   "cell_type": "markdown",
   "metadata": {},
   "source": [
    "### Download Data from Kaggle\n",
    "\n",
    "We'll use the [opendatasets]( https://github.com/JovianML/opendatasets) library"
   ]
  },
  {
   "cell_type": "code",
   "execution_count": 154,
   "metadata": {},
   "outputs": [],
   "source": [
    "dataset_url = 'https://www.kaggle.com/competitions/new-york-city-taxi-fare-prediction/data'"
   ]
  },
  {
   "cell_type": "code",
   "execution_count": 155,
   "metadata": {},
   "outputs": [
    {
     "name": "stdout",
     "output_type": "stream",
     "text": [
      "Skipping, found downloaded files in \"./new-york-city-taxi-fare-prediction\" (use force=True to force download)\n"
     ]
    }
   ],
   "source": [
    "od.download(dataset_url)"
   ]
  },
  {
   "cell_type": "code",
   "execution_count": 156,
   "metadata": {},
   "outputs": [],
   "source": [
    "data_dir = './new-york-city-taxi-fare-prediction'"
   ]
  },
  {
   "attachments": {},
   "cell_type": "markdown",
   "metadata": {},
   "source": [
    "Using shell commands because python modules are very slow with large data so instead of using OS modelu,\\\n",
    "we are using shell commands"
   ]
  },
  {
   "cell_type": "code",
   "execution_count": 157,
   "metadata": {},
   "outputs": [
    {
     "name": "stdout",
     "output_type": "stream",
     "text": [
      "total 5,4G\n",
      "-rw-r--r-- 1 root root  486 29. Dez 13:42 GCP-Coupons-Instructions.rtf\n",
      "-rw-r--r-- 1 root root 336K 29. Dez 13:42 sample_submission.csv\n",
      "-rw-r--r-- 1 root root 960K 29. Dez 13:42 test.csv\n",
      "-rw-r--r-- 1 root root 5,4G 29. Dez 13:42 train.csv\n"
     ]
    }
   ],
   "source": [
    "# List of files with size\n",
    "!ls -lh {data_dir}"
   ]
  },
  {
   "cell_type": "code",
   "execution_count": 158,
   "metadata": {},
   "outputs": [
    {
     "name": "stdout",
     "output_type": "stream",
     "text": [
      "key,fare_amount,pickup_datetime,pickup_longitude,pickup_latitude,dropoff_longitude,dropoff_latitude,passenger_count\n",
      "2009-06-15 17:26:21.0000001,4.5,2009-06-15 17:26:21 UTC,-73.844311,40.721319,-73.84161,40.712278,1\n",
      "2010-01-05 16:52:16.0000002,16.9,2010-01-05 16:52:16 UTC,-74.016048,40.711303,-73.979268,40.782004,1\n",
      "2011-08-18 00:35:00.00000049,5.7,2011-08-18 00:35:00 UTC,-73.982738,40.76127,-73.991242,40.750562,2\n",
      "2012-04-21 04:30:42.0000001,7.7,2012-04-21 04:30:42 UTC,-73.98713,40.733143,-73.991567,40.758092,1\n",
      "2010-03-09 07:51:00.000000135,5.3,2010-03-09 07:51:00 UTC,-73.968095,40.768008,-73.956655,40.783762,1\n",
      "2011-01-06 09:50:45.0000002,12.1,2011-01-06 09:50:45 UTC,-74.000964,40.73163,-73.972892,40.758233,1\n",
      "2012-11-20 20:35:00.0000001,7.5,2012-11-20 20:35:00 UTC,-73.980002,40.751662,-73.973802,40.764842,1\n",
      "2012-01-04 17:22:00.00000081,16.5,2012-01-04 17:22:00 UTC,-73.9513,40.774138,-73.990095,40.751048,1\n",
      "2012-12-03 13:10:00.000000125,9,2012-12-03 13:10:00 UTC,-74.006462,40.726713,-73.993078,40.731628,1\n"
     ]
    }
   ],
   "source": [
    "# Training set\n",
    "!head {data_dir}/train.csv"
   ]
  },
  {
   "cell_type": "code",
   "execution_count": 159,
   "metadata": {},
   "outputs": [
    {
     "name": "stdout",
     "output_type": "stream",
     "text": [
      "key,pickup_datetime,pickup_longitude,pickup_latitude,dropoff_longitude,dropoff_latitude,passenger_count\n",
      "2015-01-27 13:08:24.0000002,2015-01-27 13:08:24 UTC,-73.973320007324219,40.7638053894043,-73.981430053710938,40.74383544921875,1\n",
      "2015-01-27 13:08:24.0000003,2015-01-27 13:08:24 UTC,-73.986862182617188,40.719383239746094,-73.998886108398438,40.739200592041016,1\n",
      "2011-10-08 11:53:44.0000002,2011-10-08 11:53:44 UTC,-73.982524,40.75126,-73.979654,40.746139,1\n",
      "2012-12-01 21:12:12.0000002,2012-12-01 21:12:12 UTC,-73.98116,40.767807,-73.990448,40.751635,1\n",
      "2012-12-01 21:12:12.0000003,2012-12-01 21:12:12 UTC,-73.966046,40.789775,-73.988565,40.744427,1\n",
      "2012-12-01 21:12:12.0000005,2012-12-01 21:12:12 UTC,-73.960983,40.765547,-73.979177,40.740053,1\n",
      "2011-10-06 12:10:20.0000001,2011-10-06 12:10:20 UTC,-73.949013,40.773204,-73.959622,40.770893,1\n",
      "2011-10-06 12:10:20.0000003,2011-10-06 12:10:20 UTC,-73.777282,40.646636,-73.985083,40.759368,1\n",
      "2011-10-06 12:10:20.0000002,2011-10-06 12:10:20 UTC,-74.014099,40.709638,-73.995106,40.741365,1\n"
     ]
    }
   ],
   "source": [
    "# Test set\n",
    "!head {data_dir}/test.csv"
   ]
  },
  {
   "cell_type": "code",
   "execution_count": 160,
   "metadata": {},
   "outputs": [
    {
     "name": "stdout",
     "output_type": "stream",
     "text": [
      "key,fare_amount\n",
      "2015-01-27 13:08:24.0000002,11.35\n",
      "2015-01-27 13:08:24.0000003,11.35\n",
      "2011-10-08 11:53:44.0000002,11.35\n",
      "2012-12-01 21:12:12.0000002,11.35\n",
      "2012-12-01 21:12:12.0000003,11.35\n",
      "2012-12-01 21:12:12.0000005,11.35\n",
      "2011-10-06 12:10:20.0000001,11.35\n",
      "2011-10-06 12:10:20.0000003,11.35\n",
      "2011-10-06 12:10:20.0000002,11.35\n"
     ]
    }
   ],
   "source": [
    "# Sample submission file\n",
    "!head {data_dir}/sample_submission.csv"
   ]
  },
  {
   "cell_type": "code",
   "execution_count": 161,
   "metadata": {},
   "outputs": [
    {
     "name": "stdout",
     "output_type": "stream",
     "text": [
      "55423856 ./new-york-city-taxi-fare-prediction/train.csv\n"
     ]
    }
   ],
   "source": [
    "# No. of lines in training set\n",
    "!wc -l {data_dir}/train.csv"
   ]
  },
  {
   "cell_type": "code",
   "execution_count": 162,
   "metadata": {},
   "outputs": [
    {
     "name": "stdout",
     "output_type": "stream",
     "text": [
      "9914 ./new-york-city-taxi-fare-prediction/test.csv\n"
     ]
    }
   ],
   "source": [
    "# No. of lines in test set\n",
    "!wc -l {data_dir}/test.csv"
   ]
  },
  {
   "cell_type": "code",
   "execution_count": 163,
   "metadata": {},
   "outputs": [
    {
     "name": "stdout",
     "output_type": "stream",
     "text": [
      "9915 ./new-york-city-taxi-fare-prediction/sample_submission.csv\n"
     ]
    }
   ],
   "source": [
    "# No. of lines in submission file\n",
    "!wc -l {data_dir}/sample_submission.csv"
   ]
  },
  {
   "attachments": {},
   "cell_type": "markdown",
   "metadata": {},
   "source": [
    "Observations:\n",
    "* It's supervise learning problem\n",
    "* total size of data 5.5GB\n",
    "* number of rows in trainig set 55423856\n",
    "* number of rows in test set 9914\n",
    "* Target/prediction is fare_amount"
   ]
  },
  {
   "attachments": {},
   "cell_type": "markdown",
   "metadata": {},
   "source": [
    "### Loading Training Set\n",
    "\n",
    "Loading the entire dataset into Pandas is going to be slow, so we can use the following optimizations:\n",
    "\n",
    "- Ignore the `key` column\n",
    "- Parse pickup datetime while loading data \n",
    "- Specify data types for other columns\n",
    "   - `float32` for geo coordinates\n",
    "   - `float32` for fare amount\n",
    "   - `uint8` for passenger count\n",
    "- Work with a 1% sample of the data (~500k rows)\n",
    "\n",
    "We can apply these optimizations while using [`pd.read_csv`](https://pandas.pydata.org/pandas-docs/stable/reference/api/pandas.read_csv.html)"
   ]
  },
  {
   "cell_type": "code",
   "execution_count": 164,
   "metadata": {},
   "outputs": [],
   "source": [
    "sample_frac = 0.01 # to sample only 1% of the data from whole dataset (~500_000)"
   ]
  },
  {
   "cell_type": "code",
   "execution_count": 165,
   "metadata": {},
   "outputs": [],
   "source": [
    "selected_cols = 'fare_amount,pickup_datetime,pickup_longitude,pickup_latitude,dropoff_longitude,dropoff_latitude,passenger_count'.split(',')\n",
    "# increase pandas speed we are specifing the datatypes for all features/columns\n",
    "dtypes = {\n",
    "    'fare_amount': 'float32',\n",
    "    'pickup_datetime':'float32',\n",
    "    'pickup_longitude': 'float32',\n",
    "    'pickup_latitude': 'float32',\n",
    "    'dropoff_longitude': 'float32',\n",
    "    'dropoff_latitude': 'float32',\n",
    "    'passenger_count': 'uint8'\n",
    "}"
   ]
  },
  {
   "cell_type": "code",
   "execution_count": 166,
   "metadata": {},
   "outputs": [],
   "source": [
    "def skip_rows(row_idx):\n",
    "    if row_idx == 0:\n",
    "        return False\n",
    "\n",
    "    # probability of getting true is 1%, hance we can get only 1% of data\n",
    "    return random.random() > sample_frac"
   ]
  },
  {
   "cell_type": "code",
   "execution_count": 167,
   "metadata": {},
   "outputs": [],
   "source": [
    "random.seed(42) # to produce same results\n",
    "\n",
    "taxi_fare_train_org_df = pd.read_csv(\n",
    "    data_dir + '/train.csv',\n",
    "    usecols=selected_cols,\n",
    "    dtype=dtypes,\n",
    "    parse_dates=['pickup_datetime'],\n",
    "    skiprows=skip_rows\n",
    ")"
   ]
  },
  {
   "attachments": {},
   "cell_type": "markdown",
   "metadata": {},
   "source": [
    "### Load Test Set\n",
    "\n",
    "For the test set, we'll simply provide the data types."
   ]
  },
  {
   "cell_type": "code",
   "execution_count": 168,
   "metadata": {},
   "outputs": [],
   "source": [
    "taxi_fare_test_df = pd.read_csv(\n",
    "    data_dir + '/test.csv',\n",
    "    dtype=dtypes,\n",
    "    parse_dates=['pickup_datetime'],\n",
    ")"
   ]
  },
  {
   "attachments": {},
   "cell_type": "markdown",
   "metadata": {},
   "source": [
    "## 2. Exploratory Data Analysis (EDA)\n",
    "\n",
    "- Basic info about training set\n",
    "- Basic info about test set\n",
    "- Exploratory data analysis & visualization\n",
    "- Ask & answer questions"
   ]
  },
  {
   "cell_type": "code",
   "execution_count": 169,
   "metadata": {},
   "outputs": [
    {
     "name": "stdout",
     "output_type": "stream",
     "text": [
      "<class 'pandas.core.frame.DataFrame'>\n",
      "RangeIndex: 552450 entries, 0 to 552449\n",
      "Data columns (total 7 columns):\n",
      " #   Column             Non-Null Count   Dtype              \n",
      "---  ------             --------------   -----              \n",
      " 0   fare_amount        552450 non-null  float32            \n",
      " 1   pickup_datetime    552450 non-null  datetime64[ns, UTC]\n",
      " 2   pickup_longitude   552450 non-null  float32            \n",
      " 3   pickup_latitude    552450 non-null  float32            \n",
      " 4   dropoff_longitude  552450 non-null  float32            \n",
      " 5   dropoff_latitude   552450 non-null  float32            \n",
      " 6   passenger_count    552450 non-null  uint8              \n",
      "dtypes: datetime64[ns, UTC](1), float32(5), uint8(1)\n",
      "memory usage: 15.3 MB\n"
     ]
    }
   ],
   "source": [
    "taxi_fare_train_org_df.info()"
   ]
  },
  {
   "cell_type": "code",
   "execution_count": 170,
   "metadata": {},
   "outputs": [
    {
     "data": {
      "text/html": [
       "<div>\n",
       "<style scoped>\n",
       "    .dataframe tbody tr th:only-of-type {\n",
       "        vertical-align: middle;\n",
       "    }\n",
       "\n",
       "    .dataframe tbody tr th {\n",
       "        vertical-align: top;\n",
       "    }\n",
       "\n",
       "    .dataframe thead th {\n",
       "        text-align: right;\n",
       "    }\n",
       "</style>\n",
       "<table border=\"1\" class=\"dataframe\">\n",
       "  <thead>\n",
       "    <tr style=\"text-align: right;\">\n",
       "      <th></th>\n",
       "      <th>fare_amount</th>\n",
       "      <th>pickup_longitude</th>\n",
       "      <th>pickup_latitude</th>\n",
       "      <th>dropoff_longitude</th>\n",
       "      <th>dropoff_latitude</th>\n",
       "      <th>passenger_count</th>\n",
       "    </tr>\n",
       "  </thead>\n",
       "  <tbody>\n",
       "    <tr>\n",
       "      <th>count</th>\n",
       "      <td>552450.000000</td>\n",
       "      <td>552450.000000</td>\n",
       "      <td>552450.000000</td>\n",
       "      <td>552450.000000</td>\n",
       "      <td>552450.000000</td>\n",
       "      <td>552450.000000</td>\n",
       "    </tr>\n",
       "    <tr>\n",
       "      <th>mean</th>\n",
       "      <td>11.354059</td>\n",
       "      <td>-72.497063</td>\n",
       "      <td>39.910500</td>\n",
       "      <td>-72.504326</td>\n",
       "      <td>39.934265</td>\n",
       "      <td>1.684983</td>\n",
       "    </tr>\n",
       "    <tr>\n",
       "      <th>std</th>\n",
       "      <td>9.811924</td>\n",
       "      <td>11.618246</td>\n",
       "      <td>8.061114</td>\n",
       "      <td>12.074346</td>\n",
       "      <td>9.255057</td>\n",
       "      <td>1.337664</td>\n",
       "    </tr>\n",
       "    <tr>\n",
       "      <th>min</th>\n",
       "      <td>-52.000000</td>\n",
       "      <td>-1183.362793</td>\n",
       "      <td>-3084.490234</td>\n",
       "      <td>-3356.729736</td>\n",
       "      <td>-2073.150635</td>\n",
       "      <td>0.000000</td>\n",
       "    </tr>\n",
       "    <tr>\n",
       "      <th>25%</th>\n",
       "      <td>6.000000</td>\n",
       "      <td>-73.992020</td>\n",
       "      <td>40.734875</td>\n",
       "      <td>-73.991425</td>\n",
       "      <td>40.733990</td>\n",
       "      <td>1.000000</td>\n",
       "    </tr>\n",
       "    <tr>\n",
       "      <th>50%</th>\n",
       "      <td>8.500000</td>\n",
       "      <td>-73.981819</td>\n",
       "      <td>40.752621</td>\n",
       "      <td>-73.980179</td>\n",
       "      <td>40.753101</td>\n",
       "      <td>1.000000</td>\n",
       "    </tr>\n",
       "    <tr>\n",
       "      <th>75%</th>\n",
       "      <td>12.500000</td>\n",
       "      <td>-73.967155</td>\n",
       "      <td>40.767036</td>\n",
       "      <td>-73.963737</td>\n",
       "      <td>40.768059</td>\n",
       "      <td>2.000000</td>\n",
       "    </tr>\n",
       "    <tr>\n",
       "      <th>max</th>\n",
       "      <td>499.000000</td>\n",
       "      <td>2420.209473</td>\n",
       "      <td>404.983337</td>\n",
       "      <td>2467.752686</td>\n",
       "      <td>3351.403076</td>\n",
       "      <td>208.000000</td>\n",
       "    </tr>\n",
       "  </tbody>\n",
       "</table>\n",
       "</div>"
      ],
      "text/plain": [
       "         fare_amount  pickup_longitude  pickup_latitude  dropoff_longitude  \\\n",
       "count  552450.000000     552450.000000    552450.000000      552450.000000   \n",
       "mean       11.354059        -72.497063        39.910500         -72.504326   \n",
       "std         9.811924         11.618246         8.061114          12.074346   \n",
       "min       -52.000000      -1183.362793     -3084.490234       -3356.729736   \n",
       "25%         6.000000        -73.992020        40.734875         -73.991425   \n",
       "50%         8.500000        -73.981819        40.752621         -73.980179   \n",
       "75%        12.500000        -73.967155        40.767036         -73.963737   \n",
       "max       499.000000       2420.209473       404.983337        2467.752686   \n",
       "\n",
       "       dropoff_latitude  passenger_count  \n",
       "count     552450.000000    552450.000000  \n",
       "mean          39.934265         1.684983  \n",
       "std            9.255057         1.337664  \n",
       "min        -2073.150635         0.000000  \n",
       "25%           40.733990         1.000000  \n",
       "50%           40.753101         1.000000  \n",
       "75%           40.768059         2.000000  \n",
       "max         3351.403076       208.000000  "
      ]
     },
     "execution_count": 170,
     "metadata": {},
     "output_type": "execute_result"
    }
   ],
   "source": [
    "taxi_fare_train_org_df.describe()"
   ]
  },
  {
   "attachments": {},
   "cell_type": "markdown",
   "metadata": {},
   "source": [
    "Observations\n",
    "* fare_amount is negative, it is not realistic, so we need to drop negative rows\n",
    "* mean of fare_amount is $11.35 and std is $9.81, so our model must be better than 9.9\n",
    "* max passenger count is 208???? it seems like an outlier. we can explore it during EDA"
   ]
  },
  {
   "cell_type": "code",
   "execution_count": 171,
   "metadata": {},
   "outputs": [
    {
     "name": "stdout",
     "output_type": "stream",
     "text": [
      "before dropping fare_amount rows with negative value, Total Rows: 552450\n",
      "after dropping fare_amount rows with negative value, Total Rows: 552426\n"
     ]
    }
   ],
   "source": [
    "# drop all the rows where fare_amount is negative\n",
    "print(f'before dropping fare_amount rows with negative value, Total Rows: {len(taxi_fare_train_org_df)}')\n",
    "taxi_fare_train_df = taxi_fare_train_org_df[taxi_fare_train_org_df.fare_amount>=0]\n",
    "print(f'after dropping fare_amount rows with negative value, Total Rows: {len(taxi_fare_train_df)}')"
   ]
  },
  {
   "cell_type": "code",
   "execution_count": 172,
   "metadata": {},
   "outputs": [
    {
     "data": {
      "text/html": [
       "<div>\n",
       "<style scoped>\n",
       "    .dataframe tbody tr th:only-of-type {\n",
       "        vertical-align: middle;\n",
       "    }\n",
       "\n",
       "    .dataframe tbody tr th {\n",
       "        vertical-align: top;\n",
       "    }\n",
       "\n",
       "    .dataframe thead th {\n",
       "        text-align: right;\n",
       "    }\n",
       "</style>\n",
       "<table border=\"1\" class=\"dataframe\">\n",
       "  <thead>\n",
       "    <tr style=\"text-align: right;\">\n",
       "      <th></th>\n",
       "      <th>fare_amount</th>\n",
       "      <th>pickup_longitude</th>\n",
       "      <th>pickup_latitude</th>\n",
       "      <th>dropoff_longitude</th>\n",
       "      <th>dropoff_latitude</th>\n",
       "      <th>passenger_count</th>\n",
       "    </tr>\n",
       "  </thead>\n",
       "  <tbody>\n",
       "    <tr>\n",
       "      <th>count</th>\n",
       "      <td>552426.00000</td>\n",
       "      <td>552426.000000</td>\n",
       "      <td>552426.000000</td>\n",
       "      <td>552426.000000</td>\n",
       "      <td>552426.000000</td>\n",
       "      <td>552426.000000</td>\n",
       "    </tr>\n",
       "    <tr>\n",
       "      <th>mean</th>\n",
       "      <td>11.35490</td>\n",
       "      <td>-72.497543</td>\n",
       "      <td>39.910751</td>\n",
       "      <td>-72.504684</td>\n",
       "      <td>39.934444</td>\n",
       "      <td>1.684979</td>\n",
       "    </tr>\n",
       "    <tr>\n",
       "      <th>std</th>\n",
       "      <td>9.81104</td>\n",
       "      <td>11.616858</td>\n",
       "      <td>8.060573</td>\n",
       "      <td>12.073421</td>\n",
       "      <td>9.254789</td>\n",
       "      <td>1.337657</td>\n",
       "    </tr>\n",
       "    <tr>\n",
       "      <th>min</th>\n",
       "      <td>0.00000</td>\n",
       "      <td>-1183.362793</td>\n",
       "      <td>-3084.490234</td>\n",
       "      <td>-3356.729736</td>\n",
       "      <td>-2073.150635</td>\n",
       "      <td>0.000000</td>\n",
       "    </tr>\n",
       "    <tr>\n",
       "      <th>25%</th>\n",
       "      <td>6.00000</td>\n",
       "      <td>-73.992020</td>\n",
       "      <td>40.734875</td>\n",
       "      <td>-73.991425</td>\n",
       "      <td>40.733990</td>\n",
       "      <td>1.000000</td>\n",
       "    </tr>\n",
       "    <tr>\n",
       "      <th>50%</th>\n",
       "      <td>8.50000</td>\n",
       "      <td>-73.981819</td>\n",
       "      <td>40.752621</td>\n",
       "      <td>-73.980179</td>\n",
       "      <td>40.753101</td>\n",
       "      <td>1.000000</td>\n",
       "    </tr>\n",
       "    <tr>\n",
       "      <th>75%</th>\n",
       "      <td>12.50000</td>\n",
       "      <td>-73.967163</td>\n",
       "      <td>40.767036</td>\n",
       "      <td>-73.963737</td>\n",
       "      <td>40.768059</td>\n",
       "      <td>2.000000</td>\n",
       "    </tr>\n",
       "    <tr>\n",
       "      <th>max</th>\n",
       "      <td>499.00000</td>\n",
       "      <td>2420.209473</td>\n",
       "      <td>404.983337</td>\n",
       "      <td>2467.752686</td>\n",
       "      <td>3351.403076</td>\n",
       "      <td>208.000000</td>\n",
       "    </tr>\n",
       "  </tbody>\n",
       "</table>\n",
       "</div>"
      ],
      "text/plain": [
       "        fare_amount  pickup_longitude  pickup_latitude  dropoff_longitude  \\\n",
       "count  552426.00000     552426.000000    552426.000000      552426.000000   \n",
       "mean       11.35490        -72.497543        39.910751         -72.504684   \n",
       "std         9.81104         11.616858         8.060573          12.073421   \n",
       "min         0.00000      -1183.362793     -3084.490234       -3356.729736   \n",
       "25%         6.00000        -73.992020        40.734875         -73.991425   \n",
       "50%         8.50000        -73.981819        40.752621         -73.980179   \n",
       "75%        12.50000        -73.967163        40.767036         -73.963737   \n",
       "max       499.00000       2420.209473       404.983337        2467.752686   \n",
       "\n",
       "       dropoff_latitude  passenger_count  \n",
       "count     552426.000000    552426.000000  \n",
       "mean          39.934444         1.684979  \n",
       "std            9.254789         1.337657  \n",
       "min        -2073.150635         0.000000  \n",
       "25%           40.733990         1.000000  \n",
       "50%           40.753101         1.000000  \n",
       "75%           40.768059         2.000000  \n",
       "max         3351.403076       208.000000  "
      ]
     },
     "execution_count": 172,
     "metadata": {},
     "output_type": "execute_result"
    }
   ],
   "source": [
    "taxi_fare_train_df.describe()"
   ]
  },
  {
   "cell_type": "code",
   "execution_count": 173,
   "metadata": {},
   "outputs": [
    {
     "name": "stdout",
     "output_type": "stream",
     "text": [
      "<class 'pandas.core.frame.DataFrame'>\n",
      "RangeIndex: 9914 entries, 0 to 9913\n",
      "Data columns (total 7 columns):\n",
      " #   Column             Non-Null Count  Dtype              \n",
      "---  ------             --------------  -----              \n",
      " 0   key                9914 non-null   object             \n",
      " 1   pickup_datetime    9914 non-null   datetime64[ns, UTC]\n",
      " 2   pickup_longitude   9914 non-null   float32            \n",
      " 3   pickup_latitude    9914 non-null   float32            \n",
      " 4   dropoff_longitude  9914 non-null   float32            \n",
      " 5   dropoff_latitude   9914 non-null   float32            \n",
      " 6   passenger_count    9914 non-null   uint8              \n",
      "dtypes: datetime64[ns, UTC](1), float32(4), object(1), uint8(1)\n",
      "memory usage: 319.6+ KB\n"
     ]
    }
   ],
   "source": [
    "taxi_fare_test_df.info()"
   ]
  },
  {
   "cell_type": "code",
   "execution_count": 174,
   "metadata": {},
   "outputs": [
    {
     "data": {
      "text/html": [
       "<div>\n",
       "<style scoped>\n",
       "    .dataframe tbody tr th:only-of-type {\n",
       "        vertical-align: middle;\n",
       "    }\n",
       "\n",
       "    .dataframe tbody tr th {\n",
       "        vertical-align: top;\n",
       "    }\n",
       "\n",
       "    .dataframe thead th {\n",
       "        text-align: right;\n",
       "    }\n",
       "</style>\n",
       "<table border=\"1\" class=\"dataframe\">\n",
       "  <thead>\n",
       "    <tr style=\"text-align: right;\">\n",
       "      <th></th>\n",
       "      <th>pickup_longitude</th>\n",
       "      <th>pickup_latitude</th>\n",
       "      <th>dropoff_longitude</th>\n",
       "      <th>dropoff_latitude</th>\n",
       "      <th>passenger_count</th>\n",
       "    </tr>\n",
       "  </thead>\n",
       "  <tbody>\n",
       "    <tr>\n",
       "      <th>count</th>\n",
       "      <td>9914.000000</td>\n",
       "      <td>9914.000000</td>\n",
       "      <td>9914.000000</td>\n",
       "      <td>9914.000000</td>\n",
       "      <td>9914.000000</td>\n",
       "    </tr>\n",
       "    <tr>\n",
       "      <th>mean</th>\n",
       "      <td>-73.974716</td>\n",
       "      <td>40.751041</td>\n",
       "      <td>-73.973656</td>\n",
       "      <td>40.751740</td>\n",
       "      <td>1.671273</td>\n",
       "    </tr>\n",
       "    <tr>\n",
       "      <th>std</th>\n",
       "      <td>0.042774</td>\n",
       "      <td>0.033541</td>\n",
       "      <td>0.039072</td>\n",
       "      <td>0.035435</td>\n",
       "      <td>1.278747</td>\n",
       "    </tr>\n",
       "    <tr>\n",
       "      <th>min</th>\n",
       "      <td>-74.252190</td>\n",
       "      <td>40.573143</td>\n",
       "      <td>-74.263245</td>\n",
       "      <td>40.568974</td>\n",
       "      <td>1.000000</td>\n",
       "    </tr>\n",
       "    <tr>\n",
       "      <th>25%</th>\n",
       "      <td>-73.992500</td>\n",
       "      <td>40.736125</td>\n",
       "      <td>-73.991249</td>\n",
       "      <td>40.735253</td>\n",
       "      <td>1.000000</td>\n",
       "    </tr>\n",
       "    <tr>\n",
       "      <th>50%</th>\n",
       "      <td>-73.982327</td>\n",
       "      <td>40.753052</td>\n",
       "      <td>-73.980015</td>\n",
       "      <td>40.754065</td>\n",
       "      <td>1.000000</td>\n",
       "    </tr>\n",
       "    <tr>\n",
       "      <th>75%</th>\n",
       "      <td>-73.968012</td>\n",
       "      <td>40.767113</td>\n",
       "      <td>-73.964062</td>\n",
       "      <td>40.768757</td>\n",
       "      <td>2.000000</td>\n",
       "    </tr>\n",
       "    <tr>\n",
       "      <th>max</th>\n",
       "      <td>-72.986534</td>\n",
       "      <td>41.709557</td>\n",
       "      <td>-72.990967</td>\n",
       "      <td>41.696682</td>\n",
       "      <td>6.000000</td>\n",
       "    </tr>\n",
       "  </tbody>\n",
       "</table>\n",
       "</div>"
      ],
      "text/plain": [
       "       pickup_longitude  pickup_latitude  dropoff_longitude  dropoff_latitude  \\\n",
       "count       9914.000000      9914.000000        9914.000000       9914.000000   \n",
       "mean         -73.974716        40.751041         -73.973656         40.751740   \n",
       "std            0.042774         0.033541           0.039072          0.035435   \n",
       "min          -74.252190        40.573143         -74.263245         40.568974   \n",
       "25%          -73.992500        40.736125         -73.991249         40.735253   \n",
       "50%          -73.982327        40.753052         -73.980015         40.754065   \n",
       "75%          -73.968012        40.767113         -73.964062         40.768757   \n",
       "max          -72.986534        41.709557         -72.990967         41.696682   \n",
       "\n",
       "       passenger_count  \n",
       "count      9914.000000  \n",
       "mean          1.671273  \n",
       "std           1.278747  \n",
       "min           1.000000  \n",
       "25%           1.000000  \n",
       "50%           1.000000  \n",
       "75%           2.000000  \n",
       "max           6.000000  "
      ]
     },
     "execution_count": 174,
     "metadata": {},
     "output_type": "execute_result"
    }
   ],
   "source": [
    "taxi_fare_test_df.describe()"
   ]
  },
  {
   "cell_type": "code",
   "execution_count": 175,
   "metadata": {},
   "outputs": [
    {
     "data": {
      "text/plain": [
       "fare_amount          0\n",
       "pickup_datetime      0\n",
       "pickup_longitude     0\n",
       "pickup_latitude      0\n",
       "dropoff_longitude    0\n",
       "dropoff_latitude     0\n",
       "passenger_count      0\n",
       "dtype: int64"
      ]
     },
     "execution_count": 175,
     "metadata": {},
     "output_type": "execute_result"
    }
   ],
   "source": [
    "taxi_fare_train_df.isnull().sum()"
   ]
  },
  {
   "attachments": {},
   "cell_type": "markdown",
   "metadata": {},
   "source": [
    "No null or NaN values"
   ]
  },
  {
   "cell_type": "code",
   "execution_count": 176,
   "metadata": {},
   "outputs": [],
   "source": [
    "import matplotlib.pyplot as plt"
   ]
  },
  {
   "cell_type": "code",
   "execution_count": 183,
   "metadata": {},
   "outputs": [],
   "source": [
    "def remove_outliers_passenger_count(df:pd.DataFrame) -> None:\n",
    "    return df[(df['passenger_count']<= 8) \\\n",
    "              & (df['passenger_count']>=1)\n",
    "        ]"
   ]
  },
  {
   "cell_type": "code",
   "execution_count": 205,
   "metadata": {},
   "outputs": [],
   "source": [
    "def add_part_dates_time(df:pd.DataFrame, col_name:str) -> None: \n",
    "    \"\"\"\n",
    "    This function seperate datetime objects to seperate columns with year, month, day, weekday, hour\n",
    "    and drop orignal datetime column\n",
    "    \"\"\"\n",
    "    df[f'{col_name}_year'] = df[col_name].dt.year\n",
    "    df[f'{col_name}_month'] = df[col_name].dt.month\n",
    "    df[f'{col_name}_day'] = df[col_name].dt.day\n",
    "    df[f'{col_name}_weekday'] = df[col_name].dt.weekday\n",
    "    df[f'{col_name}_hour'] = df[col_name].dt.hour\n",
    "    \n",
    "    # we do not need original datetime column, so we can drop it\n",
    "    df.drop(col_name, axis=1, inplace=True)\n"
   ]
  },
  {
   "attachments": {},
   "cell_type": "markdown",
   "metadata": {},
   "source": [
    "To find average rige distance, we have to calculate/convert pick and dropoff longitute and latitute to distance"
   ]
  },
  {
   "attachments": {},
   "cell_type": "markdown",
   "metadata": {},
   "source": [
    "Add Distance Between Pickup and Drop\n",
    "We can use the haversine distance:\n",
    "\n",
    "* https://en.wikipedia.org/wiki/Haversine_formula\n",
    "* https://stackoverflow.com/questions/29545704/fast-haversine-approximation-python-pandas"
   ]
  },
  {
   "cell_type": "code",
   "execution_count": 218,
   "metadata": {},
   "outputs": [],
   "source": [
    "def haversine_np(lon1:float, lat1:float, lon2:float, lat2:float)->float:\n",
    "    \"\"\"\n",
    "    Calculate the great circle distance between two points\n",
    "    on the earth (specified in decimal degrees)\n",
    "\n",
    "    All args must be of equal length.    \n",
    "\n",
    "    \"\"\"\n",
    "    lon1, lat1, lon2, lat2 = map(np.radians, [lon1, lat1, lon2, lat2])\n",
    "\n",
    "    dlon = lon2 - lon1\n",
    "    dlat = lat2 - lat1\n",
    "\n",
    "    a = np.sin(dlat/2.0)**2 + np.cos(lat1) * np.cos(lat2) * np.sin(dlon/2.0)**2\n",
    "\n",
    "    c = 2 * np.arcsin(np.sqrt(a))\n",
    "    km = 6367 * c\n",
    "    return km"
   ]
  },
  {
   "cell_type": "code",
   "execution_count": 219,
   "metadata": {},
   "outputs": [],
   "source": [
    "def add_distance(df:pd.DataFrame)-> None:\n",
    "    df['distance_km'] = haversine_np(\n",
    "        df['pickup_longitude'], \n",
    "        df['pickup_latitude'], \n",
    "        df['dropoff_longitude'], \n",
    "        df['dropoff_latitude']\n",
    "        )\n"
   ]
  },
  {
   "attachments": {},
   "cell_type": "markdown",
   "metadata": {},
   "source": [
    "we can remove these outliers by keeping only NYC longitute and latitute info "
   ]
  },
  {
   "cell_type": "code",
   "execution_count": 227,
   "metadata": {},
   "outputs": [],
   "source": [
    "def remove_outliers_location(df:pd.DataFrame) -> pd.DataFrame:\n",
    "    return df[\n",
    "                (df['pickup_longitude'] >= -75) & \n",
    "                (df['pickup_longitude'] <= -72) & \n",
    "                (df['dropoff_longitude'] >= -75) & \n",
    "                (df['dropoff_longitude'] <= -72) & \n",
    "                (df['pickup_latitude'] >= 40) & \n",
    "                (df['pickup_latitude'] <= 42) & \n",
    "                (df['dropoff_latitude'] >=40) & \n",
    "                (df['dropoff_latitude'] <= 42)\n",
    "            ]"
   ]
  },
  {
   "attachments": {},
   "cell_type": "markdown",
   "metadata": {},
   "source": [
    "## 3. Prepare Dataset for Training\n",
    "\n",
    "- Split Training & Validation Set\n",
    "- Data Cleaning\n",
    "- Extract Inputs & Outputs\n",
    "   - Training\n",
    "   - Validation\n",
    "   - Test"
   ]
  },
  {
   "attachments": {},
   "cell_type": "markdown",
   "metadata": {},
   "source": [
    "### Split Training & Validation Set\n",
    "\n",
    "We'll set aside 20% of the training data as the validation set, to evaluate the models we train on previously unseen data. \n",
    "\n",
    "Since the test set and training set have the same date ranges, we can pick a random 20% fraction."
   ]
  },
  {
   "cell_type": "code",
   "execution_count": 234,
   "metadata": {},
   "outputs": [],
   "source": [
    "from sklearn.model_selection import train_test_split"
   ]
  },
  {
   "attachments": {},
   "cell_type": "markdown",
   "metadata": {},
   "source": [
    "Lets take frash train set, so that \n",
    "* we can automize whole preprocessing using already created functions\n",
    "* We can easily skip EDA section to save time"
   ]
  },
  {
   "attachments": {},
   "cell_type": "markdown",
   "metadata": {},
   "source": [
    "Before we create dataset containing date and time. we have to check whether we have predict future data or past data(or random data)\n",
    "we can easily check it by checking dates from testing dataset"
   ]
  },
  {
   "cell_type": "code",
   "execution_count": 235,
   "metadata": {},
   "outputs": [
    {
     "data": {
      "text/plain": [
       "367044   2014-10-19 19:25:36+00:00\n",
       "417626   2015-06-09 23:31:15+00:00\n",
       "511655   2012-12-16 10:20:00+00:00\n",
       "308295   2009-07-26 21:26:44+00:00\n",
       "96786    2011-01-14 15:31:22+00:00\n",
       "28530    2014-07-07 23:44:40+00:00\n",
       "372281   2011-12-27 21:00:53+00:00\n",
       "199765   2011-07-08 15:14:48+00:00\n",
       "48585    2013-05-28 20:11:00+00:00\n",
       "8467     2009-07-07 20:40:34+00:00\n",
       "Name: pickup_datetime, dtype: datetime64[ns, UTC]"
      ]
     },
     "execution_count": 235,
     "metadata": {},
     "output_type": "execute_result"
    }
   ],
   "source": [
    "taxi_fare_train_org_df.pickup_datetime.sample(10)"
   ]
  },
  {
   "cell_type": "code",
   "execution_count": 236,
   "metadata": {},
   "outputs": [
    {
     "data": {
      "text/plain": [
       "9499   2014-07-21 18:19:00+00:00\n",
       "9188   2011-06-01 07:37:00+00:00\n",
       "2437   2010-09-20 16:48:00+00:00\n",
       "3397   2012-11-20 21:54:00+00:00\n",
       "2708   2010-02-06 19:59:16+00:00\n",
       "1774   2014-12-24 03:00:00+00:00\n",
       "427    2011-06-24 12:03:00+00:00\n",
       "7399   2011-12-13 22:00:00+00:00\n",
       "3481   2009-03-16 10:30:12+00:00\n",
       "9642   2012-11-20 21:54:00+00:00\n",
       "Name: pickup_datetime, dtype: datetime64[ns, UTC]"
      ]
     },
     "execution_count": 236,
     "metadata": {},
     "output_type": "execute_result"
    }
   ],
   "source": [
    "taxi_fare_test_df.pickup_datetime.sample(10)"
   ]
  },
  {
   "attachments": {},
   "cell_type": "markdown",
   "metadata": {},
   "source": [
    "### Fill/Remove Missing Values\n",
    "\n",
    "There are no missing values in our sample, but if there were, we could simply drop the rows with missing values instead of trying to fill them (since we have a lot of training data)>"
   ]
  },
  {
   "cell_type": "code",
   "execution_count": 237,
   "metadata": {},
   "outputs": [],
   "source": [
    "taxi_fare_train_df = taxi_fare_train_df.dropna()"
   ]
  },
  {
   "attachments": {},
   "cell_type": "markdown",
   "metadata": {},
   "source": [
    "train and test dataset contains data with same year, hence we do not need to predict future data, \n",
    "if we have to predict that then we have to keeping mind during spliting training dataset into train and test/validation, we have to split dataset on the basis of date. validation dataset can only contain future data than data from training data. for example train dataset contain data from year 2009-2014 and validation dataset contain only data with date 2015."
   ]
  },
  {
   "cell_type": "code",
   "execution_count": 238,
   "metadata": {},
   "outputs": [],
   "source": [
    "# Separate input feature and target\n",
    "X = taxi_fare_train_df.drop('fare_amount', axis=1)\n",
    "y = taxi_fare_train_df.fare_amount"
   ]
  },
  {
   "cell_type": "code",
   "execution_count": 239,
   "metadata": {},
   "outputs": [
    {
     "data": {
      "text/plain": [
       "Index(['pickup_datetime', 'pickup_longitude', 'pickup_latitude',\n",
       "       'dropoff_longitude', 'dropoff_latitude', 'passenger_count'],\n",
       "      dtype='object')"
      ]
     },
     "execution_count": 239,
     "metadata": {},
     "output_type": "execute_result"
    }
   ],
   "source": [
    "X.columns"
   ]
  },
  {
   "cell_type": "code",
   "execution_count": 240,
   "metadata": {},
   "outputs": [],
   "source": [
    "X_train, X_test, y_train, y_test = train_test_split(\n",
    "        X, \n",
    "        y, \n",
    "        test_size=0.2,\n",
    "        shuffle=True, \n",
    "        random_state=42\n",
    "    )"
   ]
  },
  {
   "attachments": {},
   "cell_type": "markdown",
   "metadata": {},
   "source": [
    "## Preprocessing"
   ]
  },
  {
   "attachments": {},
   "cell_type": "markdown",
   "metadata": {},
   "source": [
    "### Remove Outliers"
   ]
  },
  {
   "attachments": {},
   "cell_type": "markdown",
   "metadata": {},
   "source": [
    "we already remove data with 0 and minus fare amount"
   ]
  },
  {
   "cell_type": "code",
   "execution_count": 241,
   "metadata": {},
   "outputs": [],
   "source": [
    "def remove_outliers(df):\n",
    "    \"\"\"\n",
    "    fare_amount outliers are already removed\n",
    "    \"\"\"\n",
    "    df = remove_outliers_passenger_count(df=df)\n",
    "    df = drop_longitude_lattitude_outliers(    \n",
    "        df=df, \n",
    "        lat_col_name='pickup_latitude', \n",
    "        long_col_name='pickup_longitude'\n",
    "    )\n",
    "    df = drop_longitude_lattitude_outliers(\n",
    "        df=df, \n",
    "        lat_col_name='dropoff_latitude', \n",
    "        long_col_name='dropoff_longitude'\n",
    "    )\n",
    "    df = remove_outliers_location(df=df)\n",
    "    return df"
   ]
  },
  {
   "cell_type": "code",
   "execution_count": 242,
   "metadata": {},
   "outputs": [],
   "source": [
    "X_train = remove_outliers(X_train)\n",
    "X_test = remove_outliers(X_test)"
   ]
  },
  {
   "cell_type": "code",
   "execution_count": 243,
   "metadata": {},
   "outputs": [
    {
     "data": {
      "text/html": [
       "<div>\n",
       "<style scoped>\n",
       "    .dataframe tbody tr th:only-of-type {\n",
       "        vertical-align: middle;\n",
       "    }\n",
       "\n",
       "    .dataframe tbody tr th {\n",
       "        vertical-align: top;\n",
       "    }\n",
       "\n",
       "    .dataframe thead th {\n",
       "        text-align: right;\n",
       "    }\n",
       "</style>\n",
       "<table border=\"1\" class=\"dataframe\">\n",
       "  <thead>\n",
       "    <tr style=\"text-align: right;\">\n",
       "      <th></th>\n",
       "      <th>pickup_datetime</th>\n",
       "      <th>pickup_longitude</th>\n",
       "      <th>pickup_latitude</th>\n",
       "      <th>dropoff_longitude</th>\n",
       "      <th>dropoff_latitude</th>\n",
       "      <th>passenger_count</th>\n",
       "    </tr>\n",
       "  </thead>\n",
       "  <tbody>\n",
       "    <tr>\n",
       "      <th>106816</th>\n",
       "      <td>2009-04-01 14:44:04+00:00</td>\n",
       "      <td>-74.002106</td>\n",
       "      <td>40.740608</td>\n",
       "      <td>-73.992126</td>\n",
       "      <td>40.753681</td>\n",
       "      <td>1</td>\n",
       "    </tr>\n",
       "    <tr>\n",
       "      <th>299923</th>\n",
       "      <td>2013-07-18 08:34:10+00:00</td>\n",
       "      <td>-73.991730</td>\n",
       "      <td>40.744503</td>\n",
       "      <td>-73.973915</td>\n",
       "      <td>40.751446</td>\n",
       "      <td>1</td>\n",
       "    </tr>\n",
       "    <tr>\n",
       "      <th>108730</th>\n",
       "      <td>2009-09-24 06:11:00+00:00</td>\n",
       "      <td>-73.994629</td>\n",
       "      <td>40.748676</td>\n",
       "      <td>-73.864937</td>\n",
       "      <td>40.770443</td>\n",
       "      <td>1</td>\n",
       "    </tr>\n",
       "    <tr>\n",
       "      <th>472304</th>\n",
       "      <td>2013-07-22 08:07:00+00:00</td>\n",
       "      <td>-73.999039</td>\n",
       "      <td>40.734142</td>\n",
       "      <td>-73.984924</td>\n",
       "      <td>40.751049</td>\n",
       "      <td>1</td>\n",
       "    </tr>\n",
       "    <tr>\n",
       "      <th>27344</th>\n",
       "      <td>2011-02-04 06:51:00+00:00</td>\n",
       "      <td>-73.975670</td>\n",
       "      <td>40.782063</td>\n",
       "      <td>-73.978851</td>\n",
       "      <td>40.757328</td>\n",
       "      <td>1</td>\n",
       "    </tr>\n",
       "  </tbody>\n",
       "</table>\n",
       "</div>"
      ],
      "text/plain": [
       "                 pickup_datetime  pickup_longitude  pickup_latitude  \\\n",
       "106816 2009-04-01 14:44:04+00:00        -74.002106        40.740608   \n",
       "299923 2013-07-18 08:34:10+00:00        -73.991730        40.744503   \n",
       "108730 2009-09-24 06:11:00+00:00        -73.994629        40.748676   \n",
       "472304 2013-07-22 08:07:00+00:00        -73.999039        40.734142   \n",
       "27344  2011-02-04 06:51:00+00:00        -73.975670        40.782063   \n",
       "\n",
       "        dropoff_longitude  dropoff_latitude  passenger_count  \n",
       "106816         -73.992126         40.753681                1  \n",
       "299923         -73.973915         40.751446                1  \n",
       "108730         -73.864937         40.770443                1  \n",
       "472304         -73.984924         40.751049                1  \n",
       "27344          -73.978851         40.757328                1  "
      ]
     },
     "execution_count": 243,
     "metadata": {},
     "output_type": "execute_result"
    }
   ],
   "source": [
    "X_train.head(5)"
   ]
  },
  {
   "attachments": {},
   "cell_type": "markdown",
   "metadata": {},
   "source": [
    "## Feature Engineering"
   ]
  },
  {
   "attachments": {},
   "cell_type": "markdown",
   "metadata": {},
   "source": [
    "#### Separate date and time"
   ]
  },
  {
   "cell_type": "code",
   "execution_count": 244,
   "metadata": {},
   "outputs": [],
   "source": [
    "add_part_dates_time(df=X_train, col_name='pickup_datetime')\n",
    "add_part_dates_time(df=X_test, col_name='pickup_datetime')"
   ]
  },
  {
   "cell_type": "code",
   "execution_count": 245,
   "metadata": {},
   "outputs": [
    {
     "data": {
      "text/html": [
       "<div>\n",
       "<style scoped>\n",
       "    .dataframe tbody tr th:only-of-type {\n",
       "        vertical-align: middle;\n",
       "    }\n",
       "\n",
       "    .dataframe tbody tr th {\n",
       "        vertical-align: top;\n",
       "    }\n",
       "\n",
       "    .dataframe thead th {\n",
       "        text-align: right;\n",
       "    }\n",
       "</style>\n",
       "<table border=\"1\" class=\"dataframe\">\n",
       "  <thead>\n",
       "    <tr style=\"text-align: right;\">\n",
       "      <th></th>\n",
       "      <th>pickup_longitude</th>\n",
       "      <th>pickup_latitude</th>\n",
       "      <th>dropoff_longitude</th>\n",
       "      <th>dropoff_latitude</th>\n",
       "      <th>passenger_count</th>\n",
       "      <th>pickup_datetime_year</th>\n",
       "      <th>pickup_datetime_month</th>\n",
       "      <th>pickup_datetime_day</th>\n",
       "      <th>pickup_datetime_weekday</th>\n",
       "      <th>pickup_datetime_hour</th>\n",
       "    </tr>\n",
       "  </thead>\n",
       "  <tbody>\n",
       "    <tr>\n",
       "      <th>106816</th>\n",
       "      <td>-74.002106</td>\n",
       "      <td>40.740608</td>\n",
       "      <td>-73.992126</td>\n",
       "      <td>40.753681</td>\n",
       "      <td>1</td>\n",
       "      <td>2009</td>\n",
       "      <td>4</td>\n",
       "      <td>1</td>\n",
       "      <td>2</td>\n",
       "      <td>14</td>\n",
       "    </tr>\n",
       "    <tr>\n",
       "      <th>299923</th>\n",
       "      <td>-73.991730</td>\n",
       "      <td>40.744503</td>\n",
       "      <td>-73.973915</td>\n",
       "      <td>40.751446</td>\n",
       "      <td>1</td>\n",
       "      <td>2013</td>\n",
       "      <td>7</td>\n",
       "      <td>18</td>\n",
       "      <td>3</td>\n",
       "      <td>8</td>\n",
       "    </tr>\n",
       "    <tr>\n",
       "      <th>108730</th>\n",
       "      <td>-73.994629</td>\n",
       "      <td>40.748676</td>\n",
       "      <td>-73.864937</td>\n",
       "      <td>40.770443</td>\n",
       "      <td>1</td>\n",
       "      <td>2009</td>\n",
       "      <td>9</td>\n",
       "      <td>24</td>\n",
       "      <td>3</td>\n",
       "      <td>6</td>\n",
       "    </tr>\n",
       "    <tr>\n",
       "      <th>472304</th>\n",
       "      <td>-73.999039</td>\n",
       "      <td>40.734142</td>\n",
       "      <td>-73.984924</td>\n",
       "      <td>40.751049</td>\n",
       "      <td>1</td>\n",
       "      <td>2013</td>\n",
       "      <td>7</td>\n",
       "      <td>22</td>\n",
       "      <td>0</td>\n",
       "      <td>8</td>\n",
       "    </tr>\n",
       "    <tr>\n",
       "      <th>27344</th>\n",
       "      <td>-73.975670</td>\n",
       "      <td>40.782063</td>\n",
       "      <td>-73.978851</td>\n",
       "      <td>40.757328</td>\n",
       "      <td>1</td>\n",
       "      <td>2011</td>\n",
       "      <td>2</td>\n",
       "      <td>4</td>\n",
       "      <td>4</td>\n",
       "      <td>6</td>\n",
       "    </tr>\n",
       "  </tbody>\n",
       "</table>\n",
       "</div>"
      ],
      "text/plain": [
       "        pickup_longitude  pickup_latitude  dropoff_longitude  \\\n",
       "106816        -74.002106        40.740608         -73.992126   \n",
       "299923        -73.991730        40.744503         -73.973915   \n",
       "108730        -73.994629        40.748676         -73.864937   \n",
       "472304        -73.999039        40.734142         -73.984924   \n",
       "27344         -73.975670        40.782063         -73.978851   \n",
       "\n",
       "        dropoff_latitude  passenger_count  pickup_datetime_year  \\\n",
       "106816         40.753681                1                  2009   \n",
       "299923         40.751446                1                  2013   \n",
       "108730         40.770443                1                  2009   \n",
       "472304         40.751049                1                  2013   \n",
       "27344          40.757328                1                  2011   \n",
       "\n",
       "        pickup_datetime_month  pickup_datetime_day  pickup_datetime_weekday  \\\n",
       "106816                      4                    1                        2   \n",
       "299923                      7                   18                        3   \n",
       "108730                      9                   24                        3   \n",
       "472304                      7                   22                        0   \n",
       "27344                       2                    4                        4   \n",
       "\n",
       "        pickup_datetime_hour  \n",
       "106816                    14  \n",
       "299923                     8  \n",
       "108730                     6  \n",
       "472304                     8  \n",
       "27344                      6  "
      ]
     },
     "execution_count": 245,
     "metadata": {},
     "output_type": "execute_result"
    }
   ],
   "source": [
    "X_train.head(5)"
   ]
  },
  {
   "attachments": {},
   "cell_type": "markdown",
   "metadata": {},
   "source": [
    "#### Calculate trip distance"
   ]
  },
  {
   "cell_type": "code",
   "execution_count": 246,
   "metadata": {},
   "outputs": [],
   "source": [
    "add_distance(X_train)\n",
    "add_distance(X_test)"
   ]
  },
  {
   "cell_type": "code",
   "execution_count": 247,
   "metadata": {},
   "outputs": [
    {
     "data": {
      "text/html": [
       "<div>\n",
       "<style scoped>\n",
       "    .dataframe tbody tr th:only-of-type {\n",
       "        vertical-align: middle;\n",
       "    }\n",
       "\n",
       "    .dataframe tbody tr th {\n",
       "        vertical-align: top;\n",
       "    }\n",
       "\n",
       "    .dataframe thead th {\n",
       "        text-align: right;\n",
       "    }\n",
       "</style>\n",
       "<table border=\"1\" class=\"dataframe\">\n",
       "  <thead>\n",
       "    <tr style=\"text-align: right;\">\n",
       "      <th></th>\n",
       "      <th>pickup_longitude</th>\n",
       "      <th>pickup_latitude</th>\n",
       "      <th>dropoff_longitude</th>\n",
       "      <th>dropoff_latitude</th>\n",
       "      <th>passenger_count</th>\n",
       "      <th>pickup_datetime_year</th>\n",
       "      <th>pickup_datetime_month</th>\n",
       "      <th>pickup_datetime_day</th>\n",
       "      <th>pickup_datetime_weekday</th>\n",
       "      <th>pickup_datetime_hour</th>\n",
       "      <th>distance_km</th>\n",
       "    </tr>\n",
       "  </thead>\n",
       "  <tbody>\n",
       "    <tr>\n",
       "      <th>106816</th>\n",
       "      <td>-74.002106</td>\n",
       "      <td>40.740608</td>\n",
       "      <td>-73.992126</td>\n",
       "      <td>40.753681</td>\n",
       "      <td>1</td>\n",
       "      <td>2009</td>\n",
       "      <td>4</td>\n",
       "      <td>1</td>\n",
       "      <td>2</td>\n",
       "      <td>14</td>\n",
       "      <td>1.678160</td>\n",
       "    </tr>\n",
       "    <tr>\n",
       "      <th>299923</th>\n",
       "      <td>-73.991730</td>\n",
       "      <td>40.744503</td>\n",
       "      <td>-73.973915</td>\n",
       "      <td>40.751446</td>\n",
       "      <td>1</td>\n",
       "      <td>2013</td>\n",
       "      <td>7</td>\n",
       "      <td>18</td>\n",
       "      <td>3</td>\n",
       "      <td>8</td>\n",
       "      <td>1.686465</td>\n",
       "    </tr>\n",
       "    <tr>\n",
       "      <th>108730</th>\n",
       "      <td>-73.994629</td>\n",
       "      <td>40.748676</td>\n",
       "      <td>-73.864937</td>\n",
       "      <td>40.770443</td>\n",
       "      <td>1</td>\n",
       "      <td>2009</td>\n",
       "      <td>9</td>\n",
       "      <td>24</td>\n",
       "      <td>3</td>\n",
       "      <td>6</td>\n",
       "      <td>11.181247</td>\n",
       "    </tr>\n",
       "    <tr>\n",
       "      <th>472304</th>\n",
       "      <td>-73.999039</td>\n",
       "      <td>40.734142</td>\n",
       "      <td>-73.984924</td>\n",
       "      <td>40.751049</td>\n",
       "      <td>1</td>\n",
       "      <td>2013</td>\n",
       "      <td>7</td>\n",
       "      <td>22</td>\n",
       "      <td>0</td>\n",
       "      <td>8</td>\n",
       "      <td>2.223336</td>\n",
       "    </tr>\n",
       "    <tr>\n",
       "      <th>27344</th>\n",
       "      <td>-73.975670</td>\n",
       "      <td>40.782063</td>\n",
       "      <td>-73.978851</td>\n",
       "      <td>40.757328</td>\n",
       "      <td>1</td>\n",
       "      <td>2011</td>\n",
       "      <td>2</td>\n",
       "      <td>4</td>\n",
       "      <td>4</td>\n",
       "      <td>6</td>\n",
       "      <td>2.761760</td>\n",
       "    </tr>\n",
       "  </tbody>\n",
       "</table>\n",
       "</div>"
      ],
      "text/plain": [
       "        pickup_longitude  pickup_latitude  dropoff_longitude  \\\n",
       "106816        -74.002106        40.740608         -73.992126   \n",
       "299923        -73.991730        40.744503         -73.973915   \n",
       "108730        -73.994629        40.748676         -73.864937   \n",
       "472304        -73.999039        40.734142         -73.984924   \n",
       "27344         -73.975670        40.782063         -73.978851   \n",
       "\n",
       "        dropoff_latitude  passenger_count  pickup_datetime_year  \\\n",
       "106816         40.753681                1                  2009   \n",
       "299923         40.751446                1                  2013   \n",
       "108730         40.770443                1                  2009   \n",
       "472304         40.751049                1                  2013   \n",
       "27344          40.757328                1                  2011   \n",
       "\n",
       "        pickup_datetime_month  pickup_datetime_day  pickup_datetime_weekday  \\\n",
       "106816                      4                    1                        2   \n",
       "299923                      7                   18                        3   \n",
       "108730                      9                   24                        3   \n",
       "472304                      7                   22                        0   \n",
       "27344                       2                    4                        4   \n",
       "\n",
       "        pickup_datetime_hour  distance_km  \n",
       "106816                    14     1.678160  \n",
       "299923                     8     1.686465  \n",
       "108730                     6    11.181247  \n",
       "472304                     8     2.223336  \n",
       "27344                      6     2.761760  "
      ]
     },
     "execution_count": 247,
     "metadata": {},
     "output_type": "execute_result"
    }
   ],
   "source": [
    "X_train.head(5)"
   ]
  },
  {
   "cell_type": "code",
   "execution_count": 248,
   "metadata": {},
   "outputs": [
    {
     "data": {
      "text/plain": [
       "count    431117.000000\n",
       "mean          3.326101\n",
       "std           3.731683\n",
       "min           0.000000\n",
       "25%           1.253458\n",
       "50%           2.154325\n",
       "75%           3.910396\n",
       "max         113.474625\n",
       "Name: distance_km, dtype: float64"
      ]
     },
     "execution_count": 248,
     "metadata": {},
     "output_type": "execute_result"
    }
   ],
   "source": [
    "X_train.distance_km.describe()"
   ]
  },
  {
   "attachments": {},
   "cell_type": "markdown",
   "metadata": {},
   "source": [
    "#### Add Distance From Popular Landmarks\n",
    "\n",
    "- JFK Airport\n",
    "- LGA Airport\n",
    "- EWR Airport\n",
    "- Times Square\n",
    "- Met Meuseum\n",
    "- World Trade Center\n",
    "\n",
    "We'll add the distance from drop location. "
   ]
  },
  {
   "cell_type": "code",
   "execution_count": 249,
   "metadata": {},
   "outputs": [],
   "source": [
    "jfk_lonlat = -73.7781, 40.6413\n",
    "lga_lonlat = -73.8740, 40.7769\n",
    "ewr_lonlat = -74.1745, 40.6895\n",
    "met_lonlat = -73.9632, 40.7794\n",
    "wtc_lonlat = -74.0099, 40.7126"
   ]
  },
  {
   "cell_type": "code",
   "execution_count": 250,
   "metadata": {},
   "outputs": [],
   "source": [
    "def add_landmark_dropoff_distance(df, landmark_name, landmark_lonlat):\n",
    "    lon, lat = landmark_lonlat\n",
    "    df[landmark_name + '_drop_distance'] = haversine_np(lon, lat, df['dropoff_longitude'], df['dropoff_latitude'])"
   ]
  },
  {
   "cell_type": "code",
   "execution_count": 251,
   "metadata": {},
   "outputs": [],
   "source": [
    "for a_df in [X_train, X_test, taxi_fare_test_df]:\n",
    "    for name, lonlat in [('jfk', jfk_lonlat), ('lga', lga_lonlat), ('ewr', ewr_lonlat), ('met', met_lonlat), ('wtc', wtc_lonlat)]:\n",
    "        add_landmark_dropoff_distance(a_df, name, lonlat)"
   ]
  },
  {
   "cell_type": "code",
   "execution_count": 253,
   "metadata": {},
   "outputs": [
    {
     "data": {
      "text/html": [
       "<div>\n",
       "<style scoped>\n",
       "    .dataframe tbody tr th:only-of-type {\n",
       "        vertical-align: middle;\n",
       "    }\n",
       "\n",
       "    .dataframe tbody tr th {\n",
       "        vertical-align: top;\n",
       "    }\n",
       "\n",
       "    .dataframe thead th {\n",
       "        text-align: right;\n",
       "    }\n",
       "</style>\n",
       "<table border=\"1\" class=\"dataframe\">\n",
       "  <thead>\n",
       "    <tr style=\"text-align: right;\">\n",
       "      <th></th>\n",
       "      <th>pickup_longitude</th>\n",
       "      <th>pickup_latitude</th>\n",
       "      <th>dropoff_longitude</th>\n",
       "      <th>dropoff_latitude</th>\n",
       "      <th>passenger_count</th>\n",
       "      <th>pickup_datetime_year</th>\n",
       "      <th>pickup_datetime_month</th>\n",
       "      <th>pickup_datetime_day</th>\n",
       "      <th>pickup_datetime_weekday</th>\n",
       "      <th>pickup_datetime_hour</th>\n",
       "      <th>distance_km</th>\n",
       "      <th>jfk_drop_distance</th>\n",
       "      <th>lga_drop_distance</th>\n",
       "      <th>ewr_drop_distance</th>\n",
       "      <th>met_drop_distance</th>\n",
       "      <th>wtc_drop_distance</th>\n",
       "    </tr>\n",
       "  </thead>\n",
       "  <tbody>\n",
       "    <tr>\n",
       "      <th>106816</th>\n",
       "      <td>-74.002106</td>\n",
       "      <td>40.740608</td>\n",
       "      <td>-73.992126</td>\n",
       "      <td>40.753681</td>\n",
       "      <td>1</td>\n",
       "      <td>2009</td>\n",
       "      <td>4</td>\n",
       "      <td>1</td>\n",
       "      <td>2</td>\n",
       "      <td>14</td>\n",
       "      <td>1.678160</td>\n",
       "      <td>21.934467</td>\n",
       "      <td>10.271628</td>\n",
       "      <td>16.934586</td>\n",
       "      <td>3.754353</td>\n",
       "      <td>4.804076</td>\n",
       "    </tr>\n",
       "    <tr>\n",
       "      <th>299923</th>\n",
       "      <td>-73.991730</td>\n",
       "      <td>40.744503</td>\n",
       "      <td>-73.973915</td>\n",
       "      <td>40.751446</td>\n",
       "      <td>1</td>\n",
       "      <td>2013</td>\n",
       "      <td>7</td>\n",
       "      <td>18</td>\n",
       "      <td>3</td>\n",
       "      <td>8</td>\n",
       "      <td>1.686465</td>\n",
       "      <td>20.542608</td>\n",
       "      <td>8.872175</td>\n",
       "      <td>18.242617</td>\n",
       "      <td>3.234372</td>\n",
       "      <td>5.274363</td>\n",
       "    </tr>\n",
       "    <tr>\n",
       "      <th>108730</th>\n",
       "      <td>-73.994629</td>\n",
       "      <td>40.748676</td>\n",
       "      <td>-73.864937</td>\n",
       "      <td>40.770443</td>\n",
       "      <td>1</td>\n",
       "      <td>2009</td>\n",
       "      <td>9</td>\n",
       "      <td>24</td>\n",
       "      <td>3</td>\n",
       "      <td>6</td>\n",
       "      <td>11.181247</td>\n",
       "      <td>16.108179</td>\n",
       "      <td>1.047018</td>\n",
       "      <td>27.576614</td>\n",
       "      <td>8.329019</td>\n",
       "      <td>13.794492</td>\n",
       "    </tr>\n",
       "    <tr>\n",
       "      <th>472304</th>\n",
       "      <td>-73.999039</td>\n",
       "      <td>40.734142</td>\n",
       "      <td>-73.984924</td>\n",
       "      <td>40.751049</td>\n",
       "      <td>1</td>\n",
       "      <td>2013</td>\n",
       "      <td>7</td>\n",
       "      <td>22</td>\n",
       "      <td>0</td>\n",
       "      <td>8</td>\n",
       "      <td>2.223336</td>\n",
       "      <td>21.269541</td>\n",
       "      <td>9.767874</td>\n",
       "      <td>17.370049</td>\n",
       "      <td>3.642241</td>\n",
       "      <td>4.762460</td>\n",
       "    </tr>\n",
       "    <tr>\n",
       "      <th>27344</th>\n",
       "      <td>-73.975670</td>\n",
       "      <td>40.782063</td>\n",
       "      <td>-73.978851</td>\n",
       "      <td>40.757328</td>\n",
       "      <td>1</td>\n",
       "      <td>2011</td>\n",
       "      <td>2</td>\n",
       "      <td>4</td>\n",
       "      <td>4</td>\n",
       "      <td>6</td>\n",
       "      <td>2.761760</td>\n",
       "      <td>21.267338</td>\n",
       "      <td>9.088562</td>\n",
       "      <td>18.119427</td>\n",
       "      <td>2.783923</td>\n",
       "      <td>5.616056</td>\n",
       "    </tr>\n",
       "  </tbody>\n",
       "</table>\n",
       "</div>"
      ],
      "text/plain": [
       "        pickup_longitude  pickup_latitude  dropoff_longitude  \\\n",
       "106816        -74.002106        40.740608         -73.992126   \n",
       "299923        -73.991730        40.744503         -73.973915   \n",
       "108730        -73.994629        40.748676         -73.864937   \n",
       "472304        -73.999039        40.734142         -73.984924   \n",
       "27344         -73.975670        40.782063         -73.978851   \n",
       "\n",
       "        dropoff_latitude  passenger_count  pickup_datetime_year  \\\n",
       "106816         40.753681                1                  2009   \n",
       "299923         40.751446                1                  2013   \n",
       "108730         40.770443                1                  2009   \n",
       "472304         40.751049                1                  2013   \n",
       "27344          40.757328                1                  2011   \n",
       "\n",
       "        pickup_datetime_month  pickup_datetime_day  pickup_datetime_weekday  \\\n",
       "106816                      4                    1                        2   \n",
       "299923                      7                   18                        3   \n",
       "108730                      9                   24                        3   \n",
       "472304                      7                   22                        0   \n",
       "27344                       2                    4                        4   \n",
       "\n",
       "        pickup_datetime_hour  distance_km  jfk_drop_distance  \\\n",
       "106816                    14     1.678160          21.934467   \n",
       "299923                     8     1.686465          20.542608   \n",
       "108730                     6    11.181247          16.108179   \n",
       "472304                     8     2.223336          21.269541   \n",
       "27344                      6     2.761760          21.267338   \n",
       "\n",
       "        lga_drop_distance  ewr_drop_distance  met_drop_distance  \\\n",
       "106816          10.271628          16.934586           3.754353   \n",
       "299923           8.872175          18.242617           3.234372   \n",
       "108730           1.047018          27.576614           8.329019   \n",
       "472304           9.767874          17.370049           3.642241   \n",
       "27344            9.088562          18.119427           2.783923   \n",
       "\n",
       "        wtc_drop_distance  \n",
       "106816           4.804076  \n",
       "299923           5.274363  \n",
       "108730          13.794492  \n",
       "472304           4.762460  \n",
       "27344            5.616056  "
      ]
     },
     "execution_count": 253,
     "metadata": {},
     "output_type": "execute_result"
    }
   ],
   "source": [
    "X_train.head()"
   ]
  },
  {
   "attachments": {},
   "cell_type": "markdown",
   "metadata": {},
   "source": [
    "#### Scaling and One-Hot Encoding\n",
    "\n",
    "We won't do this because we'll be training tree-based models which are generally able to do a good job even without the above.\n"
   ]
  },
  {
   "attachments": {},
   "cell_type": "markdown",
   "metadata": {},
   "source": [
    "##  Train & Evaluate Different Models\n",
    "\n",
    "We'll train each of the following & submit predictions to Kaggle:\n",
    "\n",
    "- Random Forests\n",
    "- \n",
    "Exercise: Train Ridge, SVM, KNN, Decision Tree models"
   ]
  },
  {
   "cell_type": "code",
   "execution_count": null,
   "metadata": {},
   "outputs": [],
   "source": []
  },
  {
   "cell_type": "code",
   "execution_count": null,
   "metadata": {},
   "outputs": [],
   "source": []
  },
  {
   "attachments": {},
   "cell_type": "markdown",
   "metadata": {},
   "source": [
    "## 4. Train Hardcoded & Baseline Models\n",
    "\n",
    "- Hardcoded model: always predict average fare\n",
    "- Baseline model: Linear regression \n",
    "\n",
    "For evaluation the dataset uses RMSE error: \n",
    "https://www.kaggle.com/c/new-york-city-taxi-fare-prediction/overview/evaluation"
   ]
  },
  {
   "cell_type": "code",
   "execution_count": null,
   "metadata": {},
   "outputs": [],
   "source": []
  },
  {
   "cell_type": "code",
   "execution_count": null,
   "metadata": {},
   "outputs": [],
   "source": []
  },
  {
   "cell_type": "code",
   "execution_count": null,
   "metadata": {},
   "outputs": [],
   "source": []
  },
  {
   "cell_type": "code",
   "execution_count": null,
   "metadata": {},
   "outputs": [],
   "source": []
  },
  {
   "cell_type": "code",
   "execution_count": null,
   "metadata": {},
   "outputs": [],
   "source": []
  },
  {
   "cell_type": "code",
   "execution_count": null,
   "metadata": {},
   "outputs": [],
   "source": []
  },
  {
   "cell_type": "code",
   "execution_count": null,
   "metadata": {},
   "outputs": [],
   "source": []
  },
  {
   "cell_type": "code",
   "execution_count": 252,
   "metadata": {},
   "outputs": [],
   "source": [
    "taxi_fare_train_without_outlier_df = remove_outliers(taxi_fare_train_df)"
   ]
  },
  {
   "cell_type": "code",
   "execution_count": null,
   "metadata": {},
   "outputs": [],
   "source": []
  },
  {
   "attachments": {},
   "cell_type": "markdown",
   "metadata": {},
   "source": [
    "## References\n",
    "* https://www.kaggle.com/code/madhurisivalenka/cleansing-eda-modelling-lgbm-xgboost-starters\n",
    "* https://www.kaggle.com/code/breemen/nyc-taxi-fare-data-exploration\n",
    "* https://www.openstreetmap.org/export#map=10/41.1528/-73.6496\n",
    "* https://www.kaggle.com/code/yekahaaagayeham/new-york-city-taxi-fare-prediction-eda-baseline#2.-Explore-the-Dataset"
   ]
  },
  {
   "cell_type": "code",
   "execution_count": null,
   "metadata": {},
   "outputs": [],
   "source": []
  }
 ],
 "metadata": {
  "kernelspec": {
   "display_name": "NY-taxi-fare-prediction",
   "language": "python",
   "name": "python3"
  },
  "language_info": {
   "codemirror_mode": {
    "name": "ipython",
    "version": 3
   },
   "file_extension": ".py",
   "mimetype": "text/x-python",
   "name": "python",
   "nbconvert_exporter": "python",
   "pygments_lexer": "ipython3",
   "version": "3.10.8 (main, Nov 24 2022, 14:13:03) [GCC 11.2.0]"
  },
  "orig_nbformat": 4,
  "vscode": {
   "interpreter": {
    "hash": "6613cfc5144257f62af353dfccdd8ca115d65687a32ec953b2d2e365c27ff88b"
   }
  }
 },
 "nbformat": 4,
 "nbformat_minor": 2
}
