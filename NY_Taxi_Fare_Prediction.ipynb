{
 "cells": [
  {
   "attachments": {},
   "cell_type": "markdown",
   "metadata": {},
   "source": [
    "# New York City Taxi Fare Prediction\n",
    "\n",
    "We'll train a machine learning model to predict the fare for a taxi ride in New York city given information like pickup date & time,\\\n",
    "pickup location,drop location and no. of passengers. \n",
    "\n",
    "Dataset Link: [new york city taxi fare prediction](https://www.kaggle.com/c/new-york-city-taxi-fare-prediction)"
   ]
  },
  {
   "attachments": {},
   "cell_type": "markdown",
   "metadata": {},
   "source": [
    "## Dataset Description\n",
    "**File descriptions**\n",
    "* **train.csv** - Input features and target fare_amount values for the training set (about 55M rows).\n",
    "* **test.csv**- Input features for the test set (about 10K rows). Your goal is to predict fare_amount for each row.\n",
    "* **sample_submission.csv** - a sample submission file in the correct format (columns key and fare_amount). This file 'predicts' fare_amount to be $11.35 for all rows, which is the mean fare_amount from the training set.\n",
    "### Data fields\n",
    "#### ID\n",
    "* **key** - Unique string identifying each row in both the training and test sets. Comprised of pickup_datetime plus a unique integer, but this doesn't matter, it should just be used as a unique ID field.\n",
    "Required in your submission CSV. Not necessarily needed in the training set, but could be useful to simulate a 'submission file' while doing cross-validation within the training set.\n",
    "#### Features\n",
    "* **pickup_datetime** - timestamp value indicating when the taxi ride started.\n",
    "* **pickup_longitude** - float for longitude coordinate of where the taxi ride started.\n",
    "* **pickup_latitude** - float for latitude coordinate of where the taxi ride started.\n",
    "* **dropoff_longitude** - float for longitude coordinate of where the taxi ride ended.\n",
    "* **dropoff_latitude** - float for latitude coordinate of where the taxi ride ended.\n",
    "* **passenger_count** - integer indicating the number of passengers in the taxi ride.\n",
    "#### Target\n",
    "* **fare_amount** - float dollar amount of the cost of the taxi ride. This value is only in the training set; this is what you are predicting in the test set and it is required in your submission CSV."
   ]
  },
  {
   "attachments": {},
   "cell_type": "markdown",
   "metadata": {},
   "source": [
    "## Planning\n",
    "* Approching problem with classic Machine learning algorithms\n",
    "  - Random Forests\n",
    "  - Xgboost\n",
    "  - LGBM\n",
    "  - Ridge\n",
    "  - SVM \n",
    "- \n",
    "  Find best performing algorithm and hypertune it\n",
    "* Approching problem using Deep learning\n",
    "  * ANN (hypertune)"
   ]
  },
  {
   "attachments": {},
   "cell_type": "markdown",
   "metadata": {},
   "source": [
    "Imports required libs/modules"
   ]
  },
  {
   "cell_type": "code",
   "execution_count": 1,
   "metadata": {},
   "outputs": [],
   "source": [
    "import opendatasets as od\n",
    "import pandas as pd\n",
    "import numpy as np\n",
    "import random"
   ]
  },
  {
   "attachments": {},
   "cell_type": "markdown",
   "metadata": {},
   "source": [
    "## 1. Download the Dataset\n",
    "\n",
    "- Install required libraries\n",
    "- Download data from Kaggle\n",
    "- View dataset files\n",
    "- Load training set with Pandas\n",
    "- Load test set with Pandas\n",
    "\n",
    "\n",
    "Dataset link:  [new york city taxi fare prediction](https://www.kaggle.com/c/new-york-city-taxi-fare-prediction/overview)"
   ]
  },
  {
   "attachments": {},
   "cell_type": "markdown",
   "metadata": {},
   "source": [
    "### Download Data from Kaggle\n",
    "\n",
    "We'll use the [opendatasets]( https://github.com/JovianML/opendatasets) library"
   ]
  },
  {
   "cell_type": "code",
   "execution_count": 2,
   "metadata": {},
   "outputs": [],
   "source": [
    "dataset_url = 'https://www.kaggle.com/competitions/new-york-city-taxi-fare-prediction/data'"
   ]
  },
  {
   "cell_type": "code",
   "execution_count": 3,
   "metadata": {},
   "outputs": [
    {
     "name": "stdout",
     "output_type": "stream",
     "text": [
      "Skipping, found downloaded files in \"./new-york-city-taxi-fare-prediction\" (use force=True to force download)\n"
     ]
    }
   ],
   "source": [
    "od.download(dataset_url)"
   ]
  },
  {
   "cell_type": "code",
   "execution_count": 4,
   "metadata": {},
   "outputs": [],
   "source": [
    "data_dir = './new-york-city-taxi-fare-prediction'"
   ]
  },
  {
   "attachments": {},
   "cell_type": "markdown",
   "metadata": {},
   "source": [
    "Using shell commands because python modules are very slow with large data so instead of using OS modelu,\\\n",
    "we are using shell commands"
   ]
  },
  {
   "cell_type": "code",
   "execution_count": 5,
   "metadata": {},
   "outputs": [
    {
     "name": "stdout",
     "output_type": "stream",
     "text": [
      "total 5,4G\n",
      "-rw-r--r-- 1 root root  486 29. Dez 13:42 GCP-Coupons-Instructions.rtf\n",
      "-rw-r--r-- 1 root root 336K 29. Dez 13:42 sample_submission.csv\n",
      "-rw-r--r-- 1 root root 960K 29. Dez 13:42 test.csv\n",
      "-rw-r--r-- 1 root root 5,4G 29. Dez 13:42 train.csv\n"
     ]
    }
   ],
   "source": [
    "# List of files with size\n",
    "!ls -lh {data_dir}"
   ]
  },
  {
   "cell_type": "code",
   "execution_count": 6,
   "metadata": {},
   "outputs": [
    {
     "name": "stdout",
     "output_type": "stream",
     "text": [
      "key,fare_amount,pickup_datetime,pickup_longitude,pickup_latitude,dropoff_longitude,dropoff_latitude,passenger_count\n",
      "2009-06-15 17:26:21.0000001,4.5,2009-06-15 17:26:21 UTC,-73.844311,40.721319,-73.84161,40.712278,1\n",
      "2010-01-05 16:52:16.0000002,16.9,2010-01-05 16:52:16 UTC,-74.016048,40.711303,-73.979268,40.782004,1\n",
      "2011-08-18 00:35:00.00000049,5.7,2011-08-18 00:35:00 UTC,-73.982738,40.76127,-73.991242,40.750562,2\n",
      "2012-04-21 04:30:42.0000001,7.7,2012-04-21 04:30:42 UTC,-73.98713,40.733143,-73.991567,40.758092,1\n",
      "2010-03-09 07:51:00.000000135,5.3,2010-03-09 07:51:00 UTC,-73.968095,40.768008,-73.956655,40.783762,1\n",
      "2011-01-06 09:50:45.0000002,12.1,2011-01-06 09:50:45 UTC,-74.000964,40.73163,-73.972892,40.758233,1\n",
      "2012-11-20 20:35:00.0000001,7.5,2012-11-20 20:35:00 UTC,-73.980002,40.751662,-73.973802,40.764842,1\n",
      "2012-01-04 17:22:00.00000081,16.5,2012-01-04 17:22:00 UTC,-73.9513,40.774138,-73.990095,40.751048,1\n",
      "2012-12-03 13:10:00.000000125,9,2012-12-03 13:10:00 UTC,-74.006462,40.726713,-73.993078,40.731628,1\n"
     ]
    }
   ],
   "source": [
    "# Training set\n",
    "!head {data_dir}/train.csv"
   ]
  },
  {
   "cell_type": "code",
   "execution_count": 7,
   "metadata": {},
   "outputs": [
    {
     "name": "stdout",
     "output_type": "stream",
     "text": [
      "key,pickup_datetime,pickup_longitude,pickup_latitude,dropoff_longitude,dropoff_latitude,passenger_count\n",
      "2015-01-27 13:08:24.0000002,2015-01-27 13:08:24 UTC,-73.973320007324219,40.7638053894043,-73.981430053710938,40.74383544921875,1\n",
      "2015-01-27 13:08:24.0000003,2015-01-27 13:08:24 UTC,-73.986862182617188,40.719383239746094,-73.998886108398438,40.739200592041016,1\n",
      "2011-10-08 11:53:44.0000002,2011-10-08 11:53:44 UTC,-73.982524,40.75126,-73.979654,40.746139,1\n",
      "2012-12-01 21:12:12.0000002,2012-12-01 21:12:12 UTC,-73.98116,40.767807,-73.990448,40.751635,1\n",
      "2012-12-01 21:12:12.0000003,2012-12-01 21:12:12 UTC,-73.966046,40.789775,-73.988565,40.744427,1\n",
      "2012-12-01 21:12:12.0000005,2012-12-01 21:12:12 UTC,-73.960983,40.765547,-73.979177,40.740053,1\n",
      "2011-10-06 12:10:20.0000001,2011-10-06 12:10:20 UTC,-73.949013,40.773204,-73.959622,40.770893,1\n",
      "2011-10-06 12:10:20.0000003,2011-10-06 12:10:20 UTC,-73.777282,40.646636,-73.985083,40.759368,1\n",
      "2011-10-06 12:10:20.0000002,2011-10-06 12:10:20 UTC,-74.014099,40.709638,-73.995106,40.741365,1\n"
     ]
    }
   ],
   "source": [
    "# Test set\n",
    "!head {data_dir}/test.csv"
   ]
  },
  {
   "cell_type": "code",
   "execution_count": 8,
   "metadata": {},
   "outputs": [
    {
     "name": "stdout",
     "output_type": "stream",
     "text": [
      "key,fare_amount\n",
      "2015-01-27 13:08:24.0000002,11.35\n",
      "2015-01-27 13:08:24.0000003,11.35\n",
      "2011-10-08 11:53:44.0000002,11.35\n",
      "2012-12-01 21:12:12.0000002,11.35\n",
      "2012-12-01 21:12:12.0000003,11.35\n",
      "2012-12-01 21:12:12.0000005,11.35\n",
      "2011-10-06 12:10:20.0000001,11.35\n",
      "2011-10-06 12:10:20.0000003,11.35\n",
      "2011-10-06 12:10:20.0000002,11.35\n"
     ]
    }
   ],
   "source": [
    "# Sample submission file\n",
    "!head {data_dir}/sample_submission.csv"
   ]
  },
  {
   "cell_type": "code",
   "execution_count": 9,
   "metadata": {},
   "outputs": [
    {
     "name": "stdout",
     "output_type": "stream",
     "text": [
      "55423856 ./new-york-city-taxi-fare-prediction/train.csv\n"
     ]
    }
   ],
   "source": [
    "# No. of lines in training set\n",
    "!wc -l {data_dir}/train.csv"
   ]
  },
  {
   "cell_type": "code",
   "execution_count": 10,
   "metadata": {},
   "outputs": [
    {
     "name": "stdout",
     "output_type": "stream",
     "text": [
      "9914 ./new-york-city-taxi-fare-prediction/test.csv\n"
     ]
    }
   ],
   "source": [
    "# No. of lines in test set\n",
    "!wc -l {data_dir}/test.csv"
   ]
  },
  {
   "cell_type": "code",
   "execution_count": 11,
   "metadata": {},
   "outputs": [
    {
     "name": "stdout",
     "output_type": "stream",
     "text": [
      "9915 ./new-york-city-taxi-fare-prediction/sample_submission.csv\n"
     ]
    }
   ],
   "source": [
    "# No. of lines in submission file\n",
    "!wc -l {data_dir}/sample_submission.csv"
   ]
  },
  {
   "attachments": {},
   "cell_type": "markdown",
   "metadata": {},
   "source": [
    "Observations:\n",
    "* It's supervise learning problem\n",
    "* total size of data 5.5GB\n",
    "* number of rows in trainig set 55423856\n",
    "* number of rows in test set 9914\n",
    "* Target/prediction is fare_amount"
   ]
  },
  {
   "attachments": {},
   "cell_type": "markdown",
   "metadata": {},
   "source": [
    "### Loading Training Set\n",
    "\n",
    "Loading the entire dataset into Pandas is going to be slow, so we can use the following optimizations:\n",
    "\n",
    "- Ignore the `key` column\n",
    "- Parse pickup datetime while loading data \n",
    "- Specify data types for other columns\n",
    "   - `float32` for geo coordinates\n",
    "   - `float32` for fare amount\n",
    "   - `uint8` for passenger count\n",
    "- Work with a 1% sample of the data (~500k rows)\n",
    "\n",
    "We can apply these optimizations while using [`pd.read_csv`](https://pandas.pydata.org/pandas-docs/stable/reference/api/pandas.read_csv.html)"
   ]
  },
  {
   "cell_type": "code",
   "execution_count": 12,
   "metadata": {},
   "outputs": [],
   "source": [
    "sample_frac = 0.01 # to sample only 1% of the data from whole dataset (~500_000)"
   ]
  },
  {
   "cell_type": "code",
   "execution_count": 13,
   "metadata": {},
   "outputs": [],
   "source": [
    "selected_cols = 'fare_amount,pickup_datetime,pickup_longitude,pickup_latitude,dropoff_longitude,dropoff_latitude,passenger_count'.split(',')\n",
    "# increase pandas speed we are specifing the datatypes for all features/columns\n",
    "dtypes = {\n",
    "    'fare_amount': 'float32',\n",
    "    'pickup_datetime':'float32',\n",
    "    'pickup_longitude': 'float32',\n",
    "    'pickup_latitude': 'float32',\n",
    "    'dropoff_longitude': 'float32',\n",
    "    'dropoff_latitude': 'float32',\n",
    "    'passenger_count': 'uint8'\n",
    "}"
   ]
  },
  {
   "cell_type": "code",
   "execution_count": 14,
   "metadata": {},
   "outputs": [],
   "source": [
    "def skip_rows(row_idx):\n",
    "    if row_idx == 0:\n",
    "        return False\n",
    "\n",
    "    # probability of getting true is 1%, hance we can get only 1% of data\n",
    "    return random.random() > sample_frac"
   ]
  },
  {
   "cell_type": "code",
   "execution_count": 15,
   "metadata": {},
   "outputs": [],
   "source": [
    "random.seed(42) # to produce same results\n",
    "\n",
    "taxi_fare_train_df = pd.read_csv(\n",
    "    data_dir + '/train.csv',\n",
    "    usecols=selected_cols,\n",
    "    dtype=dtypes,\n",
    "    parse_dates=['pickup_datetime'],\n",
    "    skiprows=skip_rows\n",
    ")"
   ]
  },
  {
   "attachments": {},
   "cell_type": "markdown",
   "metadata": {},
   "source": [
    "### Load Test Set\n",
    "\n",
    "For the test set, we'll simply provide the data types."
   ]
  },
  {
   "cell_type": "code",
   "execution_count": 16,
   "metadata": {},
   "outputs": [],
   "source": [
    "taxi_fare_test_df = pd.read_csv(\n",
    "    data_dir + '/test.csv',\n",
    "    dtype=dtypes,\n",
    "    parse_dates=['pickup_datetime'],\n",
    ")\n",
    "taxi_fare_test_df.drop('key', axis=1, inplace=True)"
   ]
  },
  {
   "cell_type": "code",
   "execution_count": 17,
   "metadata": {},
   "outputs": [
    {
     "data": {
      "text/plain": [
       "Index(['pickup_datetime', 'pickup_longitude', 'pickup_latitude',\n",
       "       'dropoff_longitude', 'dropoff_latitude', 'passenger_count'],\n",
       "      dtype='object')"
      ]
     },
     "execution_count": 17,
     "metadata": {},
     "output_type": "execute_result"
    }
   ],
   "source": [
    "taxi_fare_test_df.columns"
   ]
  },
  {
   "attachments": {},
   "cell_type": "markdown",
   "metadata": {},
   "source": [
    "### Fill/Remove Missing Values\n",
    "\n",
    "There are no missing values in our sample, but if there were, we could simply drop the rows with missing values instead of trying to fill them (since we have a lot of training data)>"
   ]
  },
  {
   "cell_type": "code",
   "execution_count": 18,
   "metadata": {},
   "outputs": [],
   "source": [
    "taxi_fare_train_df = taxi_fare_train_df.dropna()"
   ]
  },
  {
   "attachments": {},
   "cell_type": "markdown",
   "metadata": {},
   "source": [
    "train and test dataset contains data with same year, hence we do not need to predict future data, \n",
    "if we have to predict that then we have to keeping mind during spliting training dataset into train and test/validation, we have to split dataset on the basis of date. validation dataset can only contain future data than data from training data. for example train dataset contain data from year 2009-2014 and validation dataset contain only data with date 2015."
   ]
  },
  {
   "attachments": {},
   "cell_type": "markdown",
   "metadata": {},
   "source": [
    "## Preprocessing"
   ]
  },
  {
   "attachments": {},
   "cell_type": "markdown",
   "metadata": {},
   "source": [
    "### Creating some useful functions to reuse"
   ]
  },
  {
   "cell_type": "code",
   "execution_count": 19,
   "metadata": {},
   "outputs": [],
   "source": [
    "def remove_outliers_fare_amount(df:pd.DataFrame)->pd.DataFrame:\n",
    "    return df[df.fare_amount>=0]"
   ]
  },
  {
   "attachments": {},
   "cell_type": "markdown",
   "metadata": {},
   "source": [
    "No null or NaN values"
   ]
  },
  {
   "cell_type": "code",
   "execution_count": 20,
   "metadata": {},
   "outputs": [],
   "source": [
    "def remove_outliers_passenger_count(df:pd.DataFrame) -> None:\n",
    "    return df[(df['passenger_count']<= 8) \\\n",
    "              & (df['passenger_count']>=1)\n",
    "        ]"
   ]
  },
  {
   "cell_type": "code",
   "execution_count": 21,
   "metadata": {},
   "outputs": [],
   "source": [
    "def add_part_dates_time(df:pd.DataFrame, col_name:str) -> None: \n",
    "    \"\"\"\n",
    "    This function seperate datetime objects to seperate columns with year, month, day, weekday, hour\n",
    "    and drop orignal datetime column\n",
    "    \"\"\"\n",
    "    df[f'{col_name}_year'] = df[col_name].dt.year\n",
    "    df[f'{col_name}_month'] = df[col_name].dt.month\n",
    "    df[f'{col_name}_day'] = df[col_name].dt.day\n",
    "    df[f'{col_name}_weekday'] = df[col_name].dt.weekday\n",
    "    df[f'{col_name}_hour'] = df[col_name].dt.hour\n",
    "    \n",
    "    # we do not need original datetime column, so we can drop it\n",
    "    df.drop(col_name, axis=1, inplace=True)\n"
   ]
  },
  {
   "attachments": {},
   "cell_type": "markdown",
   "metadata": {},
   "source": [
    "To find average rige distance, we have to calculate/convert pick and dropoff longitute and latitute to distance"
   ]
  },
  {
   "attachments": {},
   "cell_type": "markdown",
   "metadata": {},
   "source": [
    "Add Distance Between Pickup and Drop\n",
    "We can use the haversine distance:\n",
    "\n",
    "* https://en.wikipedia.org/wiki/Haversine_formula\n",
    "* https://stackoverflow.com/questions/29545704/fast-haversine-approximation-python-pandas"
   ]
  },
  {
   "cell_type": "code",
   "execution_count": 22,
   "metadata": {},
   "outputs": [],
   "source": [
    "def haversine_np(lon1:float, lat1:float, lon2:float, lat2:float)->float:\n",
    "    \"\"\"\n",
    "    Calculate the great circle distance between two points\n",
    "    on the earth (specified in decimal degrees)\n",
    "\n",
    "    All args must be of equal length.    \n",
    "\n",
    "    \"\"\"\n",
    "    lon1, lat1, lon2, lat2 = map(np.radians, [lon1, lat1, lon2, lat2])\n",
    "\n",
    "    dlon = lon2 - lon1\n",
    "    dlat = lat2 - lat1\n",
    "\n",
    "    a = np.sin(dlat/2.0)**2 + np.cos(lat1) * np.cos(lat2) * np.sin(dlon/2.0)**2\n",
    "\n",
    "    c = 2 * np.arcsin(np.sqrt(a))\n",
    "    km = 6367 * c\n",
    "    return km"
   ]
  },
  {
   "cell_type": "code",
   "execution_count": 23,
   "metadata": {},
   "outputs": [],
   "source": [
    "def add_distance(df:pd.DataFrame)-> None:\n",
    "    df['distance_km'] = haversine_np(\n",
    "        df['pickup_longitude'], \n",
    "        df['pickup_latitude'], \n",
    "        df['dropoff_longitude'], \n",
    "        df['dropoff_latitude']\n",
    "        )\n"
   ]
  },
  {
   "attachments": {},
   "cell_type": "markdown",
   "metadata": {},
   "source": [
    "we can remove these outliers by keeping only NYC longitute and latitute info "
   ]
  },
  {
   "cell_type": "code",
   "execution_count": 24,
   "metadata": {},
   "outputs": [],
   "source": [
    "def remove_outliers_location(df:pd.DataFrame) -> pd.DataFrame:\n",
    "    return df[\n",
    "                (df['pickup_longitude'] >= -75) \n",
    "                & (df['pickup_longitude'] <= -72) \n",
    "                & (df['dropoff_longitude'] >= -75) \n",
    "                & (df['dropoff_longitude'] <= -72) \n",
    "                & (df['pickup_latitude'] >= 40) \n",
    "                & (df['pickup_latitude'] <= 42) \n",
    "                & (df['dropoff_latitude'] >=40) \n",
    "                & (df['dropoff_latitude'] <= 42)\n",
    "            ]"
   ]
  },
  {
   "attachments": {},
   "cell_type": "markdown",
   "metadata": {},
   "source": [
    "### Remove Outliers"
   ]
  },
  {
   "cell_type": "code",
   "execution_count": 25,
   "metadata": {},
   "outputs": [],
   "source": [
    "def remove_outliers(df):\n",
    "    df = remove_outliers_fare_amount(df=df)\n",
    "    df = remove_outliers_passenger_count(df=df)\n",
    "    df = remove_outliers_location(df=df)\n",
    "    return df"
   ]
  },
  {
   "cell_type": "code",
   "execution_count": 26,
   "metadata": {},
   "outputs": [],
   "source": [
    "taxi_fare_train_df = remove_outliers(taxi_fare_train_df)"
   ]
  },
  {
   "cell_type": "code",
   "execution_count": 27,
   "metadata": {},
   "outputs": [
    {
     "data": {
      "text/html": [
       "<div>\n",
       "<style scoped>\n",
       "    .dataframe tbody tr th:only-of-type {\n",
       "        vertical-align: middle;\n",
       "    }\n",
       "\n",
       "    .dataframe tbody tr th {\n",
       "        vertical-align: top;\n",
       "    }\n",
       "\n",
       "    .dataframe thead th {\n",
       "        text-align: right;\n",
       "    }\n",
       "</style>\n",
       "<table border=\"1\" class=\"dataframe\">\n",
       "  <thead>\n",
       "    <tr style=\"text-align: right;\">\n",
       "      <th></th>\n",
       "      <th>fare_amount</th>\n",
       "      <th>pickup_datetime</th>\n",
       "      <th>pickup_longitude</th>\n",
       "      <th>pickup_latitude</th>\n",
       "      <th>dropoff_longitude</th>\n",
       "      <th>dropoff_latitude</th>\n",
       "      <th>passenger_count</th>\n",
       "    </tr>\n",
       "  </thead>\n",
       "  <tbody>\n",
       "    <tr>\n",
       "      <th>0</th>\n",
       "      <td>4.0</td>\n",
       "      <td>2014-12-06 20:36:22+00:00</td>\n",
       "      <td>-73.979813</td>\n",
       "      <td>40.751904</td>\n",
       "      <td>-73.979446</td>\n",
       "      <td>40.755482</td>\n",
       "      <td>1</td>\n",
       "    </tr>\n",
       "    <tr>\n",
       "      <th>2</th>\n",
       "      <td>8.9</td>\n",
       "      <td>2011-06-15 18:07:00+00:00</td>\n",
       "      <td>-73.996330</td>\n",
       "      <td>40.753223</td>\n",
       "      <td>-73.978897</td>\n",
       "      <td>40.766964</td>\n",
       "      <td>3</td>\n",
       "    </tr>\n",
       "    <tr>\n",
       "      <th>3</th>\n",
       "      <td>6.9</td>\n",
       "      <td>2009-12-14 12:33:00+00:00</td>\n",
       "      <td>-73.982430</td>\n",
       "      <td>40.745747</td>\n",
       "      <td>-73.982430</td>\n",
       "      <td>40.745747</td>\n",
       "      <td>1</td>\n",
       "    </tr>\n",
       "    <tr>\n",
       "      <th>4</th>\n",
       "      <td>7.0</td>\n",
       "      <td>2013-11-06 11:26:54+00:00</td>\n",
       "      <td>-73.959061</td>\n",
       "      <td>40.781059</td>\n",
       "      <td>-73.962059</td>\n",
       "      <td>40.768604</td>\n",
       "      <td>1</td>\n",
       "    </tr>\n",
       "    <tr>\n",
       "      <th>5</th>\n",
       "      <td>15.5</td>\n",
       "      <td>2014-12-08 01:00:16+00:00</td>\n",
       "      <td>-73.957672</td>\n",
       "      <td>40.717888</td>\n",
       "      <td>-73.942581</td>\n",
       "      <td>40.686398</td>\n",
       "      <td>1</td>\n",
       "    </tr>\n",
       "  </tbody>\n",
       "</table>\n",
       "</div>"
      ],
      "text/plain": [
       "   fare_amount           pickup_datetime  pickup_longitude  pickup_latitude  \\\n",
       "0          4.0 2014-12-06 20:36:22+00:00        -73.979813        40.751904   \n",
       "2          8.9 2011-06-15 18:07:00+00:00        -73.996330        40.753223   \n",
       "3          6.9 2009-12-14 12:33:00+00:00        -73.982430        40.745747   \n",
       "4          7.0 2013-11-06 11:26:54+00:00        -73.959061        40.781059   \n",
       "5         15.5 2014-12-08 01:00:16+00:00        -73.957672        40.717888   \n",
       "\n",
       "   dropoff_longitude  dropoff_latitude  passenger_count  \n",
       "0         -73.979446         40.755482                1  \n",
       "2         -73.978897         40.766964                3  \n",
       "3         -73.982430         40.745747                1  \n",
       "4         -73.962059         40.768604                1  \n",
       "5         -73.942581         40.686398                1  "
      ]
     },
     "execution_count": 27,
     "metadata": {},
     "output_type": "execute_result"
    }
   ],
   "source": [
    "taxi_fare_train_df.head(5)"
   ]
  },
  {
   "attachments": {},
   "cell_type": "markdown",
   "metadata": {},
   "source": [
    "## 3. Prepare Dataset for Training\n",
    "\n",
    "- Split Training & Validation Set\n",
    "- Data Cleaning\n",
    "- Extract Inputs & Outputs\n",
    "   - Training\n",
    "   - Validation\n",
    "   - Test"
   ]
  },
  {
   "attachments": {},
   "cell_type": "markdown",
   "metadata": {},
   "source": [
    "## Split Training & Validation Set\n",
    "\n",
    "We'll set aside 20% of the training data as the validation set, to evaluate the models we train on previously unseen data. \n",
    "\n",
    "Since the test set and training set have the same date ranges, we can pick a random 20% fraction."
   ]
  },
  {
   "cell_type": "code",
   "execution_count": 28,
   "metadata": {},
   "outputs": [],
   "source": [
    "from sklearn.model_selection import train_test_split"
   ]
  },
  {
   "attachments": {},
   "cell_type": "markdown",
   "metadata": {},
   "source": [
    "Lets take frash train set, so that \n",
    "* we can automize whole preprocessing using already created functions\n",
    "* We can easily skip EDA section to save time"
   ]
  },
  {
   "attachments": {},
   "cell_type": "markdown",
   "metadata": {},
   "source": [
    "Before we create dataset containing date and time. we have to check whether we have predict future data or past data(or random data)\n",
    "we can easily check it by checking dates from testing dataset"
   ]
  },
  {
   "cell_type": "code",
   "execution_count": 29,
   "metadata": {},
   "outputs": [
    {
     "data": {
      "text/plain": [
       "508371   2012-10-03 08:15:00+00:00\n",
       "222601   2010-07-23 01:19:13+00:00\n",
       "440697   2010-07-09 21:10:00+00:00\n",
       "188559   2014-04-08 09:00:00+00:00\n",
       "247227   2015-04-15 16:19:41+00:00\n",
       "362172   2011-03-01 21:39:29+00:00\n",
       "233068   2009-11-20 23:38:00+00:00\n",
       "27509    2010-01-11 17:22:12+00:00\n",
       "396370   2009-03-18 00:31:10+00:00\n",
       "317837   2013-09-05 19:01:43+00:00\n",
       "Name: pickup_datetime, dtype: datetime64[ns, UTC]"
      ]
     },
     "execution_count": 29,
     "metadata": {},
     "output_type": "execute_result"
    }
   ],
   "source": [
    "taxi_fare_train_df.pickup_datetime.sample(10)"
   ]
  },
  {
   "cell_type": "code",
   "execution_count": 30,
   "metadata": {},
   "outputs": [
    {
     "data": {
      "text/plain": [
       "4312   2009-12-29 02:06:33+00:00\n",
       "5990   2015-02-14 13:15:19+00:00\n",
       "9549   2011-03-06 21:01:00+00:00\n",
       "4468   2015-01-12 15:36:37+00:00\n",
       "3736   2010-09-15 16:44:25+00:00\n",
       "9484   2011-12-13 22:00:00+00:00\n",
       "8000   2009-01-03 00:51:02+00:00\n",
       "3014   2010-12-09 07:29:00+00:00\n",
       "4733   2015-03-17 21:44:26+00:00\n",
       "3486   2009-07-14 12:12:36+00:00\n",
       "Name: pickup_datetime, dtype: datetime64[ns, UTC]"
      ]
     },
     "execution_count": 30,
     "metadata": {},
     "output_type": "execute_result"
    }
   ],
   "source": [
    "taxi_fare_test_df.pickup_datetime.sample(10)"
   ]
  },
  {
   "cell_type": "code",
   "execution_count": 31,
   "metadata": {},
   "outputs": [],
   "source": [
    "# Separate input feature and target\n",
    "X = taxi_fare_train_df.drop('fare_amount', axis=1)\n",
    "y = taxi_fare_train_df.fare_amount"
   ]
  },
  {
   "cell_type": "code",
   "execution_count": 32,
   "metadata": {},
   "outputs": [
    {
     "data": {
      "text/plain": [
       "Index(['pickup_datetime', 'pickup_longitude', 'pickup_latitude',\n",
       "       'dropoff_longitude', 'dropoff_latitude', 'passenger_count'],\n",
       "      dtype='object')"
      ]
     },
     "execution_count": 32,
     "metadata": {},
     "output_type": "execute_result"
    }
   ],
   "source": [
    "X.columns"
   ]
  },
  {
   "cell_type": "code",
   "execution_count": 33,
   "metadata": {},
   "outputs": [],
   "source": [
    "X_train, X_test, y_train, y_test = train_test_split(\n",
    "        X,y,\n",
    "        test_size=0.2,\n",
    "        shuffle=True, \n",
    "        random_state=42\n",
    "    )"
   ]
  },
  {
   "cell_type": "code",
   "execution_count": 34,
   "metadata": {},
   "outputs": [
    {
     "data": {
      "text/plain": [
       "(431087, 107772)"
      ]
     },
     "execution_count": 34,
     "metadata": {},
     "output_type": "execute_result"
    }
   ],
   "source": [
    "len(X_train), len(X_test)"
   ]
  },
  {
   "attachments": {},
   "cell_type": "markdown",
   "metadata": {},
   "source": [
    "## Feature Engineering"
   ]
  },
  {
   "attachments": {},
   "cell_type": "markdown",
   "metadata": {},
   "source": [
    "#### Separate date and time"
   ]
  },
  {
   "cell_type": "code",
   "execution_count": 35,
   "metadata": {},
   "outputs": [],
   "source": [
    "add_part_dates_time(df=X_train, col_name='pickup_datetime')\n",
    "add_part_dates_time(df=X_test, col_name='pickup_datetime')"
   ]
  },
  {
   "cell_type": "code",
   "execution_count": 36,
   "metadata": {},
   "outputs": [],
   "source": [
    "add_part_dates_time(df=taxi_fare_test_df, col_name='pickup_datetime')"
   ]
  },
  {
   "cell_type": "code",
   "execution_count": 37,
   "metadata": {},
   "outputs": [
    {
     "data": {
      "text/html": [
       "<div>\n",
       "<style scoped>\n",
       "    .dataframe tbody tr th:only-of-type {\n",
       "        vertical-align: middle;\n",
       "    }\n",
       "\n",
       "    .dataframe tbody tr th {\n",
       "        vertical-align: top;\n",
       "    }\n",
       "\n",
       "    .dataframe thead th {\n",
       "        text-align: right;\n",
       "    }\n",
       "</style>\n",
       "<table border=\"1\" class=\"dataframe\">\n",
       "  <thead>\n",
       "    <tr style=\"text-align: right;\">\n",
       "      <th></th>\n",
       "      <th>pickup_longitude</th>\n",
       "      <th>pickup_latitude</th>\n",
       "      <th>dropoff_longitude</th>\n",
       "      <th>dropoff_latitude</th>\n",
       "      <th>passenger_count</th>\n",
       "      <th>pickup_datetime_year</th>\n",
       "      <th>pickup_datetime_month</th>\n",
       "      <th>pickup_datetime_day</th>\n",
       "      <th>pickup_datetime_weekday</th>\n",
       "      <th>pickup_datetime_hour</th>\n",
       "    </tr>\n",
       "  </thead>\n",
       "  <tbody>\n",
       "    <tr>\n",
       "      <th>93814</th>\n",
       "      <td>-73.969093</td>\n",
       "      <td>40.753960</td>\n",
       "      <td>-73.997871</td>\n",
       "      <td>40.754101</td>\n",
       "      <td>1</td>\n",
       "      <td>2014</td>\n",
       "      <td>10</td>\n",
       "      <td>26</td>\n",
       "      <td>6</td>\n",
       "      <td>0</td>\n",
       "    </tr>\n",
       "    <tr>\n",
       "      <th>489268</th>\n",
       "      <td>-73.986496</td>\n",
       "      <td>40.757961</td>\n",
       "      <td>-73.991051</td>\n",
       "      <td>40.750340</td>\n",
       "      <td>1</td>\n",
       "      <td>2012</td>\n",
       "      <td>9</td>\n",
       "      <td>18</td>\n",
       "      <td>1</td>\n",
       "      <td>22</td>\n",
       "    </tr>\n",
       "    <tr>\n",
       "      <th>226953</th>\n",
       "      <td>-73.953323</td>\n",
       "      <td>40.785721</td>\n",
       "      <td>-73.959900</td>\n",
       "      <td>40.778793</td>\n",
       "      <td>1</td>\n",
       "      <td>2014</td>\n",
       "      <td>9</td>\n",
       "      <td>2</td>\n",
       "      <td>1</td>\n",
       "      <td>10</td>\n",
       "    </tr>\n",
       "    <tr>\n",
       "      <th>320788</th>\n",
       "      <td>-73.969070</td>\n",
       "      <td>40.790936</td>\n",
       "      <td>-73.980049</td>\n",
       "      <td>40.770966</td>\n",
       "      <td>1</td>\n",
       "      <td>2011</td>\n",
       "      <td>5</td>\n",
       "      <td>27</td>\n",
       "      <td>4</td>\n",
       "      <td>8</td>\n",
       "    </tr>\n",
       "    <tr>\n",
       "      <th>485171</th>\n",
       "      <td>-73.991798</td>\n",
       "      <td>40.717613</td>\n",
       "      <td>-73.980392</td>\n",
       "      <td>40.716488</td>\n",
       "      <td>1</td>\n",
       "      <td>2013</td>\n",
       "      <td>2</td>\n",
       "      <td>19</td>\n",
       "      <td>1</td>\n",
       "      <td>1</td>\n",
       "    </tr>\n",
       "  </tbody>\n",
       "</table>\n",
       "</div>"
      ],
      "text/plain": [
       "        pickup_longitude  pickup_latitude  dropoff_longitude  \\\n",
       "93814         -73.969093        40.753960         -73.997871   \n",
       "489268        -73.986496        40.757961         -73.991051   \n",
       "226953        -73.953323        40.785721         -73.959900   \n",
       "320788        -73.969070        40.790936         -73.980049   \n",
       "485171        -73.991798        40.717613         -73.980392   \n",
       "\n",
       "        dropoff_latitude  passenger_count  pickup_datetime_year  \\\n",
       "93814          40.754101                1                  2014   \n",
       "489268         40.750340                1                  2012   \n",
       "226953         40.778793                1                  2014   \n",
       "320788         40.770966                1                  2011   \n",
       "485171         40.716488                1                  2013   \n",
       "\n",
       "        pickup_datetime_month  pickup_datetime_day  pickup_datetime_weekday  \\\n",
       "93814                      10                   26                        6   \n",
       "489268                      9                   18                        1   \n",
       "226953                      9                    2                        1   \n",
       "320788                      5                   27                        4   \n",
       "485171                      2                   19                        1   \n",
       "\n",
       "        pickup_datetime_hour  \n",
       "93814                      0  \n",
       "489268                    22  \n",
       "226953                    10  \n",
       "320788                     8  \n",
       "485171                     1  "
      ]
     },
     "execution_count": 37,
     "metadata": {},
     "output_type": "execute_result"
    }
   ],
   "source": [
    "X_train.head(5)"
   ]
  },
  {
   "attachments": {},
   "cell_type": "markdown",
   "metadata": {},
   "source": [
    "#### Calculate trip distance"
   ]
  },
  {
   "cell_type": "code",
   "execution_count": 38,
   "metadata": {},
   "outputs": [],
   "source": [
    "add_distance(X_train)\n",
    "add_distance(X_test)\n",
    "add_distance(taxi_fare_test_df) "
   ]
  },
  {
   "cell_type": "code",
   "execution_count": 39,
   "metadata": {},
   "outputs": [
    {
     "data": {
      "text/html": [
       "<div>\n",
       "<style scoped>\n",
       "    .dataframe tbody tr th:only-of-type {\n",
       "        vertical-align: middle;\n",
       "    }\n",
       "\n",
       "    .dataframe tbody tr th {\n",
       "        vertical-align: top;\n",
       "    }\n",
       "\n",
       "    .dataframe thead th {\n",
       "        text-align: right;\n",
       "    }\n",
       "</style>\n",
       "<table border=\"1\" class=\"dataframe\">\n",
       "  <thead>\n",
       "    <tr style=\"text-align: right;\">\n",
       "      <th></th>\n",
       "      <th>pickup_longitude</th>\n",
       "      <th>pickup_latitude</th>\n",
       "      <th>dropoff_longitude</th>\n",
       "      <th>dropoff_latitude</th>\n",
       "      <th>passenger_count</th>\n",
       "      <th>pickup_datetime_year</th>\n",
       "      <th>pickup_datetime_month</th>\n",
       "      <th>pickup_datetime_day</th>\n",
       "      <th>pickup_datetime_weekday</th>\n",
       "      <th>pickup_datetime_hour</th>\n",
       "      <th>distance_km</th>\n",
       "    </tr>\n",
       "  </thead>\n",
       "  <tbody>\n",
       "    <tr>\n",
       "      <th>93814</th>\n",
       "      <td>-73.969093</td>\n",
       "      <td>40.753960</td>\n",
       "      <td>-73.997871</td>\n",
       "      <td>40.754101</td>\n",
       "      <td>1</td>\n",
       "      <td>2014</td>\n",
       "      <td>10</td>\n",
       "      <td>26</td>\n",
       "      <td>6</td>\n",
       "      <td>0</td>\n",
       "      <td>2.422936</td>\n",
       "    </tr>\n",
       "    <tr>\n",
       "      <th>489268</th>\n",
       "      <td>-73.986496</td>\n",
       "      <td>40.757961</td>\n",
       "      <td>-73.991051</td>\n",
       "      <td>40.750340</td>\n",
       "      <td>1</td>\n",
       "      <td>2012</td>\n",
       "      <td>9</td>\n",
       "      <td>18</td>\n",
       "      <td>1</td>\n",
       "      <td>22</td>\n",
       "      <td>0.929820</td>\n",
       "    </tr>\n",
       "    <tr>\n",
       "      <th>226953</th>\n",
       "      <td>-73.953323</td>\n",
       "      <td>40.785721</td>\n",
       "      <td>-73.959900</td>\n",
       "      <td>40.778793</td>\n",
       "      <td>1</td>\n",
       "      <td>2014</td>\n",
       "      <td>9</td>\n",
       "      <td>2</td>\n",
       "      <td>1</td>\n",
       "      <td>10</td>\n",
       "      <td>0.947968</td>\n",
       "    </tr>\n",
       "    <tr>\n",
       "      <th>320788</th>\n",
       "      <td>-73.969070</td>\n",
       "      <td>40.790936</td>\n",
       "      <td>-73.980049</td>\n",
       "      <td>40.770966</td>\n",
       "      <td>1</td>\n",
       "      <td>2011</td>\n",
       "      <td>5</td>\n",
       "      <td>27</td>\n",
       "      <td>4</td>\n",
       "      <td>8</td>\n",
       "      <td>2.403491</td>\n",
       "    </tr>\n",
       "    <tr>\n",
       "      <th>485171</th>\n",
       "      <td>-73.991798</td>\n",
       "      <td>40.717613</td>\n",
       "      <td>-73.980392</td>\n",
       "      <td>40.716488</td>\n",
       "      <td>1</td>\n",
       "      <td>2013</td>\n",
       "      <td>2</td>\n",
       "      <td>19</td>\n",
       "      <td>1</td>\n",
       "      <td>1</td>\n",
       "      <td>0.968228</td>\n",
       "    </tr>\n",
       "  </tbody>\n",
       "</table>\n",
       "</div>"
      ],
      "text/plain": [
       "        pickup_longitude  pickup_latitude  dropoff_longitude  \\\n",
       "93814         -73.969093        40.753960         -73.997871   \n",
       "489268        -73.986496        40.757961         -73.991051   \n",
       "226953        -73.953323        40.785721         -73.959900   \n",
       "320788        -73.969070        40.790936         -73.980049   \n",
       "485171        -73.991798        40.717613         -73.980392   \n",
       "\n",
       "        dropoff_latitude  passenger_count  pickup_datetime_year  \\\n",
       "93814          40.754101                1                  2014   \n",
       "489268         40.750340                1                  2012   \n",
       "226953         40.778793                1                  2014   \n",
       "320788         40.770966                1                  2011   \n",
       "485171         40.716488                1                  2013   \n",
       "\n",
       "        pickup_datetime_month  pickup_datetime_day  pickup_datetime_weekday  \\\n",
       "93814                      10                   26                        6   \n",
       "489268                      9                   18                        1   \n",
       "226953                      9                    2                        1   \n",
       "320788                      5                   27                        4   \n",
       "485171                      2                   19                        1   \n",
       "\n",
       "        pickup_datetime_hour  distance_km  \n",
       "93814                      0     2.422936  \n",
       "489268                    22     0.929820  \n",
       "226953                    10     0.947968  \n",
       "320788                     8     2.403491  \n",
       "485171                     1     0.968228  "
      ]
     },
     "execution_count": 39,
     "metadata": {},
     "output_type": "execute_result"
    }
   ],
   "source": [
    "X_train.head(5)"
   ]
  },
  {
   "cell_type": "code",
   "execution_count": 40,
   "metadata": {},
   "outputs": [
    {
     "data": {
      "text/plain": [
       "count    431087.000000\n",
       "mean          3.328954\n",
       "std           3.756999\n",
       "min           0.000000\n",
       "25%           1.251926\n",
       "50%           2.153578\n",
       "75%           3.912698\n",
       "max         113.474625\n",
       "Name: distance_km, dtype: float64"
      ]
     },
     "execution_count": 40,
     "metadata": {},
     "output_type": "execute_result"
    }
   ],
   "source": [
    "X_train.distance_km.describe()"
   ]
  },
  {
   "attachments": {},
   "cell_type": "markdown",
   "metadata": {},
   "source": [
    "#### Add Distance From Popular Landmarks\n",
    "\n",
    "- JFK Airport\n",
    "- LGA Airport\n",
    "- EWR Airport\n",
    "- Times Square\n",
    "- Met Meuseum\n",
    "- World Trade Center\n",
    "\n",
    "We'll add the distance from drop location. "
   ]
  },
  {
   "cell_type": "code",
   "execution_count": 41,
   "metadata": {},
   "outputs": [],
   "source": [
    "jfk_lonlat = -73.7781, 40.6413\n",
    "lga_lonlat = -73.8740, 40.7769\n",
    "ewr_lonlat = -74.1745, 40.6895\n",
    "met_lonlat = -73.9632, 40.7794\n",
    "wtc_lonlat = -74.0099, 40.7126"
   ]
  },
  {
   "cell_type": "code",
   "execution_count": 42,
   "metadata": {},
   "outputs": [],
   "source": [
    "def add_landmark_dropoff_distance(df, landmark_name, landmark_lonlat):\n",
    "    lon, lat = landmark_lonlat\n",
    "    df[landmark_name + '_drop_distance'] = haversine_np(lon, lat, df['dropoff_longitude'], df['dropoff_latitude'])"
   ]
  },
  {
   "cell_type": "code",
   "execution_count": 43,
   "metadata": {},
   "outputs": [],
   "source": [
    "for a_df in [X_train, X_test, taxi_fare_test_df]:\n",
    "    for name, lonlat in [('jfk', jfk_lonlat), ('lga', lga_lonlat), ('ewr', ewr_lonlat), ('met', met_lonlat), ('wtc', wtc_lonlat)]:\n",
    "        add_landmark_dropoff_distance(a_df, name, lonlat)"
   ]
  },
  {
   "cell_type": "code",
   "execution_count": 44,
   "metadata": {},
   "outputs": [
    {
     "data": {
      "text/html": [
       "<div>\n",
       "<style scoped>\n",
       "    .dataframe tbody tr th:only-of-type {\n",
       "        vertical-align: middle;\n",
       "    }\n",
       "\n",
       "    .dataframe tbody tr th {\n",
       "        vertical-align: top;\n",
       "    }\n",
       "\n",
       "    .dataframe thead th {\n",
       "        text-align: right;\n",
       "    }\n",
       "</style>\n",
       "<table border=\"1\" class=\"dataframe\">\n",
       "  <thead>\n",
       "    <tr style=\"text-align: right;\">\n",
       "      <th></th>\n",
       "      <th>pickup_longitude</th>\n",
       "      <th>pickup_latitude</th>\n",
       "      <th>dropoff_longitude</th>\n",
       "      <th>dropoff_latitude</th>\n",
       "      <th>passenger_count</th>\n",
       "      <th>pickup_datetime_year</th>\n",
       "      <th>pickup_datetime_month</th>\n",
       "      <th>pickup_datetime_day</th>\n",
       "      <th>pickup_datetime_weekday</th>\n",
       "      <th>pickup_datetime_hour</th>\n",
       "      <th>distance_km</th>\n",
       "      <th>jfk_drop_distance</th>\n",
       "      <th>lga_drop_distance</th>\n",
       "      <th>ewr_drop_distance</th>\n",
       "      <th>met_drop_distance</th>\n",
       "      <th>wtc_drop_distance</th>\n",
       "    </tr>\n",
       "  </thead>\n",
       "  <tbody>\n",
       "    <tr>\n",
       "      <th>93814</th>\n",
       "      <td>-73.969093</td>\n",
       "      <td>40.753960</td>\n",
       "      <td>-73.997871</td>\n",
       "      <td>40.754101</td>\n",
       "      <td>1</td>\n",
       "      <td>2014</td>\n",
       "      <td>10</td>\n",
       "      <td>26</td>\n",
       "      <td>6</td>\n",
       "      <td>0</td>\n",
       "      <td>2.422936</td>\n",
       "      <td>22.360109</td>\n",
       "      <td>10.729122</td>\n",
       "      <td>16.517256</td>\n",
       "      <td>4.051929</td>\n",
       "      <td>4.721626</td>\n",
       "    </tr>\n",
       "    <tr>\n",
       "      <th>489268</th>\n",
       "      <td>-73.986496</td>\n",
       "      <td>40.757961</td>\n",
       "      <td>-73.991051</td>\n",
       "      <td>40.750340</td>\n",
       "      <td>1</td>\n",
       "      <td>2012</td>\n",
       "      <td>9</td>\n",
       "      <td>18</td>\n",
       "      <td>1</td>\n",
       "      <td>22</td>\n",
       "      <td>0.929820</td>\n",
       "      <td>21.650261</td>\n",
       "      <td>10.284282</td>\n",
       "      <td>16.865234</td>\n",
       "      <td>3.990082</td>\n",
       "      <td>4.484262</td>\n",
       "    </tr>\n",
       "    <tr>\n",
       "      <th>226953</th>\n",
       "      <td>-73.953323</td>\n",
       "      <td>40.785721</td>\n",
       "      <td>-73.959900</td>\n",
       "      <td>40.778793</td>\n",
       "      <td>1</td>\n",
       "      <td>2014</td>\n",
       "      <td>9</td>\n",
       "      <td>2</td>\n",
       "      <td>1</td>\n",
       "      <td>10</td>\n",
       "      <td>0.947968</td>\n",
       "      <td>21.632538</td>\n",
       "      <td>7.231189</td>\n",
       "      <td>20.615828</td>\n",
       "      <td>0.286171</td>\n",
       "      <td>8.475368</td>\n",
       "    </tr>\n",
       "    <tr>\n",
       "      <th>320788</th>\n",
       "      <td>-73.969070</td>\n",
       "      <td>40.790936</td>\n",
       "      <td>-73.980049</td>\n",
       "      <td>40.770966</td>\n",
       "      <td>1</td>\n",
       "      <td>2011</td>\n",
       "      <td>5</td>\n",
       "      <td>27</td>\n",
       "      <td>4</td>\n",
       "      <td>8</td>\n",
       "      <td>2.403491</td>\n",
       "      <td>22.294411</td>\n",
       "      <td>8.948486</td>\n",
       "      <td>18.710905</td>\n",
       "      <td>1.699113</td>\n",
       "      <td>6.956115</td>\n",
       "    </tr>\n",
       "    <tr>\n",
       "      <th>485171</th>\n",
       "      <td>-73.991798</td>\n",
       "      <td>40.717613</td>\n",
       "      <td>-73.980392</td>\n",
       "      <td>40.716488</td>\n",
       "      <td>1</td>\n",
       "      <td>2013</td>\n",
       "      <td>2</td>\n",
       "      <td>19</td>\n",
       "      <td>1</td>\n",
       "      <td>1</td>\n",
       "      <td>0.968228</td>\n",
       "      <td>18.985872</td>\n",
       "      <td>11.193541</td>\n",
       "      <td>16.625124</td>\n",
       "      <td>7.139068</td>\n",
       "      <td>2.522616</td>\n",
       "    </tr>\n",
       "  </tbody>\n",
       "</table>\n",
       "</div>"
      ],
      "text/plain": [
       "        pickup_longitude  pickup_latitude  dropoff_longitude  \\\n",
       "93814         -73.969093        40.753960         -73.997871   \n",
       "489268        -73.986496        40.757961         -73.991051   \n",
       "226953        -73.953323        40.785721         -73.959900   \n",
       "320788        -73.969070        40.790936         -73.980049   \n",
       "485171        -73.991798        40.717613         -73.980392   \n",
       "\n",
       "        dropoff_latitude  passenger_count  pickup_datetime_year  \\\n",
       "93814          40.754101                1                  2014   \n",
       "489268         40.750340                1                  2012   \n",
       "226953         40.778793                1                  2014   \n",
       "320788         40.770966                1                  2011   \n",
       "485171         40.716488                1                  2013   \n",
       "\n",
       "        pickup_datetime_month  pickup_datetime_day  pickup_datetime_weekday  \\\n",
       "93814                      10                   26                        6   \n",
       "489268                      9                   18                        1   \n",
       "226953                      9                    2                        1   \n",
       "320788                      5                   27                        4   \n",
       "485171                      2                   19                        1   \n",
       "\n",
       "        pickup_datetime_hour  distance_km  jfk_drop_distance  \\\n",
       "93814                      0     2.422936          22.360109   \n",
       "489268                    22     0.929820          21.650261   \n",
       "226953                    10     0.947968          21.632538   \n",
       "320788                     8     2.403491          22.294411   \n",
       "485171                     1     0.968228          18.985872   \n",
       "\n",
       "        lga_drop_distance  ewr_drop_distance  met_drop_distance  \\\n",
       "93814           10.729122          16.517256           4.051929   \n",
       "489268          10.284282          16.865234           3.990082   \n",
       "226953           7.231189          20.615828           0.286171   \n",
       "320788           8.948486          18.710905           1.699113   \n",
       "485171          11.193541          16.625124           7.139068   \n",
       "\n",
       "        wtc_drop_distance  \n",
       "93814            4.721626  \n",
       "489268           4.484262  \n",
       "226953           8.475368  \n",
       "320788           6.956115  \n",
       "485171           2.522616  "
      ]
     },
     "execution_count": 44,
     "metadata": {},
     "output_type": "execute_result"
    }
   ],
   "source": [
    "X_train.head()"
   ]
  },
  {
   "attachments": {},
   "cell_type": "markdown",
   "metadata": {},
   "source": [
    "#### Scaling and One-Hot Encoding\n",
    "\n",
    "We won't do this because we'll be training tree-based models which are generally able to do a good job even without the above.\n"
   ]
  },
  {
   "attachments": {},
   "cell_type": "markdown",
   "metadata": {},
   "source": [
    "##  Train & Evaluate Different Models\n",
    "\n",
    "We'll train each of the following & submit predictions to Kaggle:\n",
    "\n",
    "- Random Forests\n",
    "- Xgboost\n",
    "- LGBM\n",
    "- Ridge\n",
    "- SVM"
   ]
  },
  {
   "cell_type": "code",
   "execution_count": 45,
   "metadata": {},
   "outputs": [],
   "source": [
    "from sklearn.ensemble import RandomForestRegressor\n",
    "from sklearn.svm import SVR\n",
    "from sklearn.linear_model import Ridge\n",
    "from lightgbm import LGBMRegressor\n",
    "from  xgboost import XGBRegressor\n",
    "from sklearn.metrics import mean_squared_error as mse"
   ]
  },
  {
   "attachments": {},
   "cell_type": "markdown",
   "metadata": {},
   "source": [
    "## Train ML Models\n",
    "\n",
    "For evaluation the dataset uses RMSE error: \n",
    "https://www.kaggle.com/c/new-york-city-taxi-fare-prediction/overview/evaluation"
   ]
  },
  {
   "cell_type": "code",
   "execution_count": 46,
   "metadata": {},
   "outputs": [],
   "source": [
    "def evaluate(model_name, model):\n",
    "    train_preds = model.predict(X_train)\n",
    "    train_rmse = mse(y_train, train_preds, squared=False)\n",
    "\n",
    "    test_preds = model.predict(X_test)\n",
    "    test_rmse = mse(y_test, test_preds, squared=False)\n",
    "\n",
    "    print(f'{model_name} --> train_rmse: {train_rmse}, test_rmse: {test_rmse}')\n",
    "    return train_rmse, test_rmse, train_preds, test_preds"
   ]
  },
  {
   "cell_type": "code",
   "execution_count": 77,
   "metadata": {},
   "outputs": [],
   "source": [
    "def predict_and_submit(model, fname):\n",
    "    test_preds = model.predict(taxi_fare_test_df)\n",
    "    sub_df = pd.read_csv(data_dir+'/sample_submission.csv')\n",
    "    sub_df['fare_amount'] = test_preds\n",
    "    sub_df.to_csv(f'{fname}.csv', index=None)\n",
    "    return sub_df"
   ]
  },
  {
   "cell_type": "code",
   "execution_count": 75,
   "metadata": {},
   "outputs": [],
   "source": [
    "model_dict = {\n",
    "    'RandomForestClassifier': RandomForestRegressor(random_state=42, n_jobs=-1), \n",
    "    'Ridge':Ridge(random_state=42), \n",
    "    'lgbm':LGBMRegressor(random_state=42,n_jobs=-1), \n",
    "    'xgb':XGBRegressor(random_state=42, n_jobs=-1)\n",
    "}"
   ]
  },
  {
   "cell_type": "code",
   "execution_count": 49,
   "metadata": {},
   "outputs": [
    {
     "data": {
      "text/plain": [
       "11.340904"
      ]
     },
     "execution_count": 49,
     "metadata": {},
     "output_type": "execute_result"
    }
   ],
   "source": [
    "y_train.mean()"
   ]
  },
  {
   "cell_type": "code",
   "execution_count": 70,
   "metadata": {},
   "outputs": [
    {
     "name": "stdout",
     "output_type": "stream",
     "text": [
      "----------------- RandomForestClassifier --------------------\n",
      "RandomForestClassifier --> train_rmse: 1.4787618386778112, test_rmse: 3.747893212339698\n",
      "----------------- Ridge --------------------\n",
      "Ridge --> train_rmse: 5.127312173832149, test_rmse: 4.908985664627795\n",
      "----------------- lgbm --------------------\n",
      "lgbm --> train_rmse: 3.6979076619228404, test_rmse: 3.7166580583851494\n",
      "----------------- xgb --------------------\n",
      "xgb --> train_rmse: 3.113072395324707, test_rmse: 3.6840713024139404\n"
     ]
    }
   ],
   "source": [
    "model_trained_dict = {}\n",
    "for model_name, model in model_dict.items():\n",
    "    print(f'----------------- {model_name} --------------------')\n",
    "    model.fit(X_train, y_train)\n",
    "    evaluate(model_name, model)\n",
    "    model_trained_dict[model_name] = model\n"
   ]
  },
  {
   "attachments": {},
   "cell_type": "markdown",
   "metadata": {},
   "source": [
    "lgbm is winner with min test_rmse 3.71665. so let's submit first result and find out the score"
   ]
  },
  {
   "cell_type": "code",
   "execution_count": 51,
   "metadata": {},
   "outputs": [
    {
     "data": {
      "text/html": [
       "<div>\n",
       "<style scoped>\n",
       "    .dataframe tbody tr th:only-of-type {\n",
       "        vertical-align: middle;\n",
       "    }\n",
       "\n",
       "    .dataframe tbody tr th {\n",
       "        vertical-align: top;\n",
       "    }\n",
       "\n",
       "    .dataframe thead th {\n",
       "        text-align: right;\n",
       "    }\n",
       "</style>\n",
       "<table border=\"1\" class=\"dataframe\">\n",
       "  <thead>\n",
       "    <tr style=\"text-align: right;\">\n",
       "      <th></th>\n",
       "      <th>key</th>\n",
       "      <th>fare_amount</th>\n",
       "    </tr>\n",
       "  </thead>\n",
       "  <tbody>\n",
       "    <tr>\n",
       "      <th>0</th>\n",
       "      <td>2015-01-27 13:08:24.0000002</td>\n",
       "      <td>10.983337</td>\n",
       "    </tr>\n",
       "    <tr>\n",
       "      <th>1</th>\n",
       "      <td>2015-01-27 13:08:24.0000003</td>\n",
       "      <td>10.857002</td>\n",
       "    </tr>\n",
       "    <tr>\n",
       "      <th>2</th>\n",
       "      <td>2011-10-08 11:53:44.0000002</td>\n",
       "      <td>4.800064</td>\n",
       "    </tr>\n",
       "    <tr>\n",
       "      <th>3</th>\n",
       "      <td>2012-12-01 21:12:12.0000002</td>\n",
       "      <td>8.334643</td>\n",
       "    </tr>\n",
       "    <tr>\n",
       "      <th>4</th>\n",
       "      <td>2012-12-01 21:12:12.0000003</td>\n",
       "      <td>15.724214</td>\n",
       "    </tr>\n",
       "    <tr>\n",
       "      <th>...</th>\n",
       "      <td>...</td>\n",
       "      <td>...</td>\n",
       "    </tr>\n",
       "    <tr>\n",
       "      <th>9909</th>\n",
       "      <td>2015-05-10 12:37:51.0000002</td>\n",
       "      <td>8.774939</td>\n",
       "    </tr>\n",
       "    <tr>\n",
       "      <th>9910</th>\n",
       "      <td>2015-01-12 17:05:51.0000001</td>\n",
       "      <td>11.836227</td>\n",
       "    </tr>\n",
       "    <tr>\n",
       "      <th>9911</th>\n",
       "      <td>2015-04-19 20:44:15.0000001</td>\n",
       "      <td>54.879064</td>\n",
       "    </tr>\n",
       "    <tr>\n",
       "      <th>9912</th>\n",
       "      <td>2015-01-31 01:05:19.0000005</td>\n",
       "      <td>20.306640</td>\n",
       "    </tr>\n",
       "    <tr>\n",
       "      <th>9913</th>\n",
       "      <td>2015-01-18 14:06:23.0000006</td>\n",
       "      <td>6.945043</td>\n",
       "    </tr>\n",
       "  </tbody>\n",
       "</table>\n",
       "<p>9914 rows × 2 columns</p>\n",
       "</div>"
      ],
      "text/plain": [
       "                              key  fare_amount\n",
       "0     2015-01-27 13:08:24.0000002    10.983337\n",
       "1     2015-01-27 13:08:24.0000003    10.857002\n",
       "2     2011-10-08 11:53:44.0000002     4.800064\n",
       "3     2012-12-01 21:12:12.0000002     8.334643\n",
       "4     2012-12-01 21:12:12.0000003    15.724214\n",
       "...                           ...          ...\n",
       "9909  2015-05-10 12:37:51.0000002     8.774939\n",
       "9910  2015-01-12 17:05:51.0000001    11.836227\n",
       "9911  2015-04-19 20:44:15.0000001    54.879064\n",
       "9912  2015-01-31 01:05:19.0000005    20.306640\n",
       "9913  2015-01-18 14:06:23.0000006     6.945043\n",
       "\n",
       "[9914 rows x 2 columns]"
      ]
     },
     "execution_count": 51,
     "metadata": {},
     "output_type": "execute_result"
    }
   ],
   "source": [
    "predict_and_submit(model_trained_dict['lgbm'], 'lgbmr_submission')"
   ]
  },
  {
   "attachments": {
    "image.png": {
     "image/png": "[encoded data removed]"
    }
   },
   "cell_type": "markdown",
   "metadata": {},
   "source": [
    "So the default lgbm model score is \\\n",
    "![image.png](attachment:image.png)\n",
    "\n",
    "It gives us a starting point. now we have to keep beat the score"
   ]
  },
  {
   "cell_type": "code",
   "execution_count": 52,
   "metadata": {},
   "outputs": [],
   "source": [
    "from sklearn.model_selection import GridSearchCV"
   ]
  },
  {
   "cell_type": "code",
   "execution_count": 63,
   "metadata": {},
   "outputs": [],
   "source": [
    "param_drid = {\n",
    "    'n_estimators':np.arange(100, 1000, 100),\n",
    "    'boosting_type' : ['gbdt'],\n",
    "    'max_depth':[-1],\n",
    "    'num_leaves':np.arange(2,50,5)\n",
    "}"
   ]
  },
  {
   "cell_type": "code",
   "execution_count": 64,
   "metadata": {},
   "outputs": [
    {
     "data": {
      "text/plain": [
       "{'n_estimators': array([100, 200, 300, 400, 500, 600, 700, 800, 900]),\n",
       " 'boosting_type': ['gbdt'],\n",
       " 'max_depth': [-1],\n",
       " 'num_leaves': array([ 2,  7, 12, 17, 22, 27, 32, 37, 42, 47])}"
      ]
     },
     "execution_count": 64,
     "metadata": {},
     "output_type": "execute_result"
    }
   ],
   "source": [
    "param_drid"
   ]
  },
  {
   "cell_type": "code",
   "execution_count": 65,
   "metadata": {},
   "outputs": [],
   "source": [
    "lgbm_model = LGBMRegressor(\n",
    "    random_state=42,\n",
    "    n_jobs=-1\n",
    ")"
   ]
  },
  {
   "cell_type": "code",
   "execution_count": 66,
   "metadata": {},
   "outputs": [],
   "source": [
    "grid_search_lgbm = GridSearchCV(\n",
    "    estimator=lgbm_model,\n",
    "    param_grid=param_drid,\n",
    "    scoring='neg_root_mean_squared_error',\n",
    "    verbose=10,\n",
    "    cv=3\n",
    ")"
   ]
  },
  {
   "cell_type": "code",
   "execution_count": 67,
   "metadata": {},
   "outputs": [
    {
     "name": "stdout",
     "output_type": "stream",
     "text": [
      "Fitting 3 folds for each of 90 candidates, totalling 270 fits\n",
      "[CV 1/3; 1/90] START boosting_type=gbdt, max_depth=-1, n_estimators=100, num_leaves=2\n",
      "[CV 1/3; 1/90] END boosting_type=gbdt, max_depth=-1, n_estimators=100, num_leaves=2;, score=-4.759 total time=   0.4s\n",
      "[CV 2/3; 1/90] START boosting_type=gbdt, max_depth=-1, n_estimators=100, num_leaves=2\n",
      "[CV 2/3; 1/90] END boosting_type=gbdt, max_depth=-1, n_estimators=100, num_leaves=2;, score=-4.596 total time=   0.5s\n",
      "[CV 3/3; 1/90] START boosting_type=gbdt, max_depth=-1, n_estimators=100, num_leaves=2\n",
      "[CV 3/3; 1/90] END boosting_type=gbdt, max_depth=-1, n_estimators=100, num_leaves=2;, score=-4.509 total time=   0.5s\n",
      "[CV 1/3; 2/90] START boosting_type=gbdt, max_depth=-1, n_estimators=100, num_leaves=7\n",
      "[CV 1/3; 2/90] END boosting_type=gbdt, max_depth=-1, n_estimators=100, num_leaves=7;, score=-4.249 total time=   0.3s\n",
      "[CV 2/3; 2/90] START boosting_type=gbdt, max_depth=-1, n_estimators=100, num_leaves=7\n",
      "[CV 2/3; 2/90] END boosting_type=gbdt, max_depth=-1, n_estimators=100, num_leaves=7;, score=-4.059 total time=   0.3s\n",
      "[CV 3/3; 2/90] START boosting_type=gbdt, max_depth=-1, n_estimators=100, num_leaves=7\n",
      "[CV 3/3; 2/90] END boosting_type=gbdt, max_depth=-1, n_estimators=100, num_leaves=7;, score=-4.027 total time=   0.3s\n",
      "[CV 1/3; 3/90] START boosting_type=gbdt, max_depth=-1, n_estimators=100, num_leaves=12\n",
      "[CV 1/3; 3/90] END boosting_type=gbdt, max_depth=-1, n_estimators=100, num_leaves=12;, score=-4.159 total time=   0.4s\n",
      "[CV 2/3; 3/90] START boosting_type=gbdt, max_depth=-1, n_estimators=100, num_leaves=12\n",
      "[CV 2/3; 3/90] END boosting_type=gbdt, max_depth=-1, n_estimators=100, num_leaves=12;, score=-3.968 total time=   0.4s\n",
      "[CV 3/3; 3/90] START boosting_type=gbdt, max_depth=-1, n_estimators=100, num_leaves=12\n",
      "[CV 3/3; 3/90] END boosting_type=gbdt, max_depth=-1, n_estimators=100, num_leaves=12;, score=-3.955 total time=   0.4s\n",
      "[CV 1/3; 4/90] START boosting_type=gbdt, max_depth=-1, n_estimators=100, num_leaves=17\n",
      "[CV 1/3; 4/90] END boosting_type=gbdt, max_depth=-1, n_estimators=100, num_leaves=17;, score=-4.107 total time=   0.5s\n",
      "[CV 2/3; 4/90] START boosting_type=gbdt, max_depth=-1, n_estimators=100, num_leaves=17\n",
      "[CV 2/3; 4/90] END boosting_type=gbdt, max_depth=-1, n_estimators=100, num_leaves=17;, score=-3.923 total time=   0.5s\n",
      "[CV 3/3; 4/90] START boosting_type=gbdt, max_depth=-1, n_estimators=100, num_leaves=17\n",
      "[CV 3/3; 4/90] END boosting_type=gbdt, max_depth=-1, n_estimators=100, num_leaves=17;, score=-3.916 total time=   0.4s\n",
      "[CV 1/3; 5/90] START boosting_type=gbdt, max_depth=-1, n_estimators=100, num_leaves=22\n",
      "[CV 1/3; 5/90] END boosting_type=gbdt, max_depth=-1, n_estimators=100, num_leaves=22;, score=-4.080 total time=   0.5s\n",
      "[CV 2/3; 5/90] START boosting_type=gbdt, max_depth=-1, n_estimators=100, num_leaves=22\n",
      "[CV 2/3; 5/90] END boosting_type=gbdt, max_depth=-1, n_estimators=100, num_leaves=22;, score=-3.890 total time=   0.5s\n",
      "[CV 3/3; 5/90] START boosting_type=gbdt, max_depth=-1, n_estimators=100, num_leaves=22\n",
      "[CV 3/3; 5/90] END boosting_type=gbdt, max_depth=-1, n_estimators=100, num_leaves=22;, score=-3.902 total time=   0.5s\n",
      "[CV 1/3; 6/90] START boosting_type=gbdt, max_depth=-1, n_estimators=100, num_leaves=27\n",
      "[CV 1/3; 6/90] END boosting_type=gbdt, max_depth=-1, n_estimators=100, num_leaves=27;, score=-4.048 total time=   0.5s\n",
      "[CV 2/3; 6/90] START boosting_type=gbdt, max_depth=-1, n_estimators=100, num_leaves=27\n",
      "[CV 2/3; 6/90] END boosting_type=gbdt, max_depth=-1, n_estimators=100, num_leaves=27;, score=-3.870 total time=   0.5s\n",
      "[CV 3/3; 6/90] START boosting_type=gbdt, max_depth=-1, n_estimators=100, num_leaves=27\n",
      "[CV 3/3; 6/90] END boosting_type=gbdt, max_depth=-1, n_estimators=100, num_leaves=27;, score=-3.872 total time=   0.5s\n",
      "[CV 1/3; 7/90] START boosting_type=gbdt, max_depth=-1, n_estimators=100, num_leaves=32\n",
      "[CV 1/3; 7/90] END boosting_type=gbdt, max_depth=-1, n_estimators=100, num_leaves=32;, score=-4.053 total time=   0.6s\n",
      "[CV 2/3; 7/90] START boosting_type=gbdt, max_depth=-1, n_estimators=100, num_leaves=32\n",
      "[CV 2/3; 7/90] END boosting_type=gbdt, max_depth=-1, n_estimators=100, num_leaves=32;, score=-3.859 total time=   0.5s\n",
      "[CV 3/3; 7/90] START boosting_type=gbdt, max_depth=-1, n_estimators=100, num_leaves=32\n",
      "[CV 3/3; 7/90] END boosting_type=gbdt, max_depth=-1, n_estimators=100, num_leaves=32;, score=-3.864 total time=   0.5s\n",
      "[CV 1/3; 8/90] START boosting_type=gbdt, max_depth=-1, n_estimators=100, num_leaves=37\n",
      "[CV 1/3; 8/90] END boosting_type=gbdt, max_depth=-1, n_estimators=100, num_leaves=37;, score=-4.045 total time=   0.5s\n",
      "[CV 2/3; 8/90] START boosting_type=gbdt, max_depth=-1, n_estimators=100, num_leaves=37\n",
      "[CV 2/3; 8/90] END boosting_type=gbdt, max_depth=-1, n_estimators=100, num_leaves=37;, score=-3.862 total time=   0.5s\n",
      "[CV 3/3; 8/90] START boosting_type=gbdt, max_depth=-1, n_estimators=100, num_leaves=37\n",
      "[CV 3/3; 8/90] END boosting_type=gbdt, max_depth=-1, n_estimators=100, num_leaves=37;, score=-3.860 total time=   0.5s\n",
      "[CV 1/3; 9/90] START boosting_type=gbdt, max_depth=-1, n_estimators=100, num_leaves=42\n",
      "[CV 1/3; 9/90] END boosting_type=gbdt, max_depth=-1, n_estimators=100, num_leaves=42;, score=-4.044 total time=   0.6s\n",
      "[CV 2/3; 9/90] START boosting_type=gbdt, max_depth=-1, n_estimators=100, num_leaves=42\n",
      "[CV 2/3; 9/90] END boosting_type=gbdt, max_depth=-1, n_estimators=100, num_leaves=42;, score=-3.851 total time=   0.6s\n",
      "[CV 3/3; 9/90] START boosting_type=gbdt, max_depth=-1, n_estimators=100, num_leaves=42\n",
      "[CV 3/3; 9/90] END boosting_type=gbdt, max_depth=-1, n_estimators=100, num_leaves=42;, score=-3.854 total time=   0.6s\n",
      "[CV 1/3; 10/90] START boosting_type=gbdt, max_depth=-1, n_estimators=100, num_leaves=47\n",
      "[CV 1/3; 10/90] END boosting_type=gbdt, max_depth=-1, n_estimators=100, num_leaves=47;, score=-4.030 total time=   0.6s\n",
      "[CV 2/3; 10/90] START boosting_type=gbdt, max_depth=-1, n_estimators=100, num_leaves=47\n",
      "[CV 2/3; 10/90] END boosting_type=gbdt, max_depth=-1, n_estimators=100, num_leaves=47;, score=-3.845 total time=   0.6s\n",
      "[CV 3/3; 10/90] START boosting_type=gbdt, max_depth=-1, n_estimators=100, num_leaves=47\n",
      "[CV 3/3; 10/90] END boosting_type=gbdt, max_depth=-1, n_estimators=100, num_leaves=47;, score=-3.838 total time=   0.6s\n",
      "[CV 1/3; 11/90] START boosting_type=gbdt, max_depth=-1, n_estimators=200, num_leaves=2\n",
      "[CV 1/3; 11/90] END boosting_type=gbdt, max_depth=-1, n_estimators=200, num_leaves=2;, score=-4.649 total time=   0.3s\n",
      "[CV 2/3; 11/90] START boosting_type=gbdt, max_depth=-1, n_estimators=200, num_leaves=2\n",
      "[CV 2/3; 11/90] END boosting_type=gbdt, max_depth=-1, n_estimators=200, num_leaves=2;, score=-4.477 total time=   0.3s\n",
      "[CV 3/3; 11/90] START boosting_type=gbdt, max_depth=-1, n_estimators=200, num_leaves=2\n",
      "[CV 3/3; 11/90] END boosting_type=gbdt, max_depth=-1, n_estimators=200, num_leaves=2;, score=-4.405 total time=   0.3s\n",
      "[CV 1/3; 12/90] START boosting_type=gbdt, max_depth=-1, n_estimators=200, num_leaves=7\n",
      "[CV 1/3; 12/90] END boosting_type=gbdt, max_depth=-1, n_estimators=200, num_leaves=7;, score=-4.161 total time=   0.5s\n",
      "[CV 2/3; 12/90] START boosting_type=gbdt, max_depth=-1, n_estimators=200, num_leaves=7\n",
      "[CV 2/3; 12/90] END boosting_type=gbdt, max_depth=-1, n_estimators=200, num_leaves=7;, score=-3.958 total time=   0.5s\n",
      "[CV 3/3; 12/90] START boosting_type=gbdt, max_depth=-1, n_estimators=200, num_leaves=7\n",
      "[CV 3/3; 12/90] END boosting_type=gbdt, max_depth=-1, n_estimators=200, num_leaves=7;, score=-3.947 total time=   0.5s\n",
      "[CV 1/3; 13/90] START boosting_type=gbdt, max_depth=-1, n_estimators=200, num_leaves=12\n",
      "[CV 1/3; 13/90] END boosting_type=gbdt, max_depth=-1, n_estimators=200, num_leaves=12;, score=-4.088 total time=   0.6s\n",
      "[CV 2/3; 13/90] START boosting_type=gbdt, max_depth=-1, n_estimators=200, num_leaves=12\n",
      "[CV 2/3; 13/90] END boosting_type=gbdt, max_depth=-1, n_estimators=200, num_leaves=12;, score=-3.888 total time=   0.6s\n",
      "[CV 3/3; 13/90] START boosting_type=gbdt, max_depth=-1, n_estimators=200, num_leaves=12\n",
      "[CV 3/3; 13/90] END boosting_type=gbdt, max_depth=-1, n_estimators=200, num_leaves=12;, score=-3.887 total time=   0.6s\n",
      "[CV 1/3; 14/90] START boosting_type=gbdt, max_depth=-1, n_estimators=200, num_leaves=17\n",
      "[CV 1/3; 14/90] END boosting_type=gbdt, max_depth=-1, n_estimators=200, num_leaves=17;, score=-4.047 total time=   0.7s\n",
      "[CV 2/3; 14/90] START boosting_type=gbdt, max_depth=-1, n_estimators=200, num_leaves=17\n",
      "[CV 2/3; 14/90] END boosting_type=gbdt, max_depth=-1, n_estimators=200, num_leaves=17;, score=-3.864 total time=   0.7s\n",
      "[CV 3/3; 14/90] START boosting_type=gbdt, max_depth=-1, n_estimators=200, num_leaves=17\n",
      "[CV 3/3; 14/90] END boosting_type=gbdt, max_depth=-1, n_estimators=200, num_leaves=17;, score=-3.854 total time=   0.7s\n",
      "[CV 1/3; 15/90] START boosting_type=gbdt, max_depth=-1, n_estimators=200, num_leaves=22\n",
      "[CV 1/3; 15/90] END boosting_type=gbdt, max_depth=-1, n_estimators=200, num_leaves=22;, score=-4.025 total time=   0.7s\n",
      "[CV 2/3; 15/90] START boosting_type=gbdt, max_depth=-1, n_estimators=200, num_leaves=22\n",
      "[CV 2/3; 15/90] END boosting_type=gbdt, max_depth=-1, n_estimators=200, num_leaves=22;, score=-3.834 total time=   0.7s\n",
      "[CV 3/3; 15/90] START boosting_type=gbdt, max_depth=-1, n_estimators=200, num_leaves=22\n",
      "[CV 3/3; 15/90] END boosting_type=gbdt, max_depth=-1, n_estimators=200, num_leaves=22;, score=-3.853 total time=   0.7s\n",
      "[CV 1/3; 16/90] START boosting_type=gbdt, max_depth=-1, n_estimators=200, num_leaves=27\n",
      "[CV 1/3; 16/90] END boosting_type=gbdt, max_depth=-1, n_estimators=200, num_leaves=27;, score=-4.001 total time=   0.8s\n",
      "[CV 2/3; 16/90] START boosting_type=gbdt, max_depth=-1, n_estimators=200, num_leaves=27\n",
      "[CV 2/3; 16/90] END boosting_type=gbdt, max_depth=-1, n_estimators=200, num_leaves=27;, score=-3.819 total time=   0.8s\n",
      "[CV 3/3; 16/90] START boosting_type=gbdt, max_depth=-1, n_estimators=200, num_leaves=27\n",
      "[CV 3/3; 16/90] END boosting_type=gbdt, max_depth=-1, n_estimators=200, num_leaves=27;, score=-3.819 total time=   0.7s\n",
      "[CV 1/3; 17/90] START boosting_type=gbdt, max_depth=-1, n_estimators=200, num_leaves=32\n",
      "[CV 1/3; 17/90] END boosting_type=gbdt, max_depth=-1, n_estimators=200, num_leaves=32;, score=-4.007 total time=   0.8s\n",
      "[CV 2/3; 17/90] START boosting_type=gbdt, max_depth=-1, n_estimators=200, num_leaves=32\n",
      "[CV 2/3; 17/90] END boosting_type=gbdt, max_depth=-1, n_estimators=200, num_leaves=32;, score=-3.818 total time=   0.8s\n",
      "[CV 3/3; 17/90] START boosting_type=gbdt, max_depth=-1, n_estimators=200, num_leaves=32\n",
      "[CV 3/3; 17/90] END boosting_type=gbdt, max_depth=-1, n_estimators=200, num_leaves=32;, score=-3.808 total time=   0.9s\n",
      "[CV 1/3; 18/90] START boosting_type=gbdt, max_depth=-1, n_estimators=200, num_leaves=37\n",
      "[CV 1/3; 18/90] END boosting_type=gbdt, max_depth=-1, n_estimators=200, num_leaves=37;, score=-4.012 total time=   0.9s\n",
      "[CV 2/3; 18/90] START boosting_type=gbdt, max_depth=-1, n_estimators=200, num_leaves=37\n",
      "[CV 2/3; 18/90] END boosting_type=gbdt, max_depth=-1, n_estimators=200, num_leaves=37;, score=-3.823 total time=   0.8s\n",
      "[CV 3/3; 18/90] START boosting_type=gbdt, max_depth=-1, n_estimators=200, num_leaves=37\n",
      "[CV 3/3; 18/90] END boosting_type=gbdt, max_depth=-1, n_estimators=200, num_leaves=37;, score=-3.808 total time=   0.9s\n",
      "[CV 1/3; 19/90] START boosting_type=gbdt, max_depth=-1, n_estimators=200, num_leaves=42\n",
      "[CV 1/3; 19/90] END boosting_type=gbdt, max_depth=-1, n_estimators=200, num_leaves=42;, score=-4.009 total time=   0.9s\n",
      "[CV 2/3; 19/90] START boosting_type=gbdt, max_depth=-1, n_estimators=200, num_leaves=42\n",
      "[CV 2/3; 19/90] END boosting_type=gbdt, max_depth=-1, n_estimators=200, num_leaves=42;, score=-3.807 total time=   1.0s\n",
      "[CV 3/3; 19/90] START boosting_type=gbdt, max_depth=-1, n_estimators=200, num_leaves=42\n",
      "[CV 3/3; 19/90] END boosting_type=gbdt, max_depth=-1, n_estimators=200, num_leaves=42;, score=-3.811 total time=   0.9s\n",
      "[CV 1/3; 20/90] START boosting_type=gbdt, max_depth=-1, n_estimators=200, num_leaves=47\n",
      "[CV 1/3; 20/90] END boosting_type=gbdt, max_depth=-1, n_estimators=200, num_leaves=47;, score=-4.003 total time=   0.9s\n",
      "[CV 2/3; 20/90] START boosting_type=gbdt, max_depth=-1, n_estimators=200, num_leaves=47\n",
      "[CV 2/3; 20/90] END boosting_type=gbdt, max_depth=-1, n_estimators=200, num_leaves=47;, score=-3.808 total time=   1.0s\n",
      "[CV 3/3; 20/90] START boosting_type=gbdt, max_depth=-1, n_estimators=200, num_leaves=47\n",
      "[CV 3/3; 20/90] END boosting_type=gbdt, max_depth=-1, n_estimators=200, num_leaves=47;, score=-3.800 total time=   1.1s\n",
      "[CV 1/3; 21/90] START boosting_type=gbdt, max_depth=-1, n_estimators=300, num_leaves=2\n",
      "[CV 1/3; 21/90] END boosting_type=gbdt, max_depth=-1, n_estimators=300, num_leaves=2;, score=-4.619 total time=   0.5s\n",
      "[CV 2/3; 21/90] START boosting_type=gbdt, max_depth=-1, n_estimators=300, num_leaves=2\n",
      "[CV 2/3; 21/90] END boosting_type=gbdt, max_depth=-1, n_estimators=300, num_leaves=2;, score=-4.445 total time=   0.4s\n",
      "[CV 3/3; 21/90] START boosting_type=gbdt, max_depth=-1, n_estimators=300, num_leaves=2\n",
      "[CV 3/3; 21/90] END boosting_type=gbdt, max_depth=-1, n_estimators=300, num_leaves=2;, score=-4.377 total time=   0.5s\n",
      "[CV 1/3; 22/90] START boosting_type=gbdt, max_depth=-1, n_estimators=300, num_leaves=7\n",
      "[CV 1/3; 22/90] END boosting_type=gbdt, max_depth=-1, n_estimators=300, num_leaves=7;, score=-4.116 total time=   0.7s\n",
      "[CV 2/3; 22/90] START boosting_type=gbdt, max_depth=-1, n_estimators=300, num_leaves=7\n",
      "[CV 2/3; 22/90] END boosting_type=gbdt, max_depth=-1, n_estimators=300, num_leaves=7;, score=-3.913 total time=   0.6s\n",
      "[CV 3/3; 22/90] START boosting_type=gbdt, max_depth=-1, n_estimators=300, num_leaves=7\n",
      "[CV 3/3; 22/90] END boosting_type=gbdt, max_depth=-1, n_estimators=300, num_leaves=7;, score=-3.901 total time=   0.7s\n",
      "[CV 1/3; 23/90] START boosting_type=gbdt, max_depth=-1, n_estimators=300, num_leaves=12\n",
      "[CV 1/3; 23/90] END boosting_type=gbdt, max_depth=-1, n_estimators=300, num_leaves=12;, score=-4.052 total time=   0.8s\n",
      "[CV 2/3; 23/90] START boosting_type=gbdt, max_depth=-1, n_estimators=300, num_leaves=12\n",
      "[CV 2/3; 23/90] END boosting_type=gbdt, max_depth=-1, n_estimators=300, num_leaves=12;, score=-3.851 total time=   0.8s\n",
      "[CV 3/3; 23/90] START boosting_type=gbdt, max_depth=-1, n_estimators=300, num_leaves=12\n",
      "[CV 3/3; 23/90] END boosting_type=gbdt, max_depth=-1, n_estimators=300, num_leaves=12;, score=-3.856 total time=   0.8s\n",
      "[CV 1/3; 24/90] START boosting_type=gbdt, max_depth=-1, n_estimators=300, num_leaves=17\n",
      "[CV 1/3; 24/90] END boosting_type=gbdt, max_depth=-1, n_estimators=300, num_leaves=17;, score=-4.019 total time=   0.9s\n",
      "[CV 2/3; 24/90] START boosting_type=gbdt, max_depth=-1, n_estimators=300, num_leaves=17\n",
      "[CV 2/3; 24/90] END boosting_type=gbdt, max_depth=-1, n_estimators=300, num_leaves=17;, score=-3.832 total time=   0.9s\n",
      "[CV 3/3; 24/90] START boosting_type=gbdt, max_depth=-1, n_estimators=300, num_leaves=17\n",
      "[CV 3/3; 24/90] END boosting_type=gbdt, max_depth=-1, n_estimators=300, num_leaves=17;, score=-3.824 total time=   0.9s\n",
      "[CV 1/3; 25/90] START boosting_type=gbdt, max_depth=-1, n_estimators=300, num_leaves=22\n",
      "[CV 1/3; 25/90] END boosting_type=gbdt, max_depth=-1, n_estimators=300, num_leaves=22;, score=-4.006 total time=   0.9s\n",
      "[CV 2/3; 25/90] START boosting_type=gbdt, max_depth=-1, n_estimators=300, num_leaves=22\n",
      "[CV 2/3; 25/90] END boosting_type=gbdt, max_depth=-1, n_estimators=300, num_leaves=22;, score=-3.812 total time=   0.9s\n",
      "[CV 3/3; 25/90] START boosting_type=gbdt, max_depth=-1, n_estimators=300, num_leaves=22\n",
      "[CV 3/3; 25/90] END boosting_type=gbdt, max_depth=-1, n_estimators=300, num_leaves=22;, score=-3.830 total time=   1.0s\n",
      "[CV 1/3; 26/90] START boosting_type=gbdt, max_depth=-1, n_estimators=300, num_leaves=27\n",
      "[CV 1/3; 26/90] END boosting_type=gbdt, max_depth=-1, n_estimators=300, num_leaves=27;, score=-3.985 total time=   1.1s\n",
      "[CV 2/3; 26/90] START boosting_type=gbdt, max_depth=-1, n_estimators=300, num_leaves=27\n",
      "[CV 2/3; 26/90] END boosting_type=gbdt, max_depth=-1, n_estimators=300, num_leaves=27;, score=-3.804 total time=   1.1s\n",
      "[CV 3/3; 26/90] START boosting_type=gbdt, max_depth=-1, n_estimators=300, num_leaves=27\n",
      "[CV 3/3; 26/90] END boosting_type=gbdt, max_depth=-1, n_estimators=300, num_leaves=27;, score=-3.807 total time=   1.1s\n",
      "[CV 1/3; 27/90] START boosting_type=gbdt, max_depth=-1, n_estimators=300, num_leaves=32\n",
      "[CV 1/3; 27/90] END boosting_type=gbdt, max_depth=-1, n_estimators=300, num_leaves=32;, score=-3.992 total time=   1.2s\n",
      "[CV 2/3; 27/90] START boosting_type=gbdt, max_depth=-1, n_estimators=300, num_leaves=32\n",
      "[CV 2/3; 27/90] END boosting_type=gbdt, max_depth=-1, n_estimators=300, num_leaves=32;, score=-3.802 total time=   1.1s\n",
      "[CV 3/3; 27/90] START boosting_type=gbdt, max_depth=-1, n_estimators=300, num_leaves=32\n",
      "[CV 3/3; 27/90] END boosting_type=gbdt, max_depth=-1, n_estimators=300, num_leaves=32;, score=-3.793 total time=   1.1s\n",
      "[CV 1/3; 28/90] START boosting_type=gbdt, max_depth=-1, n_estimators=300, num_leaves=37\n",
      "[CV 1/3; 28/90] END boosting_type=gbdt, max_depth=-1, n_estimators=300, num_leaves=37;, score=-3.993 total time=   1.3s\n",
      "[CV 2/3; 28/90] START boosting_type=gbdt, max_depth=-1, n_estimators=300, num_leaves=37\n",
      "[CV 2/3; 28/90] END boosting_type=gbdt, max_depth=-1, n_estimators=300, num_leaves=37;, score=-3.808 total time=   1.3s\n",
      "[CV 3/3; 28/90] START boosting_type=gbdt, max_depth=-1, n_estimators=300, num_leaves=37\n",
      "[CV 3/3; 28/90] END boosting_type=gbdt, max_depth=-1, n_estimators=300, num_leaves=37;, score=-3.797 total time=   1.3s\n",
      "[CV 1/3; 29/90] START boosting_type=gbdt, max_depth=-1, n_estimators=300, num_leaves=42\n",
      "[CV 1/3; 29/90] END boosting_type=gbdt, max_depth=-1, n_estimators=300, num_leaves=42;, score=-4.003 total time=   1.4s\n",
      "[CV 2/3; 29/90] START boosting_type=gbdt, max_depth=-1, n_estimators=300, num_leaves=42\n",
      "[CV 2/3; 29/90] END boosting_type=gbdt, max_depth=-1, n_estimators=300, num_leaves=42;, score=-3.801 total time=   1.5s\n",
      "[CV 3/3; 29/90] START boosting_type=gbdt, max_depth=-1, n_estimators=300, num_leaves=42\n",
      "[CV 3/3; 29/90] END boosting_type=gbdt, max_depth=-1, n_estimators=300, num_leaves=42;, score=-3.802 total time=   1.3s\n",
      "[CV 1/3; 30/90] START boosting_type=gbdt, max_depth=-1, n_estimators=300, num_leaves=47\n",
      "[CV 1/3; 30/90] END boosting_type=gbdt, max_depth=-1, n_estimators=300, num_leaves=47;, score=-3.999 total time=   1.5s\n",
      "[CV 2/3; 30/90] START boosting_type=gbdt, max_depth=-1, n_estimators=300, num_leaves=47\n",
      "[CV 2/3; 30/90] END boosting_type=gbdt, max_depth=-1, n_estimators=300, num_leaves=47;, score=-3.797 total time=   1.4s\n",
      "[CV 3/3; 30/90] START boosting_type=gbdt, max_depth=-1, n_estimators=300, num_leaves=47\n",
      "[CV 3/3; 30/90] END boosting_type=gbdt, max_depth=-1, n_estimators=300, num_leaves=47;, score=-3.789 total time=   1.3s\n",
      "[CV 1/3; 31/90] START boosting_type=gbdt, max_depth=-1, n_estimators=400, num_leaves=2\n",
      "[CV 1/3; 31/90] END boosting_type=gbdt, max_depth=-1, n_estimators=400, num_leaves=2;, score=-4.604 total time=   0.9s\n",
      "[CV 2/3; 31/90] START boosting_type=gbdt, max_depth=-1, n_estimators=400, num_leaves=2\n",
      "[CV 2/3; 31/90] END boosting_type=gbdt, max_depth=-1, n_estimators=400, num_leaves=2;, score=-4.429 total time=   0.6s\n",
      "[CV 3/3; 31/90] START boosting_type=gbdt, max_depth=-1, n_estimators=400, num_leaves=2\n",
      "[CV 3/3; 31/90] END boosting_type=gbdt, max_depth=-1, n_estimators=400, num_leaves=2;, score=-4.363 total time=   0.7s\n",
      "[CV 1/3; 32/90] START boosting_type=gbdt, max_depth=-1, n_estimators=400, num_leaves=7\n",
      "[CV 1/3; 32/90] END boosting_type=gbdt, max_depth=-1, n_estimators=400, num_leaves=7;, score=-4.089 total time=   0.8s\n",
      "[CV 2/3; 32/90] START boosting_type=gbdt, max_depth=-1, n_estimators=400, num_leaves=7\n",
      "[CV 2/3; 32/90] END boosting_type=gbdt, max_depth=-1, n_estimators=400, num_leaves=7;, score=-3.887 total time=   0.9s\n",
      "[CV 3/3; 32/90] START boosting_type=gbdt, max_depth=-1, n_estimators=400, num_leaves=7\n",
      "[CV 3/3; 32/90] END boosting_type=gbdt, max_depth=-1, n_estimators=400, num_leaves=7;, score=-3.880 total time=   0.9s\n",
      "[CV 1/3; 33/90] START boosting_type=gbdt, max_depth=-1, n_estimators=400, num_leaves=12\n",
      "[CV 1/3; 33/90] END boosting_type=gbdt, max_depth=-1, n_estimators=400, num_leaves=12;, score=-4.033 total time=   1.0s\n",
      "[CV 2/3; 33/90] START boosting_type=gbdt, max_depth=-1, n_estimators=400, num_leaves=12\n",
      "[CV 2/3; 33/90] END boosting_type=gbdt, max_depth=-1, n_estimators=400, num_leaves=12;, score=-3.829 total time=   1.0s\n",
      "[CV 3/3; 33/90] START boosting_type=gbdt, max_depth=-1, n_estimators=400, num_leaves=12\n",
      "[CV 3/3; 33/90] END boosting_type=gbdt, max_depth=-1, n_estimators=400, num_leaves=12;, score=-3.834 total time=   1.1s\n",
      "[CV 1/3; 34/90] START boosting_type=gbdt, max_depth=-1, n_estimators=400, num_leaves=17\n",
      "[CV 1/3; 34/90] END boosting_type=gbdt, max_depth=-1, n_estimators=400, num_leaves=17;, score=-4.004 total time=   1.3s\n",
      "[CV 2/3; 34/90] START boosting_type=gbdt, max_depth=-1, n_estimators=400, num_leaves=17\n",
      "[CV 2/3; 34/90] END boosting_type=gbdt, max_depth=-1, n_estimators=400, num_leaves=17;, score=-3.820 total time=   1.2s\n",
      "[CV 3/3; 34/90] START boosting_type=gbdt, max_depth=-1, n_estimators=400, num_leaves=17\n",
      "[CV 3/3; 34/90] END boosting_type=gbdt, max_depth=-1, n_estimators=400, num_leaves=17;, score=-3.806 total time=   1.2s\n",
      "[CV 1/3; 35/90] START boosting_type=gbdt, max_depth=-1, n_estimators=400, num_leaves=22\n",
      "[CV 1/3; 35/90] END boosting_type=gbdt, max_depth=-1, n_estimators=400, num_leaves=22;, score=-3.996 total time=   1.3s\n",
      "[CV 2/3; 35/90] START boosting_type=gbdt, max_depth=-1, n_estimators=400, num_leaves=22\n",
      "[CV 2/3; 35/90] END boosting_type=gbdt, max_depth=-1, n_estimators=400, num_leaves=22;, score=-3.797 total time=   1.5s\n",
      "[CV 3/3; 35/90] START boosting_type=gbdt, max_depth=-1, n_estimators=400, num_leaves=22\n",
      "[CV 3/3; 35/90] END boosting_type=gbdt, max_depth=-1, n_estimators=400, num_leaves=22;, score=-3.817 total time=   1.3s\n",
      "[CV 1/3; 36/90] START boosting_type=gbdt, max_depth=-1, n_estimators=400, num_leaves=27\n",
      "[CV 1/3; 36/90] END boosting_type=gbdt, max_depth=-1, n_estimators=400, num_leaves=27;, score=-3.978 total time=   1.4s\n",
      "[CV 2/3; 36/90] START boosting_type=gbdt, max_depth=-1, n_estimators=400, num_leaves=27\n",
      "[CV 2/3; 36/90] END boosting_type=gbdt, max_depth=-1, n_estimators=400, num_leaves=27;, score=-3.796 total time=   1.4s\n",
      "[CV 3/3; 36/90] START boosting_type=gbdt, max_depth=-1, n_estimators=400, num_leaves=27\n",
      "[CV 3/3; 36/90] END boosting_type=gbdt, max_depth=-1, n_estimators=400, num_leaves=27;, score=-3.798 total time=   1.4s\n",
      "[CV 1/3; 37/90] START boosting_type=gbdt, max_depth=-1, n_estimators=400, num_leaves=32\n",
      "[CV 1/3; 37/90] END boosting_type=gbdt, max_depth=-1, n_estimators=400, num_leaves=32;, score=-3.987 total time=   1.6s\n",
      "[CV 2/3; 37/90] START boosting_type=gbdt, max_depth=-1, n_estimators=400, num_leaves=32\n",
      "[CV 2/3; 37/90] END boosting_type=gbdt, max_depth=-1, n_estimators=400, num_leaves=32;, score=-3.790 total time=   1.6s\n",
      "[CV 3/3; 37/90] START boosting_type=gbdt, max_depth=-1, n_estimators=400, num_leaves=32\n",
      "[CV 3/3; 37/90] END boosting_type=gbdt, max_depth=-1, n_estimators=400, num_leaves=32;, score=-3.790 total time=   1.5s\n",
      "[CV 1/3; 38/90] START boosting_type=gbdt, max_depth=-1, n_estimators=400, num_leaves=37\n",
      "[CV 1/3; 38/90] END boosting_type=gbdt, max_depth=-1, n_estimators=400, num_leaves=37;, score=-3.992 total time=   1.7s\n",
      "[CV 2/3; 38/90] START boosting_type=gbdt, max_depth=-1, n_estimators=400, num_leaves=37\n",
      "[CV 2/3; 38/90] END boosting_type=gbdt, max_depth=-1, n_estimators=400, num_leaves=37;, score=-3.797 total time=   1.6s\n",
      "[CV 3/3; 38/90] START boosting_type=gbdt, max_depth=-1, n_estimators=400, num_leaves=37\n",
      "[CV 3/3; 38/90] END boosting_type=gbdt, max_depth=-1, n_estimators=400, num_leaves=37;, score=-3.796 total time=   1.7s\n",
      "[CV 1/3; 39/90] START boosting_type=gbdt, max_depth=-1, n_estimators=400, num_leaves=42\n",
      "[CV 1/3; 39/90] END boosting_type=gbdt, max_depth=-1, n_estimators=400, num_leaves=42;, score=-3.996 total time=   1.7s\n",
      "[CV 2/3; 39/90] START boosting_type=gbdt, max_depth=-1, n_estimators=400, num_leaves=42\n",
      "[CV 2/3; 39/90] END boosting_type=gbdt, max_depth=-1, n_estimators=400, num_leaves=42;, score=-3.794 total time=   1.7s\n",
      "[CV 3/3; 39/90] START boosting_type=gbdt, max_depth=-1, n_estimators=400, num_leaves=42\n",
      "[CV 3/3; 39/90] END boosting_type=gbdt, max_depth=-1, n_estimators=400, num_leaves=42;, score=-3.800 total time=   1.8s\n",
      "[CV 1/3; 40/90] START boosting_type=gbdt, max_depth=-1, n_estimators=400, num_leaves=47\n",
      "[CV 1/3; 40/90] END boosting_type=gbdt, max_depth=-1, n_estimators=400, num_leaves=47;, score=-3.996 total time=   1.8s\n",
      "[CV 2/3; 40/90] START boosting_type=gbdt, max_depth=-1, n_estimators=400, num_leaves=47\n",
      "[CV 2/3; 40/90] END boosting_type=gbdt, max_depth=-1, n_estimators=400, num_leaves=47;, score=-3.799 total time=   1.8s\n",
      "[CV 3/3; 40/90] START boosting_type=gbdt, max_depth=-1, n_estimators=400, num_leaves=47\n",
      "[CV 3/3; 40/90] END boosting_type=gbdt, max_depth=-1, n_estimators=400, num_leaves=47;, score=-3.790 total time=   1.8s\n",
      "[CV 1/3; 41/90] START boosting_type=gbdt, max_depth=-1, n_estimators=500, num_leaves=2\n",
      "[CV 1/3; 41/90] END boosting_type=gbdt, max_depth=-1, n_estimators=500, num_leaves=2;, score=-4.592 total time=   0.8s\n",
      "[CV 2/3; 41/90] START boosting_type=gbdt, max_depth=-1, n_estimators=500, num_leaves=2\n",
      "[CV 2/3; 41/90] END boosting_type=gbdt, max_depth=-1, n_estimators=500, num_leaves=2;, score=-4.418 total time=   0.7s\n",
      "[CV 3/3; 41/90] START boosting_type=gbdt, max_depth=-1, n_estimators=500, num_leaves=2\n",
      "[CV 3/3; 41/90] END boosting_type=gbdt, max_depth=-1, n_estimators=500, num_leaves=2;, score=-4.353 total time=   0.7s\n",
      "[CV 1/3; 42/90] START boosting_type=gbdt, max_depth=-1, n_estimators=500, num_leaves=7\n",
      "[CV 1/3; 42/90] END boosting_type=gbdt, max_depth=-1, n_estimators=500, num_leaves=7;, score=-4.074 total time=   1.0s\n",
      "[CV 2/3; 42/90] START boosting_type=gbdt, max_depth=-1, n_estimators=500, num_leaves=7\n",
      "[CV 2/3; 42/90] END boosting_type=gbdt, max_depth=-1, n_estimators=500, num_leaves=7;, score=-3.875 total time=   1.0s\n",
      "[CV 3/3; 42/90] START boosting_type=gbdt, max_depth=-1, n_estimators=500, num_leaves=7\n",
      "[CV 3/3; 42/90] END boosting_type=gbdt, max_depth=-1, n_estimators=500, num_leaves=7;, score=-3.862 total time=   1.1s\n",
      "[CV 1/3; 43/90] START boosting_type=gbdt, max_depth=-1, n_estimators=500, num_leaves=12\n",
      "[CV 1/3; 43/90] END boosting_type=gbdt, max_depth=-1, n_estimators=500, num_leaves=12;, score=-4.022 total time=   1.3s\n",
      "[CV 2/3; 43/90] START boosting_type=gbdt, max_depth=-1, n_estimators=500, num_leaves=12\n",
      "[CV 2/3; 43/90] END boosting_type=gbdt, max_depth=-1, n_estimators=500, num_leaves=12;, score=-3.817 total time=   1.2s\n",
      "[CV 3/3; 43/90] START boosting_type=gbdt, max_depth=-1, n_estimators=500, num_leaves=12\n",
      "[CV 3/3; 43/90] END boosting_type=gbdt, max_depth=-1, n_estimators=500, num_leaves=12;, score=-3.816 total time=   1.3s\n",
      "[CV 1/3; 44/90] START boosting_type=gbdt, max_depth=-1, n_estimators=500, num_leaves=17\n",
      "[CV 1/3; 44/90] END boosting_type=gbdt, max_depth=-1, n_estimators=500, num_leaves=17;, score=-3.998 total time=   1.5s\n",
      "[CV 2/3; 44/90] START boosting_type=gbdt, max_depth=-1, n_estimators=500, num_leaves=17\n",
      "[CV 2/3; 44/90] END boosting_type=gbdt, max_depth=-1, n_estimators=500, num_leaves=17;, score=-3.806 total time=   1.5s\n",
      "[CV 3/3; 44/90] START boosting_type=gbdt, max_depth=-1, n_estimators=500, num_leaves=17\n",
      "[CV 3/3; 44/90] END boosting_type=gbdt, max_depth=-1, n_estimators=500, num_leaves=17;, score=-3.796 total time=   1.9s\n",
      "[CV 1/3; 45/90] START boosting_type=gbdt, max_depth=-1, n_estimators=500, num_leaves=22\n",
      "[CV 1/3; 45/90] END boosting_type=gbdt, max_depth=-1, n_estimators=500, num_leaves=22;, score=-3.991 total time=   1.6s\n",
      "[CV 2/3; 45/90] START boosting_type=gbdt, max_depth=-1, n_estimators=500, num_leaves=22\n",
      "[CV 2/3; 45/90] END boosting_type=gbdt, max_depth=-1, n_estimators=500, num_leaves=22;, score=-3.792 total time=   1.5s\n",
      "[CV 3/3; 45/90] START boosting_type=gbdt, max_depth=-1, n_estimators=500, num_leaves=22\n",
      "[CV 3/3; 45/90] END boosting_type=gbdt, max_depth=-1, n_estimators=500, num_leaves=22;, score=-3.810 total time=   1.5s\n",
      "[CV 1/3; 46/90] START boosting_type=gbdt, max_depth=-1, n_estimators=500, num_leaves=27\n",
      "[CV 1/3; 46/90] END boosting_type=gbdt, max_depth=-1, n_estimators=500, num_leaves=27;, score=-3.977 total time=   1.7s\n",
      "[CV 2/3; 46/90] START boosting_type=gbdt, max_depth=-1, n_estimators=500, num_leaves=27\n",
      "[CV 2/3; 46/90] END boosting_type=gbdt, max_depth=-1, n_estimators=500, num_leaves=27;, score=-3.790 total time=   1.8s\n",
      "[CV 3/3; 46/90] START boosting_type=gbdt, max_depth=-1, n_estimators=500, num_leaves=27\n",
      "[CV 3/3; 46/90] END boosting_type=gbdt, max_depth=-1, n_estimators=500, num_leaves=27;, score=-3.791 total time=   1.6s\n",
      "[CV 1/3; 47/90] START boosting_type=gbdt, max_depth=-1, n_estimators=500, num_leaves=32\n",
      "[CV 1/3; 47/90] END boosting_type=gbdt, max_depth=-1, n_estimators=500, num_leaves=32;, score=-3.983 total time=   2.0s\n",
      "[CV 2/3; 47/90] START boosting_type=gbdt, max_depth=-1, n_estimators=500, num_leaves=32\n",
      "[CV 2/3; 47/90] END boosting_type=gbdt, max_depth=-1, n_estimators=500, num_leaves=32;, score=-3.785 total time=   1.7s\n",
      "[CV 3/3; 47/90] START boosting_type=gbdt, max_depth=-1, n_estimators=500, num_leaves=32\n",
      "[CV 3/3; 47/90] END boosting_type=gbdt, max_depth=-1, n_estimators=500, num_leaves=32;, score=-3.790 total time=   1.9s\n",
      "[CV 1/3; 48/90] START boosting_type=gbdt, max_depth=-1, n_estimators=500, num_leaves=37\n",
      "[CV 1/3; 48/90] END boosting_type=gbdt, max_depth=-1, n_estimators=500, num_leaves=37;, score=-3.987 total time=   2.0s\n",
      "[CV 2/3; 48/90] START boosting_type=gbdt, max_depth=-1, n_estimators=500, num_leaves=37\n",
      "[CV 2/3; 48/90] END boosting_type=gbdt, max_depth=-1, n_estimators=500, num_leaves=37;, score=-3.793 total time=   2.0s\n",
      "[CV 3/3; 48/90] START boosting_type=gbdt, max_depth=-1, n_estimators=500, num_leaves=37\n",
      "[CV 3/3; 48/90] END boosting_type=gbdt, max_depth=-1, n_estimators=500, num_leaves=37;, score=-3.795 total time=   2.0s\n",
      "[CV 1/3; 49/90] START boosting_type=gbdt, max_depth=-1, n_estimators=500, num_leaves=42\n",
      "[CV 1/3; 49/90] END boosting_type=gbdt, max_depth=-1, n_estimators=500, num_leaves=42;, score=-3.994 total time=   2.1s\n",
      "[CV 2/3; 49/90] START boosting_type=gbdt, max_depth=-1, n_estimators=500, num_leaves=42\n",
      "[CV 2/3; 49/90] END boosting_type=gbdt, max_depth=-1, n_estimators=500, num_leaves=42;, score=-3.793 total time=   2.1s\n",
      "[CV 3/3; 49/90] START boosting_type=gbdt, max_depth=-1, n_estimators=500, num_leaves=42\n",
      "[CV 3/3; 49/90] END boosting_type=gbdt, max_depth=-1, n_estimators=500, num_leaves=42;, score=-3.798 total time=   2.2s\n",
      "[CV 1/3; 50/90] START boosting_type=gbdt, max_depth=-1, n_estimators=500, num_leaves=47\n",
      "[CV 1/3; 50/90] END boosting_type=gbdt, max_depth=-1, n_estimators=500, num_leaves=47;, score=-3.991 total time=   2.1s\n",
      "[CV 2/3; 50/90] START boosting_type=gbdt, max_depth=-1, n_estimators=500, num_leaves=47\n",
      "[CV 2/3; 50/90] END boosting_type=gbdt, max_depth=-1, n_estimators=500, num_leaves=47;, score=-3.798 total time=   2.2s\n",
      "[CV 3/3; 50/90] START boosting_type=gbdt, max_depth=-1, n_estimators=500, num_leaves=47\n",
      "[CV 3/3; 50/90] END boosting_type=gbdt, max_depth=-1, n_estimators=500, num_leaves=47;, score=-3.793 total time=   2.1s\n",
      "[CV 1/3; 51/90] START boosting_type=gbdt, max_depth=-1, n_estimators=600, num_leaves=2\n",
      "[CV 1/3; 51/90] END boosting_type=gbdt, max_depth=-1, n_estimators=600, num_leaves=2;, score=-4.583 total time=   0.9s\n",
      "[CV 2/3; 51/90] START boosting_type=gbdt, max_depth=-1, n_estimators=600, num_leaves=2\n",
      "[CV 2/3; 51/90] END boosting_type=gbdt, max_depth=-1, n_estimators=600, num_leaves=2;, score=-4.410 total time=   0.9s\n",
      "[CV 3/3; 51/90] START boosting_type=gbdt, max_depth=-1, n_estimators=600, num_leaves=2\n",
      "[CV 3/3; 51/90] END boosting_type=gbdt, max_depth=-1, n_estimators=600, num_leaves=2;, score=-4.345 total time=   0.8s\n",
      "[CV 1/3; 52/90] START boosting_type=gbdt, max_depth=-1, n_estimators=600, num_leaves=7\n",
      "[CV 1/3; 52/90] END boosting_type=gbdt, max_depth=-1, n_estimators=600, num_leaves=7;, score=-4.063 total time=   1.4s\n",
      "[CV 2/3; 52/90] START boosting_type=gbdt, max_depth=-1, n_estimators=600, num_leaves=7\n",
      "[CV 2/3; 52/90] END boosting_type=gbdt, max_depth=-1, n_estimators=600, num_leaves=7;, score=-3.862 total time=   1.3s\n",
      "[CV 3/3; 52/90] START boosting_type=gbdt, max_depth=-1, n_estimators=600, num_leaves=7\n",
      "[CV 3/3; 52/90] END boosting_type=gbdt, max_depth=-1, n_estimators=600, num_leaves=7;, score=-3.851 total time=   1.3s\n",
      "[CV 1/3; 53/90] START boosting_type=gbdt, max_depth=-1, n_estimators=600, num_leaves=12\n",
      "[CV 1/3; 53/90] END boosting_type=gbdt, max_depth=-1, n_estimators=600, num_leaves=12;, score=-4.018 total time=   1.5s\n",
      "[CV 2/3; 53/90] START boosting_type=gbdt, max_depth=-1, n_estimators=600, num_leaves=12\n",
      "[CV 2/3; 53/90] END boosting_type=gbdt, max_depth=-1, n_estimators=600, num_leaves=12;, score=-3.812 total time=   1.5s\n",
      "[CV 3/3; 53/90] START boosting_type=gbdt, max_depth=-1, n_estimators=600, num_leaves=12\n",
      "[CV 3/3; 53/90] END boosting_type=gbdt, max_depth=-1, n_estimators=600, num_leaves=12;, score=-3.806 total time=   1.4s\n",
      "[CV 1/3; 54/90] START boosting_type=gbdt, max_depth=-1, n_estimators=600, num_leaves=17\n",
      "[CV 1/3; 54/90] END boosting_type=gbdt, max_depth=-1, n_estimators=600, num_leaves=17;, score=-3.992 total time=   1.7s\n",
      "[CV 2/3; 54/90] START boosting_type=gbdt, max_depth=-1, n_estimators=600, num_leaves=17\n",
      "[CV 2/3; 54/90] END boosting_type=gbdt, max_depth=-1, n_estimators=600, num_leaves=17;, score=-3.806 total time=   1.8s\n",
      "[CV 3/3; 54/90] START boosting_type=gbdt, max_depth=-1, n_estimators=600, num_leaves=17\n",
      "[CV 3/3; 54/90] END boosting_type=gbdt, max_depth=-1, n_estimators=600, num_leaves=17;, score=-3.795 total time=   2.1s\n",
      "[CV 1/3; 55/90] START boosting_type=gbdt, max_depth=-1, n_estimators=600, num_leaves=22\n",
      "[CV 1/3; 55/90] END boosting_type=gbdt, max_depth=-1, n_estimators=600, num_leaves=22;, score=-3.990 total time=   1.9s\n",
      "[CV 2/3; 55/90] START boosting_type=gbdt, max_depth=-1, n_estimators=600, num_leaves=22\n",
      "[CV 2/3; 55/90] END boosting_type=gbdt, max_depth=-1, n_estimators=600, num_leaves=22;, score=-3.790 total time=   1.7s\n",
      "[CV 3/3; 55/90] START boosting_type=gbdt, max_depth=-1, n_estimators=600, num_leaves=22\n",
      "[CV 3/3; 55/90] END boosting_type=gbdt, max_depth=-1, n_estimators=600, num_leaves=22;, score=-3.809 total time=   1.8s\n",
      "[CV 1/3; 56/90] START boosting_type=gbdt, max_depth=-1, n_estimators=600, num_leaves=27\n",
      "[CV 1/3; 56/90] END boosting_type=gbdt, max_depth=-1, n_estimators=600, num_leaves=27;, score=-3.977 total time=   2.0s\n",
      "[CV 2/3; 56/90] START boosting_type=gbdt, max_depth=-1, n_estimators=600, num_leaves=27\n",
      "[CV 2/3; 56/90] END boosting_type=gbdt, max_depth=-1, n_estimators=600, num_leaves=27;, score=-3.789 total time=   2.0s\n",
      "[CV 3/3; 56/90] START boosting_type=gbdt, max_depth=-1, n_estimators=600, num_leaves=27\n",
      "[CV 3/3; 56/90] END boosting_type=gbdt, max_depth=-1, n_estimators=600, num_leaves=27;, score=-3.790 total time=   2.3s\n",
      "[CV 1/3; 57/90] START boosting_type=gbdt, max_depth=-1, n_estimators=600, num_leaves=32\n",
      "[CV 1/3; 57/90] END boosting_type=gbdt, max_depth=-1, n_estimators=600, num_leaves=32;, score=-3.982 total time=   2.0s\n",
      "[CV 2/3; 57/90] START boosting_type=gbdt, max_depth=-1, n_estimators=600, num_leaves=32\n",
      "[CV 2/3; 57/90] END boosting_type=gbdt, max_depth=-1, n_estimators=600, num_leaves=32;, score=-3.783 total time=   2.0s\n",
      "[CV 3/3; 57/90] START boosting_type=gbdt, max_depth=-1, n_estimators=600, num_leaves=32\n",
      "[CV 3/3; 57/90] END boosting_type=gbdt, max_depth=-1, n_estimators=600, num_leaves=32;, score=-3.787 total time=   2.2s\n",
      "[CV 1/3; 58/90] START boosting_type=gbdt, max_depth=-1, n_estimators=600, num_leaves=37\n",
      "[CV 1/3; 58/90] END boosting_type=gbdt, max_depth=-1, n_estimators=600, num_leaves=37;, score=-3.990 total time=   2.3s\n",
      "[CV 2/3; 58/90] START boosting_type=gbdt, max_depth=-1, n_estimators=600, num_leaves=37\n",
      "[CV 2/3; 58/90] END boosting_type=gbdt, max_depth=-1, n_estimators=600, num_leaves=37;, score=-3.792 total time=   2.3s\n",
      "[CV 3/3; 58/90] START boosting_type=gbdt, max_depth=-1, n_estimators=600, num_leaves=37\n",
      "[CV 3/3; 58/90] END boosting_type=gbdt, max_depth=-1, n_estimators=600, num_leaves=37;, score=-3.793 total time=   2.4s\n",
      "[CV 1/3; 59/90] START boosting_type=gbdt, max_depth=-1, n_estimators=600, num_leaves=42\n",
      "[CV 1/3; 59/90] END boosting_type=gbdt, max_depth=-1, n_estimators=600, num_leaves=42;, score=-3.999 total time=   2.4s\n",
      "[CV 2/3; 59/90] START boosting_type=gbdt, max_depth=-1, n_estimators=600, num_leaves=42\n",
      "[CV 2/3; 59/90] END boosting_type=gbdt, max_depth=-1, n_estimators=600, num_leaves=42;, score=-3.790 total time=   2.3s\n",
      "[CV 3/3; 59/90] START boosting_type=gbdt, max_depth=-1, n_estimators=600, num_leaves=42\n",
      "[CV 3/3; 59/90] END boosting_type=gbdt, max_depth=-1, n_estimators=600, num_leaves=42;, score=-3.797 total time=   2.3s\n",
      "[CV 1/3; 60/90] START boosting_type=gbdt, max_depth=-1, n_estimators=600, num_leaves=47\n",
      "[CV 1/3; 60/90] END boosting_type=gbdt, max_depth=-1, n_estimators=600, num_leaves=47;, score=-3.995 total time=   2.5s\n",
      "[CV 2/3; 60/90] START boosting_type=gbdt, max_depth=-1, n_estimators=600, num_leaves=47\n",
      "[CV 2/3; 60/90] END boosting_type=gbdt, max_depth=-1, n_estimators=600, num_leaves=47;, score=-3.796 total time=   2.6s\n",
      "[CV 3/3; 60/90] START boosting_type=gbdt, max_depth=-1, n_estimators=600, num_leaves=47\n",
      "[CV 3/3; 60/90] END boosting_type=gbdt, max_depth=-1, n_estimators=600, num_leaves=47;, score=-3.798 total time=   2.6s\n",
      "[CV 1/3; 61/90] START boosting_type=gbdt, max_depth=-1, n_estimators=700, num_leaves=2\n",
      "[CV 1/3; 61/90] END boosting_type=gbdt, max_depth=-1, n_estimators=700, num_leaves=2;, score=-4.577 total time=   1.1s\n",
      "[CV 2/3; 61/90] START boosting_type=gbdt, max_depth=-1, n_estimators=700, num_leaves=2\n",
      "[CV 2/3; 61/90] END boosting_type=gbdt, max_depth=-1, n_estimators=700, num_leaves=2;, score=-4.404 total time=   1.3s\n",
      "[CV 3/3; 61/90] START boosting_type=gbdt, max_depth=-1, n_estimators=700, num_leaves=2\n",
      "[CV 3/3; 61/90] END boosting_type=gbdt, max_depth=-1, n_estimators=700, num_leaves=2;, score=-4.340 total time=   1.0s\n",
      "[CV 1/3; 62/90] START boosting_type=gbdt, max_depth=-1, n_estimators=700, num_leaves=7\n",
      "[CV 1/3; 62/90] END boosting_type=gbdt, max_depth=-1, n_estimators=700, num_leaves=7;, score=-4.052 total time=   1.5s\n",
      "[CV 2/3; 62/90] START boosting_type=gbdt, max_depth=-1, n_estimators=700, num_leaves=7\n",
      "[CV 2/3; 62/90] END boosting_type=gbdt, max_depth=-1, n_estimators=700, num_leaves=7;, score=-3.855 total time=   1.5s\n",
      "[CV 3/3; 62/90] START boosting_type=gbdt, max_depth=-1, n_estimators=700, num_leaves=7\n",
      "[CV 3/3; 62/90] END boosting_type=gbdt, max_depth=-1, n_estimators=700, num_leaves=7;, score=-3.840 total time=   1.6s\n",
      "[CV 1/3; 63/90] START boosting_type=gbdt, max_depth=-1, n_estimators=700, num_leaves=12\n",
      "[CV 1/3; 63/90] END boosting_type=gbdt, max_depth=-1, n_estimators=700, num_leaves=12;, score=-4.012 total time=   1.8s\n",
      "[CV 2/3; 63/90] START boosting_type=gbdt, max_depth=-1, n_estimators=700, num_leaves=12\n",
      "[CV 2/3; 63/90] END boosting_type=gbdt, max_depth=-1, n_estimators=700, num_leaves=12;, score=-3.809 total time=   1.6s\n",
      "[CV 3/3; 63/90] START boosting_type=gbdt, max_depth=-1, n_estimators=700, num_leaves=12\n",
      "[CV 3/3; 63/90] END boosting_type=gbdt, max_depth=-1, n_estimators=700, num_leaves=12;, score=-3.798 total time=   1.8s\n",
      "[CV 1/3; 64/90] START boosting_type=gbdt, max_depth=-1, n_estimators=700, num_leaves=17\n",
      "[CV 1/3; 64/90] END boosting_type=gbdt, max_depth=-1, n_estimators=700, num_leaves=17;, score=-3.990 total time=   1.8s\n",
      "[CV 2/3; 64/90] START boosting_type=gbdt, max_depth=-1, n_estimators=700, num_leaves=17\n",
      "[CV 2/3; 64/90] END boosting_type=gbdt, max_depth=-1, n_estimators=700, num_leaves=17;, score=-3.808 total time=   1.9s\n",
      "[CV 3/3; 64/90] START boosting_type=gbdt, max_depth=-1, n_estimators=700, num_leaves=17\n",
      "[CV 3/3; 64/90] END boosting_type=gbdt, max_depth=-1, n_estimators=700, num_leaves=17;, score=-3.791 total time=   1.9s\n",
      "[CV 1/3; 65/90] START boosting_type=gbdt, max_depth=-1, n_estimators=700, num_leaves=22\n",
      "[CV 1/3; 65/90] END boosting_type=gbdt, max_depth=-1, n_estimators=700, num_leaves=22;, score=-3.987 total time=   2.1s\n",
      "[CV 2/3; 65/90] START boosting_type=gbdt, max_depth=-1, n_estimators=700, num_leaves=22\n",
      "[CV 2/3; 65/90] END boosting_type=gbdt, max_depth=-1, n_estimators=700, num_leaves=22;, score=-3.782 total time=   2.1s\n",
      "[CV 3/3; 65/90] START boosting_type=gbdt, max_depth=-1, n_estimators=700, num_leaves=22\n",
      "[CV 3/3; 65/90] END boosting_type=gbdt, max_depth=-1, n_estimators=700, num_leaves=22;, score=-3.806 total time=   2.2s\n",
      "[CV 1/3; 66/90] START boosting_type=gbdt, max_depth=-1, n_estimators=700, num_leaves=27\n",
      "[CV 1/3; 66/90] END boosting_type=gbdt, max_depth=-1, n_estimators=700, num_leaves=27;, score=-3.979 total time=   2.1s\n",
      "[CV 2/3; 66/90] START boosting_type=gbdt, max_depth=-1, n_estimators=700, num_leaves=27\n",
      "[CV 2/3; 66/90] END boosting_type=gbdt, max_depth=-1, n_estimators=700, num_leaves=27;, score=-3.779 total time=   2.3s\n",
      "[CV 3/3; 66/90] START boosting_type=gbdt, max_depth=-1, n_estimators=700, num_leaves=27\n",
      "[CV 3/3; 66/90] END boosting_type=gbdt, max_depth=-1, n_estimators=700, num_leaves=27;, score=-3.788 total time=   2.1s\n",
      "[CV 1/3; 67/90] START boosting_type=gbdt, max_depth=-1, n_estimators=700, num_leaves=32\n",
      "[CV 1/3; 67/90] END boosting_type=gbdt, max_depth=-1, n_estimators=700, num_leaves=32;, score=-3.983 total time=   2.6s\n",
      "[CV 2/3; 67/90] START boosting_type=gbdt, max_depth=-1, n_estimators=700, num_leaves=32\n",
      "[CV 2/3; 67/90] END boosting_type=gbdt, max_depth=-1, n_estimators=700, num_leaves=32;, score=-3.783 total time=   4.5s\n",
      "[CV 3/3; 67/90] START boosting_type=gbdt, max_depth=-1, n_estimators=700, num_leaves=32\n",
      "[CV 3/3; 67/90] END boosting_type=gbdt, max_depth=-1, n_estimators=700, num_leaves=32;, score=-3.786 total time=   8.1s\n",
      "[CV 1/3; 68/90] START boosting_type=gbdt, max_depth=-1, n_estimators=700, num_leaves=37\n",
      "[CV 1/3; 68/90] END boosting_type=gbdt, max_depth=-1, n_estimators=700, num_leaves=37;, score=-3.994 total time=   7.5s\n",
      "[CV 2/3; 68/90] START boosting_type=gbdt, max_depth=-1, n_estimators=700, num_leaves=37\n",
      "[CV 2/3; 68/90] END boosting_type=gbdt, max_depth=-1, n_estimators=700, num_leaves=37;, score=-3.795 total time=   6.8s\n",
      "[CV 3/3; 68/90] START boosting_type=gbdt, max_depth=-1, n_estimators=700, num_leaves=37\n",
      "[CV 3/3; 68/90] END boosting_type=gbdt, max_depth=-1, n_estimators=700, num_leaves=37;, score=-3.792 total time=   9.3s\n",
      "[CV 1/3; 69/90] START boosting_type=gbdt, max_depth=-1, n_estimators=700, num_leaves=42\n",
      "[CV 1/3; 69/90] END boosting_type=gbdt, max_depth=-1, n_estimators=700, num_leaves=42;, score=-4.002 total time=   9.7s\n",
      "[CV 2/3; 69/90] START boosting_type=gbdt, max_depth=-1, n_estimators=700, num_leaves=42\n",
      "[CV 2/3; 69/90] END boosting_type=gbdt, max_depth=-1, n_estimators=700, num_leaves=42;, score=-3.790 total time=   8.3s\n",
      "[CV 3/3; 69/90] START boosting_type=gbdt, max_depth=-1, n_estimators=700, num_leaves=42\n",
      "[CV 3/3; 69/90] END boosting_type=gbdt, max_depth=-1, n_estimators=700, num_leaves=42;, score=-3.798 total time=   8.1s\n",
      "[CV 1/3; 70/90] START boosting_type=gbdt, max_depth=-1, n_estimators=700, num_leaves=47\n",
      "[CV 1/3; 70/90] END boosting_type=gbdt, max_depth=-1, n_estimators=700, num_leaves=47;, score=-3.997 total time=   8.9s\n",
      "[CV 2/3; 70/90] START boosting_type=gbdt, max_depth=-1, n_estimators=700, num_leaves=47\n",
      "[CV 2/3; 70/90] END boosting_type=gbdt, max_depth=-1, n_estimators=700, num_leaves=47;, score=-3.798 total time=   8.6s\n",
      "[CV 3/3; 70/90] START boosting_type=gbdt, max_depth=-1, n_estimators=700, num_leaves=47\n",
      "[CV 3/3; 70/90] END boosting_type=gbdt, max_depth=-1, n_estimators=700, num_leaves=47;, score=-3.797 total time=   9.6s\n",
      "[CV 1/3; 71/90] START boosting_type=gbdt, max_depth=-1, n_estimators=800, num_leaves=2\n",
      "[CV 1/3; 71/90] END boosting_type=gbdt, max_depth=-1, n_estimators=800, num_leaves=2;, score=-4.571 total time=   2.3s\n",
      "[CV 2/3; 71/90] START boosting_type=gbdt, max_depth=-1, n_estimators=800, num_leaves=2\n",
      "[CV 2/3; 71/90] END boosting_type=gbdt, max_depth=-1, n_estimators=800, num_leaves=2;, score=-4.399 total time=   3.1s\n",
      "[CV 3/3; 71/90] START boosting_type=gbdt, max_depth=-1, n_estimators=800, num_leaves=2\n",
      "[CV 3/3; 71/90] END boosting_type=gbdt, max_depth=-1, n_estimators=800, num_leaves=2;, score=-4.336 total time=   3.6s\n",
      "[CV 1/3; 72/90] START boosting_type=gbdt, max_depth=-1, n_estimators=800, num_leaves=7\n",
      "[CV 1/3; 72/90] END boosting_type=gbdt, max_depth=-1, n_estimators=800, num_leaves=7;, score=-4.042 total time=   4.3s\n",
      "[CV 2/3; 72/90] START boosting_type=gbdt, max_depth=-1, n_estimators=800, num_leaves=7\n",
      "[CV 2/3; 72/90] END boosting_type=gbdt, max_depth=-1, n_estimators=800, num_leaves=7;, score=-3.846 total time=   3.9s\n",
      "[CV 3/3; 72/90] START boosting_type=gbdt, max_depth=-1, n_estimators=800, num_leaves=7\n",
      "[CV 3/3; 72/90] END boosting_type=gbdt, max_depth=-1, n_estimators=800, num_leaves=7;, score=-3.831 total time=   5.5s\n",
      "[CV 1/3; 73/90] START boosting_type=gbdt, max_depth=-1, n_estimators=800, num_leaves=12\n",
      "[CV 1/3; 73/90] END boosting_type=gbdt, max_depth=-1, n_estimators=800, num_leaves=12;, score=-4.008 total time=   6.0s\n",
      "[CV 2/3; 73/90] START boosting_type=gbdt, max_depth=-1, n_estimators=800, num_leaves=12\n",
      "[CV 2/3; 73/90] END boosting_type=gbdt, max_depth=-1, n_estimators=800, num_leaves=12;, score=-3.803 total time=   6.7s\n",
      "[CV 3/3; 73/90] START boosting_type=gbdt, max_depth=-1, n_estimators=800, num_leaves=12\n",
      "[CV 3/3; 73/90] END boosting_type=gbdt, max_depth=-1, n_estimators=800, num_leaves=12;, score=-3.794 total time=   5.8s\n",
      "[CV 1/3; 74/90] START boosting_type=gbdt, max_depth=-1, n_estimators=800, num_leaves=17\n",
      "[CV 1/3; 74/90] END boosting_type=gbdt, max_depth=-1, n_estimators=800, num_leaves=17;, score=-3.991 total time=   6.9s\n",
      "[CV 2/3; 74/90] START boosting_type=gbdt, max_depth=-1, n_estimators=800, num_leaves=17\n",
      "[CV 2/3; 74/90] END boosting_type=gbdt, max_depth=-1, n_estimators=800, num_leaves=17;, score=-3.803 total time=   6.7s\n",
      "[CV 3/3; 74/90] START boosting_type=gbdt, max_depth=-1, n_estimators=800, num_leaves=17\n",
      "[CV 3/3; 74/90] END boosting_type=gbdt, max_depth=-1, n_estimators=800, num_leaves=17;, score=-3.789 total time=   6.7s\n",
      "[CV 1/3; 75/90] START boosting_type=gbdt, max_depth=-1, n_estimators=800, num_leaves=22\n",
      "[CV 1/3; 75/90] END boosting_type=gbdt, max_depth=-1, n_estimators=800, num_leaves=22;, score=-3.985 total time=   7.0s\n",
      "[CV 2/3; 75/90] START boosting_type=gbdt, max_depth=-1, n_estimators=800, num_leaves=22\n",
      "[CV 2/3; 75/90] END boosting_type=gbdt, max_depth=-1, n_estimators=800, num_leaves=22;, score=-3.779 total time=   7.4s\n",
      "[CV 3/3; 75/90] START boosting_type=gbdt, max_depth=-1, n_estimators=800, num_leaves=22\n",
      "[CV 3/3; 75/90] END boosting_type=gbdt, max_depth=-1, n_estimators=800, num_leaves=22;, score=-3.806 total time=   8.5s\n",
      "[CV 1/3; 76/90] START boosting_type=gbdt, max_depth=-1, n_estimators=800, num_leaves=27\n",
      "[CV 1/3; 76/90] END boosting_type=gbdt, max_depth=-1, n_estimators=800, num_leaves=27;, score=-3.981 total time=   6.7s\n",
      "[CV 2/3; 76/90] START boosting_type=gbdt, max_depth=-1, n_estimators=800, num_leaves=27\n",
      "[CV 2/3; 76/90] END boosting_type=gbdt, max_depth=-1, n_estimators=800, num_leaves=27;, score=-3.779 total time=   7.2s\n",
      "[CV 3/3; 76/90] START boosting_type=gbdt, max_depth=-1, n_estimators=800, num_leaves=27\n",
      "[CV 3/3; 76/90] END boosting_type=gbdt, max_depth=-1, n_estimators=800, num_leaves=27;, score=-3.792 total time=   8.4s\n",
      "[CV 1/3; 77/90] START boosting_type=gbdt, max_depth=-1, n_estimators=800, num_leaves=32\n",
      "[CV 1/3; 77/90] END boosting_type=gbdt, max_depth=-1, n_estimators=800, num_leaves=32;, score=-3.986 total time=   7.9s\n",
      "[CV 2/3; 77/90] START boosting_type=gbdt, max_depth=-1, n_estimators=800, num_leaves=32\n",
      "[CV 2/3; 77/90] END boosting_type=gbdt, max_depth=-1, n_estimators=800, num_leaves=32;, score=-3.785 total time=   8.4s\n",
      "[CV 3/3; 77/90] START boosting_type=gbdt, max_depth=-1, n_estimators=800, num_leaves=32\n",
      "[CV 3/3; 77/90] END boosting_type=gbdt, max_depth=-1, n_estimators=800, num_leaves=32;, score=-3.787 total time=   8.6s\n",
      "[CV 1/3; 78/90] START boosting_type=gbdt, max_depth=-1, n_estimators=800, num_leaves=37\n",
      "[CV 1/3; 78/90] END boosting_type=gbdt, max_depth=-1, n_estimators=800, num_leaves=37;, score=-3.996 total time=   9.3s\n",
      "[CV 2/3; 78/90] START boosting_type=gbdt, max_depth=-1, n_estimators=800, num_leaves=37\n",
      "[CV 2/3; 78/90] END boosting_type=gbdt, max_depth=-1, n_estimators=800, num_leaves=37;, score=-3.799 total time=   9.0s\n",
      "[CV 3/3; 78/90] START boosting_type=gbdt, max_depth=-1, n_estimators=800, num_leaves=37\n",
      "[CV 3/3; 78/90] END boosting_type=gbdt, max_depth=-1, n_estimators=800, num_leaves=37;, score=-3.791 total time=   9.1s\n",
      "[CV 1/3; 79/90] START boosting_type=gbdt, max_depth=-1, n_estimators=800, num_leaves=42\n",
      "[CV 1/3; 79/90] END boosting_type=gbdt, max_depth=-1, n_estimators=800, num_leaves=42;, score=-4.006 total time=   9.2s\n",
      "[CV 2/3; 79/90] START boosting_type=gbdt, max_depth=-1, n_estimators=800, num_leaves=42\n",
      "[CV 2/3; 79/90] END boosting_type=gbdt, max_depth=-1, n_estimators=800, num_leaves=42;, score=-3.794 total time=   9.5s\n",
      "[CV 3/3; 79/90] START boosting_type=gbdt, max_depth=-1, n_estimators=800, num_leaves=42\n",
      "[CV 3/3; 79/90] END boosting_type=gbdt, max_depth=-1, n_estimators=800, num_leaves=42;, score=-3.799 total time=   8.5s\n",
      "[CV 1/3; 80/90] START boosting_type=gbdt, max_depth=-1, n_estimators=800, num_leaves=47\n",
      "[CV 1/3; 80/90] END boosting_type=gbdt, max_depth=-1, n_estimators=800, num_leaves=47;, score=-4.002 total time=   8.7s\n",
      "[CV 2/3; 80/90] START boosting_type=gbdt, max_depth=-1, n_estimators=800, num_leaves=47\n",
      "[CV 2/3; 80/90] END boosting_type=gbdt, max_depth=-1, n_estimators=800, num_leaves=47;, score=-3.795 total time=   9.9s\n",
      "[CV 3/3; 80/90] START boosting_type=gbdt, max_depth=-1, n_estimators=800, num_leaves=47\n",
      "[CV 3/3; 80/90] END boosting_type=gbdt, max_depth=-1, n_estimators=800, num_leaves=47;, score=-3.802 total time=   9.5s\n",
      "[CV 1/3; 81/90] START boosting_type=gbdt, max_depth=-1, n_estimators=900, num_leaves=2\n",
      "[CV 1/3; 81/90] END boosting_type=gbdt, max_depth=-1, n_estimators=900, num_leaves=2;, score=-4.567 total time=   4.0s\n",
      "[CV 2/3; 81/90] START boosting_type=gbdt, max_depth=-1, n_estimators=900, num_leaves=2\n",
      "[CV 2/3; 81/90] END boosting_type=gbdt, max_depth=-1, n_estimators=900, num_leaves=2;, score=-4.395 total time=   3.2s\n",
      "[CV 3/3; 81/90] START boosting_type=gbdt, max_depth=-1, n_estimators=900, num_leaves=2\n",
      "[CV 3/3; 81/90] END boosting_type=gbdt, max_depth=-1, n_estimators=900, num_leaves=2;, score=-4.333 total time=   3.4s\n",
      "[CV 1/3; 82/90] START boosting_type=gbdt, max_depth=-1, n_estimators=900, num_leaves=7\n",
      "[CV 1/3; 82/90] END boosting_type=gbdt, max_depth=-1, n_estimators=900, num_leaves=7;, score=-4.039 total time=   5.9s\n",
      "[CV 2/3; 82/90] START boosting_type=gbdt, max_depth=-1, n_estimators=900, num_leaves=7\n",
      "[CV 2/3; 82/90] END boosting_type=gbdt, max_depth=-1, n_estimators=900, num_leaves=7;, score=-3.837 total time=   4.6s\n",
      "[CV 3/3; 82/90] START boosting_type=gbdt, max_depth=-1, n_estimators=900, num_leaves=7\n",
      "[CV 3/3; 82/90] END boosting_type=gbdt, max_depth=-1, n_estimators=900, num_leaves=7;, score=-3.822 total time=   6.5s\n",
      "[CV 1/3; 83/90] START boosting_type=gbdt, max_depth=-1, n_estimators=900, num_leaves=12\n",
      "[CV 1/3; 83/90] END boosting_type=gbdt, max_depth=-1, n_estimators=900, num_leaves=12;, score=-4.005 total time=   5.1s\n",
      "[CV 2/3; 83/90] START boosting_type=gbdt, max_depth=-1, n_estimators=900, num_leaves=12\n",
      "[CV 2/3; 83/90] END boosting_type=gbdt, max_depth=-1, n_estimators=900, num_leaves=12;, score=-3.803 total time=   5.5s\n",
      "[CV 3/3; 83/90] START boosting_type=gbdt, max_depth=-1, n_estimators=900, num_leaves=12\n",
      "[CV 3/3; 83/90] END boosting_type=gbdt, max_depth=-1, n_estimators=900, num_leaves=12;, score=-3.788 total time=   7.5s\n",
      "[CV 1/3; 84/90] START boosting_type=gbdt, max_depth=-1, n_estimators=900, num_leaves=17\n",
      "[CV 1/3; 84/90] END boosting_type=gbdt, max_depth=-1, n_estimators=900, num_leaves=17;, score=-3.985 total time=   6.2s\n",
      "[CV 2/3; 84/90] START boosting_type=gbdt, max_depth=-1, n_estimators=900, num_leaves=17\n",
      "[CV 2/3; 84/90] END boosting_type=gbdt, max_depth=-1, n_estimators=900, num_leaves=17;, score=-3.798 total time=   8.3s\n",
      "[CV 3/3; 84/90] START boosting_type=gbdt, max_depth=-1, n_estimators=900, num_leaves=17\n",
      "[CV 3/3; 84/90] END boosting_type=gbdt, max_depth=-1, n_estimators=900, num_leaves=17;, score=-3.789 total time=   7.1s\n",
      "[CV 1/3; 85/90] START boosting_type=gbdt, max_depth=-1, n_estimators=900, num_leaves=22\n",
      "[CV 1/3; 85/90] END boosting_type=gbdt, max_depth=-1, n_estimators=900, num_leaves=22;, score=-3.983 total time=   6.7s\n",
      "[CV 2/3; 85/90] START boosting_type=gbdt, max_depth=-1, n_estimators=900, num_leaves=22\n",
      "[CV 2/3; 85/90] END boosting_type=gbdt, max_depth=-1, n_estimators=900, num_leaves=22;, score=-3.780 total time=   9.0s\n",
      "[CV 3/3; 85/90] START boosting_type=gbdt, max_depth=-1, n_estimators=900, num_leaves=22\n",
      "[CV 3/3; 85/90] END boosting_type=gbdt, max_depth=-1, n_estimators=900, num_leaves=22;, score=-3.807 total time=   8.0s\n",
      "[CV 1/3; 86/90] START boosting_type=gbdt, max_depth=-1, n_estimators=900, num_leaves=27\n",
      "[CV 1/3; 86/90] END boosting_type=gbdt, max_depth=-1, n_estimators=900, num_leaves=27;, score=-3.983 total time=   8.4s\n",
      "[CV 2/3; 86/90] START boosting_type=gbdt, max_depth=-1, n_estimators=900, num_leaves=27\n",
      "[CV 2/3; 86/90] END boosting_type=gbdt, max_depth=-1, n_estimators=900, num_leaves=27;, score=-3.777 total time=  10.0s\n",
      "[CV 3/3; 86/90] START boosting_type=gbdt, max_depth=-1, n_estimators=900, num_leaves=27\n",
      "[CV 3/3; 86/90] END boosting_type=gbdt, max_depth=-1, n_estimators=900, num_leaves=27;, score=-3.795 total time=   7.7s\n",
      "[CV 1/3; 87/90] START boosting_type=gbdt, max_depth=-1, n_estimators=900, num_leaves=32\n",
      "[CV 1/3; 87/90] END boosting_type=gbdt, max_depth=-1, n_estimators=900, num_leaves=32;, score=-3.984 total time=   9.2s\n",
      "[CV 2/3; 87/90] START boosting_type=gbdt, max_depth=-1, n_estimators=900, num_leaves=32\n",
      "[CV 2/3; 87/90] END boosting_type=gbdt, max_depth=-1, n_estimators=900, num_leaves=32;, score=-3.784 total time=   6.8s\n",
      "[CV 3/3; 87/90] START boosting_type=gbdt, max_depth=-1, n_estimators=900, num_leaves=32\n",
      "[CV 3/3; 87/90] END boosting_type=gbdt, max_depth=-1, n_estimators=900, num_leaves=32;, score=-3.790 total time=   9.3s\n",
      "[CV 1/3; 88/90] START boosting_type=gbdt, max_depth=-1, n_estimators=900, num_leaves=37\n",
      "[CV 1/3; 88/90] END boosting_type=gbdt, max_depth=-1, n_estimators=900, num_leaves=37;, score=-3.998 total time=  10.5s\n",
      "[CV 2/3; 88/90] START boosting_type=gbdt, max_depth=-1, n_estimators=900, num_leaves=37\n",
      "[CV 2/3; 88/90] END boosting_type=gbdt, max_depth=-1, n_estimators=900, num_leaves=37;, score=-3.801 total time=  10.4s\n",
      "[CV 3/3; 88/90] START boosting_type=gbdt, max_depth=-1, n_estimators=900, num_leaves=37\n",
      "[CV 3/3; 88/90] END boosting_type=gbdt, max_depth=-1, n_estimators=900, num_leaves=37;, score=-3.792 total time=   9.8s\n",
      "[CV 1/3; 89/90] START boosting_type=gbdt, max_depth=-1, n_estimators=900, num_leaves=42\n",
      "[CV 1/3; 89/90] END boosting_type=gbdt, max_depth=-1, n_estimators=900, num_leaves=42;, score=-4.004 total time=   9.5s\n",
      "[CV 2/3; 89/90] START boosting_type=gbdt, max_depth=-1, n_estimators=900, num_leaves=42\n",
      "[CV 2/3; 89/90] END boosting_type=gbdt, max_depth=-1, n_estimators=900, num_leaves=42;, score=-3.795 total time=  11.8s\n",
      "[CV 3/3; 89/90] START boosting_type=gbdt, max_depth=-1, n_estimators=900, num_leaves=42\n",
      "[CV 3/3; 89/90] END boosting_type=gbdt, max_depth=-1, n_estimators=900, num_leaves=42;, score=-3.801 total time=  10.5s\n",
      "[CV 1/3; 90/90] START boosting_type=gbdt, max_depth=-1, n_estimators=900, num_leaves=47\n",
      "[CV 1/3; 90/90] END boosting_type=gbdt, max_depth=-1, n_estimators=900, num_leaves=47;, score=-4.001 total time=  12.0s\n",
      "[CV 2/3; 90/90] START boosting_type=gbdt, max_depth=-1, n_estimators=900, num_leaves=47\n",
      "[CV 2/3; 90/90] END boosting_type=gbdt, max_depth=-1, n_estimators=900, num_leaves=47;, score=-3.799 total time=  11.1s\n",
      "[CV 3/3; 90/90] START boosting_type=gbdt, max_depth=-1, n_estimators=900, num_leaves=47\n",
      "[CV 3/3; 90/90] END boosting_type=gbdt, max_depth=-1, n_estimators=900, num_leaves=47;, score=-3.802 total time=  11.2s\n"
     ]
    },
    {
     "data": {
      "text/html": [
       "<style>#sk-container-id-1 {color: black;background-color: white;}#sk-container-id-1 pre{padding: 0;}#sk-container-id-1 div.sk-toggleable {background-color: white;}#sk-container-id-1 label.sk-toggleable__label {cursor: pointer;display: block;width: 100%;margin-bottom: 0;padding: 0.3em;box-sizing: border-box;text-align: center;}#sk-container-id-1 label.sk-toggleable__label-arrow:before {content: \"▸\";float: left;margin-right: 0.25em;color: #696969;}#sk-container-id-1 label.sk-toggleable__label-arrow:hover:before {color: black;}#sk-container-id-1 div.sk-estimator:hover label.sk-toggleable__label-arrow:before {color: black;}#sk-container-id-1 div.sk-toggleable__content {max-height: 0;max-width: 0;overflow: hidden;text-align: left;background-color: #f0f8ff;}#sk-container-id-1 div.sk-toggleable__content pre {margin: 0.2em;color: black;border-radius: 0.25em;background-color: #f0f8ff;}#sk-container-id-1 input.sk-toggleable__control:checked~div.sk-toggleable__content {max-height: 200px;max-width: 100%;overflow: auto;}#sk-container-id-1 input.sk-toggleable__control:checked~label.sk-toggleable__label-arrow:before {content: \"▾\";}#sk-container-id-1 div.sk-estimator input.sk-toggleable__control:checked~label.sk-toggleable__label {background-color: #d4ebff;}#sk-container-id-1 div.sk-label input.sk-toggleable__control:checked~label.sk-toggleable__label {background-color: #d4ebff;}#sk-container-id-1 input.sk-hidden--visually {border: 0;clip: rect(1px 1px 1px 1px);clip: rect(1px, 1px, 1px, 1px);height: 1px;margin: -1px;overflow: hidden;padding: 0;position: absolute;width: 1px;}#sk-container-id-1 div.sk-estimator {font-family: monospace;background-color: #f0f8ff;border: 1px dotted black;border-radius: 0.25em;box-sizing: border-box;margin-bottom: 0.5em;}#sk-container-id-1 div.sk-estimator:hover {background-color: #d4ebff;}#sk-container-id-1 div.sk-parallel-item::after {content: \"\";width: 100%;border-bottom: 1px solid gray;flex-grow: 1;}#sk-container-id-1 div.sk-label:hover label.sk-toggleable__label {background-color: #d4ebff;}#sk-container-id-1 div.sk-serial::before {content: \"\";position: absolute;border-left: 1px solid gray;box-sizing: border-box;top: 0;bottom: 0;left: 50%;z-index: 0;}#sk-container-id-1 div.sk-serial {display: flex;flex-direction: column;align-items: center;background-color: white;padding-right: 0.2em;padding-left: 0.2em;position: relative;}#sk-container-id-1 div.sk-item {position: relative;z-index: 1;}#sk-container-id-1 div.sk-parallel {display: flex;align-items: stretch;justify-content: center;background-color: white;position: relative;}#sk-container-id-1 div.sk-item::before, #sk-container-id-1 div.sk-parallel-item::before {content: \"\";position: absolute;border-left: 1px solid gray;box-sizing: border-box;top: 0;bottom: 0;left: 50%;z-index: -1;}#sk-container-id-1 div.sk-parallel-item {display: flex;flex-direction: column;z-index: 1;position: relative;background-color: white;}#sk-container-id-1 div.sk-parallel-item:first-child::after {align-self: flex-end;width: 50%;}#sk-container-id-1 div.sk-parallel-item:last-child::after {align-self: flex-start;width: 50%;}#sk-container-id-1 div.sk-parallel-item:only-child::after {width: 0;}#sk-container-id-1 div.sk-dashed-wrapped {border: 1px dashed gray;margin: 0 0.4em 0.5em 0.4em;box-sizing: border-box;padding-bottom: 0.4em;background-color: white;}#sk-container-id-1 div.sk-label label {font-family: monospace;font-weight: bold;display: inline-block;line-height: 1.2em;}#sk-container-id-1 div.sk-label-container {text-align: center;}#sk-container-id-1 div.sk-container {/* jupyter's `normalize.less` sets `[hidden] { display: none; }` but bootstrap.min.css set `[hidden] { display: none !important; }` so we also need the `!important` here to be able to override the default hidden behavior on the sphinx rendered scikit-learn.org. See: https://github.com/scikit-learn/scikit-learn/issues/21755 */display: inline-block !important;position: relative;}#sk-container-id-1 div.sk-text-repr-fallback {display: none;}</style><div id=\"sk-container-id-1\" class=\"sk-top-container\"><div class=\"sk-text-repr-fallback\"><pre>GridSearchCV(cv=3, estimator=LGBMRegressor(random_state=42),\n",
       "             param_grid={&#x27;boosting_type&#x27;: [&#x27;gbdt&#x27;], &#x27;max_depth&#x27;: [-1],\n",
       "                         &#x27;n_estimators&#x27;: array([100, 200, 300, 400, 500, 600, 700, 800, 900]),\n",
       "                         &#x27;num_leaves&#x27;: array([ 2,  7, 12, 17, 22, 27, 32, 37, 42, 47])},\n",
       "             scoring=&#x27;neg_root_mean_squared_error&#x27;, verbose=10)</pre><b>In a Jupyter environment, please rerun this cell to show the HTML representation or trust the notebook. <br />On GitHub, the HTML representation is unable to render, please try loading this page with nbviewer.org.</b></div><div class=\"sk-container\" hidden><div class=\"sk-item sk-dashed-wrapped\"><div class=\"sk-label-container\"><div class=\"sk-label sk-toggleable\"><input class=\"sk-toggleable__control sk-hidden--visually\" id=\"sk-estimator-id-1\" type=\"checkbox\" ><label for=\"sk-estimator-id-1\" class=\"sk-toggleable__label sk-toggleable__label-arrow\">GridSearchCV</label><div class=\"sk-toggleable__content\"><pre>GridSearchCV(cv=3, estimator=LGBMRegressor(random_state=42),\n",
       "             param_grid={&#x27;boosting_type&#x27;: [&#x27;gbdt&#x27;], &#x27;max_depth&#x27;: [-1],\n",
       "                         &#x27;n_estimators&#x27;: array([100, 200, 300, 400, 500, 600, 700, 800, 900]),\n",
       "                         &#x27;num_leaves&#x27;: array([ 2,  7, 12, 17, 22, 27, 32, 37, 42, 47])},\n",
       "             scoring=&#x27;neg_root_mean_squared_error&#x27;, verbose=10)</pre></div></div></div><div class=\"sk-parallel\"><div class=\"sk-parallel-item\"><div class=\"sk-item\"><div class=\"sk-label-container\"><div class=\"sk-label sk-toggleable\"><input class=\"sk-toggleable__control sk-hidden--visually\" id=\"sk-estimator-id-2\" type=\"checkbox\" ><label for=\"sk-estimator-id-2\" class=\"sk-toggleable__label sk-toggleable__label-arrow\">estimator: LGBMRegressor</label><div class=\"sk-toggleable__content\"><pre>LGBMRegressor(random_state=42)</pre></div></div></div><div class=\"sk-serial\"><div class=\"sk-item\"><div class=\"sk-estimator sk-toggleable\"><input class=\"sk-toggleable__control sk-hidden--visually\" id=\"sk-estimator-id-3\" type=\"checkbox\" ><label for=\"sk-estimator-id-3\" class=\"sk-toggleable__label sk-toggleable__label-arrow\">LGBMRegressor</label><div class=\"sk-toggleable__content\"><pre>LGBMRegressor(random_state=42)</pre></div></div></div></div></div></div></div></div></div></div>"
      ],
      "text/plain": [
       "GridSearchCV(cv=3, estimator=LGBMRegressor(random_state=42),\n",
       "             param_grid={'boosting_type': ['gbdt'], 'max_depth': [-1],\n",
       "                         'n_estimators': array([100, 200, 300, 400, 500, 600, 700, 800, 900]),\n",
       "                         'num_leaves': array([ 2,  7, 12, 17, 22, 27, 32, 37, 42, 47])},\n",
       "             scoring='neg_root_mean_squared_error', verbose=10)"
      ]
     },
     "execution_count": 67,
     "metadata": {},
     "output_type": "execute_result"
    }
   ],
   "source": [
    "grid_search_lgbm.fit(X_train, y_train)"
   ]
  },
  {
   "cell_type": "code",
   "execution_count": 68,
   "metadata": {},
   "outputs": [
    {
     "data": {
      "text/html": [
       "<style>#sk-container-id-2 {color: black;background-color: white;}#sk-container-id-2 pre{padding: 0;}#sk-container-id-2 div.sk-toggleable {background-color: white;}#sk-container-id-2 label.sk-toggleable__label {cursor: pointer;display: block;width: 100%;margin-bottom: 0;padding: 0.3em;box-sizing: border-box;text-align: center;}#sk-container-id-2 label.sk-toggleable__label-arrow:before {content: \"▸\";float: left;margin-right: 0.25em;color: #696969;}#sk-container-id-2 label.sk-toggleable__label-arrow:hover:before {color: black;}#sk-container-id-2 div.sk-estimator:hover label.sk-toggleable__label-arrow:before {color: black;}#sk-container-id-2 div.sk-toggleable__content {max-height: 0;max-width: 0;overflow: hidden;text-align: left;background-color: #f0f8ff;}#sk-container-id-2 div.sk-toggleable__content pre {margin: 0.2em;color: black;border-radius: 0.25em;background-color: #f0f8ff;}#sk-container-id-2 input.sk-toggleable__control:checked~div.sk-toggleable__content {max-height: 200px;max-width: 100%;overflow: auto;}#sk-container-id-2 input.sk-toggleable__control:checked~label.sk-toggleable__label-arrow:before {content: \"▾\";}#sk-container-id-2 div.sk-estimator input.sk-toggleable__control:checked~label.sk-toggleable__label {background-color: #d4ebff;}#sk-container-id-2 div.sk-label input.sk-toggleable__control:checked~label.sk-toggleable__label {background-color: #d4ebff;}#sk-container-id-2 input.sk-hidden--visually {border: 0;clip: rect(1px 1px 1px 1px);clip: rect(1px, 1px, 1px, 1px);height: 1px;margin: -1px;overflow: hidden;padding: 0;position: absolute;width: 1px;}#sk-container-id-2 div.sk-estimator {font-family: monospace;background-color: #f0f8ff;border: 1px dotted black;border-radius: 0.25em;box-sizing: border-box;margin-bottom: 0.5em;}#sk-container-id-2 div.sk-estimator:hover {background-color: #d4ebff;}#sk-container-id-2 div.sk-parallel-item::after {content: \"\";width: 100%;border-bottom: 1px solid gray;flex-grow: 1;}#sk-container-id-2 div.sk-label:hover label.sk-toggleable__label {background-color: #d4ebff;}#sk-container-id-2 div.sk-serial::before {content: \"\";position: absolute;border-left: 1px solid gray;box-sizing: border-box;top: 0;bottom: 0;left: 50%;z-index: 0;}#sk-container-id-2 div.sk-serial {display: flex;flex-direction: column;align-items: center;background-color: white;padding-right: 0.2em;padding-left: 0.2em;position: relative;}#sk-container-id-2 div.sk-item {position: relative;z-index: 1;}#sk-container-id-2 div.sk-parallel {display: flex;align-items: stretch;justify-content: center;background-color: white;position: relative;}#sk-container-id-2 div.sk-item::before, #sk-container-id-2 div.sk-parallel-item::before {content: \"\";position: absolute;border-left: 1px solid gray;box-sizing: border-box;top: 0;bottom: 0;left: 50%;z-index: -1;}#sk-container-id-2 div.sk-parallel-item {display: flex;flex-direction: column;z-index: 1;position: relative;background-color: white;}#sk-container-id-2 div.sk-parallel-item:first-child::after {align-self: flex-end;width: 50%;}#sk-container-id-2 div.sk-parallel-item:last-child::after {align-self: flex-start;width: 50%;}#sk-container-id-2 div.sk-parallel-item:only-child::after {width: 0;}#sk-container-id-2 div.sk-dashed-wrapped {border: 1px dashed gray;margin: 0 0.4em 0.5em 0.4em;box-sizing: border-box;padding-bottom: 0.4em;background-color: white;}#sk-container-id-2 div.sk-label label {font-family: monospace;font-weight: bold;display: inline-block;line-height: 1.2em;}#sk-container-id-2 div.sk-label-container {text-align: center;}#sk-container-id-2 div.sk-container {/* jupyter's `normalize.less` sets `[hidden] { display: none; }` but bootstrap.min.css set `[hidden] { display: none !important; }` so we also need the `!important` here to be able to override the default hidden behavior on the sphinx rendered scikit-learn.org. See: https://github.com/scikit-learn/scikit-learn/issues/21755 */display: inline-block !important;position: relative;}#sk-container-id-2 div.sk-text-repr-fallback {display: none;}</style><div id=\"sk-container-id-2\" class=\"sk-top-container\"><div class=\"sk-text-repr-fallback\"><pre>LGBMRegressor(n_estimators=700, num_leaves=27, random_state=42)</pre><b>In a Jupyter environment, please rerun this cell to show the HTML representation or trust the notebook. <br />On GitHub, the HTML representation is unable to render, please try loading this page with nbviewer.org.</b></div><div class=\"sk-container\" hidden><div class=\"sk-item\"><div class=\"sk-estimator sk-toggleable\"><input class=\"sk-toggleable__control sk-hidden--visually\" id=\"sk-estimator-id-4\" type=\"checkbox\" checked><label for=\"sk-estimator-id-4\" class=\"sk-toggleable__label sk-toggleable__label-arrow\">LGBMRegressor</label><div class=\"sk-toggleable__content\"><pre>LGBMRegressor(n_estimators=700, num_leaves=27, random_state=42)</pre></div></div></div></div></div>"
      ],
      "text/plain": [
       "LGBMRegressor(n_estimators=700, num_leaves=27, random_state=42)"
      ]
     },
     "execution_count": 68,
     "metadata": {},
     "output_type": "execute_result"
    }
   ],
   "source": [
    "grid_search_lgbm.best_estimator_\n",
    "#LGBMRegressor(n_estimators=700, num_leaves=27, random_state=42)"
   ]
  },
  {
   "cell_type": "code",
   "execution_count": 69,
   "metadata": {},
   "outputs": [
    {
     "data": {
      "text/plain": [
       "-3.848868756204176"
      ]
     },
     "execution_count": 69,
     "metadata": {},
     "output_type": "execute_result"
    }
   ],
   "source": [
    "grid_search_lgbm.best_score_"
   ]
  },
  {
   "cell_type": "code",
   "execution_count": 79,
   "metadata": {},
   "outputs": [
    {
     "data": {
      "text/plain": [
       "{'boosting_type': 'gbdt',\n",
       " 'max_depth': -1,\n",
       " 'n_estimators': 700,\n",
       " 'num_leaves': 27}"
      ]
     },
     "execution_count": 79,
     "metadata": {},
     "output_type": "execute_result"
    }
   ],
   "source": [
    "grid_search_lgbm.best_params_"
   ]
  },
  {
   "cell_type": "code",
   "execution_count": 71,
   "metadata": {},
   "outputs": [
    {
     "name": "stdout",
     "output_type": "stream",
     "text": [
      "lgbm --> train_rmse: 3.1221506103242924, test_rmse: 3.639366110133532\n"
     ]
    },
    {
     "data": {
      "text/plain": [
       "(3.1221506103242924,\n",
       " 3.639366110133532,\n",
       " array([10.42069128,  5.93269436,  5.31974239, ...,  7.14977509,\n",
       "        33.67384404,  5.41967264]),\n",
       " array([17.63562609,  8.8917643 ,  6.68788389, ..., 12.84971777,\n",
       "         8.50653121,  8.34660849]))"
      ]
     },
     "execution_count": 71,
     "metadata": {},
     "output_type": "execute_result"
    }
   ],
   "source": [
    "tune_model = grid_search_lgbm.best_estimator_\n",
    "evaluate('lgbm', tune_model)"
   ]
  },
  {
   "attachments": {},
   "cell_type": "markdown",
   "metadata": {},
   "source": [
    "Lets submit new test predictions and get the score"
   ]
  },
  {
   "cell_type": "code",
   "execution_count": 78,
   "metadata": {},
   "outputs": [
    {
     "data": {
      "text/html": [
       "<div>\n",
       "<style scoped>\n",
       "    .dataframe tbody tr th:only-of-type {\n",
       "        vertical-align: middle;\n",
       "    }\n",
       "\n",
       "    .dataframe tbody tr th {\n",
       "        vertical-align: top;\n",
       "    }\n",
       "\n",
       "    .dataframe thead th {\n",
       "        text-align: right;\n",
       "    }\n",
       "</style>\n",
       "<table border=\"1\" class=\"dataframe\">\n",
       "  <thead>\n",
       "    <tr style=\"text-align: right;\">\n",
       "      <th></th>\n",
       "      <th>key</th>\n",
       "      <th>fare_amount</th>\n",
       "    </tr>\n",
       "  </thead>\n",
       "  <tbody>\n",
       "    <tr>\n",
       "      <th>0</th>\n",
       "      <td>2015-01-27 13:08:24.0000002</td>\n",
       "      <td>11.302076</td>\n",
       "    </tr>\n",
       "    <tr>\n",
       "      <th>1</th>\n",
       "      <td>2015-01-27 13:08:24.0000003</td>\n",
       "      <td>11.370283</td>\n",
       "    </tr>\n",
       "    <tr>\n",
       "      <th>2</th>\n",
       "      <td>2011-10-08 11:53:44.0000002</td>\n",
       "      <td>4.840505</td>\n",
       "    </tr>\n",
       "    <tr>\n",
       "      <th>3</th>\n",
       "      <td>2012-12-01 21:12:12.0000002</td>\n",
       "      <td>8.686417</td>\n",
       "    </tr>\n",
       "    <tr>\n",
       "      <th>4</th>\n",
       "      <td>2012-12-01 21:12:12.0000003</td>\n",
       "      <td>16.089029</td>\n",
       "    </tr>\n",
       "    <tr>\n",
       "      <th>...</th>\n",
       "      <td>...</td>\n",
       "      <td>...</td>\n",
       "    </tr>\n",
       "    <tr>\n",
       "      <th>9909</th>\n",
       "      <td>2015-05-10 12:37:51.0000002</td>\n",
       "      <td>8.875323</td>\n",
       "    </tr>\n",
       "    <tr>\n",
       "      <th>9910</th>\n",
       "      <td>2015-01-12 17:05:51.0000001</td>\n",
       "      <td>11.958994</td>\n",
       "    </tr>\n",
       "    <tr>\n",
       "      <th>9911</th>\n",
       "      <td>2015-04-19 20:44:15.0000001</td>\n",
       "      <td>54.977496</td>\n",
       "    </tr>\n",
       "    <tr>\n",
       "      <th>9912</th>\n",
       "      <td>2015-01-31 01:05:19.0000005</td>\n",
       "      <td>19.777363</td>\n",
       "    </tr>\n",
       "    <tr>\n",
       "      <th>9913</th>\n",
       "      <td>2015-01-18 14:06:23.0000006</td>\n",
       "      <td>6.652723</td>\n",
       "    </tr>\n",
       "  </tbody>\n",
       "</table>\n",
       "<p>9914 rows × 2 columns</p>\n",
       "</div>"
      ],
      "text/plain": [
       "                              key  fare_amount\n",
       "0     2015-01-27 13:08:24.0000002    11.302076\n",
       "1     2015-01-27 13:08:24.0000003    11.370283\n",
       "2     2011-10-08 11:53:44.0000002     4.840505\n",
       "3     2012-12-01 21:12:12.0000002     8.686417\n",
       "4     2012-12-01 21:12:12.0000003    16.089029\n",
       "...                           ...          ...\n",
       "9909  2015-05-10 12:37:51.0000002     8.875323\n",
       "9910  2015-01-12 17:05:51.0000001    11.958994\n",
       "9911  2015-04-19 20:44:15.0000001    54.977496\n",
       "9912  2015-01-31 01:05:19.0000005    19.777363\n",
       "9913  2015-01-18 14:06:23.0000006     6.652723\n",
       "\n",
       "[9914 rows x 2 columns]"
      ]
     },
     "execution_count": 78,
     "metadata": {},
     "output_type": "execute_result"
    }
   ],
   "source": [
    "predict_and_submit(tune_model, 'gridcv1_tune_lgbm_model')"
   ]
  },
  {
   "attachments": {
    "image-2.png": {
     "image/png": "[encoded data removed]"
    }
   },
   "cell_type": "markdown",
   "metadata": {},
   "source": [
    "This model gives me following score \n",
    "![image.png](attachment:image-2.png)"
   ]
  },
  {
   "attachments": {},
   "cell_type": "markdown",
   "metadata": {},
   "source": [
    "## Lets Try with ANN"
   ]
  },
  {
   "cell_type": "code",
   "execution_count": null,
   "metadata": {},
   "outputs": [],
   "source": []
  },
  {
   "cell_type": "code",
   "execution_count": null,
   "metadata": {},
   "outputs": [],
   "source": []
  },
  {
   "cell_type": "code",
   "execution_count": null,
   "metadata": {},
   "outputs": [],
   "source": []
  },
  {
   "cell_type": "code",
   "execution_count": null,
   "metadata": {},
   "outputs": [],
   "source": []
  },
  {
   "cell_type": "markdown",
   "metadata": {},
   "source": []
  },
  {
   "attachments": {},
   "cell_type": "markdown",
   "metadata": {},
   "source": [
    "## References\n",
    "* https://www.kaggle.com/code/madhurisivalenka/cleansing-eda-modelling-lgbm-xgboost-starters\n",
    "* https://www.kaggle.com/code/breemen/nyc-taxi-fare-data-exploration\n",
    "* https://www.openstreetmap.org/export#map=10/41.1528/-73.6496\n",
    "* https://www.kaggle.com/code/yekahaaagayeham/new-york-city-taxi-fare-prediction-eda-baseline#2.-Explore-the-Dataset\n",
    "* https://jovian.ai/aakashns/nyc-taxi-fare-prediction-filled#C162"
   ]
  },
  {
   "cell_type": "code",
   "execution_count": null,
   "metadata": {},
   "outputs": [],
   "source": []
  }
 ],
 "metadata": {
  "kernelspec": {
   "display_name": "NY-taxi-fare-prediction",
   "language": "python",
   "name": "python3"
  },
  "language_info": {
   "codemirror_mode": {
    "name": "ipython",
    "version": 3
   },
   "file_extension": ".py",
   "mimetype": "text/x-python",
   "name": "python",
   "nbconvert_exporter": "python",
   "pygments_lexer": "ipython3",
   "version": "3.10.8"
  },
  "orig_nbformat": 4,
  "vscode": {
   "interpreter": {
    "hash": "6613cfc5144257f62af353dfccdd8ca115d65687a32ec953b2d2e365c27ff88b"
   }
  }
 },
 "nbformat": 4,
 "nbformat_minor": 2
}
