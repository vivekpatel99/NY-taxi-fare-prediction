{
 "cells": [
  {
   "attachments": {},
   "cell_type": "markdown",
   "metadata": {},
   "source": [
    "# New York City Taxi Fare Prediction\n",
    "\n",
    "We'll train a machine learning model to predict the fare for a taxi ride in New York city given information like pickup date & time,\\\n",
    "pickup location,drop location and no. of passengers. \n",
    "\n",
    "Dataset Link: [new york city taxi fare prediction](https://www.kaggle.com/c/new-york-city-taxi-fare-prediction)"
   ]
  },
  {
   "attachments": {},
   "cell_type": "markdown",
   "metadata": {},
   "source": [
    "## Dataset Description\n",
    "**File descriptions**\n",
    "* **train.csv** - Input features and target fare_amount values for the training set (about 55M rows).\n",
    "* **test.csv**- Input features for the test set (about 10K rows). Your goal is to predict fare_amount for each row.\n",
    "* **sample_submission.csv** - a sample submission file in the correct format (columns key and fare_amount). This file 'predicts' fare_amount to be $11.35 for all rows, which is the mean fare_amount from the training set.\n",
    "### Data fields\n",
    "#### ID\n",
    "* **key** - Unique string identifying each row in both the training and test sets. Comprised of pickup_datetime plus a unique integer, but this doesn't matter, it should just be used as a unique ID field.\n",
    "Required in your submission CSV. Not necessarily needed in the training set, but could be useful to simulate a 'submission file' while doing cross-validation within the training set.\n",
    "#### Features\n",
    "* **pickup_datetime** - timestamp value indicating when the taxi ride started.\n",
    "* **pickup_longitude** - float for longitude coordinate of where the taxi ride started.\n",
    "* **pickup_latitude** - float for latitude coordinate of where the taxi ride started.\n",
    "* **dropoff_longitude** - float for longitude coordinate of where the taxi ride ended.\n",
    "* **dropoff_latitude** - float for latitude coordinate of where the taxi ride ended.\n",
    "* **passenger_count** - integer indicating the number of passengers in the taxi ride.\n",
    "#### Target\n",
    "* **fare_amount** - float dollar amount of the cost of the taxi ride. This value is only in the training set; this is what you are predicting in the test set and it is required in your submission CSV."
   ]
  },
  {
   "attachments": {},
   "cell_type": "markdown",
   "metadata": {},
   "source": [
    "## Planning\n",
    "* Approching problem with classic Machine learning algorithms\n",
    "  - Random Forests\n",
    "  - Xgboost\n",
    "  - LGBM\n",
    "  - Ridge\n",
    "  - SVM \n",
    "- \n",
    "  Find best performing algorithm and hypertune it\n",
    "* Approching problem using Deep learning\n",
    "  * ANN (hypertune)"
   ]
  },
  {
   "attachments": {},
   "cell_type": "markdown",
   "metadata": {},
   "source": [
    "Imports required libs/modules"
   ]
  },
  {
   "cell_type": "code",
   "execution_count": 1,
   "metadata": {},
   "outputs": [],
   "source": [
    "import opendatasets as od\n",
    "import pandas as pd\n",
    "import numpy as np\n",
    "import random"
   ]
  },
  {
   "attachments": {},
   "cell_type": "markdown",
   "metadata": {},
   "source": [
    "## 1. Download the Dataset\n",
    "\n",
    "- Install required libraries\n",
    "- Download data from Kaggle\n",
    "- View dataset files\n",
    "- Load training set with Pandas\n",
    "- Load test set with Pandas\n",
    "\n",
    "\n",
    "Dataset link:  [new york city taxi fare prediction](https://www.kaggle.com/c/new-york-city-taxi-fare-prediction/overview)"
   ]
  },
  {
   "attachments": {},
   "cell_type": "markdown",
   "metadata": {},
   "source": [
    "### Download Data from Kaggle\n",
    "\n",
    "We'll use the [opendatasets]( https://github.com/JovianML/opendatasets) library"
   ]
  },
  {
   "cell_type": "code",
   "execution_count": 2,
   "metadata": {},
   "outputs": [],
   "source": [
    "dataset_url = 'https://www.kaggle.com/competitions/new-york-city-taxi-fare-prediction/data'"
   ]
  },
  {
   "cell_type": "code",
   "execution_count": 3,
   "metadata": {},
   "outputs": [
    {
     "name": "stdout",
     "output_type": "stream",
     "text": [
      "Skipping, found downloaded files in \"./new-york-city-taxi-fare-prediction\" (use force=True to force download)\n"
     ]
    }
   ],
   "source": [
    "od.download(dataset_url)"
   ]
  },
  {
   "cell_type": "code",
   "execution_count": 4,
   "metadata": {},
   "outputs": [],
   "source": [
    "data_dir = './new-york-city-taxi-fare-prediction'"
   ]
  },
  {
   "attachments": {},
   "cell_type": "markdown",
   "metadata": {},
   "source": [
    "Using shell commands because python modules are very slow with large data so instead of using OS modelu,\\\n",
    "we are using shell commands"
   ]
  },
  {
   "cell_type": "code",
   "execution_count": 5,
   "metadata": {},
   "outputs": [
    {
     "name": "stdout",
     "output_type": "stream",
     "text": [
      "total 5.4G\n",
      "-rw-r--r-- 1 root root  486 Dec 29 12:42 GCP-Coupons-Instructions.rtf\n",
      "-rw-r--r-- 1 root root 336K Dec 29 12:42 sample_submission.csv\n",
      "-rw-r--r-- 1 root root 960K Dec 29 12:42 test.csv\n",
      "-rw-r--r-- 1 root root 5.4G Dec 29 12:42 train.csv\n"
     ]
    }
   ],
   "source": [
    "# List of files with size\n",
    "!ls -lh {data_dir}"
   ]
  },
  {
   "cell_type": "code",
   "execution_count": 6,
   "metadata": {},
   "outputs": [
    {
     "name": "stdout",
     "output_type": "stream",
     "text": [
      "key,fare_amount,pickup_datetime,pickup_longitude,pickup_latitude,dropoff_longitude,dropoff_latitude,passenger_count\n",
      "2009-06-15 17:26:21.0000001,4.5,2009-06-15 17:26:21 UTC,-73.844311,40.721319,-73.84161,40.712278,1\n",
      "2010-01-05 16:52:16.0000002,16.9,2010-01-05 16:52:16 UTC,-74.016048,40.711303,-73.979268,40.782004,1\n",
      "2011-08-18 00:35:00.00000049,5.7,2011-08-18 00:35:00 UTC,-73.982738,40.76127,-73.991242,40.750562,2\n",
      "2012-04-21 04:30:42.0000001,7.7,2012-04-21 04:30:42 UTC,-73.98713,40.733143,-73.991567,40.758092,1\n",
      "2010-03-09 07:51:00.000000135,5.3,2010-03-09 07:51:00 UTC,-73.968095,40.768008,-73.956655,40.783762,1\n",
      "2011-01-06 09:50:45.0000002,12.1,2011-01-06 09:50:45 UTC,-74.000964,40.73163,-73.972892,40.758233,1\n",
      "2012-11-20 20:35:00.0000001,7.5,2012-11-20 20:35:00 UTC,-73.980002,40.751662,-73.973802,40.764842,1\n",
      "2012-01-04 17:22:00.00000081,16.5,2012-01-04 17:22:00 UTC,-73.9513,40.774138,-73.990095,40.751048,1\n",
      "2012-12-03 13:10:00.000000125,9,2012-12-03 13:10:00 UTC,-74.006462,40.726713,-73.993078,40.731628,1\n"
     ]
    }
   ],
   "source": [
    "# Training set\n",
    "!head {data_dir}/train.csv"
   ]
  },
  {
   "cell_type": "code",
   "execution_count": 7,
   "metadata": {},
   "outputs": [
    {
     "name": "stdout",
     "output_type": "stream",
     "text": [
      "key,pickup_datetime,pickup_longitude,pickup_latitude,dropoff_longitude,dropoff_latitude,passenger_count\n",
      "2015-01-27 13:08:24.0000002,2015-01-27 13:08:24 UTC,-73.973320007324219,40.7638053894043,-73.981430053710938,40.74383544921875,1\n",
      "2015-01-27 13:08:24.0000003,2015-01-27 13:08:24 UTC,-73.986862182617188,40.719383239746094,-73.998886108398438,40.739200592041016,1\n",
      "2011-10-08 11:53:44.0000002,2011-10-08 11:53:44 UTC,-73.982524,40.75126,-73.979654,40.746139,1\n",
      "2012-12-01 21:12:12.0000002,2012-12-01 21:12:12 UTC,-73.98116,40.767807,-73.990448,40.751635,1\n",
      "2012-12-01 21:12:12.0000003,2012-12-01 21:12:12 UTC,-73.966046,40.789775,-73.988565,40.744427,1\n",
      "2012-12-01 21:12:12.0000005,2012-12-01 21:12:12 UTC,-73.960983,40.765547,-73.979177,40.740053,1\n",
      "2011-10-06 12:10:20.0000001,2011-10-06 12:10:20 UTC,-73.949013,40.773204,-73.959622,40.770893,1\n",
      "2011-10-06 12:10:20.0000003,2011-10-06 12:10:20 UTC,-73.777282,40.646636,-73.985083,40.759368,1\n",
      "2011-10-06 12:10:20.0000002,2011-10-06 12:10:20 UTC,-74.014099,40.709638,-73.995106,40.741365,1\n"
     ]
    }
   ],
   "source": [
    "# Test set\n",
    "!head {data_dir}/test.csv"
   ]
  },
  {
   "cell_type": "code",
   "execution_count": 8,
   "metadata": {},
   "outputs": [
    {
     "name": "stdout",
     "output_type": "stream",
     "text": [
      "key,fare_amount\n",
      "2015-01-27 13:08:24.0000002,11.35\n",
      "2015-01-27 13:08:24.0000003,11.35\n",
      "2011-10-08 11:53:44.0000002,11.35\n",
      "2012-12-01 21:12:12.0000002,11.35\n",
      "2012-12-01 21:12:12.0000003,11.35\n",
      "2012-12-01 21:12:12.0000005,11.35\n",
      "2011-10-06 12:10:20.0000001,11.35\n",
      "2011-10-06 12:10:20.0000003,11.35\n",
      "2011-10-06 12:10:20.0000002,11.35\n"
     ]
    }
   ],
   "source": [
    "# Sample submission file\n",
    "!head {data_dir}/sample_submission.csv"
   ]
  },
  {
   "cell_type": "code",
   "execution_count": 9,
   "metadata": {},
   "outputs": [
    {
     "name": "stdout",
     "output_type": "stream",
     "text": [
      "55423856 ./new-york-city-taxi-fare-prediction/train.csv\n"
     ]
    }
   ],
   "source": [
    "# No. of lines in training set\n",
    "!wc -l {data_dir}/train.csv"
   ]
  },
  {
   "cell_type": "code",
   "execution_count": 10,
   "metadata": {},
   "outputs": [
    {
     "name": "stdout",
     "output_type": "stream",
     "text": [
      "9914 ./new-york-city-taxi-fare-prediction/test.csv\n"
     ]
    }
   ],
   "source": [
    "# No. of lines in test set\n",
    "!wc -l {data_dir}/test.csv"
   ]
  },
  {
   "cell_type": "code",
   "execution_count": 11,
   "metadata": {},
   "outputs": [
    {
     "name": "stdout",
     "output_type": "stream",
     "text": [
      "9915 ./new-york-city-taxi-fare-prediction/sample_submission.csv\n"
     ]
    }
   ],
   "source": [
    "# No. of lines in submission file\n",
    "!wc -l {data_dir}/sample_submission.csv"
   ]
  },
  {
   "attachments": {},
   "cell_type": "markdown",
   "metadata": {},
   "source": [
    "Observations:\n",
    "* It's supervise learning problem\n",
    "* total size of data 5.5GB\n",
    "* number of rows in trainig set 55423856\n",
    "* number of rows in test set 9914\n",
    "* Target/prediction is fare_amount"
   ]
  },
  {
   "attachments": {},
   "cell_type": "markdown",
   "metadata": {},
   "source": [
    "### Loading Training Set\n",
    "\n",
    "Loading the entire dataset into Pandas is going to be slow, so we can use the following optimizations:\n",
    "\n",
    "- Ignore the `key` column\n",
    "- Parse pickup datetime while loading data \n",
    "- Specify data types for other columns\n",
    "   - `float32` for geo coordinates\n",
    "   - `float32` for fare amount\n",
    "   - `uint8` for passenger count\n",
    "- Work with a 1% sample of the data (~500k rows)\n",
    "\n",
    "We can apply these optimizations while using [`pd.read_csv`](https://pandas.pydata.org/pandas-docs/stable/reference/api/pandas.read_csv.html)"
   ]
  },
  {
   "cell_type": "code",
   "execution_count": 12,
   "metadata": {},
   "outputs": [],
   "source": [
    "sample_frac = 0.01 # to sample only 1% of the data from whole dataset (~500_000)"
   ]
  },
  {
   "cell_type": "code",
   "execution_count": 13,
   "metadata": {},
   "outputs": [],
   "source": [
    "selected_cols = 'fare_amount,pickup_datetime,pickup_longitude,pickup_latitude,dropoff_longitude,dropoff_latitude,passenger_count'.split(',')\n",
    "# increase pandas speed we are specifing the datatypes for all features/columns\n",
    "dtypes = {\n",
    "    'fare_amount': 'float32',\n",
    "    'pickup_datetime':'float32',\n",
    "    'pickup_longitude': 'float32',\n",
    "    'pickup_latitude': 'float32',\n",
    "    'dropoff_longitude': 'float32',\n",
    "    'dropoff_latitude': 'float32',\n",
    "    'passenger_count': 'uint8'\n",
    "}"
   ]
  },
  {
   "cell_type": "code",
   "execution_count": 14,
   "metadata": {},
   "outputs": [],
   "source": [
    "def skip_rows(row_idx):\n",
    "    if row_idx == 0:\n",
    "        return False\n",
    "\n",
    "    # probability of getting true is 1%, hance we can get only 1% of data\n",
    "    return random.random() > sample_frac"
   ]
  },
  {
   "cell_type": "code",
   "execution_count": 15,
   "metadata": {},
   "outputs": [],
   "source": [
    "random.seed(42) # to produce same results\n",
    "\n",
    "taxi_fare_train_df = pd.read_csv(\n",
    "    data_dir + '/train.csv',\n",
    "    usecols=selected_cols,\n",
    "    dtype=dtypes,\n",
    "    parse_dates=['pickup_datetime'],\n",
    "    skiprows=skip_rows\n",
    ")"
   ]
  },
  {
   "attachments": {},
   "cell_type": "markdown",
   "metadata": {},
   "source": [
    "### Load Test Set\n",
    "\n",
    "For the test set, we'll simply provide the data types."
   ]
  },
  {
   "cell_type": "code",
   "execution_count": 16,
   "metadata": {},
   "outputs": [],
   "source": [
    "taxi_fare_test_df = pd.read_csv(\n",
    "    data_dir + '/test.csv',\n",
    "    dtype=dtypes,\n",
    "    parse_dates=['pickup_datetime'],\n",
    ")\n",
    "taxi_fare_test_df.drop('key', axis=1, inplace=True)"
   ]
  },
  {
   "cell_type": "code",
   "execution_count": 17,
   "metadata": {},
   "outputs": [
    {
     "data": {
      "text/plain": [
       "Index(['pickup_datetime', 'pickup_longitude', 'pickup_latitude',\n",
       "       'dropoff_longitude', 'dropoff_latitude', 'passenger_count'],\n",
       "      dtype='object')"
      ]
     },
     "execution_count": 17,
     "metadata": {},
     "output_type": "execute_result"
    }
   ],
   "source": [
    "taxi_fare_test_df.columns"
   ]
  },
  {
   "attachments": {},
   "cell_type": "markdown",
   "metadata": {},
   "source": [
    "### Fill/Remove Missing Values\n",
    "\n",
    "There are no missing values in our sample, but if there were, we could simply drop the rows with missing values instead of trying to fill them (since we have a lot of training data)>"
   ]
  },
  {
   "cell_type": "code",
   "execution_count": 18,
   "metadata": {},
   "outputs": [],
   "source": [
    "taxi_fare_train_df = taxi_fare_train_df.dropna()"
   ]
  },
  {
   "attachments": {},
   "cell_type": "markdown",
   "metadata": {},
   "source": [
    "train and test dataset contains data with same year, hence we do not need to predict future data, \n",
    "if we have to predict that then we have to keeping mind during spliting training dataset into train and test/validation, we have to split dataset on the basis of date. validation dataset can only contain future data than data from training data. for example train dataset contain data from year 2009-2014 and validation dataset contain only data with date 2015."
   ]
  },
  {
   "attachments": {},
   "cell_type": "markdown",
   "metadata": {},
   "source": [
    "## Preprocessing"
   ]
  },
  {
   "attachments": {},
   "cell_type": "markdown",
   "metadata": {},
   "source": [
    "### Creating some useful functions to reuse"
   ]
  },
  {
   "cell_type": "code",
   "execution_count": 305,
   "metadata": {},
   "outputs": [],
   "source": [
    "# removing fare amount less than or equal to 0\n",
    "def remove_outliers_fare_amount(df:pd.DataFrame)->pd.DataFrame:\n",
    "    return df[df.fare_amount>=0]"
   ]
  },
  {
   "attachments": {},
   "cell_type": "markdown",
   "metadata": {},
   "source": [
    "No null or NaN values"
   ]
  },
  {
   "cell_type": "code",
   "execution_count": 306,
   "metadata": {},
   "outputs": [],
   "source": [
    "# keeping passenger count in between 1- 8\n",
    "def remove_outliers_passenger_count(df:pd.DataFrame) -> None:\n",
    "    return df[(df['passenger_count']<= 8) \\\n",
    "              & (df['passenger_count']>=1)\n",
    "        ]"
   ]
  },
  {
   "cell_type": "code",
   "execution_count": 21,
   "metadata": {},
   "outputs": [],
   "source": [
    "def add_part_dates_time(df:pd.DataFrame, col_name:str) -> None: \n",
    "    \"\"\"\n",
    "    This function seperate datetime objects to seperate columns with year, month, day, weekday, hour\n",
    "    and drop orignal datetime column\n",
    "    \"\"\"\n",
    "    df[f'{col_name}_year'] = df[col_name].dt.year\n",
    "    df[f'{col_name}_month'] = df[col_name].dt.month\n",
    "    df[f'{col_name}_day'] = df[col_name].dt.day\n",
    "    df[f'{col_name}_weekday'] = df[col_name].dt.weekday\n",
    "    df[f'{col_name}_hour'] = df[col_name].dt.hour\n",
    "    \n",
    "    # we do not need original datetime column, so we can drop it\n",
    "    df.drop(col_name, axis=1, inplace=True)\n"
   ]
  },
  {
   "attachments": {},
   "cell_type": "markdown",
   "metadata": {},
   "source": [
    "To find average rige distance, we have to calculate/convert pick and dropoff longitute and latitute to distance"
   ]
  },
  {
   "attachments": {},
   "cell_type": "markdown",
   "metadata": {},
   "source": [
    "Add Distance Between Pickup and Drop\n",
    "We can use the haversine distance:\n",
    "\n",
    "* https://en.wikipedia.org/wiki/Haversine_formula\n",
    "* https://stackoverflow.com/questions/29545704/fast-haversine-approximation-python-pandas"
   ]
  },
  {
   "cell_type": "code",
   "execution_count": 22,
   "metadata": {},
   "outputs": [],
   "source": [
    "def haversine_np(lon1:float, lat1:float, lon2:float, lat2:float)->float:\n",
    "    \"\"\"\n",
    "    Calculate the great circle distance between two points\n",
    "    on the earth (specified in decimal degrees)\n",
    "\n",
    "    All args must be of equal length.    \n",
    "\n",
    "    \"\"\"\n",
    "    lon1, lat1, lon2, lat2 = map(np.radians, [lon1, lat1, lon2, lat2])\n",
    "\n",
    "    dlon = lon2 - lon1\n",
    "    dlat = lat2 - lat1\n",
    "\n",
    "    a = np.sin(dlat/2.0)**2 + np.cos(lat1) * np.cos(lat2) * np.sin(dlon/2.0)**2\n",
    "\n",
    "    c = 2 * np.arcsin(np.sqrt(a))\n",
    "    km = 6367 * c\n",
    "    return km"
   ]
  },
  {
   "cell_type": "code",
   "execution_count": 23,
   "metadata": {},
   "outputs": [],
   "source": [
    "def add_distance(df:pd.DataFrame)-> None:\n",
    "    df['distance_km'] = haversine_np(\n",
    "        df['pickup_longitude'], \n",
    "        df['pickup_latitude'], \n",
    "        df['dropoff_longitude'], \n",
    "        df['dropoff_latitude']\n",
    "        )\n"
   ]
  },
  {
   "attachments": {},
   "cell_type": "markdown",
   "metadata": {},
   "source": [
    "we can remove these outliers by keeping only NYC longitute and latitute info "
   ]
  },
  {
   "cell_type": "code",
   "execution_count": 24,
   "metadata": {},
   "outputs": [],
   "source": [
    "def remove_outliers_location(df:pd.DataFrame) -> pd.DataFrame:\n",
    "    return df[\n",
    "                (df['pickup_longitude'] >= -75) \n",
    "                & (df['pickup_longitude'] <= -72) \n",
    "                & (df['dropoff_longitude'] >= -75) \n",
    "                & (df['dropoff_longitude'] <= -72) \n",
    "                & (df['pickup_latitude'] >= 40) \n",
    "                & (df['pickup_latitude'] <= 42) \n",
    "                & (df['dropoff_latitude'] >=40) \n",
    "                & (df['dropoff_latitude'] <= 42)\n",
    "            ]"
   ]
  },
  {
   "attachments": {},
   "cell_type": "markdown",
   "metadata": {},
   "source": [
    "### Remove Outliers"
   ]
  },
  {
   "cell_type": "code",
   "execution_count": 25,
   "metadata": {},
   "outputs": [],
   "source": [
    "def remove_outliers(df):\n",
    "    df = remove_outliers_fare_amount(df=df)\n",
    "    df = remove_outliers_passenger_count(df=df)\n",
    "    df = remove_outliers_location(df=df)\n",
    "    return df"
   ]
  },
  {
   "cell_type": "code",
   "execution_count": 26,
   "metadata": {},
   "outputs": [],
   "source": [
    "taxi_fare_train_df = remove_outliers(taxi_fare_train_df)"
   ]
  },
  {
   "cell_type": "code",
   "execution_count": 27,
   "metadata": {},
   "outputs": [
    {
     "data": {
      "text/html": [
       "<div>\n",
       "<style scoped>\n",
       "    .dataframe tbody tr th:only-of-type {\n",
       "        vertical-align: middle;\n",
       "    }\n",
       "\n",
       "    .dataframe tbody tr th {\n",
       "        vertical-align: top;\n",
       "    }\n",
       "\n",
       "    .dataframe thead th {\n",
       "        text-align: right;\n",
       "    }\n",
       "</style>\n",
       "<table border=\"1\" class=\"dataframe\">\n",
       "  <thead>\n",
       "    <tr style=\"text-align: right;\">\n",
       "      <th></th>\n",
       "      <th>fare_amount</th>\n",
       "      <th>pickup_datetime</th>\n",
       "      <th>pickup_longitude</th>\n",
       "      <th>pickup_latitude</th>\n",
       "      <th>dropoff_longitude</th>\n",
       "      <th>dropoff_latitude</th>\n",
       "      <th>passenger_count</th>\n",
       "    </tr>\n",
       "  </thead>\n",
       "  <tbody>\n",
       "    <tr>\n",
       "      <th>0</th>\n",
       "      <td>4.0</td>\n",
       "      <td>2014-12-06 20:36:22+00:00</td>\n",
       "      <td>-73.979813</td>\n",
       "      <td>40.751904</td>\n",
       "      <td>-73.979446</td>\n",
       "      <td>40.755482</td>\n",
       "      <td>1</td>\n",
       "    </tr>\n",
       "    <tr>\n",
       "      <th>2</th>\n",
       "      <td>8.9</td>\n",
       "      <td>2011-06-15 18:07:00+00:00</td>\n",
       "      <td>-73.996330</td>\n",
       "      <td>40.753223</td>\n",
       "      <td>-73.978897</td>\n",
       "      <td>40.766964</td>\n",
       "      <td>3</td>\n",
       "    </tr>\n",
       "    <tr>\n",
       "      <th>3</th>\n",
       "      <td>6.9</td>\n",
       "      <td>2009-12-14 12:33:00+00:00</td>\n",
       "      <td>-73.982430</td>\n",
       "      <td>40.745747</td>\n",
       "      <td>-73.982430</td>\n",
       "      <td>40.745747</td>\n",
       "      <td>1</td>\n",
       "    </tr>\n",
       "    <tr>\n",
       "      <th>4</th>\n",
       "      <td>7.0</td>\n",
       "      <td>2013-11-06 11:26:54+00:00</td>\n",
       "      <td>-73.959061</td>\n",
       "      <td>40.781059</td>\n",
       "      <td>-73.962059</td>\n",
       "      <td>40.768604</td>\n",
       "      <td>1</td>\n",
       "    </tr>\n",
       "    <tr>\n",
       "      <th>5</th>\n",
       "      <td>15.5</td>\n",
       "      <td>2014-12-08 01:00:16+00:00</td>\n",
       "      <td>-73.957672</td>\n",
       "      <td>40.717888</td>\n",
       "      <td>-73.942581</td>\n",
       "      <td>40.686398</td>\n",
       "      <td>1</td>\n",
       "    </tr>\n",
       "  </tbody>\n",
       "</table>\n",
       "</div>"
      ],
      "text/plain": [
       "   fare_amount           pickup_datetime  pickup_longitude  pickup_latitude  \\\n",
       "0          4.0 2014-12-06 20:36:22+00:00        -73.979813        40.751904   \n",
       "2          8.9 2011-06-15 18:07:00+00:00        -73.996330        40.753223   \n",
       "3          6.9 2009-12-14 12:33:00+00:00        -73.982430        40.745747   \n",
       "4          7.0 2013-11-06 11:26:54+00:00        -73.959061        40.781059   \n",
       "5         15.5 2014-12-08 01:00:16+00:00        -73.957672        40.717888   \n",
       "\n",
       "   dropoff_longitude  dropoff_latitude  passenger_count  \n",
       "0         -73.979446         40.755482                1  \n",
       "2         -73.978897         40.766964                3  \n",
       "3         -73.982430         40.745747                1  \n",
       "4         -73.962059         40.768604                1  \n",
       "5         -73.942581         40.686398                1  "
      ]
     },
     "execution_count": 27,
     "metadata": {},
     "output_type": "execute_result"
    }
   ],
   "source": [
    "taxi_fare_train_df.head(5)"
   ]
  },
  {
   "attachments": {},
   "cell_type": "markdown",
   "metadata": {},
   "source": [
    "## 3. Prepare Dataset for Training\n",
    "\n",
    "- Split Training & Validation Set\n",
    "- Data Cleaning\n",
    "- Extract Inputs & Outputs\n",
    "   - Training\n",
    "   - Validation\n",
    "   - Test"
   ]
  },
  {
   "attachments": {},
   "cell_type": "markdown",
   "metadata": {},
   "source": [
    "## Split Training & Validation Set\n",
    "\n",
    "We'll set aside 20% of the training data as the validation set, to evaluate the models we train on previously unseen data. \n",
    "\n",
    "Since the test set and training set have the same date ranges, we can pick a random 20% fraction."
   ]
  },
  {
   "cell_type": "code",
   "execution_count": 28,
   "metadata": {},
   "outputs": [],
   "source": [
    "from sklearn.model_selection import train_test_split"
   ]
  },
  {
   "attachments": {},
   "cell_type": "markdown",
   "metadata": {},
   "source": [
    "Before we create dataset containing date and time. we have to check whether we have predict future data or past data(or random data)\n",
    "we can easily check it by checking dates from testing dataset"
   ]
  },
  {
   "cell_type": "code",
   "execution_count": 29,
   "metadata": {},
   "outputs": [
    {
     "data": {
      "text/plain": [
       "386578   2013-10-18 00:29:00+00:00\n",
       "92584    2011-02-21 19:27:00+00:00\n",
       "374909   2011-05-05 00:13:00+00:00\n",
       "232323   2009-10-17 20:01:00+00:00\n",
       "405831   2013-10-30 15:11:00+00:00\n",
       "170709   2011-05-02 08:00:00+00:00\n",
       "476570   2013-03-22 22:48:00+00:00\n",
       "458421   2009-01-13 06:44:00+00:00\n",
       "154101   2012-07-03 09:35:45+00:00\n",
       "643      2013-06-01 11:01:31+00:00\n",
       "Name: pickup_datetime, dtype: datetime64[ns, UTC]"
      ]
     },
     "execution_count": 29,
     "metadata": {},
     "output_type": "execute_result"
    }
   ],
   "source": [
    "taxi_fare_train_df.pickup_datetime.sample(10)"
   ]
  },
  {
   "cell_type": "code",
   "execution_count": 30,
   "metadata": {},
   "outputs": [
    {
     "data": {
      "text/plain": [
       "5682   2010-05-06 11:35:26+00:00\n",
       "9458   2011-12-13 22:00:00+00:00\n",
       "9351   2014-10-27 14:58:00+00:00\n",
       "7368   2014-04-27 02:57:00+00:00\n",
       "8344   2013-05-21 06:52:59+00:00\n",
       "4441   2014-07-25 18:06:37+00:00\n",
       "53     2014-06-14 13:39:00+00:00\n",
       "6207   2009-08-28 07:10:39+00:00\n",
       "359    2009-06-10 16:55:00+00:00\n",
       "3769   2015-06-13 19:17:09+00:00\n",
       "Name: pickup_datetime, dtype: datetime64[ns, UTC]"
      ]
     },
     "execution_count": 30,
     "metadata": {},
     "output_type": "execute_result"
    }
   ],
   "source": [
    "taxi_fare_test_df.pickup_datetime.sample(10)"
   ]
  },
  {
   "cell_type": "code",
   "execution_count": 31,
   "metadata": {},
   "outputs": [],
   "source": [
    "# Separate input feature and target\n",
    "X = taxi_fare_train_df.drop('fare_amount', axis=1)\n",
    "y = taxi_fare_train_df.fare_amount"
   ]
  },
  {
   "cell_type": "code",
   "execution_count": 32,
   "metadata": {},
   "outputs": [
    {
     "data": {
      "text/plain": [
       "Index(['pickup_datetime', 'pickup_longitude', 'pickup_latitude',\n",
       "       'dropoff_longitude', 'dropoff_latitude', 'passenger_count'],\n",
       "      dtype='object')"
      ]
     },
     "execution_count": 32,
     "metadata": {},
     "output_type": "execute_result"
    }
   ],
   "source": [
    "X.columns"
   ]
  },
  {
   "cell_type": "code",
   "execution_count": 33,
   "metadata": {},
   "outputs": [],
   "source": [
    "X_train, X_test, y_train, y_test = train_test_split(\n",
    "        X,y,\n",
    "        test_size=0.2,\n",
    "        shuffle=True, \n",
    "        random_state=42\n",
    "    )"
   ]
  },
  {
   "cell_type": "code",
   "execution_count": 34,
   "metadata": {},
   "outputs": [
    {
     "data": {
      "text/plain": [
       "(431087, 107772)"
      ]
     },
     "execution_count": 34,
     "metadata": {},
     "output_type": "execute_result"
    }
   ],
   "source": [
    "len(X_train), len(X_test)"
   ]
  },
  {
   "attachments": {},
   "cell_type": "markdown",
   "metadata": {},
   "source": [
    "## Feature Engineering"
   ]
  },
  {
   "attachments": {},
   "cell_type": "markdown",
   "metadata": {},
   "source": [
    "#### Separate date and time"
   ]
  },
  {
   "cell_type": "code",
   "execution_count": 35,
   "metadata": {},
   "outputs": [],
   "source": [
    "add_part_dates_time(df=X_train, col_name='pickup_datetime')\n",
    "add_part_dates_time(df=X_test, col_name='pickup_datetime')"
   ]
  },
  {
   "cell_type": "code",
   "execution_count": 36,
   "metadata": {},
   "outputs": [],
   "source": [
    "add_part_dates_time(df=taxi_fare_test_df, col_name='pickup_datetime')"
   ]
  },
  {
   "cell_type": "code",
   "execution_count": 37,
   "metadata": {},
   "outputs": [
    {
     "data": {
      "text/html": [
       "<div>\n",
       "<style scoped>\n",
       "    .dataframe tbody tr th:only-of-type {\n",
       "        vertical-align: middle;\n",
       "    }\n",
       "\n",
       "    .dataframe tbody tr th {\n",
       "        vertical-align: top;\n",
       "    }\n",
       "\n",
       "    .dataframe thead th {\n",
       "        text-align: right;\n",
       "    }\n",
       "</style>\n",
       "<table border=\"1\" class=\"dataframe\">\n",
       "  <thead>\n",
       "    <tr style=\"text-align: right;\">\n",
       "      <th></th>\n",
       "      <th>pickup_longitude</th>\n",
       "      <th>pickup_latitude</th>\n",
       "      <th>dropoff_longitude</th>\n",
       "      <th>dropoff_latitude</th>\n",
       "      <th>passenger_count</th>\n",
       "      <th>pickup_datetime_year</th>\n",
       "      <th>pickup_datetime_month</th>\n",
       "      <th>pickup_datetime_day</th>\n",
       "      <th>pickup_datetime_weekday</th>\n",
       "      <th>pickup_datetime_hour</th>\n",
       "    </tr>\n",
       "  </thead>\n",
       "  <tbody>\n",
       "    <tr>\n",
       "      <th>93814</th>\n",
       "      <td>-73.969093</td>\n",
       "      <td>40.753960</td>\n",
       "      <td>-73.997871</td>\n",
       "      <td>40.754101</td>\n",
       "      <td>1</td>\n",
       "      <td>2014</td>\n",
       "      <td>10</td>\n",
       "      <td>26</td>\n",
       "      <td>6</td>\n",
       "      <td>0</td>\n",
       "    </tr>\n",
       "    <tr>\n",
       "      <th>489268</th>\n",
       "      <td>-73.986496</td>\n",
       "      <td>40.757961</td>\n",
       "      <td>-73.991051</td>\n",
       "      <td>40.750340</td>\n",
       "      <td>1</td>\n",
       "      <td>2012</td>\n",
       "      <td>9</td>\n",
       "      <td>18</td>\n",
       "      <td>1</td>\n",
       "      <td>22</td>\n",
       "    </tr>\n",
       "    <tr>\n",
       "      <th>226953</th>\n",
       "      <td>-73.953323</td>\n",
       "      <td>40.785721</td>\n",
       "      <td>-73.959900</td>\n",
       "      <td>40.778793</td>\n",
       "      <td>1</td>\n",
       "      <td>2014</td>\n",
       "      <td>9</td>\n",
       "      <td>2</td>\n",
       "      <td>1</td>\n",
       "      <td>10</td>\n",
       "    </tr>\n",
       "    <tr>\n",
       "      <th>320788</th>\n",
       "      <td>-73.969070</td>\n",
       "      <td>40.790936</td>\n",
       "      <td>-73.980049</td>\n",
       "      <td>40.770966</td>\n",
       "      <td>1</td>\n",
       "      <td>2011</td>\n",
       "      <td>5</td>\n",
       "      <td>27</td>\n",
       "      <td>4</td>\n",
       "      <td>8</td>\n",
       "    </tr>\n",
       "    <tr>\n",
       "      <th>485171</th>\n",
       "      <td>-73.991798</td>\n",
       "      <td>40.717613</td>\n",
       "      <td>-73.980392</td>\n",
       "      <td>40.716488</td>\n",
       "      <td>1</td>\n",
       "      <td>2013</td>\n",
       "      <td>2</td>\n",
       "      <td>19</td>\n",
       "      <td>1</td>\n",
       "      <td>1</td>\n",
       "    </tr>\n",
       "  </tbody>\n",
       "</table>\n",
       "</div>"
      ],
      "text/plain": [
       "        pickup_longitude  pickup_latitude  dropoff_longitude  \\\n",
       "93814         -73.969093        40.753960         -73.997871   \n",
       "489268        -73.986496        40.757961         -73.991051   \n",
       "226953        -73.953323        40.785721         -73.959900   \n",
       "320788        -73.969070        40.790936         -73.980049   \n",
       "485171        -73.991798        40.717613         -73.980392   \n",
       "\n",
       "        dropoff_latitude  passenger_count  pickup_datetime_year  \\\n",
       "93814          40.754101                1                  2014   \n",
       "489268         40.750340                1                  2012   \n",
       "226953         40.778793                1                  2014   \n",
       "320788         40.770966                1                  2011   \n",
       "485171         40.716488                1                  2013   \n",
       "\n",
       "        pickup_datetime_month  pickup_datetime_day  pickup_datetime_weekday  \\\n",
       "93814                      10                   26                        6   \n",
       "489268                      9                   18                        1   \n",
       "226953                      9                    2                        1   \n",
       "320788                      5                   27                        4   \n",
       "485171                      2                   19                        1   \n",
       "\n",
       "        pickup_datetime_hour  \n",
       "93814                      0  \n",
       "489268                    22  \n",
       "226953                    10  \n",
       "320788                     8  \n",
       "485171                     1  "
      ]
     },
     "execution_count": 37,
     "metadata": {},
     "output_type": "execute_result"
    }
   ],
   "source": [
    "X_train.head(5)"
   ]
  },
  {
   "attachments": {},
   "cell_type": "markdown",
   "metadata": {},
   "source": [
    "#### Calculate trip distance"
   ]
  },
  {
   "cell_type": "code",
   "execution_count": 38,
   "metadata": {},
   "outputs": [],
   "source": [
    "add_distance(X_train)\n",
    "add_distance(X_test)\n",
    "add_distance(taxi_fare_test_df) "
   ]
  },
  {
   "cell_type": "code",
   "execution_count": 39,
   "metadata": {},
   "outputs": [
    {
     "data": {
      "text/html": [
       "<div>\n",
       "<style scoped>\n",
       "    .dataframe tbody tr th:only-of-type {\n",
       "        vertical-align: middle;\n",
       "    }\n",
       "\n",
       "    .dataframe tbody tr th {\n",
       "        vertical-align: top;\n",
       "    }\n",
       "\n",
       "    .dataframe thead th {\n",
       "        text-align: right;\n",
       "    }\n",
       "</style>\n",
       "<table border=\"1\" class=\"dataframe\">\n",
       "  <thead>\n",
       "    <tr style=\"text-align: right;\">\n",
       "      <th></th>\n",
       "      <th>pickup_longitude</th>\n",
       "      <th>pickup_latitude</th>\n",
       "      <th>dropoff_longitude</th>\n",
       "      <th>dropoff_latitude</th>\n",
       "      <th>passenger_count</th>\n",
       "      <th>pickup_datetime_year</th>\n",
       "      <th>pickup_datetime_month</th>\n",
       "      <th>pickup_datetime_day</th>\n",
       "      <th>pickup_datetime_weekday</th>\n",
       "      <th>pickup_datetime_hour</th>\n",
       "      <th>distance_km</th>\n",
       "    </tr>\n",
       "  </thead>\n",
       "  <tbody>\n",
       "    <tr>\n",
       "      <th>93814</th>\n",
       "      <td>-73.969093</td>\n",
       "      <td>40.753960</td>\n",
       "      <td>-73.997871</td>\n",
       "      <td>40.754101</td>\n",
       "      <td>1</td>\n",
       "      <td>2014</td>\n",
       "      <td>10</td>\n",
       "      <td>26</td>\n",
       "      <td>6</td>\n",
       "      <td>0</td>\n",
       "      <td>2.422936</td>\n",
       "    </tr>\n",
       "    <tr>\n",
       "      <th>489268</th>\n",
       "      <td>-73.986496</td>\n",
       "      <td>40.757961</td>\n",
       "      <td>-73.991051</td>\n",
       "      <td>40.750340</td>\n",
       "      <td>1</td>\n",
       "      <td>2012</td>\n",
       "      <td>9</td>\n",
       "      <td>18</td>\n",
       "      <td>1</td>\n",
       "      <td>22</td>\n",
       "      <td>0.929820</td>\n",
       "    </tr>\n",
       "    <tr>\n",
       "      <th>226953</th>\n",
       "      <td>-73.953323</td>\n",
       "      <td>40.785721</td>\n",
       "      <td>-73.959900</td>\n",
       "      <td>40.778793</td>\n",
       "      <td>1</td>\n",
       "      <td>2014</td>\n",
       "      <td>9</td>\n",
       "      <td>2</td>\n",
       "      <td>1</td>\n",
       "      <td>10</td>\n",
       "      <td>0.947968</td>\n",
       "    </tr>\n",
       "    <tr>\n",
       "      <th>320788</th>\n",
       "      <td>-73.969070</td>\n",
       "      <td>40.790936</td>\n",
       "      <td>-73.980049</td>\n",
       "      <td>40.770966</td>\n",
       "      <td>1</td>\n",
       "      <td>2011</td>\n",
       "      <td>5</td>\n",
       "      <td>27</td>\n",
       "      <td>4</td>\n",
       "      <td>8</td>\n",
       "      <td>2.403491</td>\n",
       "    </tr>\n",
       "    <tr>\n",
       "      <th>485171</th>\n",
       "      <td>-73.991798</td>\n",
       "      <td>40.717613</td>\n",
       "      <td>-73.980392</td>\n",
       "      <td>40.716488</td>\n",
       "      <td>1</td>\n",
       "      <td>2013</td>\n",
       "      <td>2</td>\n",
       "      <td>19</td>\n",
       "      <td>1</td>\n",
       "      <td>1</td>\n",
       "      <td>0.968228</td>\n",
       "    </tr>\n",
       "  </tbody>\n",
       "</table>\n",
       "</div>"
      ],
      "text/plain": [
       "        pickup_longitude  pickup_latitude  dropoff_longitude  \\\n",
       "93814         -73.969093        40.753960         -73.997871   \n",
       "489268        -73.986496        40.757961         -73.991051   \n",
       "226953        -73.953323        40.785721         -73.959900   \n",
       "320788        -73.969070        40.790936         -73.980049   \n",
       "485171        -73.991798        40.717613         -73.980392   \n",
       "\n",
       "        dropoff_latitude  passenger_count  pickup_datetime_year  \\\n",
       "93814          40.754101                1                  2014   \n",
       "489268         40.750340                1                  2012   \n",
       "226953         40.778793                1                  2014   \n",
       "320788         40.770966                1                  2011   \n",
       "485171         40.716488                1                  2013   \n",
       "\n",
       "        pickup_datetime_month  pickup_datetime_day  pickup_datetime_weekday  \\\n",
       "93814                      10                   26                        6   \n",
       "489268                      9                   18                        1   \n",
       "226953                      9                    2                        1   \n",
       "320788                      5                   27                        4   \n",
       "485171                      2                   19                        1   \n",
       "\n",
       "        pickup_datetime_hour  distance_km  \n",
       "93814                      0     2.422936  \n",
       "489268                    22     0.929820  \n",
       "226953                    10     0.947968  \n",
       "320788                     8     2.403491  \n",
       "485171                     1     0.968228  "
      ]
     },
     "execution_count": 39,
     "metadata": {},
     "output_type": "execute_result"
    }
   ],
   "source": [
    "X_train.head(5)"
   ]
  },
  {
   "cell_type": "code",
   "execution_count": 40,
   "metadata": {},
   "outputs": [
    {
     "data": {
      "text/plain": [
       "count    431087.000000\n",
       "mean          3.328954\n",
       "std           3.756999\n",
       "min           0.000000\n",
       "25%           1.251926\n",
       "50%           2.153578\n",
       "75%           3.912698\n",
       "max         113.474625\n",
       "Name: distance_km, dtype: float64"
      ]
     },
     "execution_count": 40,
     "metadata": {},
     "output_type": "execute_result"
    }
   ],
   "source": [
    "X_train.distance_km.describe()"
   ]
  },
  {
   "attachments": {},
   "cell_type": "markdown",
   "metadata": {},
   "source": [
    "#### Add Distance From Popular Landmarks\n",
    "\n",
    "- JFK Airport\n",
    "- LGA Airport\n",
    "- EWR Airport\n",
    "- Times Square\n",
    "- Met Meuseum\n",
    "- World Trade Center\n",
    "\n",
    "We'll add the distance from drop location. "
   ]
  },
  {
   "cell_type": "code",
   "execution_count": 41,
   "metadata": {},
   "outputs": [],
   "source": [
    "jfk_lonlat = -73.7781, 40.6413\n",
    "lga_lonlat = -73.8740, 40.7769\n",
    "ewr_lonlat = -74.1745, 40.6895\n",
    "met_lonlat = -73.9632, 40.7794\n",
    "wtc_lonlat = -74.0099, 40.7126"
   ]
  },
  {
   "cell_type": "code",
   "execution_count": 42,
   "metadata": {},
   "outputs": [],
   "source": [
    "def add_landmark_dropoff_distance(df, landmark_name, landmark_lonlat):\n",
    "    lon, lat = landmark_lonlat\n",
    "    df[landmark_name + '_drop_distance'] = haversine_np(lon, lat, df['dropoff_longitude'], df['dropoff_latitude'])"
   ]
  },
  {
   "cell_type": "code",
   "execution_count": 43,
   "metadata": {},
   "outputs": [],
   "source": [
    "for a_df in [X_train, X_test, taxi_fare_test_df]:\n",
    "    for name, lonlat in [('jfk', jfk_lonlat), ('lga', lga_lonlat), ('ewr', ewr_lonlat), ('met', met_lonlat), ('wtc', wtc_lonlat)]:\n",
    "        add_landmark_dropoff_distance(a_df, name, lonlat)"
   ]
  },
  {
   "cell_type": "code",
   "execution_count": 44,
   "metadata": {},
   "outputs": [
    {
     "data": {
      "text/html": [
       "<div>\n",
       "<style scoped>\n",
       "    .dataframe tbody tr th:only-of-type {\n",
       "        vertical-align: middle;\n",
       "    }\n",
       "\n",
       "    .dataframe tbody tr th {\n",
       "        vertical-align: top;\n",
       "    }\n",
       "\n",
       "    .dataframe thead th {\n",
       "        text-align: right;\n",
       "    }\n",
       "</style>\n",
       "<table border=\"1\" class=\"dataframe\">\n",
       "  <thead>\n",
       "    <tr style=\"text-align: right;\">\n",
       "      <th></th>\n",
       "      <th>pickup_longitude</th>\n",
       "      <th>pickup_latitude</th>\n",
       "      <th>dropoff_longitude</th>\n",
       "      <th>dropoff_latitude</th>\n",
       "      <th>passenger_count</th>\n",
       "      <th>pickup_datetime_year</th>\n",
       "      <th>pickup_datetime_month</th>\n",
       "      <th>pickup_datetime_day</th>\n",
       "      <th>pickup_datetime_weekday</th>\n",
       "      <th>pickup_datetime_hour</th>\n",
       "      <th>distance_km</th>\n",
       "      <th>jfk_drop_distance</th>\n",
       "      <th>lga_drop_distance</th>\n",
       "      <th>ewr_drop_distance</th>\n",
       "      <th>met_drop_distance</th>\n",
       "      <th>wtc_drop_distance</th>\n",
       "    </tr>\n",
       "  </thead>\n",
       "  <tbody>\n",
       "    <tr>\n",
       "      <th>93814</th>\n",
       "      <td>-73.969093</td>\n",
       "      <td>40.753960</td>\n",
       "      <td>-73.997871</td>\n",
       "      <td>40.754101</td>\n",
       "      <td>1</td>\n",
       "      <td>2014</td>\n",
       "      <td>10</td>\n",
       "      <td>26</td>\n",
       "      <td>6</td>\n",
       "      <td>0</td>\n",
       "      <td>2.422936</td>\n",
       "      <td>22.360109</td>\n",
       "      <td>10.729122</td>\n",
       "      <td>16.517256</td>\n",
       "      <td>4.051929</td>\n",
       "      <td>4.721626</td>\n",
       "    </tr>\n",
       "    <tr>\n",
       "      <th>489268</th>\n",
       "      <td>-73.986496</td>\n",
       "      <td>40.757961</td>\n",
       "      <td>-73.991051</td>\n",
       "      <td>40.750340</td>\n",
       "      <td>1</td>\n",
       "      <td>2012</td>\n",
       "      <td>9</td>\n",
       "      <td>18</td>\n",
       "      <td>1</td>\n",
       "      <td>22</td>\n",
       "      <td>0.929820</td>\n",
       "      <td>21.650261</td>\n",
       "      <td>10.284282</td>\n",
       "      <td>16.865234</td>\n",
       "      <td>3.990082</td>\n",
       "      <td>4.484262</td>\n",
       "    </tr>\n",
       "    <tr>\n",
       "      <th>226953</th>\n",
       "      <td>-73.953323</td>\n",
       "      <td>40.785721</td>\n",
       "      <td>-73.959900</td>\n",
       "      <td>40.778793</td>\n",
       "      <td>1</td>\n",
       "      <td>2014</td>\n",
       "      <td>9</td>\n",
       "      <td>2</td>\n",
       "      <td>1</td>\n",
       "      <td>10</td>\n",
       "      <td>0.947968</td>\n",
       "      <td>21.632538</td>\n",
       "      <td>7.231189</td>\n",
       "      <td>20.615828</td>\n",
       "      <td>0.286171</td>\n",
       "      <td>8.475368</td>\n",
       "    </tr>\n",
       "    <tr>\n",
       "      <th>320788</th>\n",
       "      <td>-73.969070</td>\n",
       "      <td>40.790936</td>\n",
       "      <td>-73.980049</td>\n",
       "      <td>40.770966</td>\n",
       "      <td>1</td>\n",
       "      <td>2011</td>\n",
       "      <td>5</td>\n",
       "      <td>27</td>\n",
       "      <td>4</td>\n",
       "      <td>8</td>\n",
       "      <td>2.403491</td>\n",
       "      <td>22.294411</td>\n",
       "      <td>8.948486</td>\n",
       "      <td>18.710905</td>\n",
       "      <td>1.699113</td>\n",
       "      <td>6.956115</td>\n",
       "    </tr>\n",
       "    <tr>\n",
       "      <th>485171</th>\n",
       "      <td>-73.991798</td>\n",
       "      <td>40.717613</td>\n",
       "      <td>-73.980392</td>\n",
       "      <td>40.716488</td>\n",
       "      <td>1</td>\n",
       "      <td>2013</td>\n",
       "      <td>2</td>\n",
       "      <td>19</td>\n",
       "      <td>1</td>\n",
       "      <td>1</td>\n",
       "      <td>0.968228</td>\n",
       "      <td>18.985872</td>\n",
       "      <td>11.193541</td>\n",
       "      <td>16.625124</td>\n",
       "      <td>7.139068</td>\n",
       "      <td>2.522616</td>\n",
       "    </tr>\n",
       "  </tbody>\n",
       "</table>\n",
       "</div>"
      ],
      "text/plain": [
       "        pickup_longitude  pickup_latitude  dropoff_longitude  \\\n",
       "93814         -73.969093        40.753960         -73.997871   \n",
       "489268        -73.986496        40.757961         -73.991051   \n",
       "226953        -73.953323        40.785721         -73.959900   \n",
       "320788        -73.969070        40.790936         -73.980049   \n",
       "485171        -73.991798        40.717613         -73.980392   \n",
       "\n",
       "        dropoff_latitude  passenger_count  pickup_datetime_year  \\\n",
       "93814          40.754101                1                  2014   \n",
       "489268         40.750340                1                  2012   \n",
       "226953         40.778793                1                  2014   \n",
       "320788         40.770966                1                  2011   \n",
       "485171         40.716488                1                  2013   \n",
       "\n",
       "        pickup_datetime_month  pickup_datetime_day  pickup_datetime_weekday  \\\n",
       "93814                      10                   26                        6   \n",
       "489268                      9                   18                        1   \n",
       "226953                      9                    2                        1   \n",
       "320788                      5                   27                        4   \n",
       "485171                      2                   19                        1   \n",
       "\n",
       "        pickup_datetime_hour  distance_km  jfk_drop_distance  \\\n",
       "93814                      0     2.422936          22.360109   \n",
       "489268                    22     0.929820          21.650261   \n",
       "226953                    10     0.947968          21.632538   \n",
       "320788                     8     2.403491          22.294411   \n",
       "485171                     1     0.968228          18.985872   \n",
       "\n",
       "        lga_drop_distance  ewr_drop_distance  met_drop_distance  \\\n",
       "93814           10.729122          16.517256           4.051929   \n",
       "489268          10.284282          16.865234           3.990082   \n",
       "226953           7.231189          20.615828           0.286171   \n",
       "320788           8.948486          18.710905           1.699113   \n",
       "485171          11.193541          16.625124           7.139068   \n",
       "\n",
       "        wtc_drop_distance  \n",
       "93814            4.721626  \n",
       "489268           4.484262  \n",
       "226953           8.475368  \n",
       "320788           6.956115  \n",
       "485171           2.522616  "
      ]
     },
     "execution_count": 44,
     "metadata": {},
     "output_type": "execute_result"
    }
   ],
   "source": [
    "X_train.head()"
   ]
  },
  {
   "attachments": {},
   "cell_type": "markdown",
   "metadata": {},
   "source": [
    "#### Scaling and One-Hot Encoding\n",
    "\n",
    "We won't do this because we'll be training tree-based models which are generally able to do a good job even without the above.\n"
   ]
  },
  {
   "attachments": {},
   "cell_type": "markdown",
   "metadata": {},
   "source": [
    "##  Train & Evaluate Different Models\n",
    "\n",
    "We'll train each of the following & submit predictions to Kaggle:\n",
    "\n",
    "- Random Forests\n",
    "- Xgboost\n",
    "- LGBM\n",
    "- Ridge"
   ]
  },
  {
   "cell_type": "code",
   "execution_count": 45,
   "metadata": {},
   "outputs": [],
   "source": [
    "from sklearn.ensemble import RandomForestRegressor\n",
    "from sklearn.svm import SVR\n",
    "from sklearn.linear_model import Ridge\n",
    "from lightgbm import LGBMRegressor\n",
    "from  xgboost import XGBRegressor\n",
    "from sklearn.metrics import mean_squared_error as mse"
   ]
  },
  {
   "attachments": {},
   "cell_type": "markdown",
   "metadata": {},
   "source": [
    "## Train ML Models\n",
    "\n",
    "For evaluation the dataset uses RMSE error: \n",
    "https://www.kaggle.com/c/new-york-city-taxi-fare-prediction/overview/evaluation"
   ]
  },
  {
   "cell_type": "code",
   "execution_count": 236,
   "metadata": {},
   "outputs": [],
   "source": [
    "def evaluate(model_name, model):\n",
    "    train_preds = model.predict(X_train)\n",
    "    train_rmse = mse(y_train, train_preds, squared=False)\n",
    "\n",
    "    test_preds = model.predict(X_test)\n",
    "    test_rmse = mse(y_test, test_preds, squared=False)\n",
    "\n",
    "    print(f'{model_name} --> train_rmse: {train_rmse}, test_rmse: {test_rmse}')\n",
    "    #return train_rmse, test_rmse, train_preds, test_preds"
   ]
  },
  {
   "cell_type": "code",
   "execution_count": 180,
   "metadata": {},
   "outputs": [],
   "source": [
    "def predict_and_submit(model, fname, test_df):\n",
    "    test_preds = model.predict(test_df)\n",
    "    sub_df = pd.read_csv(data_dir+'/sample_submission.csv')\n",
    "    sub_df['fare_amount'] = test_preds\n",
    "    sub_df.to_csv(f'{fname}.csv', index=None)\n",
    "    return sub_df"
   ]
  },
  {
   "cell_type": "code",
   "execution_count": 181,
   "metadata": {},
   "outputs": [],
   "source": [
    "model_dict = {\n",
    "    'RandomForestClassifier': RandomForestRegressor(random_state=42, n_jobs=-1), \n",
    "    'Ridge':Ridge(random_state=42), \n",
    "    'lgbm':LGBMRegressor(random_state=42,n_jobs=-1), \n",
    "    'xgb':XGBRegressor(random_state=42, n_jobs=-1)\n",
    "}"
   ]
  },
  {
   "cell_type": "code",
   "execution_count": 49,
   "metadata": {},
   "outputs": [
    {
     "data": {
      "text/plain": [
       "11.340904"
      ]
     },
     "execution_count": 49,
     "metadata": {},
     "output_type": "execute_result"
    }
   ],
   "source": [
    "y_train.mean()"
   ]
  },
  {
   "cell_type": "raw",
   "metadata": {},
   "source": [
    "model_trained_dict = {}\n",
    "for model_name, model in model_dict.items():\n",
    "    print(f'----------------- {model_name} --------------------')\n",
    "    model.fit(X_train, y_train)\n",
    "    evaluate(model_name, model)\n",
    "    model_trained_dict[model_name] = model\n"
   ]
  },
  {
   "attachments": {},
   "cell_type": "markdown",
   "metadata": {},
   "source": [
    "lgbm is winner with min test_rmse 3.71665. so let's submit first result and find out the score"
   ]
  },
  {
   "cell_type": "raw",
   "metadata": {},
   "source": [
    "predict_and_submit(model_trained_dict['lgbm'], 'lgbmr_submission')"
   ]
  },
  {
   "attachments": {
    "image.png": {
     "image/png": "[encoded data removed]"
    }
   },
   "cell_type": "markdown",
   "metadata": {},
   "source": [
    "So the default lgbm model score is \\\n",
    "![image.png](attachment:image.png)\n",
    "\n",
    "It gives us a starting point. now we have to keep beat the score"
   ]
  },
  {
   "cell_type": "code",
   "execution_count": 133,
   "metadata": {},
   "outputs": [],
   "source": [
    "from sklearn.model_selection import GridSearchCV"
   ]
  },
  {
   "cell_type": "code",
   "execution_count": 134,
   "metadata": {},
   "outputs": [],
   "source": [
    "param_drid = {\n",
    "    'n_estimators':np.arange(100, 1000, 100),\n",
    "    'boosting_type' : ['gbdt'],\n",
    "    'max_depth':[-1],\n",
    "    'num_leaves':np.arange(2,50,5)\n",
    "}"
   ]
  },
  {
   "cell_type": "code",
   "execution_count": 135,
   "metadata": {},
   "outputs": [
    {
     "data": {
      "text/plain": [
       "{'n_estimators': array([100, 200, 300, 400, 500, 600, 700, 800, 900]),\n",
       " 'boosting_type': ['gbdt'],\n",
       " 'max_depth': [-1],\n",
       " 'num_leaves': array([ 2,  7, 12, 17, 22, 27, 32, 37, 42, 47])}"
      ]
     },
     "execution_count": 135,
     "metadata": {},
     "output_type": "execute_result"
    }
   ],
   "source": [
    "param_drid"
   ]
  },
  {
   "cell_type": "code",
   "execution_count": 136,
   "metadata": {},
   "outputs": [],
   "source": [
    "lgbm_model = LGBMRegressor(\n",
    "    random_state=42,\n",
    "    n_jobs=-1\n",
    ")"
   ]
  },
  {
   "cell_type": "code",
   "execution_count": 137,
   "metadata": {},
   "outputs": [],
   "source": [
    "grid_search_lgbm = GridSearchCV(\n",
    "    estimator=lgbm_model,\n",
    "    param_grid=param_drid,\n",
    "    scoring='neg_root_mean_squared_error',\n",
    "    verbose=10,\n",
    "    cv=3\n",
    ")"
   ]
  },
  {
   "cell_type": "raw",
   "metadata": {},
   "source": [
    "grid_search_lgbm.fit(X_train, y_train)"
   ]
  },
  {
   "cell_type": "raw",
   "metadata": {},
   "source": [
    "grid_search_lgbm.best_estimator_\n",
    "#LGBMRegressor(n_estimators=700, num_leaves=27, random_state=42)"
   ]
  },
  {
   "cell_type": "raw",
   "metadata": {},
   "source": [
    "grid_search_lgbm.best_score_"
   ]
  },
  {
   "cell_type": "raw",
   "metadata": {},
   "source": [
    "grid_search_lgbm.best_params_"
   ]
  },
  {
   "cell_type": "raw",
   "metadata": {},
   "source": [
    "tune_model = grid_search_lgbm.best_estimator_\n",
    "evaluate('lgbm', tune_model)"
   ]
  },
  {
   "attachments": {},
   "cell_type": "markdown",
   "metadata": {},
   "source": [
    "Lets submit new test predictions and get the score"
   ]
  },
  {
   "cell_type": "raw",
   "metadata": {},
   "source": [
    "predict_and_submit(tune_model, 'gridcv1_tune_lgbm_model')"
   ]
  },
  {
   "attachments": {
    "image-2.png": {
     "image/png": "[encoded data removed]"
    }
   },
   "cell_type": "markdown",
   "metadata": {},
   "source": [
    "This model gives me following score \n",
    "![image.png](attachment:image-2.png)"
   ]
  },
  {
   "attachments": {},
   "cell_type": "markdown",
   "metadata": {},
   "source": [
    "## Lets Try with ANN"
   ]
  },
  {
   "cell_type": "code",
   "execution_count": 182,
   "metadata": {},
   "outputs": [],
   "source": [
    "from sklearn.preprocessing import StandardScaler\n",
    "import tensorflow as tf\n",
    "import tensorflow.keras as keras\n",
    "import tensorflow.keras.layers as layers\n",
    "import keras_tuner as kt"
   ]
  },
  {
   "cell_type": "code",
   "execution_count": 183,
   "metadata": {},
   "outputs": [],
   "source": [
    "scaler = StandardScaler()\n",
    "X_train_scaled = scaler.fit_transform(X_train)\n",
    "X_test_scaled = scaler.transform(X_test)\n",
    "taxi_fare_test_df_scaled = scaler.transform(taxi_fare_test_df)"
   ]
  },
  {
   "cell_type": "code",
   "execution_count": 184,
   "metadata": {},
   "outputs": [],
   "source": [
    "tf.random.set_seed(42)\n",
    "tf.keras.backend.clear_session()"
   ]
  },
  {
   "cell_type": "code",
   "execution_count": 185,
   "metadata": {},
   "outputs": [],
   "source": [
    "def build_model(hp):\n",
    "    n_hidden= hp.Int('n_hidden', min_value=0, max_value=8, default=2)\n",
    "    n_neurons=hp.Int('n_neurons', min_value=6, max_value=512)\n",
    "    learning_rate=hp.Float('learning_rate', min_value=1e-4, max_value=1e-2, sampling='log')\n",
    "    optimizer = hp.Choice('optimier', values=['sgd', 'adam'])\n",
    "\n",
    "    if optimizer == 'sgd':\n",
    "        optimizer = keras.optimizers.SGD(learning_rate=learning_rate)\n",
    "    else:\n",
    "        optimizer = keras.optimizers.Adam(learning_rate=learning_rate)\n",
    "\n",
    "    model = keras.Sequential()\n",
    "    for _ in range(n_hidden):\n",
    "        model.add(layers.Dense(n_neurons, activation='relu'))\n",
    "    \n",
    "    model.add(layers.Dense(1))\n",
    "    model.compile(loss='mse', optimizer=optimizer, metrics=['mse'])\n",
    "    return model"
   ]
  },
  {
   "attachments": {},
   "cell_type": "markdown",
   "metadata": {},
   "source": [
    "The RandomSearch give us basic idea of hyperparameters' values"
   ]
  },
  {
   "cell_type": "code",
   "execution_count": 142,
   "metadata": {},
   "outputs": [],
   "source": [
    "random_search_tuner= kt.RandomSearch(\n",
    "    build_model, \n",
    "    objective=kt.Objective(\"val_mse\", direction=\"min\"), \n",
    "    max_trials=5, \n",
    "    overwrite=True,\n",
    "    directory=\"RandomSearch\", \n",
    "    project_name=\"my_rnd_search\",\n",
    "    seed=42\n",
    "    )"
   ]
  },
  {
   "cell_type": "code",
   "execution_count": 143,
   "metadata": {},
   "outputs": [
    {
     "name": "stdout",
     "output_type": "stream",
     "text": [
      "Trial 5 Complete [00h 05m 09s]\n",
      "val_mse: 15.122958183288574\n",
      "\n",
      "Best val_mse So Far: 15.733583450317383\n",
      "Total elapsed time: 00h 27m 24s\n",
      "INFO:tensorflow:Oracle triggered exit\n"
     ]
    }
   ],
   "source": [
    "random_search_tuner.search(X_train_scaled, y_train, epochs=10,\n",
    "                           validation_data=(X_test_scaled, y_test))"
   ]
  },
  {
   "cell_type": "code",
   "execution_count": 144,
   "metadata": {},
   "outputs": [],
   "source": [
    "models = random_search_tuner.get_best_models()\n",
    "best_model = models[0]"
   ]
  },
  {
   "cell_type": "code",
   "execution_count": 145,
   "metadata": {},
   "outputs": [
    {
     "data": {
      "text/plain": [
       "{'n_hidden': 5,\n",
       " 'n_neurons': 26,\n",
       " 'learning_rate': 0.0006562536901904111,\n",
       " 'optimier': 'adam'}"
      ]
     },
     "execution_count": 145,
     "metadata": {},
     "output_type": "execute_result"
    }
   ],
   "source": [
    "top3_params = random_search_tuner.get_best_hyperparameters(num_trials=3)\n",
    "top3_params[0].values  # best hyperparameter values"
   ]
  },
  {
   "cell_type": "code",
   "execution_count": 146,
   "metadata": {},
   "outputs": [
    {
     "name": "stdout",
     "output_type": "stream",
     "text": [
      "Trial summary\n",
      "Hyperparameters:\n",
      "n_hidden: 5\n",
      "n_neurons: 26\n",
      "learning_rate: 0.0006562536901904111\n",
      "optimier: adam\n",
      "Score: 15.733583450317383\n"
     ]
    }
   ],
   "source": [
    "best_trial = random_search_tuner.oracle.get_best_trials(num_trials=1)[0]\n",
    "best_trial.summary()"
   ]
  },
  {
   "cell_type": "code",
   "execution_count": 186,
   "metadata": {},
   "outputs": [],
   "source": [
    "tf.random.set_seed(42)\n",
    "tf.keras.backend.clear_session()"
   ]
  },
  {
   "cell_type": "code",
   "execution_count": 187,
   "metadata": {},
   "outputs": [],
   "source": [
    "early_stopping_cb = tf.keras.callbacks.EarlyStopping(patience=20,\n",
    "                                                     restore_best_weights=True)\n",
    "callbacks = [early_stopping_cb]"
   ]
  },
  {
   "cell_type": "code",
   "execution_count": 149,
   "metadata": {},
   "outputs": [
    {
     "name": "stdout",
     "output_type": "stream",
     "text": [
      "Epoch 1/50\n",
      "13472/13472 [==============================] - 31s 2ms/step - loss: 16.6756 - mse: 16.6756 - val_loss: 15.4582 - val_mse: 15.4582\n",
      "Epoch 2/50\n",
      "13472/13472 [==============================] - 29s 2ms/step - loss: 16.4572 - mse: 16.4572 - val_loss: 15.4140 - val_mse: 15.4140\n",
      "Epoch 3/50\n",
      "13472/13472 [==============================] - 29s 2ms/step - loss: 16.5214 - mse: 16.5214 - val_loss: 15.2248 - val_mse: 15.2248\n",
      "Epoch 4/50\n",
      "13472/13472 [==============================] - 28s 2ms/step - loss: 16.3751 - mse: 16.3751 - val_loss: 15.0031 - val_mse: 15.0031\n",
      "Epoch 5/50\n",
      "13472/13472 [==============================] - 28s 2ms/step - loss: 16.2915 - mse: 16.2915 - val_loss: 15.6193 - val_mse: 15.6193\n",
      "Epoch 6/50\n",
      "13472/13472 [==============================] - 28s 2ms/step - loss: 16.1249 - mse: 16.1249 - val_loss: 15.7771 - val_mse: 15.7771\n",
      "Epoch 7/50\n",
      "13472/13472 [==============================] - 27s 2ms/step - loss: 16.1650 - mse: 16.1650 - val_loss: 15.2863 - val_mse: 15.2863\n",
      "Epoch 8/50\n",
      "13472/13472 [==============================] - 28s 2ms/step - loss: 16.1717 - mse: 16.1717 - val_loss: 15.0053 - val_mse: 15.0053\n",
      "Epoch 9/50\n",
      "13472/13472 [==============================] - 28s 2ms/step - loss: 16.0903 - mse: 16.0903 - val_loss: 15.0048 - val_mse: 15.0048\n",
      "Epoch 10/50\n",
      "13472/13472 [==============================] - 28s 2ms/step - loss: 16.1576 - mse: 16.1576 - val_loss: 15.9476 - val_mse: 15.9476\n",
      "Epoch 11/50\n",
      "13472/13472 [==============================] - 27s 2ms/step - loss: 15.8839 - mse: 15.8839 - val_loss: 15.1489 - val_mse: 15.1489\n",
      "Epoch 12/50\n",
      "13472/13472 [==============================] - 36s 3ms/step - loss: 15.9817 - mse: 15.9817 - val_loss: 15.0058 - val_mse: 15.0058\n",
      "Epoch 13/50\n",
      "13472/13472 [==============================] - 36s 3ms/step - loss: 15.9304 - mse: 15.9304 - val_loss: 14.9530 - val_mse: 14.9530\n",
      "Epoch 14/50\n",
      "13472/13472 [==============================] - 36s 3ms/step - loss: 15.6868 - mse: 15.6868 - val_loss: 16.8513 - val_mse: 16.8513\n",
      "Epoch 15/50\n",
      "13472/13472 [==============================] - 38s 3ms/step - loss: 15.8731 - mse: 15.8731 - val_loss: 14.7188 - val_mse: 14.7188\n",
      "Epoch 16/50\n",
      "13472/13472 [==============================] - 38s 3ms/step - loss: 15.8176 - mse: 15.8176 - val_loss: 15.2966 - val_mse: 15.2966\n",
      "Epoch 17/50\n",
      "13472/13472 [==============================] - 36s 3ms/step - loss: 15.6955 - mse: 15.6955 - val_loss: 15.5385 - val_mse: 15.5385\n",
      "Epoch 18/50\n",
      "13472/13472 [==============================] - 37s 3ms/step - loss: 15.7590 - mse: 15.7590 - val_loss: 14.7227 - val_mse: 14.7227\n",
      "Epoch 19/50\n",
      "13472/13472 [==============================] - 37s 3ms/step - loss: 15.6517 - mse: 15.6517 - val_loss: 15.8787 - val_mse: 15.8787\n",
      "Epoch 20/50\n",
      "13472/13472 [==============================] - 37s 3ms/step - loss: 15.6918 - mse: 15.6918 - val_loss: 15.3592 - val_mse: 15.3592\n",
      "Epoch 21/50\n",
      "13472/13472 [==============================] - 35s 3ms/step - loss: 15.7453 - mse: 15.7453 - val_loss: 14.9504 - val_mse: 14.9504\n",
      "Epoch 22/50\n",
      "13472/13472 [==============================] - 36s 3ms/step - loss: 15.7496 - mse: 15.7496 - val_loss: 14.8867 - val_mse: 14.8867\n",
      "Epoch 23/50\n",
      "13472/13472 [==============================] - 36s 3ms/step - loss: 15.5110 - mse: 15.5110 - val_loss: 16.1962 - val_mse: 16.1962\n",
      "Epoch 24/50\n",
      "13472/13472 [==============================] - 37s 3ms/step - loss: 15.5779 - mse: 15.5779 - val_loss: 14.5330 - val_mse: 14.5330\n",
      "Epoch 25/50\n",
      "13472/13472 [==============================] - 39s 3ms/step - loss: 15.4290 - mse: 15.4290 - val_loss: 14.6287 - val_mse: 14.6287\n",
      "Epoch 26/50\n",
      "13472/13472 [==============================] - 37s 3ms/step - loss: 15.5577 - mse: 15.5577 - val_loss: 14.6421 - val_mse: 14.6421\n",
      "Epoch 27/50\n",
      "13472/13472 [==============================] - 38s 3ms/step - loss: 15.5579 - mse: 15.5579 - val_loss: 14.5690 - val_mse: 14.5690\n",
      "Epoch 28/50\n",
      "13472/13472 [==============================] - 36s 3ms/step - loss: 15.6122 - mse: 15.6122 - val_loss: 14.5952 - val_mse: 14.5952\n",
      "Epoch 29/50\n",
      "13472/13472 [==============================] - 35s 3ms/step - loss: 15.4280 - mse: 15.4280 - val_loss: 15.3811 - val_mse: 15.3811\n",
      "Epoch 30/50\n",
      "13472/13472 [==============================] - 36s 3ms/step - loss: 15.3782 - mse: 15.3782 - val_loss: 15.6022 - val_mse: 15.6022\n",
      "Epoch 31/50\n",
      "13472/13472 [==============================] - 36s 3ms/step - loss: 15.3211 - mse: 15.3211 - val_loss: 14.5901 - val_mse: 14.5901\n",
      "Epoch 32/50\n",
      "13472/13472 [==============================] - 36s 3ms/step - loss: 15.2995 - mse: 15.2995 - val_loss: 14.3461 - val_mse: 14.3461\n",
      "Epoch 33/50\n",
      "13472/13472 [==============================] - 39s 3ms/step - loss: 15.3053 - mse: 15.3053 - val_loss: 15.1950 - val_mse: 15.1950\n",
      "Epoch 34/50\n",
      "13472/13472 [==============================] - 37s 3ms/step - loss: 15.3578 - mse: 15.3578 - val_loss: 14.6500 - val_mse: 14.6500\n",
      "Epoch 35/50\n",
      "13472/13472 [==============================] - 38s 3ms/step - loss: 15.3686 - mse: 15.3686 - val_loss: 14.4230 - val_mse: 14.4230\n",
      "Epoch 36/50\n",
      "13472/13472 [==============================] - 35s 3ms/step - loss: 15.3449 - mse: 15.3449 - val_loss: 15.0263 - val_mse: 15.0263\n",
      "Epoch 37/50\n",
      "13472/13472 [==============================] - 35s 3ms/step - loss: 15.3368 - mse: 15.3368 - val_loss: 14.4709 - val_mse: 14.4709\n",
      "Epoch 38/50\n",
      "13472/13472 [==============================] - 38s 3ms/step - loss: 15.2548 - mse: 15.2548 - val_loss: 14.4209 - val_mse: 14.4209\n",
      "Epoch 39/50\n",
      "13472/13472 [==============================] - 37s 3ms/step - loss: 15.3314 - mse: 15.3314 - val_loss: 14.2159 - val_mse: 14.2159\n",
      "Epoch 40/50\n",
      "13472/13472 [==============================] - 32s 2ms/step - loss: 15.1977 - mse: 15.1977 - val_loss: 14.8736 - val_mse: 14.8736\n",
      "Epoch 41/50\n",
      "13472/13472 [==============================] - 31s 2ms/step - loss: 15.2941 - mse: 15.2941 - val_loss: 13.9652 - val_mse: 13.9652\n",
      "Epoch 42/50\n",
      "13472/13472 [==============================] - 34s 3ms/step - loss: 15.2464 - mse: 15.2464 - val_loss: 14.3402 - val_mse: 14.3402\n",
      "Epoch 43/50\n",
      "13472/13472 [==============================] - 33s 2ms/step - loss: 15.1912 - mse: 15.1912 - val_loss: 15.3490 - val_mse: 15.3490\n",
      "Epoch 44/50\n",
      "13472/13472 [==============================] - 37s 3ms/step - loss: 15.2921 - mse: 15.2921 - val_loss: 14.5899 - val_mse: 14.5899\n",
      "Epoch 45/50\n",
      "13472/13472 [==============================] - 37s 3ms/step - loss: 15.2503 - mse: 15.2503 - val_loss: 14.0619 - val_mse: 14.0619\n",
      "Epoch 46/50\n",
      "13472/13472 [==============================] - 37s 3ms/step - loss: 15.1187 - mse: 15.1187 - val_loss: 14.9343 - val_mse: 14.9343\n",
      "Epoch 47/50\n",
      "13472/13472 [==============================] - 38s 3ms/step - loss: 15.1524 - mse: 15.1524 - val_loss: 14.4746 - val_mse: 14.4746\n",
      "Epoch 48/50\n",
      "13472/13472 [==============================] - 37s 3ms/step - loss: 15.1916 - mse: 15.1916 - val_loss: 14.3862 - val_mse: 14.3862\n",
      "Epoch 49/50\n",
      "13472/13472 [==============================] - 37s 3ms/step - loss: 15.0923 - mse: 15.0923 - val_loss: 14.4236 - val_mse: 14.4236\n",
      "Epoch 50/50\n",
      "13472/13472 [==============================] - 28s 2ms/step - loss: 15.2092 - mse: 15.2092 - val_loss: 14.4412 - val_mse: 14.4412\n",
      "3368/3368 [==============================] - 2s 729us/step - loss: 14.4412 - mse: 14.4412\n"
     ]
    }
   ],
   "source": [
    "history = best_model.fit(\n",
    "    X_train_scaled, y_train, \n",
    "    epochs=100, \n",
    "    validation_data=(X_test_scaled, y_test), \n",
    "    callbacks=callbacks\n",
    "    )\n",
    "test_loss, test_accuracy = best_model.evaluate(X_test_scaled, y_test)"
   ]
  },
  {
   "cell_type": "code",
   "execution_count": 188,
   "metadata": {},
   "outputs": [],
   "source": [
    "tf.random.set_seed(42)\n",
    "tf.keras.backend.clear_session()"
   ]
  },
  {
   "cell_type": "code",
   "execution_count": 296,
   "metadata": {},
   "outputs": [],
   "source": [
    "BATCH_SIZE = 512 \n",
    "\n",
    "optimizer = keras.optimizers.Adam(learning_rate=9e-4)\n",
    "\n",
    "UNITS = 512\n",
    "model = keras.Sequential()\n",
    "model.add(\n",
    "    layers.Dense(\n",
    "        UNITS, \n",
    "        kernel_initializer=\"normal\", \n",
    "        activation='relu', \n",
    "        input_dim=X_train_scaled.shape[1],\n",
    "        activity_regularizer=keras.regularizers.l2(0.01)))\n",
    "\n",
    "UNITS /= 2\n",
    "for cnt in range(6):\n",
    "    model.add(layers.Dense(units=UNITS, activation='relu'))\n",
    "    UNITS /= 2\n",
    "\n",
    "model.add(layers.Dense(units=1))\n",
    "model.compile(loss='mse', optimizer=optimizer, metrics=['mae'])"
   ]
  },
  {
   "cell_type": "code",
   "execution_count": 297,
   "metadata": {},
   "outputs": [
    {
     "name": "stdout",
     "output_type": "stream",
     "text": [
      "Model: \"sequential\"\n",
      "_________________________________________________________________\n",
      " Layer (type)                Output Shape              Param #   \n",
      "=================================================================\n",
      " dense (Dense)               (None, 512)               8704      \n",
      "                                                                 \n",
      " dense_1 (Dense)             (None, 256)               131328    \n",
      "                                                                 \n",
      " dense_2 (Dense)             (None, 128)               32896     \n",
      "                                                                 \n",
      " dense_3 (Dense)             (None, 64)                8256      \n",
      "                                                                 \n",
      " dense_4 (Dense)             (None, 32)                2080      \n",
      "                                                                 \n",
      " dense_5 (Dense)             (None, 16)                528       \n",
      "                                                                 \n",
      " dense_6 (Dense)             (None, 8)                 136       \n",
      "                                                                 \n",
      " dense_7 (Dense)             (None, 1)                 9         \n",
      "                                                                 \n",
      "=================================================================\n",
      "Total params: 183,937\n",
      "Trainable params: 183,937\n",
      "Non-trainable params: 0\n",
      "_________________________________________________________________\n"
     ]
    }
   ],
   "source": [
    "model.summary()"
   ]
  },
  {
   "cell_type": "code",
   "execution_count": 298,
   "metadata": {},
   "outputs": [],
   "source": [
    "import matplotlib.pyplot as plt\n",
    "\n",
    "def plot_learning_rate(history):\n",
    "    plt.plot(history.history['val_mae'], '-bx')\n",
    "    plt.plot(history.history['loss'], '-rx')\n",
    "    plt.xlabel('epoch')\n",
    "    plt.ylabel('val_mae and loss')\n",
    "    plt.legend(['val_mae', 'loss'])\n",
    "    plt.title('val_mae vs. No. of epochs')\n",
    "    plt.show()"
   ]
  },
  {
   "cell_type": "code",
   "execution_count": 299,
   "metadata": {},
   "outputs": [],
   "source": [
    "tf.random.set_seed(42)\n",
    "tf.keras.backend.clear_session()"
   ]
  },
  {
   "cell_type": "code",
   "execution_count": 300,
   "metadata": {},
   "outputs": [
    {
     "name": "stdout",
     "output_type": "stream",
     "text": [
      "Epoch 1/200\n",
      "842/842 [==============================] - 4s 3ms/step - loss: 30.0807 - mae: 2.6569 - val_loss: 18.8508 - val_mae: 1.9958\n",
      "Epoch 2/200\n",
      "842/842 [==============================] - 3s 3ms/step - loss: 19.3323 - mae: 2.0180 - val_loss: 17.3399 - val_mae: 1.8727\n",
      "Epoch 3/200\n",
      "842/842 [==============================] - 3s 3ms/step - loss: 18.7467 - mae: 1.9700 - val_loss: 16.7492 - val_mae: 1.9102\n",
      "Epoch 4/200\n",
      "842/842 [==============================] - 3s 3ms/step - loss: 18.0762 - mae: 1.9255 - val_loss: 16.2951 - val_mae: 1.8105\n",
      "Epoch 5/200\n",
      "842/842 [==============================] - 3s 3ms/step - loss: 17.6191 - mae: 1.8992 - val_loss: 16.2511 - val_mae: 1.8064\n",
      "Epoch 6/200\n",
      "842/842 [==============================] - 3s 3ms/step - loss: 17.1614 - mae: 1.8707 - val_loss: 16.0900 - val_mae: 1.8179\n",
      "Epoch 7/200\n",
      "842/842 [==============================] - 3s 3ms/step - loss: 17.0008 - mae: 1.8589 - val_loss: 15.4467 - val_mae: 1.8446\n",
      "Epoch 8/200\n",
      "842/842 [==============================] - 3s 3ms/step - loss: 16.6292 - mae: 1.8409 - val_loss: 15.5947 - val_mae: 1.8241\n",
      "Epoch 9/200\n",
      "842/842 [==============================] - 3s 3ms/step - loss: 16.4397 - mae: 1.8190 - val_loss: 16.0497 - val_mae: 2.0379\n",
      "Epoch 10/200\n",
      "842/842 [==============================] - 3s 3ms/step - loss: 16.2910 - mae: 1.8163 - val_loss: 15.5597 - val_mae: 1.7221\n",
      "Epoch 11/200\n",
      "842/842 [==============================] - 3s 3ms/step - loss: 16.1073 - mae: 1.7932 - val_loss: 14.9395 - val_mae: 1.8506\n",
      "Epoch 12/200\n",
      "842/842 [==============================] - 3s 3ms/step - loss: 16.1748 - mae: 1.7951 - val_loss: 15.2266 - val_mae: 1.8827\n",
      "Epoch 13/200\n",
      "842/842 [==============================] - 3s 3ms/step - loss: 16.0079 - mae: 1.7826 - val_loss: 14.9037 - val_mae: 1.7912\n",
      "Epoch 14/200\n",
      "842/842 [==============================] - 3s 3ms/step - loss: 15.5490 - mae: 1.7539 - val_loss: 15.4829 - val_mae: 1.7022\n",
      "Epoch 15/200\n",
      "842/842 [==============================] - 3s 3ms/step - loss: 15.7593 - mae: 1.7573 - val_loss: 14.7141 - val_mae: 1.7340\n",
      "Epoch 16/200\n",
      "842/842 [==============================] - 3s 3ms/step - loss: 15.6099 - mae: 1.7479 - val_loss: 15.0888 - val_mae: 1.6971\n",
      "Epoch 17/200\n",
      "842/842 [==============================] - 3s 3ms/step - loss: 15.5417 - mae: 1.7470 - val_loss: 15.5989 - val_mae: 1.7051\n",
      "Epoch 18/200\n",
      "842/842 [==============================] - 3s 3ms/step - loss: 15.4601 - mae: 1.7366 - val_loss: 14.3195 - val_mae: 1.7479\n",
      "Epoch 19/200\n",
      "842/842 [==============================] - 3s 3ms/step - loss: 15.4055 - mae: 1.7377 - val_loss: 17.3010 - val_mae: 1.8795\n",
      "Epoch 20/200\n",
      "842/842 [==============================] - 3s 3ms/step - loss: 15.2335 - mae: 1.7291 - val_loss: 15.3146 - val_mae: 1.7953\n",
      "Epoch 21/200\n",
      "842/842 [==============================] - 3s 3ms/step - loss: 15.4530 - mae: 1.7274 - val_loss: 14.5468 - val_mae: 1.6731\n",
      "Epoch 22/200\n",
      "842/842 [==============================] - 3s 3ms/step - loss: 15.2207 - mae: 1.7252 - val_loss: 15.0060 - val_mae: 1.7049\n",
      "Epoch 23/200\n",
      "842/842 [==============================] - 3s 3ms/step - loss: 15.0655 - mae: 1.7206 - val_loss: 14.9074 - val_mae: 1.7045\n",
      "Epoch 24/200\n",
      "842/842 [==============================] - 3s 3ms/step - loss: 15.2370 - mae: 1.7234 - val_loss: 15.1343 - val_mae: 1.7282\n",
      "Epoch 25/200\n",
      "842/842 [==============================] - 3s 3ms/step - loss: 14.8959 - mae: 1.7151 - val_loss: 14.9931 - val_mae: 1.6940\n",
      "Epoch 26/200\n",
      "842/842 [==============================] - 3s 3ms/step - loss: 14.8184 - mae: 1.7046 - val_loss: 14.9652 - val_mae: 1.6709\n",
      "Epoch 27/200\n",
      "842/842 [==============================] - 3s 3ms/step - loss: 14.9493 - mae: 1.7173 - val_loss: 14.9735 - val_mae: 1.7551\n",
      "Epoch 28/200\n",
      "842/842 [==============================] - 3s 3ms/step - loss: 14.7949 - mae: 1.7035 - val_loss: 14.7578 - val_mae: 1.7541\n",
      "Epoch 29/200\n",
      "842/842 [==============================] - 3s 3ms/step - loss: 14.7779 - mae: 1.7024 - val_loss: 14.6895 - val_mae: 1.7456\n",
      "Epoch 30/200\n",
      "842/842 [==============================] - 3s 3ms/step - loss: 14.5901 - mae: 1.6976 - val_loss: 15.5211 - val_mae: 1.7582\n",
      "Epoch 31/200\n",
      "842/842 [==============================] - 3s 3ms/step - loss: 14.5555 - mae: 1.6971 - val_loss: 14.2530 - val_mae: 1.7484\n",
      "Epoch 32/200\n",
      "842/842 [==============================] - 3s 3ms/step - loss: 14.3751 - mae: 1.6895 - val_loss: 14.3738 - val_mae: 1.6658\n",
      "Epoch 33/200\n",
      "842/842 [==============================] - 3s 3ms/step - loss: 14.4683 - mae: 1.6934 - val_loss: 14.6806 - val_mae: 1.7310\n",
      "Epoch 34/200\n",
      "842/842 [==============================] - 3s 3ms/step - loss: 14.4614 - mae: 1.6956 - val_loss: 14.6077 - val_mae: 1.6602\n",
      "Epoch 35/200\n",
      "842/842 [==============================] - 3s 3ms/step - loss: 14.4393 - mae: 1.6954 - val_loss: 14.1982 - val_mae: 1.6710\n",
      "Epoch 36/200\n",
      "842/842 [==============================] - 3s 3ms/step - loss: 14.2408 - mae: 1.6884 - val_loss: 14.3259 - val_mae: 1.6988\n",
      "Epoch 37/200\n",
      "842/842 [==============================] - 3s 3ms/step - loss: 14.3119 - mae: 1.6928 - val_loss: 14.5377 - val_mae: 1.6854\n",
      "Epoch 38/200\n",
      "842/842 [==============================] - 3s 3ms/step - loss: 14.1308 - mae: 1.6849 - val_loss: 16.4688 - val_mae: 1.8362\n",
      "Epoch 39/200\n",
      "842/842 [==============================] - 3s 3ms/step - loss: 14.1515 - mae: 1.7042 - val_loss: 14.3219 - val_mae: 1.6955\n",
      "Epoch 40/200\n",
      "842/842 [==============================] - 3s 3ms/step - loss: 14.0777 - mae: 1.6897 - val_loss: 14.4318 - val_mae: 1.6880\n",
      "Epoch 41/200\n",
      "842/842 [==============================] - 3s 3ms/step - loss: 13.9963 - mae: 1.6892 - val_loss: 14.3124 - val_mae: 1.7020\n",
      "Epoch 42/200\n",
      "842/842 [==============================] - 3s 3ms/step - loss: 14.0083 - mae: 1.6908 - val_loss: 14.6363 - val_mae: 1.6894\n",
      "Epoch 43/200\n",
      "842/842 [==============================] - 3s 3ms/step - loss: 13.7296 - mae: 1.6704 - val_loss: 15.1056 - val_mae: 1.7409\n",
      "Epoch 44/200\n",
      "842/842 [==============================] - 3s 3ms/step - loss: 14.0112 - mae: 1.6872 - val_loss: 18.3806 - val_mae: 1.8698\n",
      "Epoch 45/200\n",
      "842/842 [==============================] - 3s 3ms/step - loss: 13.7610 - mae: 1.6898 - val_loss: 14.7020 - val_mae: 1.7617\n",
      "Epoch 46/200\n",
      "842/842 [==============================] - 3s 3ms/step - loss: 13.7291 - mae: 1.6777 - val_loss: 14.4327 - val_mae: 1.7249\n",
      "Epoch 47/200\n",
      "842/842 [==============================] - 3s 3ms/step - loss: 13.5756 - mae: 1.6766 - val_loss: 14.8995 - val_mae: 1.7148\n",
      "Epoch 48/200\n",
      "842/842 [==============================] - 3s 3ms/step - loss: 13.5917 - mae: 1.6672 - val_loss: 14.8458 - val_mae: 1.6704\n",
      "Epoch 49/200\n",
      "842/842 [==============================] - 3s 3ms/step - loss: 13.5972 - mae: 1.6806 - val_loss: 14.7708 - val_mae: 1.6955\n",
      "Epoch 50/200\n",
      "842/842 [==============================] - 2s 3ms/step - loss: 13.5695 - mae: 1.6811 - val_loss: 14.2908 - val_mae: 1.6996\n",
      "Epoch 51/200\n",
      "842/842 [==============================] - 3s 3ms/step - loss: 13.4352 - mae: 1.6813 - val_loss: 14.2315 - val_mae: 1.6630\n",
      "Epoch 52/200\n",
      "842/842 [==============================] - 3s 3ms/step - loss: 13.5136 - mae: 1.6695 - val_loss: 14.7486 - val_mae: 1.6791\n",
      "Epoch 53/200\n",
      "842/842 [==============================] - 3s 3ms/step - loss: 13.5684 - mae: 1.6699 - val_loss: 14.1961 - val_mae: 1.6799\n",
      "Epoch 54/200\n",
      "842/842 [==============================] - 3s 3ms/step - loss: 12.9116 - mae: 1.6574 - val_loss: 15.9677 - val_mae: 1.8257\n",
      "Epoch 55/200\n",
      "842/842 [==============================] - 3s 3ms/step - loss: 13.0093 - mae: 1.6820 - val_loss: 15.5849 - val_mae: 1.7668\n",
      "Epoch 56/200\n",
      "842/842 [==============================] - 3s 3ms/step - loss: 13.5095 - mae: 1.6818 - val_loss: 14.8609 - val_mae: 1.6880\n",
      "Epoch 57/200\n",
      "842/842 [==============================] - 3s 3ms/step - loss: 13.6362 - mae: 1.6728 - val_loss: 14.6735 - val_mae: 1.7342\n",
      "Epoch 58/200\n",
      "842/842 [==============================] - 3s 3ms/step - loss: 13.3062 - mae: 1.6567 - val_loss: 14.8687 - val_mae: 1.7124\n",
      "Epoch 59/200\n",
      "842/842 [==============================] - 3s 3ms/step - loss: 13.1281 - mae: 1.6484 - val_loss: 16.0139 - val_mae: 1.7375\n",
      "Epoch 60/200\n",
      "842/842 [==============================] - 3s 3ms/step - loss: 13.1263 - mae: 1.6681 - val_loss: 14.7594 - val_mae: 1.6588\n",
      "Epoch 61/200\n",
      "842/842 [==============================] - 3s 3ms/step - loss: 13.0162 - mae: 1.6718 - val_loss: 14.8559 - val_mae: 1.6895\n",
      "Epoch 62/200\n",
      "842/842 [==============================] - 3s 3ms/step - loss: 12.9283 - mae: 1.6562 - val_loss: 14.8931 - val_mae: 1.7650\n",
      "Epoch 63/200\n",
      "842/842 [==============================] - 3s 3ms/step - loss: 13.2437 - mae: 1.6709 - val_loss: 14.5297 - val_mae: 1.7312\n",
      "Epoch 64/200\n",
      "842/842 [==============================] - 3s 3ms/step - loss: 12.9618 - mae: 1.6557 - val_loss: 14.9893 - val_mae: 1.6747\n",
      "Epoch 65/200\n",
      "842/842 [==============================] - 2s 3ms/step - loss: 12.2926 - mae: 1.6540 - val_loss: 14.1140 - val_mae: 1.6648\n",
      "Epoch 66/200\n",
      "842/842 [==============================] - 3s 3ms/step - loss: 12.3909 - mae: 1.6337 - val_loss: 16.4027 - val_mae: 1.7329\n",
      "Epoch 67/200\n",
      "842/842 [==============================] - 3s 3ms/step - loss: 11.7253 - mae: 1.6295 - val_loss: 16.2889 - val_mae: 1.7040\n",
      "Epoch 68/200\n",
      "842/842 [==============================] - 3s 3ms/step - loss: 12.0275 - mae: 1.6433 - val_loss: 16.5892 - val_mae: 1.7583\n",
      "Epoch 69/200\n",
      "842/842 [==============================] - 3s 3ms/step - loss: 12.6249 - mae: 1.6507 - val_loss: 15.0903 - val_mae: 1.7575\n",
      "Epoch 70/200\n",
      "842/842 [==============================] - 3s 3ms/step - loss: 12.6707 - mae: 1.6629 - val_loss: 15.5853 - val_mae: 1.6824\n",
      "Epoch 71/200\n",
      "842/842 [==============================] - 3s 3ms/step - loss: 12.1843 - mae: 1.6384 - val_loss: 15.5717 - val_mae: 1.7015\n",
      "Epoch 72/200\n",
      "842/842 [==============================] - 3s 3ms/step - loss: 12.4727 - mae: 1.6507 - val_loss: 14.8654 - val_mae: 1.7036\n",
      "Epoch 73/200\n",
      "842/842 [==============================] - 3s 3ms/step - loss: 12.2929 - mae: 1.6346 - val_loss: 15.9984 - val_mae: 1.7466\n",
      "Epoch 74/200\n",
      "842/842 [==============================] - 3s 3ms/step - loss: 12.4705 - mae: 1.6259 - val_loss: 14.9823 - val_mae: 1.7025\n",
      "Epoch 75/200\n",
      "842/842 [==============================] - 3s 3ms/step - loss: 11.7581 - mae: 1.6354 - val_loss: 15.2958 - val_mae: 1.7073\n",
      "Epoch 76/200\n",
      "842/842 [==============================] - 3s 3ms/step - loss: 12.7332 - mae: 1.6504 - val_loss: 15.4511 - val_mae: 1.7151\n",
      "Epoch 77/200\n",
      "842/842 [==============================] - 3s 3ms/step - loss: 11.5348 - mae: 1.6106 - val_loss: 16.0111 - val_mae: 1.7340\n",
      "Epoch 78/200\n",
      "842/842 [==============================] - 3s 3ms/step - loss: 11.1124 - mae: 1.6079 - val_loss: 18.0793 - val_mae: 1.7537\n",
      "Epoch 79/200\n",
      "842/842 [==============================] - 3s 3ms/step - loss: 11.6013 - mae: 1.6316 - val_loss: 14.7193 - val_mae: 1.6639\n",
      "Epoch 80/200\n",
      "842/842 [==============================] - 3s 3ms/step - loss: 11.6214 - mae: 1.6145 - val_loss: 15.2134 - val_mae: 1.7723\n",
      "Epoch 81/200\n",
      "842/842 [==============================] - 3s 3ms/step - loss: 11.4920 - mae: 1.6101 - val_loss: 15.1478 - val_mae: 1.6912\n",
      "Epoch 82/200\n",
      "842/842 [==============================] - 3s 3ms/step - loss: 11.3442 - mae: 1.6108 - val_loss: 15.9069 - val_mae: 1.7467\n",
      "Epoch 83/200\n",
      "842/842 [==============================] - 3s 3ms/step - loss: 10.8920 - mae: 1.5986 - val_loss: 15.6590 - val_mae: 1.6944\n",
      "Epoch 84/200\n",
      "842/842 [==============================] - 3s 3ms/step - loss: 11.2416 - mae: 1.6103 - val_loss: 15.1134 - val_mae: 1.6960\n",
      "Epoch 85/200\n",
      "842/842 [==============================] - 3s 3ms/step - loss: 11.2227 - mae: 1.6178 - val_loss: 15.0727 - val_mae: 1.7311\n",
      "3368/3368 [==============================] - 3s 870us/step - loss: 14.1147 - mae: 1.6647\n"
     ]
    },
    {
     "data": {
      "text/plain": [
       "[14.114721298217773, 1.664692997932434]"
      ]
     },
     "execution_count": 300,
     "metadata": {},
     "output_type": "execute_result"
    }
   ],
   "source": [
    "history_sgd = model.fit(\n",
    "    X_train_scaled, y_train, \n",
    "    batch_size=BATCH_SIZE,\n",
    "    epochs=200, \n",
    "    validation_data=(X_test_scaled, y_test),\n",
    "    callbacks=callbacks,\n",
    "    shuffle=True\n",
    "    )\n",
    "model.evaluate(X_test_scaled, y_test)"
   ]
  },
  {
   "cell_type": "code",
   "execution_count": 301,
   "metadata": {},
   "outputs": [
    {
     "data": {
      "image/png": "[encoded data removed]",
      "text/plain": [
       "<Figure size 640x480 with 1 Axes>"
      ]
     },
     "metadata": {},
     "output_type": "display_data"
    }
   ],
   "source": [
    "plot_learning_rate(history_sgd)"
   ]
  },
  {
   "cell_type": "code",
   "execution_count": 302,
   "metadata": {},
   "outputs": [
    {
     "name": "stdout",
     "output_type": "stream",
     "text": [
      "13472/13472 [==============================] - 8s 603us/step\n",
      "3368/3368 [==============================] - 2s 603us/step\n",
      "ANN --> train_rmse: 547.7415771484375, test_rmse: 547.7140502929688\n"
     ]
    }
   ],
   "source": [
    "evaluate('ANN', model)"
   ]
  },
  {
   "cell_type": "code",
   "execution_count": 304,
   "metadata": {},
   "outputs": [
    {
     "name": "stdout",
     "output_type": "stream",
     "text": [
      "310/310 [==============================] - 0s 605us/step\n"
     ]
    },
    {
     "data": {
      "text/html": [
       "<div>\n",
       "<style scoped>\n",
       "    .dataframe tbody tr th:only-of-type {\n",
       "        vertical-align: middle;\n",
       "    }\n",
       "\n",
       "    .dataframe tbody tr th {\n",
       "        vertical-align: top;\n",
       "    }\n",
       "\n",
       "    .dataframe thead th {\n",
       "        text-align: right;\n",
       "    }\n",
       "</style>\n",
       "<table border=\"1\" class=\"dataframe\">\n",
       "  <thead>\n",
       "    <tr style=\"text-align: right;\">\n",
       "      <th></th>\n",
       "      <th>key</th>\n",
       "      <th>fare_amount</th>\n",
       "    </tr>\n",
       "  </thead>\n",
       "  <tbody>\n",
       "    <tr>\n",
       "      <th>0</th>\n",
       "      <td>2015-01-27 13:08:24.0000002</td>\n",
       "      <td>11.577659</td>\n",
       "    </tr>\n",
       "    <tr>\n",
       "      <th>1</th>\n",
       "      <td>2015-01-27 13:08:24.0000003</td>\n",
       "      <td>12.167974</td>\n",
       "    </tr>\n",
       "    <tr>\n",
       "      <th>2</th>\n",
       "      <td>2011-10-08 11:53:44.0000002</td>\n",
       "      <td>4.991896</td>\n",
       "    </tr>\n",
       "    <tr>\n",
       "      <th>3</th>\n",
       "      <td>2012-12-01 21:12:12.0000002</td>\n",
       "      <td>9.269449</td>\n",
       "    </tr>\n",
       "    <tr>\n",
       "      <th>4</th>\n",
       "      <td>2012-12-01 21:12:12.0000003</td>\n",
       "      <td>16.891945</td>\n",
       "    </tr>\n",
       "    <tr>\n",
       "      <th>...</th>\n",
       "      <td>...</td>\n",
       "      <td>...</td>\n",
       "    </tr>\n",
       "    <tr>\n",
       "      <th>9909</th>\n",
       "      <td>2015-05-10 12:37:51.0000002</td>\n",
       "      <td>9.007452</td>\n",
       "    </tr>\n",
       "    <tr>\n",
       "      <th>9910</th>\n",
       "      <td>2015-01-12 17:05:51.0000001</td>\n",
       "      <td>10.717661</td>\n",
       "    </tr>\n",
       "    <tr>\n",
       "      <th>9911</th>\n",
       "      <td>2015-04-19 20:44:15.0000001</td>\n",
       "      <td>55.150078</td>\n",
       "    </tr>\n",
       "    <tr>\n",
       "      <th>9912</th>\n",
       "      <td>2015-01-31 01:05:19.0000005</td>\n",
       "      <td>19.239771</td>\n",
       "    </tr>\n",
       "    <tr>\n",
       "      <th>9913</th>\n",
       "      <td>2015-01-18 14:06:23.0000006</td>\n",
       "      <td>5.811790</td>\n",
       "    </tr>\n",
       "  </tbody>\n",
       "</table>\n",
       "<p>9914 rows × 2 columns</p>\n",
       "</div>"
      ],
      "text/plain": [
       "                              key  fare_amount\n",
       "0     2015-01-27 13:08:24.0000002    11.577659\n",
       "1     2015-01-27 13:08:24.0000003    12.167974\n",
       "2     2011-10-08 11:53:44.0000002     4.991896\n",
       "3     2012-12-01 21:12:12.0000002     9.269449\n",
       "4     2012-12-01 21:12:12.0000003    16.891945\n",
       "...                           ...          ...\n",
       "9909  2015-05-10 12:37:51.0000002     9.007452\n",
       "9910  2015-01-12 17:05:51.0000001    10.717661\n",
       "9911  2015-04-19 20:44:15.0000001    55.150078\n",
       "9912  2015-01-31 01:05:19.0000005    19.239771\n",
       "9913  2015-01-18 14:06:23.0000006     5.811790\n",
       "\n",
       "[9914 rows x 2 columns]"
      ]
     },
     "execution_count": 304,
     "metadata": {},
     "output_type": "execute_result"
    }
   ],
   "source": [
    "predict_and_submit(model, 'ANN_final_submission', taxi_fare_test_df_scaled)"
   ]
  },
  {
   "attachments": {
    "image.png": {
     "image/png": "[encoded data removed]"
    }
   },
   "cell_type": "markdown",
   "metadata": {},
   "source": [
    "I have so many trial and errors, i think this would be my final fine-tune model\n",
    "![image.png](attachment:image.png)"
   ]
  },
  {
   "cell_type": "code",
   "execution_count": null,
   "metadata": {},
   "outputs": [],
   "source": []
  },
  {
   "cell_type": "code",
   "execution_count": null,
   "metadata": {},
   "outputs": [],
   "source": []
  },
  {
   "attachments": {},
   "cell_type": "markdown",
   "metadata": {},
   "source": [
    "## References\n",
    "* https://www.kaggle.com/code/madhurisivalenka/cleansing-eda-modelling-lgbm-xgboost-starters\n",
    "* https://www.kaggle.com/code/breemen/nyc-taxi-fare-data-exploration\n",
    "* https://www.openstreetmap.org/export#map=10/41.1528/-73.6496\n",
    "* https://www.kaggle.com/code/yekahaaagayeham/new-york-city-taxi-fare-prediction-eda-baseline#2.-Explore-the-Dataset\n",
    "* https://jovian.ai/aakashns/nyc-taxi-fare-prediction-filled#C162"
   ]
  },
  {
   "cell_type": "code",
   "execution_count": null,
   "metadata": {},
   "outputs": [],
   "source": []
  }
 ],
 "metadata": {
  "kernelspec": {
   "display_name": "Python 3",
   "language": "python",
   "name": "python3"
  },
  "language_info": {
   "codemirror_mode": {
    "name": "ipython",
    "version": 3
   },
   "file_extension": ".py",
   "mimetype": "text/x-python",
   "name": "python",
   "nbconvert_exporter": "python",
   "pygments_lexer": "ipython3",
   "version": "3.8.10"
  },
  "orig_nbformat": 4,
  "vscode": {
   "interpreter": {
    "hash": "31f2aee4e71d21fbe5cf8b01ff0e069b9275f58929596ceb00d14d90e3e16cd6"
   }
  }
 },
 "nbformat": 4,
 "nbformat_minor": 2
}
